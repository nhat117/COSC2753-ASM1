{
  "cells": [
    {
      "cell_type": "markdown",
      "id": "f045b3e3",
      "metadata": {
        "id": "f045b3e3"
      },
      "source": [
        "<h1 style=\"color:#ffc0cb;font-size:70px;font-family:Roboto;text-align:center;\"><strong>Assignment 1</strong></h1>\n",
        "<h2 style=\"color:#ffc0cb;font-size:70px;font-family:Roboto;text-align:center;\"><strong>Sepsis Prediction</strong></h2>\n",
        "\n",
        "### <b>Student Name: Bui Minh Nhat</b>\n",
        "### <b>Student ID: s3878174</b>\n",
        "### <b>Course: COSC2753 - Machine Learning</b>\n",
        "### <b>Lecturer: Dr. Nguyen Thien Bao</b>\n",
        "\n"
      ]
    },
    {
      "cell_type": "markdown",
      "id": "44cc16d7",
      "metadata": {
        "id": "44cc16d7"
      },
      "source": [
        "## Table of Content\n",
        "\n",
        "### 1. [Preparing Data](#1)\n",
        "\n",
        "1.1 [Introduction](#1.1) \n",
        "\n",
        "1.2 [Target question for insights](#1.2)\n",
        "\n",
        "1.3 [Importing Necessary Libraries and datasets](#1.3)\n",
        "\n",
        "1.4 [Data Retrieving](#1.4)\n",
        "\n",
        "1.5 [Data information](#1.5)\n",
        "\n",
        "<br>\n",
        "\n",
        "### 2. [Data Cleaning](#2)\n",
        "\n",
        "2.1 [Dataset Insight](#2.1)\n",
        "\n",
        "2.2 [Drop column](#2.2)\n",
        "\n",
        "2.3 [Typo check](#2.3)\n",
        "\n",
        "2.4 [Reame columns](#2.4)\n",
        "\n",
        "2.5 [Missing Values](#2.5)\n",
        "\n",
        "> - 2.5.1 [Check missing values](#2.5.1)\n",
        "> - 2.5.2 [Fill missing values](#2.5.1)  \n",
        ">> - 2.5.2.a [Filling missing values for Embarked Feature](#2.5.2.a)\n",
        ">> - 2.5.2.b [Filling missing values for Cabin Feature](#2.5.2.b)\n",
        ">> - 2.5.2.c [Filling missing values for Fare Feature](#2.5.2.c)\n",
        ">> - 2.5.2.d [Filling missing values for Age Feature](#2.5.2.d)\n",
        "\n",
        "2.6 [Data type](#2.6)\n",
        "\n",
        "2.7 [Upper Case the content](#2.7)\n",
        "\n",
        "2.8 [Extra-whitespaces](#2.8)\n",
        "\n",
        "2.9 [Descriptive statistics for Central Tendency](#2.9)\n",
        "\n",
        "2.10 [Detect Outlier](#2.10)\n",
        "\n",
        "2.11 [Save The Intermediate Data](#2.11)\n",
        "\n",
        "<br>\n",
        "\n",
        "### 3. [Data Exploration (EDA)](#3)\n",
        "\n",
        "3.1 [Overall look on target variable](#3.1)\n",
        "\n",
        "3.2 [Frequency of each corresponiding Target variable type](#3.2)\n",
        "\n",
        "3.3 [Statistical Overview](#3.3)\n",
        "\n",
        "3.4 [Correlation Matrix and Heatmap](#3.4)\n",
        "\n",
        "<br>\n",
        "\n",
        "### 4. [Feature Engineering](#4)\n",
        "\n",
        "4.1 [Separating dependent and independent variables](#4.1)\n",
        "\n",
        "4.2 [Encoding](#4.2)\n",
        "\n",
        "> - 4.2.1 [Binary Encoding for Name and Ticket Feature:](#4.2.1)\n",
        "> - 4.2.2 [Binary Encoding for Embarked Feature:](#4.2.2)\n",
        "\n",
        "4.3 [Separating dependent and independent variables](#4.3)\n",
        "\n",
        "4.4 [Splitting the training data](#4.4)\n",
        "\n",
        "4.5 [Feature Scaling](#4.5)\n",
        "\n",
        "<br>\n",
        "\n",
        "### 5. [Model Building](#5) \n",
        "\n",
        "5.1 [Logistic Regression](#5.1)\n",
        "\n",
        "> - 5.1.1 [Logistic Regression without GridSearch](#5.1.1)\n",
        ">> - 5.1.1.a [Train model](#5.1.1.a) \n",
        ">> - 5.1.1.b [Evaluating a classification model](#5.1.1.b) \n",
        "> - 5.1.2 [Logistic Regression with GridSearch](#5.1.2)\n",
        ">> - 5.1.1.a [Train model](#5.1.1.a) \n",
        ">> - 5.1.1.b [Evaluating a classification model](#5.1.1.b) \n",
        "\n",
        "\n",
        "<br>\n",
        "\n",
        "### 6. [Conculsions](#6)\n",
        "\n",
        "<br>\n",
        "\n",
        "### 7. [References](#7)\n",
        "\n",
        "<br>\n",
        "\n",
        "### 8. [Appendix](#8)\n",
        "\n",
        "<hr>"
      ]
    },
    {
      "cell_type": "markdown",
      "id": "0e54a678",
      "metadata": {
        "id": "0e54a678"
      },
      "source": [
        "<a id=\"1\"></a>\n",
        "<h1 style=\"color:#ffc0cb;font-size:40px;font-family:Georgia;text-align:center;\"><strong>1. Preparing data</strong></h1>"
      ]
    },
    {
      "cell_type": "markdown",
      "id": "878efddc",
      "metadata": {
        "id": "878efddc"
      },
      "source": [
        "<a id=\"1.1\"></a>\n",
        "# ️1.1 Introduction\n",
        "****\n",
        "\n",
        "<p style=\"list-style-type:circle;font-family:Yu Mincho Demibold;font-size:20px;color:black\">Intensive care units (ICUs) are under continual pressure to keep an eye on their patients for signs of sepsis (an infection that can accrue while staying in ICU). While this problem has existed for a long time, the recent COVID-19 outbreak has brought it to the forefront. The capacity to forecast if a patient in the ICU may develop sepsis is extremely useful for an ICU. This would aid in lowering the danger of health issues as well as controlling ICU resources (such as bed availability, etc.).\n",
        "</p>\n",
        "-----Cite this---------\n",
        "<p style=\"list-style-type:circle;font-family:Yu Mincho Demibold;font-size:20px;color:black\"> \n",
        "</p>"
      ]
    },
    {
      "cell_type": "markdown",
      "id": "02360045",
      "metadata": {
        "id": "02360045"
      },
      "source": [
        "<a id=\"1.2\"></a>\n",
        "# ️1.2 Target question for insights\n",
        "****\n",
        "\n",
        "<ul style=\"list-style-type:circle;font-family:Yu Mincho Demibold;font-size:20px;color:black\">\n",
        "    <li>Which <span style=\"color:#122ecc;\">City</span> in US has reported most no. of Accident Cases in last 5 years (2016-2020) ?</li>\n",
        "    <li>Which are the <span style=\"color:#122ecc;\">top 10 accident prone streets</span> in US ?</li>\n",
        "    <li>Per Day <span style=\"color:#122ecc;\">averagely how many road accidents</span> took placed in US ?</li>\n",
        "    <li>In which <span style=\"color:#122ecc;\">hours</span> of the <span style=\"color:#122ecc;\">day most accidents</span> happened in US ?</li>\n",
        "    <li>How are the basic <span style=\"color:#122ecc;\">weather conditions</span> in <span style=\"color:#122ecc;\">most</span> of the <span style=\"color:#122ecc;\">accident cases</span> in US ?</li>  \n",
        "    <li>Which are the <span style=\"color:#122ecc;\">top 10 States</span> with <span style=\"color:#122ecc;\">most no. of road accident cases</span> in US ?</li> \n",
        "\n",
        "</ul>"
      ]
    },
    {
      "cell_type": "markdown",
      "id": "021f2e47",
      "metadata": {
        "id": "021f2e47"
      },
      "source": [
        "<a id=\"1.3\"></a>\n",
        "# 1.3 Importing Necessary Libraries and datasets\n",
        "****"
      ]
    },
    {
      "cell_type": "code",
      "execution_count": 1,
      "id": "db2V9aW_1HBV",
      "metadata": {
        "colab": {
          "base_uri": "https://localhost:8080/"
        },
        "id": "db2V9aW_1HBV",
        "outputId": "66895335-e416-4f33-bf70-6b8994b40c1e"
      },
      "outputs": [],
      "source": [
        "# #For Colab\n",
        "# from google.colab import drive\n",
        "# drive.mount('/content/drive')"
      ]
    },
    {
      "cell_type": "code",
      "execution_count": 2,
      "id": "9cb03fa0",
      "metadata": {
        "colab": {
          "base_uri": "https://localhost:8080/"
        },
        "id": "9cb03fa0",
        "outputId": "44d6b59b-c2a0-47b2-c3fd-8ae7f6c96be9"
      },
      "outputs": [],
      "source": [
        "# import libraries which are pandas and numpy\n",
        "# !pip install pandas && pip install numpy && pip install seaborn && pip install matplotlib && pip install sklearn\n",
        "import pandas as pd\n",
        "import numpy as np\n",
        "#For Encoding\n",
        "#for plots\n",
        "import matplotlib.pyplot as plt\n",
        "plt.rcParams[\"figure.figsize\"]= 15,10\n",
        "\n",
        "#Ploting module\n",
        "\n",
        "import seaborn as sns\n",
        "import matplotlib.pyplot as plt\n",
        "import matplotlib.patches as mpatches\n",
        "sns.set_theme(style=\"ticks\", color_codes=True) #\n",
        "# scatter matrix library\n",
        "from pandas.plotting import scatter_matrix\n",
        "\n",
        "#set display \n",
        "pd.set_option('display.max_rows', 100)\n",
        "pd.set_option('display.max_columns', 100)"
      ]
    },
    {
      "cell_type": "markdown",
      "id": "686868a7",
      "metadata": {
        "id": "686868a7"
      },
      "source": [
        "<a id=\"1.4\"></a>\n",
        "\n",
        "> Bloc en retrait\n",
        "\n",
        "\n",
        "# 1.4 Data Retrieving\n",
        "***\n",
        "<p style=\"list-style-type:circle;font-family:Yu Mincho Demibold;font-size:20px;color:black\"> \n",
        "First, import the dataset using read_csv function. In order to ensure the from the csv file is in good shape, we have to eliminate the extra white space. After that, the data types must be checked to ensure no incorrect data types assigned. After finishing verifying the datatypes, the ingested data is cleaned by the following steps: typos, extra-whitespaces, cases, sanity checks, check for missing values, and identifying categorical data. </p>\n"
      ]
    },
    {
      "cell_type": "markdown",
      "id": "24727d30",
      "metadata": {
        "id": "24727d30"
      },
      "source": [
        "> **train Dataset**"
      ]
    },
    {
      "cell_type": "code",
      "execution_count": 3,
      "id": "532c2ed8",
      "metadata": {
        "colab": {
          "base_uri": "https://localhost:8080/",
          "height": 206
        },
        "id": "532c2ed8",
        "outputId": "4a56fbce-574e-4c05-8646-897b2534e400"
      },
      "outputs": [
        {
          "data": {
            "text/html": [
              "<div>\n",
              "<style scoped>\n",
              "    .dataframe tbody tr th:only-of-type {\n",
              "        vertical-align: middle;\n",
              "    }\n",
              "\n",
              "    .dataframe tbody tr th {\n",
              "        vertical-align: top;\n",
              "    }\n",
              "\n",
              "    .dataframe thead th {\n",
              "        text-align: right;\n",
              "    }\n",
              "</style>\n",
              "<table border=\"1\" class=\"dataframe\">\n",
              "  <thead>\n",
              "    <tr style=\"text-align: right;\">\n",
              "      <th></th>\n",
              "      <th>ID</th>\n",
              "      <th>PRG</th>\n",
              "      <th>PL</th>\n",
              "      <th>PR</th>\n",
              "      <th>SK</th>\n",
              "      <th>TS</th>\n",
              "      <th>M11</th>\n",
              "      <th>BD2</th>\n",
              "      <th>Age</th>\n",
              "      <th>Insurance</th>\n",
              "      <th>Sepssis</th>\n",
              "    </tr>\n",
              "  </thead>\n",
              "  <tbody>\n",
              "    <tr>\n",
              "      <th>0</th>\n",
              "      <td>ICU200010</td>\n",
              "      <td>6</td>\n",
              "      <td>148</td>\n",
              "      <td>72</td>\n",
              "      <td>35</td>\n",
              "      <td>0</td>\n",
              "      <td>33.6</td>\n",
              "      <td>0.627</td>\n",
              "      <td>50</td>\n",
              "      <td>0</td>\n",
              "      <td>Positive</td>\n",
              "    </tr>\n",
              "    <tr>\n",
              "      <th>1</th>\n",
              "      <td>ICU200011</td>\n",
              "      <td>1</td>\n",
              "      <td>85</td>\n",
              "      <td>66</td>\n",
              "      <td>29</td>\n",
              "      <td>0</td>\n",
              "      <td>26.6</td>\n",
              "      <td>0.351</td>\n",
              "      <td>31</td>\n",
              "      <td>0</td>\n",
              "      <td>Negative</td>\n",
              "    </tr>\n",
              "    <tr>\n",
              "      <th>2</th>\n",
              "      <td>ICU200012</td>\n",
              "      <td>8</td>\n",
              "      <td>183</td>\n",
              "      <td>64</td>\n",
              "      <td>0</td>\n",
              "      <td>0</td>\n",
              "      <td>23.3</td>\n",
              "      <td>0.672</td>\n",
              "      <td>32</td>\n",
              "      <td>1</td>\n",
              "      <td>Positive</td>\n",
              "    </tr>\n",
              "    <tr>\n",
              "      <th>3</th>\n",
              "      <td>ICU200013</td>\n",
              "      <td>1</td>\n",
              "      <td>89</td>\n",
              "      <td>66</td>\n",
              "      <td>23</td>\n",
              "      <td>94</td>\n",
              "      <td>28.1</td>\n",
              "      <td>0.167</td>\n",
              "      <td>21</td>\n",
              "      <td>1</td>\n",
              "      <td>Negative</td>\n",
              "    </tr>\n",
              "    <tr>\n",
              "      <th>4</th>\n",
              "      <td>ICU200014</td>\n",
              "      <td>0</td>\n",
              "      <td>137</td>\n",
              "      <td>40</td>\n",
              "      <td>35</td>\n",
              "      <td>168</td>\n",
              "      <td>43.1</td>\n",
              "      <td>2.288</td>\n",
              "      <td>33</td>\n",
              "      <td>1</td>\n",
              "      <td>Positive</td>\n",
              "    </tr>\n",
              "  </tbody>\n",
              "</table>\n",
              "</div>"
            ],
            "text/plain": [
              "          ID  PRG   PL  PR  SK   TS   M11    BD2  Age  Insurance   Sepssis\n",
              "0  ICU200010    6  148  72  35    0  33.6  0.627   50          0  Positive\n",
              "1  ICU200011    1   85  66  29    0  26.6  0.351   31          0  Negative\n",
              "2  ICU200012    8  183  64   0    0  23.3  0.672   32          1  Positive\n",
              "3  ICU200013    1   89  66  23   94  28.1  0.167   21          1  Negative\n",
              "4  ICU200014    0  137  40  35  168  43.1  2.288   33          1  Positive"
            ]
          },
          "execution_count": 3,
          "metadata": {},
          "output_type": "execute_result"
        }
      ],
      "source": [
        "# import data using functions of pandas\n",
        "#Inside pandas.read_csv() method skipinitialspace parameter is use to skip initial space present in the dataframe. \n",
        "#By default, it is False, so skipinitialspace must be True to skip the whitespace.\n",
        "train_df = pd.read_csv(\"./data/Paitients_Files_Train.csv\", delimiter=',', skipinitialspace = True)\n",
        "\n",
        "train_df.columns = train_df.columns.str.replace(' ', '') #strip the extra-whitespaces out\n",
        "\n",
        "#Showing the head of the dataset\n",
        "train_df.head(5)"
      ]
    },
    {
      "cell_type": "code",
      "execution_count": 4,
      "id": "fbQBpXkuvtfB",
      "metadata": {
        "colab": {
          "base_uri": "https://localhost:8080/",
          "height": 206
        },
        "id": "fbQBpXkuvtfB",
        "outputId": "ee9cdffc-d3f2-45ef-d7c9-b3834ad8037b"
      },
      "outputs": [
        {
          "data": {
            "text/html": [
              "<div>\n",
              "<style scoped>\n",
              "    .dataframe tbody tr th:only-of-type {\n",
              "        vertical-align: middle;\n",
              "    }\n",
              "\n",
              "    .dataframe tbody tr th {\n",
              "        vertical-align: top;\n",
              "    }\n",
              "\n",
              "    .dataframe thead th {\n",
              "        text-align: right;\n",
              "    }\n",
              "</style>\n",
              "<table border=\"1\" class=\"dataframe\">\n",
              "  <thead>\n",
              "    <tr style=\"text-align: right;\">\n",
              "      <th></th>\n",
              "      <th>ID</th>\n",
              "      <th>PRG</th>\n",
              "      <th>PL</th>\n",
              "      <th>PR</th>\n",
              "      <th>SK</th>\n",
              "      <th>TS</th>\n",
              "      <th>M11</th>\n",
              "      <th>BD2</th>\n",
              "      <th>Age</th>\n",
              "      <th>Insurance</th>\n",
              "      <th>Sepssis</th>\n",
              "    </tr>\n",
              "  </thead>\n",
              "  <tbody>\n",
              "    <tr>\n",
              "      <th>594</th>\n",
              "      <td>ICU200604</td>\n",
              "      <td>6</td>\n",
              "      <td>123</td>\n",
              "      <td>72</td>\n",
              "      <td>45</td>\n",
              "      <td>230</td>\n",
              "      <td>33.6</td>\n",
              "      <td>0.733</td>\n",
              "      <td>34</td>\n",
              "      <td>0</td>\n",
              "      <td>Negative</td>\n",
              "    </tr>\n",
              "    <tr>\n",
              "      <th>595</th>\n",
              "      <td>ICU200605</td>\n",
              "      <td>0</td>\n",
              "      <td>188</td>\n",
              "      <td>82</td>\n",
              "      <td>14</td>\n",
              "      <td>185</td>\n",
              "      <td>32.0</td>\n",
              "      <td>0.682</td>\n",
              "      <td>22</td>\n",
              "      <td>1</td>\n",
              "      <td>Positive</td>\n",
              "    </tr>\n",
              "    <tr>\n",
              "      <th>596</th>\n",
              "      <td>ICU200606</td>\n",
              "      <td>0</td>\n",
              "      <td>67</td>\n",
              "      <td>76</td>\n",
              "      <td>0</td>\n",
              "      <td>0</td>\n",
              "      <td>45.3</td>\n",
              "      <td>0.194</td>\n",
              "      <td>46</td>\n",
              "      <td>1</td>\n",
              "      <td>Negative</td>\n",
              "    </tr>\n",
              "    <tr>\n",
              "      <th>597</th>\n",
              "      <td>ICU200607</td>\n",
              "      <td>1</td>\n",
              "      <td>89</td>\n",
              "      <td>24</td>\n",
              "      <td>19</td>\n",
              "      <td>25</td>\n",
              "      <td>27.8</td>\n",
              "      <td>0.559</td>\n",
              "      <td>21</td>\n",
              "      <td>0</td>\n",
              "      <td>Negative</td>\n",
              "    </tr>\n",
              "    <tr>\n",
              "      <th>598</th>\n",
              "      <td>ICU200608</td>\n",
              "      <td>1</td>\n",
              "      <td>173</td>\n",
              "      <td>74</td>\n",
              "      <td>0</td>\n",
              "      <td>0</td>\n",
              "      <td>36.8</td>\n",
              "      <td>0.088</td>\n",
              "      <td>38</td>\n",
              "      <td>1</td>\n",
              "      <td>Positive</td>\n",
              "    </tr>\n",
              "  </tbody>\n",
              "</table>\n",
              "</div>"
            ],
            "text/plain": [
              "            ID  PRG   PL  PR  SK   TS   M11    BD2  Age  Insurance   Sepssis\n",
              "594  ICU200604    6  123  72  45  230  33.6  0.733   34          0  Negative\n",
              "595  ICU200605    0  188  82  14  185  32.0  0.682   22          1  Positive\n",
              "596  ICU200606    0   67  76   0    0  45.3  0.194   46          1  Negative\n",
              "597  ICU200607    1   89  24  19   25  27.8  0.559   21          0  Negative\n",
              "598  ICU200608    1  173  74   0    0  36.8  0.088   38          1  Positive"
            ]
          },
          "execution_count": 4,
          "metadata": {},
          "output_type": "execute_result"
        }
      ],
      "source": [
        "#Showing tail of the data set\n",
        "train_df.tail(5)"
      ]
    },
    {
      "cell_type": "markdown",
      "id": "6e68e78b",
      "metadata": {
        "id": "6e68e78b"
      },
      "source": [
        "> **Sample test Dataset**"
      ]
    },
    {
      "cell_type": "code",
      "execution_count": 5,
      "id": "7b67d1f2",
      "metadata": {
        "colab": {
          "base_uri": "https://localhost:8080/",
          "height": 224
        },
        "id": "7b67d1f2",
        "outputId": "9428a0ad-7c33-4a39-daa8-2a40f2d38a74"
      },
      "outputs": [
        {
          "name": "stdout",
          "output_type": "stream",
          "text": [
            "Rows and Collumns of dataset (169, 10)\n"
          ]
        },
        {
          "data": {
            "text/html": [
              "<div>\n",
              "<style scoped>\n",
              "    .dataframe tbody tr th:only-of-type {\n",
              "        vertical-align: middle;\n",
              "    }\n",
              "\n",
              "    .dataframe tbody tr th {\n",
              "        vertical-align: top;\n",
              "    }\n",
              "\n",
              "    .dataframe thead th {\n",
              "        text-align: right;\n",
              "    }\n",
              "</style>\n",
              "<table border=\"1\" class=\"dataframe\">\n",
              "  <thead>\n",
              "    <tr style=\"text-align: right;\">\n",
              "      <th></th>\n",
              "      <th>ID</th>\n",
              "      <th>PRG</th>\n",
              "      <th>PL</th>\n",
              "      <th>PR</th>\n",
              "      <th>SK</th>\n",
              "      <th>TS</th>\n",
              "      <th>M11</th>\n",
              "      <th>BD2</th>\n",
              "      <th>Age</th>\n",
              "      <th>Insurance</th>\n",
              "    </tr>\n",
              "  </thead>\n",
              "  <tbody>\n",
              "    <tr>\n",
              "      <th>0</th>\n",
              "      <td>ICU200609</td>\n",
              "      <td>1</td>\n",
              "      <td>109</td>\n",
              "      <td>38</td>\n",
              "      <td>18</td>\n",
              "      <td>120</td>\n",
              "      <td>23.1</td>\n",
              "      <td>0.407</td>\n",
              "      <td>26</td>\n",
              "      <td>1</td>\n",
              "    </tr>\n",
              "    <tr>\n",
              "      <th>1</th>\n",
              "      <td>ICU200610</td>\n",
              "      <td>1</td>\n",
              "      <td>108</td>\n",
              "      <td>88</td>\n",
              "      <td>19</td>\n",
              "      <td>0</td>\n",
              "      <td>27.1</td>\n",
              "      <td>0.400</td>\n",
              "      <td>24</td>\n",
              "      <td>1</td>\n",
              "    </tr>\n",
              "    <tr>\n",
              "      <th>2</th>\n",
              "      <td>ICU200611</td>\n",
              "      <td>6</td>\n",
              "      <td>96</td>\n",
              "      <td>0</td>\n",
              "      <td>0</td>\n",
              "      <td>0</td>\n",
              "      <td>23.7</td>\n",
              "      <td>0.190</td>\n",
              "      <td>28</td>\n",
              "      <td>1</td>\n",
              "    </tr>\n",
              "    <tr>\n",
              "      <th>3</th>\n",
              "      <td>ICU200612</td>\n",
              "      <td>1</td>\n",
              "      <td>124</td>\n",
              "      <td>74</td>\n",
              "      <td>36</td>\n",
              "      <td>0</td>\n",
              "      <td>27.8</td>\n",
              "      <td>0.100</td>\n",
              "      <td>30</td>\n",
              "      <td>1</td>\n",
              "    </tr>\n",
              "    <tr>\n",
              "      <th>4</th>\n",
              "      <td>ICU200613</td>\n",
              "      <td>7</td>\n",
              "      <td>150</td>\n",
              "      <td>78</td>\n",
              "      <td>29</td>\n",
              "      <td>126</td>\n",
              "      <td>35.2</td>\n",
              "      <td>0.692</td>\n",
              "      <td>54</td>\n",
              "      <td>0</td>\n",
              "    </tr>\n",
              "  </tbody>\n",
              "</table>\n",
              "</div>"
            ],
            "text/plain": [
              "          ID  PRG   PL  PR  SK   TS   M11    BD2  Age  Insurance\n",
              "0  ICU200609    1  109  38  18  120  23.1  0.407   26          1\n",
              "1  ICU200610    1  108  88  19    0  27.1  0.400   24          1\n",
              "2  ICU200611    6   96   0   0    0  23.7  0.190   28          1\n",
              "3  ICU200612    1  124  74  36    0  27.8  0.100   30          1\n",
              "4  ICU200613    7  150  78  29  126  35.2  0.692   54          0"
            ]
          },
          "execution_count": 5,
          "metadata": {},
          "output_type": "execute_result"
        }
      ],
      "source": [
        "test_df = pd.read_csv(\"./Data/Paitients_Files_Test.csv\", delimiter=',', skipinitialspace = True)\n",
        "\n",
        "test_df.columns = test_df.columns.str.replace(' ', '') #strip the extra-whitespaces out\n",
        "\n",
        "print(\"Rows and Collumns of dataset\", str(test_df.shape))\n",
        "\n",
        "test_df.head(5)"
      ]
    },
    {
      "cell_type": "code",
      "execution_count": 6,
      "id": "nxKrg0_qxo9B",
      "metadata": {
        "colab": {
          "base_uri": "https://localhost:8080/",
          "height": 206
        },
        "id": "nxKrg0_qxo9B",
        "outputId": "a5e919b5-b3e5-4855-e650-cf0088fae4b7"
      },
      "outputs": [
        {
          "data": {
            "text/html": [
              "<div>\n",
              "<style scoped>\n",
              "    .dataframe tbody tr th:only-of-type {\n",
              "        vertical-align: middle;\n",
              "    }\n",
              "\n",
              "    .dataframe tbody tr th {\n",
              "        vertical-align: top;\n",
              "    }\n",
              "\n",
              "    .dataframe thead th {\n",
              "        text-align: right;\n",
              "    }\n",
              "</style>\n",
              "<table border=\"1\" class=\"dataframe\">\n",
              "  <thead>\n",
              "    <tr style=\"text-align: right;\">\n",
              "      <th></th>\n",
              "      <th>ID</th>\n",
              "      <th>PRG</th>\n",
              "      <th>PL</th>\n",
              "      <th>PR</th>\n",
              "      <th>SK</th>\n",
              "      <th>TS</th>\n",
              "      <th>M11</th>\n",
              "      <th>BD2</th>\n",
              "      <th>Age</th>\n",
              "      <th>Insurance</th>\n",
              "    </tr>\n",
              "  </thead>\n",
              "  <tbody>\n",
              "    <tr>\n",
              "      <th>164</th>\n",
              "      <td>ICU200773</td>\n",
              "      <td>10</td>\n",
              "      <td>101</td>\n",
              "      <td>76</td>\n",
              "      <td>48</td>\n",
              "      <td>180</td>\n",
              "      <td>32.9</td>\n",
              "      <td>0.171</td>\n",
              "      <td>63</td>\n",
              "      <td>1</td>\n",
              "    </tr>\n",
              "    <tr>\n",
              "      <th>165</th>\n",
              "      <td>ICU200774</td>\n",
              "      <td>2</td>\n",
              "      <td>122</td>\n",
              "      <td>70</td>\n",
              "      <td>27</td>\n",
              "      <td>0</td>\n",
              "      <td>36.8</td>\n",
              "      <td>0.340</td>\n",
              "      <td>27</td>\n",
              "      <td>1</td>\n",
              "    </tr>\n",
              "    <tr>\n",
              "      <th>166</th>\n",
              "      <td>ICU200775</td>\n",
              "      <td>5</td>\n",
              "      <td>121</td>\n",
              "      <td>72</td>\n",
              "      <td>23</td>\n",
              "      <td>112</td>\n",
              "      <td>26.2</td>\n",
              "      <td>0.245</td>\n",
              "      <td>30</td>\n",
              "      <td>1</td>\n",
              "    </tr>\n",
              "    <tr>\n",
              "      <th>167</th>\n",
              "      <td>ICU200776</td>\n",
              "      <td>1</td>\n",
              "      <td>126</td>\n",
              "      <td>60</td>\n",
              "      <td>0</td>\n",
              "      <td>0</td>\n",
              "      <td>30.1</td>\n",
              "      <td>0.349</td>\n",
              "      <td>47</td>\n",
              "      <td>1</td>\n",
              "    </tr>\n",
              "    <tr>\n",
              "      <th>168</th>\n",
              "      <td>ICU200777</td>\n",
              "      <td>1</td>\n",
              "      <td>93</td>\n",
              "      <td>70</td>\n",
              "      <td>31</td>\n",
              "      <td>0</td>\n",
              "      <td>30.4</td>\n",
              "      <td>0.315</td>\n",
              "      <td>23</td>\n",
              "      <td>1</td>\n",
              "    </tr>\n",
              "  </tbody>\n",
              "</table>\n",
              "</div>"
            ],
            "text/plain": [
              "            ID  PRG   PL  PR  SK   TS   M11    BD2  Age  Insurance\n",
              "164  ICU200773   10  101  76  48  180  32.9  0.171   63          1\n",
              "165  ICU200774    2  122  70  27    0  36.8  0.340   27          1\n",
              "166  ICU200775    5  121  72  23  112  26.2  0.245   30          1\n",
              "167  ICU200776    1  126  60   0    0  30.1  0.349   47          1\n",
              "168  ICU200777    1   93  70  31    0  30.4  0.315   23          1"
            ]
          },
          "execution_count": 6,
          "metadata": {},
          "output_type": "execute_result"
        }
      ],
      "source": [
        "#Show the tail of the dataset\n",
        "test_df.tail(5)"
      ]
    },
    {
      "cell_type": "markdown",
      "id": "a135e3ff",
      "metadata": {
        "id": "a135e3ff"
      },
      "source": [
        "<a id=\"1.3\"></a>\n",
        "# 1.3 Data Information"
      ]
    },
    {
      "cell_type": "markdown",
      "id": "fac3e887",
      "metadata": {
        "id": "fac3e887"
      },
      "source": [
        "> **Column name and datatype of train Dataset**"
      ]
    },
    {
      "cell_type": "code",
      "execution_count": 7,
      "id": "d31955b7",
      "metadata": {
        "colab": {
          "base_uri": "https://localhost:8080/"
        },
        "id": "d31955b7",
        "outputId": "7bcba317-b8b3-4f56-ba1b-24bd649005f3"
      },
      "outputs": [
        {
          "name": "stdout",
          "output_type": "stream",
          "text": [
            "<class 'pandas.core.frame.DataFrame'>\n",
            "RangeIndex: 599 entries, 0 to 598\n",
            "Data columns (total 11 columns):\n",
            " #   Column     Non-Null Count  Dtype  \n",
            "---  ------     --------------  -----  \n",
            " 0   ID         599 non-null    object \n",
            " 1   PRG        599 non-null    int64  \n",
            " 2   PL         599 non-null    int64  \n",
            " 3   PR         599 non-null    int64  \n",
            " 4   SK         599 non-null    int64  \n",
            " 5   TS         599 non-null    int64  \n",
            " 6   M11        599 non-null    float64\n",
            " 7   BD2        599 non-null    float64\n",
            " 8   Age        599 non-null    int64  \n",
            " 9   Insurance  599 non-null    int64  \n",
            " 10  Sepssis    599 non-null    object \n",
            "dtypes: float64(2), int64(7), object(2)\n",
            "memory usage: 51.6+ KB\n"
          ]
        }
      ],
      "source": [
        "#Basic information of the dataset\n",
        "train_df.info()"
      ]
    },
    {
      "cell_type": "markdown",
      "id": "ebbeab8b",
      "metadata": {
        "id": "ebbeab8b"
      },
      "source": [
        "> **Column name and datatype of test Dataset**"
      ]
    },
    {
      "cell_type": "code",
      "execution_count": 8,
      "id": "957499d4",
      "metadata": {
        "colab": {
          "base_uri": "https://localhost:8080/"
        },
        "id": "957499d4",
        "outputId": "86f1ab54-591a-406f-c1ce-92078087729b"
      },
      "outputs": [
        {
          "name": "stdout",
          "output_type": "stream",
          "text": [
            "<class 'pandas.core.frame.DataFrame'>\n",
            "RangeIndex: 169 entries, 0 to 168\n",
            "Data columns (total 10 columns):\n",
            " #   Column     Non-Null Count  Dtype  \n",
            "---  ------     --------------  -----  \n",
            " 0   ID         169 non-null    object \n",
            " 1   PRG        169 non-null    int64  \n",
            " 2   PL         169 non-null    int64  \n",
            " 3   PR         169 non-null    int64  \n",
            " 4   SK         169 non-null    int64  \n",
            " 5   TS         169 non-null    int64  \n",
            " 6   M11        169 non-null    float64\n",
            " 7   BD2        169 non-null    float64\n",
            " 8   Age        169 non-null    int64  \n",
            " 9   Insurance  169 non-null    int64  \n",
            "dtypes: float64(2), int64(7), object(1)\n",
            "memory usage: 13.3+ KB\n"
          ]
        }
      ],
      "source": [
        "#Basic information if the test dataset\n",
        "test_df.info()"
      ]
    },
    {
      "cell_type": "markdown",
      "id": "j538x195o3EJ",
      "metadata": {
        "id": "j538x195o3EJ"
      },
      "source": [
        "# About the datasets\n",
        "For this data set : the train dataset have 11 collumn and 599 rows and the test dataset have 169 row and 10 collumn. \n",
        "<p> There are 2 kind of data group for this dataset</p>\n",
        "<ul><li>Trainning dataset Paitients_Files_Train.csv</li>\n",
        "    <li>Testing dataset: Paitients_Files_Test.csv</li>\n",
        " </ul>\n",
        "<p>As can be observe , the major data type for both training and testing data set are</p>\n",
        "<ul><li>int64 : PRG, PL, PR, SK, TS, AGE, Insurance</li>\n",
        "    <li>float64 : M11 , BD2</li>\n",
        "    <li> object : ID for both dataset and Sepsis for the training data set </li>\n",
        "</ul>\n",
        "<p>The target variable for this assingment is Sepsis (we have typo Seppsis in the train dataset). After viewing the dataset, the Sepsis column have value either Negative or Positive which is a kind of categorical data therefore we can conclude that this is a classification Problems.</p>"
      ]
    },
    {
      "cell_type": "markdown",
      "id": "iwpRuHR4tlhz",
      "metadata": {
        "id": "iwpRuHR4tlhz"
      },
      "source": [
        "# Datafield definition :\n",
        "According to the `README.MD` file of the dataset the definition of the table is as follow\n",
        "<ul>\n",
        "<li>ID : Uniue number to represent patient</li>\n",
        "<li>PRG: Plasma glucose </li>\n",
        "<li>PL: Blood Work Result-1 (mu U/ml)</li>\n",
        "<li>PR: Blood Pressure (mm Hg)</li>\n",
        "<li>SK: Blood Work Result-2 (mm) </li>\n",
        "<li>TS: Blood Work Result-3 (mu U/ml)</li>\n",
        "<li>M11: Body mass index (weight in kg/(height in m)^2</li>\n",
        "<li>BD2:  Blood Work Result-4 (mu U/ml)</li>\n",
        "<li>Age:  patients age  (years)</li>\n",
        "<li>Insurance: If a patient holds a valid insurance card</li>\n",
        "<li> Sepssis (target): Positive: if a patient in ICU will \n",
        "develop a sepsis , and Negative: otherwise </li>\n",
        "\n",
        "\n",
        "</ul>"
      ]
    },
    {
      "cell_type": "markdown",
      "id": "dFzcBkqGv5rC",
      "metadata": {
        "id": "dFzcBkqGv5rC"
      },
      "source": [
        "## Domain knowledge"
      ]
    },
    {
      "cell_type": "markdown",
      "id": "rmZWT2IQwA3N",
      "metadata": {
        "id": "rmZWT2IQwA3N"
      },
      "source": [
        "<a id=\"2.3\"></a>\n",
        "# 2.3 Exploratory Data Analysis\n",
        "***"
      ]
    },
    {
      "cell_type": "markdown",
      "id": "iq6cNB4JwB8Z",
      "metadata": {
        "id": "iq6cNB4JwB8Z"
      },
      "source": [
        "<a id=\"2.3.1\"></a>\n",
        "## 2.3.1 Statistics of the datasets"
      ]
    },
    {
      "cell_type": "markdown",
      "id": "bgjMxIwmxN3x",
      "metadata": {
        "id": "bgjMxIwmxN3x"
      },
      "source": [
        "A. We need to verifying the numerical data of the dataset"
      ]
    },
    {
      "cell_type": "code",
      "execution_count": 9,
      "id": "AxzF6JBvwBJ6",
      "metadata": {
        "colab": {
          "base_uri": "https://localhost:8080/",
          "height": 300
        },
        "id": "AxzF6JBvwBJ6",
        "outputId": "d7c843d3-1033-416e-87ee-61799e3ef3e1"
      },
      "outputs": [
        {
          "data": {
            "text/html": [
              "<div>\n",
              "<style scoped>\n",
              "    .dataframe tbody tr th:only-of-type {\n",
              "        vertical-align: middle;\n",
              "    }\n",
              "\n",
              "    .dataframe tbody tr th {\n",
              "        vertical-align: top;\n",
              "    }\n",
              "\n",
              "    .dataframe thead th {\n",
              "        text-align: right;\n",
              "    }\n",
              "</style>\n",
              "<table border=\"1\" class=\"dataframe\">\n",
              "  <thead>\n",
              "    <tr style=\"text-align: right;\">\n",
              "      <th></th>\n",
              "      <th>PRG</th>\n",
              "      <th>PL</th>\n",
              "      <th>PR</th>\n",
              "      <th>SK</th>\n",
              "      <th>TS</th>\n",
              "      <th>M11</th>\n",
              "      <th>BD2</th>\n",
              "      <th>Age</th>\n",
              "      <th>Insurance</th>\n",
              "    </tr>\n",
              "  </thead>\n",
              "  <tbody>\n",
              "    <tr>\n",
              "      <th>count</th>\n",
              "      <td>599.000000</td>\n",
              "      <td>599.000000</td>\n",
              "      <td>599.000000</td>\n",
              "      <td>599.000000</td>\n",
              "      <td>599.000000</td>\n",
              "      <td>599.000000</td>\n",
              "      <td>599.000000</td>\n",
              "      <td>599.000000</td>\n",
              "      <td>599.000000</td>\n",
              "    </tr>\n",
              "    <tr>\n",
              "      <th>mean</th>\n",
              "      <td>3.824708</td>\n",
              "      <td>120.153589</td>\n",
              "      <td>68.732888</td>\n",
              "      <td>20.562604</td>\n",
              "      <td>79.460768</td>\n",
              "      <td>31.920033</td>\n",
              "      <td>0.481187</td>\n",
              "      <td>33.290484</td>\n",
              "      <td>0.686144</td>\n",
              "    </tr>\n",
              "    <tr>\n",
              "      <th>std</th>\n",
              "      <td>3.362839</td>\n",
              "      <td>32.682364</td>\n",
              "      <td>19.335675</td>\n",
              "      <td>16.017622</td>\n",
              "      <td>116.576176</td>\n",
              "      <td>8.008227</td>\n",
              "      <td>0.337552</td>\n",
              "      <td>11.828446</td>\n",
              "      <td>0.464447</td>\n",
              "    </tr>\n",
              "    <tr>\n",
              "      <th>min</th>\n",
              "      <td>0.000000</td>\n",
              "      <td>0.000000</td>\n",
              "      <td>0.000000</td>\n",
              "      <td>0.000000</td>\n",
              "      <td>0.000000</td>\n",
              "      <td>0.000000</td>\n",
              "      <td>0.078000</td>\n",
              "      <td>21.000000</td>\n",
              "      <td>0.000000</td>\n",
              "    </tr>\n",
              "    <tr>\n",
              "      <th>25%</th>\n",
              "      <td>1.000000</td>\n",
              "      <td>99.000000</td>\n",
              "      <td>64.000000</td>\n",
              "      <td>0.000000</td>\n",
              "      <td>0.000000</td>\n",
              "      <td>27.100000</td>\n",
              "      <td>0.248000</td>\n",
              "      <td>24.000000</td>\n",
              "      <td>0.000000</td>\n",
              "    </tr>\n",
              "    <tr>\n",
              "      <th>50%</th>\n",
              "      <td>3.000000</td>\n",
              "      <td>116.000000</td>\n",
              "      <td>70.000000</td>\n",
              "      <td>23.000000</td>\n",
              "      <td>36.000000</td>\n",
              "      <td>32.000000</td>\n",
              "      <td>0.383000</td>\n",
              "      <td>29.000000</td>\n",
              "      <td>1.000000</td>\n",
              "    </tr>\n",
              "    <tr>\n",
              "      <th>75%</th>\n",
              "      <td>6.000000</td>\n",
              "      <td>140.000000</td>\n",
              "      <td>80.000000</td>\n",
              "      <td>32.000000</td>\n",
              "      <td>123.500000</td>\n",
              "      <td>36.550000</td>\n",
              "      <td>0.647000</td>\n",
              "      <td>40.000000</td>\n",
              "      <td>1.000000</td>\n",
              "    </tr>\n",
              "    <tr>\n",
              "      <th>max</th>\n",
              "      <td>17.000000</td>\n",
              "      <td>198.000000</td>\n",
              "      <td>122.000000</td>\n",
              "      <td>99.000000</td>\n",
              "      <td>846.000000</td>\n",
              "      <td>67.100000</td>\n",
              "      <td>2.420000</td>\n",
              "      <td>81.000000</td>\n",
              "      <td>1.000000</td>\n",
              "    </tr>\n",
              "  </tbody>\n",
              "</table>\n",
              "</div>"
            ],
            "text/plain": [
              "              PRG          PL          PR          SK          TS         M11  \\\n",
              "count  599.000000  599.000000  599.000000  599.000000  599.000000  599.000000   \n",
              "mean     3.824708  120.153589   68.732888   20.562604   79.460768   31.920033   \n",
              "std      3.362839   32.682364   19.335675   16.017622  116.576176    8.008227   \n",
              "min      0.000000    0.000000    0.000000    0.000000    0.000000    0.000000   \n",
              "25%      1.000000   99.000000   64.000000    0.000000    0.000000   27.100000   \n",
              "50%      3.000000  116.000000   70.000000   23.000000   36.000000   32.000000   \n",
              "75%      6.000000  140.000000   80.000000   32.000000  123.500000   36.550000   \n",
              "max     17.000000  198.000000  122.000000   99.000000  846.000000   67.100000   \n",
              "\n",
              "              BD2         Age   Insurance  \n",
              "count  599.000000  599.000000  599.000000  \n",
              "mean     0.481187   33.290484    0.686144  \n",
              "std      0.337552   11.828446    0.464447  \n",
              "min      0.078000   21.000000    0.000000  \n",
              "25%      0.248000   24.000000    0.000000  \n",
              "50%      0.383000   29.000000    1.000000  \n",
              "75%      0.647000   40.000000    1.000000  \n",
              "max      2.420000   81.000000    1.000000  "
            ]
          },
          "execution_count": 9,
          "metadata": {},
          "output_type": "execute_result"
        }
      ],
      "source": [
        "#Showing all of the important statistic of the datasets.\n",
        "train_df.describe()"
      ]
    },
    {
      "cell_type": "markdown",
      "id": "MOtNg2ZVx7ZO",
      "metadata": {
        "id": "MOtNg2ZVx7ZO"
      },
      "source": [
        "From the initial observation, the `count` value of all of the columns in the `train` dataset are all having the same value of 599 (which is equal to the size of the dataset) indicating there are no missing values occurs in all of the column of the dataset."
      ]
    },
    {
      "cell_type": "markdown",
      "id": "KcNilPvGzPUG",
      "metadata": {
        "id": "KcNilPvGzPUG"
      },
      "source": [
        "* With `PRG` column, the median value of the column is equal to 3.824, however the value of the 75 percentile is 6 and the `maximum` value is 17 which is larger than the 75 percentile therefore indicating a negative skew"
      ]
    },
    {
      "cell_type": "markdown",
      "id": "QB2mOLef1W4F",
      "metadata": {
        "id": "QB2mOLef1W4F"
      },
      "source": [
        "* For the `PL` column of the train dataset, we can observe that the mean value of the collumn is equal to 120.153589, the 25% percentile is 99, the 75 % percentile is 140 there for we could say that this column have a normal distribution"
      ]
    },
    {
      "cell_type": "markdown",
      "id": "4c2FbqhV2NFr",
      "metadata": {
        "id": "4c2FbqhV2NFr"
      },
      "source": [
        "* For `PR` column, the mean value of this column from the above mentioned table is 68.732888 (mu U/ml). The 25 % percentile of the column is 64 (mu U/ml), the 75% percenttile for the dataset is 80 (mu U/ml), indicating a normal distribution"
      ]
    },
    {
      "cell_type": "markdown",
      "id": "Bg6FVx_p4a1d",
      "metadata": {
        "id": "Bg6FVx_p4a1d"
      },
      "source": [
        "* For `SK` column, we could observe that the mean value (which is 20.562604), the 25 % percentile of 0, 75 % percentile is 32. However the max value = 99 made this column have a negative skew. However this also indicating a potential for outlier. "
      ]
    },
    {
      "cell_type": "markdown",
      "id": "I041O7l05TNF",
      "metadata": {
        "id": "I041O7l05TNF"
      },
      "source": [
        "* Regarding the `TS` column the mean value 76.460768 However the 25% percentile is 0 and the 75 % percentile quartile is equal to 123.5. However the max value is 846 as well as more than 50% of the patient have the level of TS equal to 36 thus causing a negative skill. Furthermore, the max TS value is 800 which is the outlier of the `TS` column"
      ]
    },
    {
      "cell_type": "markdown",
      "id": "YT4LPJKMBjyT",
      "metadata": {
        "id": "YT4LPJKMBjyT"
      },
      "source": [
        "* `M1ll` As can observe, the mean value is equal to 31.920033\t(kg/m^2). There are also 25% of patient whoe have the BMI of 36.550000 (kg/m^2). The max value of the BMI is 67.1 (kg/m^2)\n",
        "\n"
      ]
    },
    {
      "cell_type": "markdown",
      "id": "yqyben-_BvWm",
      "metadata": {
        "id": "yqyben-_BvWm"
      },
      "source": [
        "* From the `BD2` we can be observe the mean value of the BD2 column is 0.481187 (mu U/ml). The 25% percentile is 0.248 and the 75% percentile is equal to 0.647000 (mu U/ml) however the max value is 2.420000 (mu U/ml) which resulting in a negative skew"
      ]
    },
    {
      "cell_type": "markdown",
      "id": "_UkVjN3nBzlZ",
      "metadata": {
        "id": "_UkVjN3nBzlZ"
      },
      "source": [
        "* With `Age` column , we can observe that the mean age of is equal to 33.290484. There are 75 % of patient who are 24 year old as well as 25 % patients who are 40 year old. The max age is 80 year old. Therefore resulting in a negative skew"
      ]
    },
    {
      "cell_type": "markdown",
      "id": "rk2nIxmuCBxQ",
      "metadata": {
        "id": "rk2nIxmuCBxQ"
      },
      "source": [
        "The initial observation is verified using the histogram and boxplot"
      ]
    },
    {
      "cell_type": "markdown",
      "id": "SOuk96dBB6KP",
      "metadata": {
        "id": "SOuk96dBB6KP"
      },
      "source": [
        "`Insurance`"
      ]
    },
    {
      "cell_type": "code",
      "execution_count": 10,
      "id": "ccj71SRPyDen",
      "metadata": {
        "colab": {
          "base_uri": "https://localhost:8080/",
          "height": 796
        },
        "id": "ccj71SRPyDen",
        "outputId": "f7550980-d0f2-4b86-f556-6fb114b6c81c"
      },
      "outputs": [
        {
          "data": {
            "text/plain": [
              "<module 'matplotlib.pyplot' from '/Users/nhatbuiminh/opt/anaconda3/envs/ProjectNew/lib/python3.10/site-packages/matplotlib/pyplot.py'>"
            ]
          },
          "execution_count": 10,
          "metadata": {},
          "output_type": "execute_result"
        },
        {
          "data": {
            "image/png": "[encoded data removed]",
            "text/plain": [
              "<Figure size 1440x1080 with 9 Axes>"
            ]
          },
          "metadata": {},
          "output_type": "display_data"
        }
      ],
      "source": [
        "plt.rcParams['figure.figsize'] = [20, 15]\n",
        "train_df.hist()\n",
        "plt"
      ]
    },
    {
      "cell_type": "markdown",
      "id": "fbtMLjxdHbnw",
      "metadata": {
        "id": "fbtMLjxdHbnw"
      },
      "source": [
        "From the observation, we can classified the skewness of each column are :\n",
        " <ul>\n",
        " <li>Left skew :  `PRG`, `SK`, `Age` and `BD2` </li>\n",
        " <li>Normal distribution value are `PL` , `PR`, `Mll`</li>\n",
        " </ul>"
      ]
    },
    {
      "cell_type": "markdown",
      "id": "lhynujhjIf5F",
      "metadata": {
        "id": "lhynujhjIf5F"
      },
      "source": [
        "## B. Examine the test dataset"
      ]
    },
    {
      "cell_type": "code",
      "execution_count": 11,
      "id": "COo2nMyWE6h5",
      "metadata": {
        "colab": {
          "base_uri": "https://localhost:8080/",
          "height": 300
        },
        "id": "COo2nMyWE6h5",
        "outputId": "0e0512cd-ed09-455c-e9ed-a73d01476b35"
      },
      "outputs": [
        {
          "data": {
            "text/html": [
              "<div>\n",
              "<style scoped>\n",
              "    .dataframe tbody tr th:only-of-type {\n",
              "        vertical-align: middle;\n",
              "    }\n",
              "\n",
              "    .dataframe tbody tr th {\n",
              "        vertical-align: top;\n",
              "    }\n",
              "\n",
              "    .dataframe thead th {\n",
              "        text-align: right;\n",
              "    }\n",
              "</style>\n",
              "<table border=\"1\" class=\"dataframe\">\n",
              "  <thead>\n",
              "    <tr style=\"text-align: right;\">\n",
              "      <th></th>\n",
              "      <th>PRG</th>\n",
              "      <th>PL</th>\n",
              "      <th>PR</th>\n",
              "      <th>SK</th>\n",
              "      <th>TS</th>\n",
              "      <th>M11</th>\n",
              "      <th>BD2</th>\n",
              "      <th>Age</th>\n",
              "      <th>Insurance</th>\n",
              "    </tr>\n",
              "  </thead>\n",
              "  <tbody>\n",
              "    <tr>\n",
              "      <th>count</th>\n",
              "      <td>169.000000</td>\n",
              "      <td>169.000000</td>\n",
              "      <td>169.000000</td>\n",
              "      <td>169.000000</td>\n",
              "      <td>169.000000</td>\n",
              "      <td>169.000000</td>\n",
              "      <td>169.000000</td>\n",
              "      <td>169.000000</td>\n",
              "      <td>169.000000</td>\n",
              "    </tr>\n",
              "    <tr>\n",
              "      <th>mean</th>\n",
              "      <td>3.917160</td>\n",
              "      <td>123.520710</td>\n",
              "      <td>70.426036</td>\n",
              "      <td>20.443787</td>\n",
              "      <td>81.000000</td>\n",
              "      <td>32.249704</td>\n",
              "      <td>0.438876</td>\n",
              "      <td>33.065089</td>\n",
              "      <td>0.727811</td>\n",
              "    </tr>\n",
              "    <tr>\n",
              "      <th>std</th>\n",
              "      <td>3.402415</td>\n",
              "      <td>29.259123</td>\n",
              "      <td>19.426805</td>\n",
              "      <td>15.764962</td>\n",
              "      <td>110.720852</td>\n",
              "      <td>7.444886</td>\n",
              "      <td>0.306935</td>\n",
              "      <td>11.548110</td>\n",
              "      <td>0.446410</td>\n",
              "    </tr>\n",
              "    <tr>\n",
              "      <th>min</th>\n",
              "      <td>0.000000</td>\n",
              "      <td>56.000000</td>\n",
              "      <td>0.000000</td>\n",
              "      <td>0.000000</td>\n",
              "      <td>0.000000</td>\n",
              "      <td>0.000000</td>\n",
              "      <td>0.100000</td>\n",
              "      <td>21.000000</td>\n",
              "      <td>0.000000</td>\n",
              "    </tr>\n",
              "    <tr>\n",
              "      <th>25%</th>\n",
              "      <td>1.000000</td>\n",
              "      <td>102.000000</td>\n",
              "      <td>62.000000</td>\n",
              "      <td>0.000000</td>\n",
              "      <td>0.000000</td>\n",
              "      <td>27.600000</td>\n",
              "      <td>0.223000</td>\n",
              "      <td>24.000000</td>\n",
              "      <td>0.000000</td>\n",
              "    </tr>\n",
              "    <tr>\n",
              "      <th>50%</th>\n",
              "      <td>3.000000</td>\n",
              "      <td>120.000000</td>\n",
              "      <td>74.000000</td>\n",
              "      <td>23.000000</td>\n",
              "      <td>0.000000</td>\n",
              "      <td>32.400000</td>\n",
              "      <td>0.343000</td>\n",
              "      <td>28.000000</td>\n",
              "      <td>1.000000</td>\n",
              "    </tr>\n",
              "    <tr>\n",
              "      <th>75%</th>\n",
              "      <td>6.000000</td>\n",
              "      <td>141.000000</td>\n",
              "      <td>80.000000</td>\n",
              "      <td>32.000000</td>\n",
              "      <td>135.000000</td>\n",
              "      <td>36.600000</td>\n",
              "      <td>0.587000</td>\n",
              "      <td>42.000000</td>\n",
              "      <td>1.000000</td>\n",
              "    </tr>\n",
              "    <tr>\n",
              "      <th>max</th>\n",
              "      <td>13.000000</td>\n",
              "      <td>199.000000</td>\n",
              "      <td>114.000000</td>\n",
              "      <td>49.000000</td>\n",
              "      <td>540.000000</td>\n",
              "      <td>57.300000</td>\n",
              "      <td>1.698000</td>\n",
              "      <td>70.000000</td>\n",
              "      <td>1.000000</td>\n",
              "    </tr>\n",
              "  </tbody>\n",
              "</table>\n",
              "</div>"
            ],
            "text/plain": [
              "              PRG          PL          PR          SK          TS         M11  \\\n",
              "count  169.000000  169.000000  169.000000  169.000000  169.000000  169.000000   \n",
              "mean     3.917160  123.520710   70.426036   20.443787   81.000000   32.249704   \n",
              "std      3.402415   29.259123   19.426805   15.764962  110.720852    7.444886   \n",
              "min      0.000000   56.000000    0.000000    0.000000    0.000000    0.000000   \n",
              "25%      1.000000  102.000000   62.000000    0.000000    0.000000   27.600000   \n",
              "50%      3.000000  120.000000   74.000000   23.000000    0.000000   32.400000   \n",
              "75%      6.000000  141.000000   80.000000   32.000000  135.000000   36.600000   \n",
              "max     13.000000  199.000000  114.000000   49.000000  540.000000   57.300000   \n",
              "\n",
              "              BD2         Age   Insurance  \n",
              "count  169.000000  169.000000  169.000000  \n",
              "mean     0.438876   33.065089    0.727811  \n",
              "std      0.306935   11.548110    0.446410  \n",
              "min      0.100000   21.000000    0.000000  \n",
              "25%      0.223000   24.000000    0.000000  \n",
              "50%      0.343000   28.000000    1.000000  \n",
              "75%      0.587000   42.000000    1.000000  \n",
              "max      1.698000   70.000000    1.000000  "
            ]
          },
          "execution_count": 11,
          "metadata": {},
          "output_type": "execute_result"
        }
      ],
      "source": [
        "test_df.describe()"
      ]
    },
    {
      "cell_type": "markdown",
      "id": "5QGo0ECAK8Yv",
      "metadata": {
        "id": "5QGo0ECAK8Yv"
      },
      "source": [
        "The test dataset consist of 9 column, each column have the value count of 169 which is consistance through out all of the column of the dataset which indicate there is no missing value.\n",
        "\n",
        "* `PRG` : As can be be observe, the min value of the `PRG` Column have the `mean` value of 3.917160, the `min` value of 0 and the `max` value of 13. Regarding to the `quartile` of the dataset, `25 % ` percentile of patient have the `PRG` level = 1 1, `50%` percentile of patient have the `PRG` level equal to 3 which slightly less than the `mean` value and `75 %` percentile patient have the `PRG` level of 6. This indicate a left skew. \n"
      ]
    },
    {
      "cell_type": "markdown",
      "id": "N7uOKaeSI58G",
      "metadata": {
        "id": "N7uOKaeSI58G"
      },
      "source": [
        "* `PL`: For the abovemention `PL` column the `mean` value is 123.520710 (mu U/ml), the `min` value is 56 (mu U/ml) and the `max` value is 199 (mu U/ml). For the `25 % percentile`, the `PL` level is 102 (mu U/ml), the `50 % percentile` is 120(mu U/ml) and the `75 % percentile` is 80 (mu U/ml). This indicate a normal distribution.\n",
        "<br>\n"
      ]
    },
    {
      "cell_type": "markdown",
      "id": "Wz87YihZI8dr",
      "metadata": {
        "id": "Wz87YihZI8dr"
      },
      "source": [
        "* `PR`: The mean value for `PR` column is 70.426036 (mmHg), the min value is 0 (mmHg) which potentially outliers, the max value is 114 (mmHg). Regarding the quartile of this column, 75 %  of patient have the blood pressure of 62 (mmHg), 50% percent of patient have the blood pressure of 74 (mmHg) and 25 % of patient have the blood pressure of 80 (mmHg). This indicating a skew right.\n"
      ]
    },
    {
      "cell_type": "markdown",
      "id": "F0su7kTSI_5t",
      "metadata": {
        "id": "F0su7kTSI_5t"
      },
      "source": [
        "* `SK` For the `SK` column, the mean value is  20.443787 (mm), the max value is 49 (mm) and min value of 0 (mm). Furthermore 25% percentile of patient have the Blood Work Result-2 of 0 (mm), 50% percentile of patient have the value of 23 (mm) and 75% percentitle of patient have the `SK` value of 32 (mm). This indicating a slightly skew right.\n"
      ]
    },
    {
      "cell_type": "markdown",
      "id": "5ytdPk4vJCbL",
      "metadata": {
        "id": "5ytdPk4vJCbL"
      },
      "source": [
        "* `TS` For the Blood Work Result-3, we have `mean` value of 81 (mu U/ml), the `max` value of 540 (mu U/ml). Regarding the quartile, 75% of patient have the Blood Work Result-3 equal 0, 50% of the patient have the quartile is 0 and the 25% of patient have the level of 135(mu U/ml). This indicating a left skew\n"
      ]
    },
    {
      "cell_type": "markdown",
      "id": "JoIAoE8fJFHk",
      "metadata": {
        "id": "JoIAoE8fJFHk"
      },
      "source": [
        "* `Mll`: For the `Mll` column, the `mean` value of 32.249704 (kg/m^2) `max` value of 57.3 (kg/m^2) and the `min` value is 0. Regarding the quartile the distribution `25% percentile` of patient have the BMI value of 27.6 (kg/m^2), `50% percentile` of patient is 32.4 (kg/m^2) and `75% percentile` patient is 36.6 (kg/m^2). This indicating a normal distribution\n"
      ]
    },
    {
      "cell_type": "markdown",
      "id": "oPxT6chmJJyi",
      "metadata": {
        "id": "oPxT6chmJJyi"
      },
      "source": [
        "* `BD2`: The blood work result have the mean value of 0.438876 (mu U/ml), the max value of 1.698 (mu U/ml) and the min value of 0.1 (mu U/ml). Regarding the value of the quartile of the column, 75 % of the patient have the `BD2` index of 0.223, 50% of the patient have the `BD2` value of 0.343 (mu U/ml) and 25 % of patient take the value of 0.587 (mu U/ml)\n"
      ]
    },
    {
      "cell_type": "markdown",
      "id": "Xge3QlLMJtAQ",
      "metadata": {
        "id": "Xge3QlLMJtAQ"
      },
      "source": [
        "* `Age`: Regarding the age of the patient, the mean value is 33.065089, the maximum age is 70 and the minimum age of 21. The 25 % percentile is 24 years old, the 50% percentile is 28 year old and the 75 % percentile is 42 year old which indcating a left skew.\n"
      ]
    },
    {
      "cell_type": "markdown",
      "id": "e9BgIMx2MWGN",
      "metadata": {
        "id": "e9BgIMx2MWGN"
      },
      "source": [
        "* Insurance is a categorical column which take the value of either 0 or 1 "
      ]
    },
    {
      "cell_type": "code",
      "execution_count": 12,
      "id": "YiNCKCjpIrDI",
      "metadata": {
        "colab": {
          "base_uri": "https://localhost:8080/",
          "height": 782
        },
        "id": "YiNCKCjpIrDI",
        "outputId": "45100fbb-8364-4cbb-afc0-64eb9122bc30"
      },
      "outputs": [
        {
          "data": {
            "image/png": "[encoded data removed]",
            "text/plain": [
              "<Figure size 1440x1080 with 9 Axes>"
            ]
          },
          "metadata": {},
          "output_type": "display_data"
        }
      ],
      "source": [
        "plt.rcParams['figure.figsize'] = [20, 15]\n",
        "test_df.hist()\n",
        "plt.show()"
      ]
    },
    {
      "cell_type": "markdown",
      "id": "5hg-ionCNajn",
      "metadata": {
        "id": "5hg-ionCNajn"
      },
      "source": [
        "From the observation, we can classified the skewness of each column are :\n",
        " <ul>\n",
        " <li>Left skew :  `PRG`,`PL`, `Age` and `BD2` </li>\n",
        " <li>Normal distribution value: `SK`, `Mll`</li>\n",
        " <li>Right skew: `PR`</li>\n",
        " </ul>\n"
      ]
    },
    {
      "cell_type": "markdown",
      "id": "twftaWtWOVQ2",
      "metadata": {
        "id": "twftaWtWOVQ2"
      },
      "source": [
        "# Domain knowledge"
      ]
    },
    {
      "cell_type": "markdown",
      "id": "44dnjfhDmRNV",
      "metadata": {
        "id": "44dnjfhDmRNV"
      },
      "source": [
        "In order to process to the next step, the domain knowledge must be acquired :\n",
        "\n",
        "* `PRG`: \"under 100 mg/dL or 10 mg/L during fasting and less than 140 mg/dL or 14mg/L 2-hours postprandial\". (Source : https://www.google.com/url?sa=t&rct=j&q=&esrc=s&source=web&cd=&cad=rja&uact=8&ved=2ahUKEwiL-YKX4ez2AhWWR2wGHbG9BWcQFnoECAsQAw&url=https%3A%2F%2Fwww.ncbi.nlm.nih.gov%2Fbooks%2FNBK541081%2F&usg=AOvVaw2sI5rNvznVcGMCoIK1hT8d)\n"
      ]
    },
    {
      "cell_type": "markdown",
      "id": "_nOgM3EVnEnq",
      "metadata": {
        "id": "_nOgM3EVnEnq"
      },
      "source": [
        "* PL: Blood Work Result-1 (mu U/ml): According to [https://www.hopkinsmedicine.org/health/conditions-and-diseases/what-are-platelets-and-why-are-they-important] the normal platelet count ranges from 150 (mu U/ml) to 450 (mu U/ml)"
      ]
    },
    {
      "cell_type": "markdown",
      "id": "ITytjLjAnH_w",
      "metadata": {
        "id": "ITytjLjAnH_w"
      },
      "source": [
        "* PR: Blood Pressure (mm Hg) According to [https://www.cdc.gov/bloodpressure/about.htm] The systolic blood pressure are classified into the following category:        <ul>\n",
        "<li>Normal blood pressure : less than 120 (mmHg) </li>\n",
        "<li>At risk of Prehypertension : from 120(mmHg) to 139(mmHg)</li>\n",
        "<li>High blood pressure or Hypertension 140 (mmHg) or higher</li>\n",
        "</ul>\n"
      ]
    },
    {
      "cell_type": "markdown",
      "id": "8zmJYdk5nKFo",
      "metadata": {
        "id": "8zmJYdk5nKFo"
      },
      "source": [
        "* SK: Serum Potassium level: According to (https://www.ncbi.nlm.nih.gov/books/NBK307/), normal range for Serum Potassium is between (3.5 to 5.5 mmol/L\n",
        "\n"
      ]
    },
    {
      "cell_type": "markdown",
      "id": "gYBQU6mJnMAs",
      "metadata": {
        "id": "gYBQU6mJnMAs"
      },
      "source": [
        "* TS: Transferrin Saturation (https://www.cdc.gov/bloodpressure/about.htm)\n"
      ]
    },
    {
      "cell_type": "markdown",
      "id": "1lUoqdvDnNkk",
      "metadata": {
        "id": "1lUoqdvDnNkk"
      },
      "source": [
        "* M11: Body mass index (kg/m^2) [Source](https://www.cdc.gov/healthyweight/assessing/index.html)\n",
        "<ul>\n",
        "<li>Underweight: Body mass index less than 18.5</li>\n",
        "<li> Normal: 18.5 to 24.9</li>\n",
        "<li> Overweight: 25.0 to 29.9</li>\n",
        "<li> Obese: 30.0 or higher</li>\n",
        "</ul>"
      ]
    },
    {
      "cell_type": "markdown",
      "id": "TzZEbO9xnPvn",
      "metadata": {
        "id": "TzZEbO9xnPvn"
      },
      "source": [
        "* BD2: Blood Work Result-4 (mu U/ml)"
      ]
    },
    {
      "cell_type": "markdown",
      "id": "YplFGFyATsNT",
      "metadata": {
        "id": "YplFGFyATsNT"
      },
      "source": [
        "##Number of unique value"
      ]
    },
    {
      "cell_type": "markdown",
      "id": "v3wLjNnYTzFc",
      "metadata": {
        "id": "v3wLjNnYTzFc"
      },
      "source": [
        "We can checkthe ID of patients to see if it's duplicate or not"
      ]
    },
    {
      "cell_type": "markdown",
      "id": "LxA-O9CiT7rC",
      "metadata": {
        "id": "LxA-O9CiT7rC"
      },
      "source": [
        "### Train dataset"
      ]
    },
    {
      "cell_type": "code",
      "execution_count": 13,
      "id": "ogUe-MWcTvLz",
      "metadata": {
        "colab": {
          "base_uri": "https://localhost:8080/"
        },
        "id": "ogUe-MWcTvLz",
        "outputId": "6b728717-eff5-4860-96ca-abe67f719356"
      },
      "outputs": [
        {
          "name": "stdout",
          "output_type": "stream",
          "text": [
            "0\n"
          ]
        }
      ],
      "source": [
        "#Count the number of duplicate ID of train dataset\n",
        "print(train_df['ID'].duplicated().sum())"
      ]
    },
    {
      "cell_type": "markdown",
      "id": "D5iidbB5UAlq",
      "metadata": {
        "id": "D5iidbB5UAlq"
      },
      "source": [
        "### Test dataset"
      ]
    },
    {
      "cell_type": "code",
      "execution_count": null,
      "id": "rFLFp8tEN0kE",
      "metadata": {
        "id": "rFLFp8tEN0kE"
      },
      "outputs": [],
      "source": []
    },
    {
      "cell_type": "code",
      "execution_count": 14,
      "id": "tXVIsZiJVYOS",
      "metadata": {
        "colab": {
          "base_uri": "https://localhost:8080/"
        },
        "id": "tXVIsZiJVYOS",
        "outputId": "ee3f637f-3929-4931-887d-3b30368c33ed"
      },
      "outputs": [
        {
          "name": "stdout",
          "output_type": "stream",
          "text": [
            "0\n"
          ]
        }
      ],
      "source": [
        "#Count the number of duplicate ID of test Dataset\n",
        "print(test_df['ID'].duplicated().sum())"
      ]
    },
    {
      "cell_type": "markdown",
      "id": "W1vbP6L_MI5D",
      "metadata": {
        "id": "W1vbP6L_MI5D"
      },
      "source": [
        "# Outlier|"
      ]
    },
    {
      "cell_type": "markdown",
      "id": "vXtr9uYvODsq",
      "metadata": {
        "id": "vXtr9uYvODsq"
      },
      "source": [
        "### Train dataset"
      ]
    },
    {
      "cell_type": "code",
      "execution_count": 15,
      "id": "l0FrrG-OvUHp",
      "metadata": {
        "colab": {
          "base_uri": "https://localhost:8080/",
          "height": 786
        },
        "id": "l0FrrG-OvUHp",
        "outputId": "2a3f2b2f-79d7-4cbb-eaa3-8513ce09346e"
      },
      "outputs": [
        {
          "data": {
            "text/plain": [
              "<AxesSubplot:>"
            ]
          },
          "execution_count": 15,
          "metadata": {},
          "output_type": "execute_result"
        },
        {
          "data": {
            "image/png": "[encoded data removed]",
            "text/plain": [
              "<Figure size 1440x1080 with 1 Axes>"
            ]
          },
          "metadata": {},
          "output_type": "display_data"
        }
      ],
      "source": [
        "train_df.plot(kind ='box')"
      ]
    },
    {
      "cell_type": "markdown",
      "id": "7bl_6hJtPjen",
      "metadata": {
        "id": "7bl_6hJtPjen"
      },
      "source": [
        "As can be observe from the box plot, except for the `Insurance`, `ID` ans `SEPSIS` collumn, according to the above mentioend box plot, the column that contains outliers are as follow:\n",
        "* `PRG`\n",
        "* `PL`\n",
        "* `PR`\n",
        "* `SK`\n",
        "* `TS`\n",
        "* `Mll`\n",
        "* `BD2`\n",
        "* `AGE`"
      ]
    },
    {
      "cell_type": "markdown",
      "id": "EXd43-lPPeKn",
      "metadata": {
        "id": "EXd43-lPPeKn"
      },
      "source": [
        "## Correlation "
      ]
    },
    {
      "cell_type": "code",
      "execution_count": 16,
      "id": "DwpQVTmnOxD6",
      "metadata": {
        "colab": {
          "base_uri": "https://localhost:8080/",
          "height": 900
        },
        "id": "DwpQVTmnOxD6",
        "outputId": "168dd632-5af9-4902-f075-39ee33059ee4"
      },
      "outputs": [
        {
          "data": {
            "image/png": "[encoded data removed]",
            "text/plain": [
              "<Figure size 1440x1080 with 2 Axes>"
            ]
          },
          "metadata": {},
          "output_type": "display_data"
        }
      ],
      "source": [
        "corr = train_df.corr(method = 'pearson')\n",
        "sns.heatmap(data=corr, cmap='magma', annot = True)\n",
        "plt.title(\"Correlations Among Features\", y = 1.03, fontsize=20,pad=40)\n",
        "plt.show()"
      ]
    },
    {
      "cell_type": "markdown",
      "id": "l5r8cO8rb2Gp",
      "metadata": {
        "id": "l5r8cO8rb2Gp"
      },
      "source": [
        "The correlation is calculated using Pearson correlation methodology. Pearson Correlation range from +1 to -1. With +! is positive correlation and -1 is negative correlation. \n",
        "As can be observe from the heatmap, we can see that the correlated are: \n",
        "* To examine the correlation the Pearson correlation methode have been use. From the observation from the heat map, `Age` Feature is slightly correlated in a positive direction with the `PRG` feature.\n",
        "+ `M11` Feature slightly positive correlate with `SK` value\n",
        "+ `TS` feature is having a slight positve correlation with `SK`"
      ]
    },
    {
      "cell_type": "markdown",
      "id": "sSU0btmlOIZO",
      "metadata": {
        "id": "sSU0btmlOIZO"
      },
      "source": [
        "### Test Data frame "
      ]
    },
    {
      "cell_type": "code",
      "execution_count": 17,
      "id": "g7-FQCpcORaO",
      "metadata": {
        "colab": {
          "base_uri": "https://localhost:8080/",
          "height": 786
        },
        "id": "g7-FQCpcORaO",
        "outputId": "dfc2e413-323a-4a1f-88dd-bc52fb0df7b8"
      },
      "outputs": [
        {
          "data": {
            "text/plain": [
              "<AxesSubplot:>"
            ]
          },
          "execution_count": 17,
          "metadata": {},
          "output_type": "execute_result"
        },
        {
          "data": {
            "image/png": "[encoded data removed]",
            "text/plain": [
              "<Figure size 1440x1080 with 1 Axes>"
            ]
          },
          "metadata": {},
          "output_type": "display_data"
        }
      ],
      "source": [
        "test_df.plot(kind='box')"
      ]
    },
    {
      "cell_type": "markdown",
      "id": "T6c0MM21heir",
      "metadata": {
        "id": "T6c0MM21heir"
      },
      "source": [
        "## Correlation of test data\n"
      ]
    },
    {
      "cell_type": "code",
      "execution_count": 18,
      "id": "ntDn9jXwhipX",
      "metadata": {
        "colab": {
          "base_uri": "https://localhost:8080/",
          "height": 900
        },
        "id": "ntDn9jXwhipX",
        "outputId": "b0871d28-2e64-457e-cc02-b7bee29cda5f"
      },
      "outputs": [
        {
          "data": {
            "image/png": "[encoded data removed]",
            "text/plain": [
              "<Figure size 1440x1080 with 2 Axes>"
            ]
          },
          "metadata": {},
          "output_type": "display_data"
        }
      ],
      "source": [
        "corr = test_df.corr(method = 'pearson')\n",
        "sns.heatmap(data=corr, cmap='magma', annot = True)\n",
        "plt.title(\"Correlations Among Features\", y = 1.03, fontsize=20,pad=40)\n",
        "plt.show()"
      ]
    },
    {
      "cell_type": "markdown",
      "id": "KK-EOr5CDwHC",
      "metadata": {
        "id": "KK-EOr5CDwHC"
      },
      "source": [
        "For the test data set :\n"
      ]
    },
    {
      "cell_type": "markdown",
      "id": "512f5b86",
      "metadata": {
        "id": "512f5b86"
      },
      "source": [
        "<a id=\"2\"></a>\n",
        "<h1 style=\"color:#ffc0cb;font-size:40px;font-family:Georgia;text-align:center;\"><strong> 🧹 2. Data Cleaning</strong></h1>"
      ]
    },
    {
      "cell_type": "markdown",
      "id": "fe963594",
      "metadata": {
        "id": "fe963594"
      },
      "source": [
        "<a id=\"2.2.1\"></a>\n",
        "## 2.2.1 Drop column\n",
        "***\n",
        "In order to avoid data leakage, the requirement is to drop column `ID`.\n",
        "The `Insurance` columns is also been drop since it is not related to patient's condition."
      ]
    },
    {
      "cell_type": "code",
      "execution_count": 19,
      "id": "61XKOVXAkJJ_",
      "metadata": {
        "colab": {
          "base_uri": "https://localhost:8080/"
        },
        "id": "61XKOVXAkJJ_",
        "outputId": "0b4a21c6-b2df-46c8-d5ac-02579f827c99"
      },
      "outputs": [
        {
          "name": "stdout",
          "output_type": "stream",
          "text": [
            "<class 'pandas.core.frame.DataFrame'>\n",
            "RangeIndex: 599 entries, 0 to 598\n",
            "Data columns (total 11 columns):\n",
            " #   Column     Non-Null Count  Dtype  \n",
            "---  ------     --------------  -----  \n",
            " 0   ID         599 non-null    object \n",
            " 1   PRG        599 non-null    int64  \n",
            " 2   PL         599 non-null    int64  \n",
            " 3   PR         599 non-null    int64  \n",
            " 4   SK         599 non-null    int64  \n",
            " 5   TS         599 non-null    int64  \n",
            " 6   M11        599 non-null    float64\n",
            " 7   BD2        599 non-null    float64\n",
            " 8   Age        599 non-null    int64  \n",
            " 9   Insurance  599 non-null    int64  \n",
            " 10  Sepssis    599 non-null    object \n",
            "dtypes: float64(2), int64(7), object(2)\n",
            "memory usage: 51.6+ KB\n"
          ]
        }
      ],
      "source": [
        "train_df.info()"
      ]
    },
    {
      "cell_type": "markdown",
      "id": "ubX6tHqokTms",
      "metadata": {
        "id": "ubX6tHqokTms"
      },
      "source": [
        "Remove inconsistent white space"
      ]
    },
    {
      "cell_type": "code",
      "execution_count": 20,
      "id": "KIpDYYZnkSVN",
      "metadata": {
        "id": "KIpDYYZnkSVN"
      },
      "outputs": [],
      "source": [
        "def strip_whitespace(df):\n",
        "  #Iterate throught the column field to find white space\n",
        "  for features in df.columns:\n",
        "    #The data type for this dataset is only object\n",
        "    if (df[features].dtype == 'object'):\n",
        "      df[features] = df[features].apply(lambda s:s.strip() )\n",
        "  return df;\n",
        "train_df = strip_whitespace(train_df)\n",
        "test_df = strip_whitespace(test_df)"
      ]
    },
    {
      "cell_type": "markdown",
      "id": "8Aky8uCPEY3m",
      "metadata": {
        "id": "8Aky8uCPEY3m"
      },
      "source": [
        "Check for duplication after remove whitespace"
      ]
    },
    {
      "cell_type": "code",
      "execution_count": 21,
      "id": "C5fm6bwyFhiH",
      "metadata": {
        "colab": {
          "base_uri": "https://localhost:8080/"
        },
        "id": "C5fm6bwyFhiH",
        "outputId": "a29b345c-096d-41d1-d14e-1ca65c5a7288"
      },
      "outputs": [
        {
          "name": "stdout",
          "output_type": "stream",
          "text": [
            "Number of duplicate patient of train dataset:  0\n"
          ]
        }
      ],
      "source": [
        "#Count the number of duplicate ID of train dataset\n",
        "print(\"Number of duplicate patient of train dataset: \",train_df['ID'].duplicated().sum())"
      ]
    },
    {
      "cell_type": "code",
      "execution_count": 22,
      "id": "LsNbFFTDF0Ie",
      "metadata": {
        "colab": {
          "base_uri": "https://localhost:8080/"
        },
        "id": "LsNbFFTDF0Ie",
        "outputId": "b631158b-4839-4442-9d2b-c620a2907aed"
      },
      "outputs": [
        {
          "name": "stdout",
          "output_type": "stream",
          "text": [
            "Number of duplicate patient of test dataset :  0\n"
          ]
        }
      ],
      "source": [
        "#Count the number of duplicate ID of train dataset\n",
        "print(\"Number of duplicate patient of test dataset : \", test_df['ID'].duplicated().sum())"
      ]
    },
    {
      "cell_type": "markdown",
      "id": "hIeu2I0MJikx",
      "metadata": {
        "id": "hIeu2I0MJikx"
      },
      "source": [
        "To makesure, drop dupplicate patients base on ID feature as each patients can only have one unique id"
      ]
    },
    {
      "cell_type": "code",
      "execution_count": 23,
      "id": "ifAE06zFmLtv",
      "metadata": {
        "id": "ifAE06zFmLtv"
      },
      "outputs": [],
      "source": [
        "#De duplicate base on ID\n",
        "train_df.drop_duplicates(subset=['ID'], inplace = True)\n",
        "train_df.drop_duplicates(subset=['ID'], inplace = True)"
      ]
    },
    {
      "cell_type": "markdown",
      "id": "33ZVAJStF_bq",
      "metadata": {
        "id": "33ZVAJStF_bq"
      },
      "source": [
        "Verify after deduplicate"
      ]
    },
    {
      "cell_type": "code",
      "execution_count": 24,
      "id": "rmeApfg9F9_e",
      "metadata": {
        "colab": {
          "base_uri": "https://localhost:8080/"
        },
        "id": "rmeApfg9F9_e",
        "outputId": "7da5d2df-ca2e-42cf-fb58-07b2137bc7da"
      },
      "outputs": [
        {
          "name": "stdout",
          "output_type": "stream",
          "text": [
            "Number of duplicate patient of train dataset 0\n"
          ]
        }
      ],
      "source": [
        "#Count the number of duplicate ID of train dataset\n",
        "print(\"Number of duplicate patient of train dataset\",train_df['ID'].duplicated().sum())"
      ]
    },
    {
      "cell_type": "code",
      "execution_count": 25,
      "id": "xJZVOOrbF-pq",
      "metadata": {
        "colab": {
          "base_uri": "https://localhost:8080/"
        },
        "id": "xJZVOOrbF-pq",
        "outputId": "dc4c4e3d-252e-4483-b8be-8479c05805b9"
      },
      "outputs": [
        {
          "name": "stdout",
          "output_type": "stream",
          "text": [
            "Number of duplicate patient of test dataset 0\n"
          ]
        }
      ],
      "source": [
        "#Count the number of duplicate ID of train dataset\n",
        "print(\"Number of duplicate patient of test dataset\",test_df['ID'].duplicated().sum())"
      ]
    },
    {
      "cell_type": "markdown",
      "id": "08kB9kSOEnHE",
      "metadata": {
        "id": "08kB9kSOEnHE"
      },
      "source": [
        "## Due to the fact that the  `Sepssis` contains a typo, the column name is re adjust"
      ]
    },
    {
      "cell_type": "code",
      "execution_count": 26,
      "id": "O1eMRZWqFDmw",
      "metadata": {
        "id": "O1eMRZWqFDmw"
      },
      "outputs": [],
      "source": [
        "train_df.rename(columns={\"Sepssis\": \"Sepsis\"}, inplace=True)"
      ]
    },
    {
      "cell_type": "code",
      "execution_count": 27,
      "id": "2xbMEMYWFGfZ",
      "metadata": {
        "colab": {
          "base_uri": "https://localhost:8080/",
          "height": 423
        },
        "id": "2xbMEMYWFGfZ",
        "outputId": "e145b404-66af-4613-e5fe-8ee8c701fd17"
      },
      "outputs": [
        {
          "data": {
            "text/html": [
              "<div>\n",
              "<style scoped>\n",
              "    .dataframe tbody tr th:only-of-type {\n",
              "        vertical-align: middle;\n",
              "    }\n",
              "\n",
              "    .dataframe tbody tr th {\n",
              "        vertical-align: top;\n",
              "    }\n",
              "\n",
              "    .dataframe thead th {\n",
              "        text-align: right;\n",
              "    }\n",
              "</style>\n",
              "<table border=\"1\" class=\"dataframe\">\n",
              "  <thead>\n",
              "    <tr style=\"text-align: right;\">\n",
              "      <th></th>\n",
              "      <th>ID</th>\n",
              "      <th>PRG</th>\n",
              "      <th>PL</th>\n",
              "      <th>PR</th>\n",
              "      <th>SK</th>\n",
              "      <th>TS</th>\n",
              "      <th>M11</th>\n",
              "      <th>BD2</th>\n",
              "      <th>Age</th>\n",
              "      <th>Insurance</th>\n",
              "      <th>Sepsis</th>\n",
              "    </tr>\n",
              "  </thead>\n",
              "  <tbody>\n",
              "    <tr>\n",
              "      <th>0</th>\n",
              "      <td>ICU200010</td>\n",
              "      <td>6</td>\n",
              "      <td>148</td>\n",
              "      <td>72</td>\n",
              "      <td>35</td>\n",
              "      <td>0</td>\n",
              "      <td>33.6</td>\n",
              "      <td>0.627</td>\n",
              "      <td>50</td>\n",
              "      <td>0</td>\n",
              "      <td>Positive</td>\n",
              "    </tr>\n",
              "    <tr>\n",
              "      <th>1</th>\n",
              "      <td>ICU200011</td>\n",
              "      <td>1</td>\n",
              "      <td>85</td>\n",
              "      <td>66</td>\n",
              "      <td>29</td>\n",
              "      <td>0</td>\n",
              "      <td>26.6</td>\n",
              "      <td>0.351</td>\n",
              "      <td>31</td>\n",
              "      <td>0</td>\n",
              "      <td>Negative</td>\n",
              "    </tr>\n",
              "    <tr>\n",
              "      <th>2</th>\n",
              "      <td>ICU200012</td>\n",
              "      <td>8</td>\n",
              "      <td>183</td>\n",
              "      <td>64</td>\n",
              "      <td>0</td>\n",
              "      <td>0</td>\n",
              "      <td>23.3</td>\n",
              "      <td>0.672</td>\n",
              "      <td>32</td>\n",
              "      <td>1</td>\n",
              "      <td>Positive</td>\n",
              "    </tr>\n",
              "    <tr>\n",
              "      <th>3</th>\n",
              "      <td>ICU200013</td>\n",
              "      <td>1</td>\n",
              "      <td>89</td>\n",
              "      <td>66</td>\n",
              "      <td>23</td>\n",
              "      <td>94</td>\n",
              "      <td>28.1</td>\n",
              "      <td>0.167</td>\n",
              "      <td>21</td>\n",
              "      <td>1</td>\n",
              "      <td>Negative</td>\n",
              "    </tr>\n",
              "    <tr>\n",
              "      <th>4</th>\n",
              "      <td>ICU200014</td>\n",
              "      <td>0</td>\n",
              "      <td>137</td>\n",
              "      <td>40</td>\n",
              "      <td>35</td>\n",
              "      <td>168</td>\n",
              "      <td>43.1</td>\n",
              "      <td>2.288</td>\n",
              "      <td>33</td>\n",
              "      <td>1</td>\n",
              "      <td>Positive</td>\n",
              "    </tr>\n",
              "    <tr>\n",
              "      <th>...</th>\n",
              "      <td>...</td>\n",
              "      <td>...</td>\n",
              "      <td>...</td>\n",
              "      <td>...</td>\n",
              "      <td>...</td>\n",
              "      <td>...</td>\n",
              "      <td>...</td>\n",
              "      <td>...</td>\n",
              "      <td>...</td>\n",
              "      <td>...</td>\n",
              "      <td>...</td>\n",
              "    </tr>\n",
              "    <tr>\n",
              "      <th>594</th>\n",
              "      <td>ICU200604</td>\n",
              "      <td>6</td>\n",
              "      <td>123</td>\n",
              "      <td>72</td>\n",
              "      <td>45</td>\n",
              "      <td>230</td>\n",
              "      <td>33.6</td>\n",
              "      <td>0.733</td>\n",
              "      <td>34</td>\n",
              "      <td>0</td>\n",
              "      <td>Negative</td>\n",
              "    </tr>\n",
              "    <tr>\n",
              "      <th>595</th>\n",
              "      <td>ICU200605</td>\n",
              "      <td>0</td>\n",
              "      <td>188</td>\n",
              "      <td>82</td>\n",
              "      <td>14</td>\n",
              "      <td>185</td>\n",
              "      <td>32.0</td>\n",
              "      <td>0.682</td>\n",
              "      <td>22</td>\n",
              "      <td>1</td>\n",
              "      <td>Positive</td>\n",
              "    </tr>\n",
              "    <tr>\n",
              "      <th>596</th>\n",
              "      <td>ICU200606</td>\n",
              "      <td>0</td>\n",
              "      <td>67</td>\n",
              "      <td>76</td>\n",
              "      <td>0</td>\n",
              "      <td>0</td>\n",
              "      <td>45.3</td>\n",
              "      <td>0.194</td>\n",
              "      <td>46</td>\n",
              "      <td>1</td>\n",
              "      <td>Negative</td>\n",
              "    </tr>\n",
              "    <tr>\n",
              "      <th>597</th>\n",
              "      <td>ICU200607</td>\n",
              "      <td>1</td>\n",
              "      <td>89</td>\n",
              "      <td>24</td>\n",
              "      <td>19</td>\n",
              "      <td>25</td>\n",
              "      <td>27.8</td>\n",
              "      <td>0.559</td>\n",
              "      <td>21</td>\n",
              "      <td>0</td>\n",
              "      <td>Negative</td>\n",
              "    </tr>\n",
              "    <tr>\n",
              "      <th>598</th>\n",
              "      <td>ICU200608</td>\n",
              "      <td>1</td>\n",
              "      <td>173</td>\n",
              "      <td>74</td>\n",
              "      <td>0</td>\n",
              "      <td>0</td>\n",
              "      <td>36.8</td>\n",
              "      <td>0.088</td>\n",
              "      <td>38</td>\n",
              "      <td>1</td>\n",
              "      <td>Positive</td>\n",
              "    </tr>\n",
              "  </tbody>\n",
              "</table>\n",
              "<p>599 rows × 11 columns</p>\n",
              "</div>"
            ],
            "text/plain": [
              "            ID  PRG   PL  PR  SK   TS   M11    BD2  Age  Insurance    Sepsis\n",
              "0    ICU200010    6  148  72  35    0  33.6  0.627   50          0  Positive\n",
              "1    ICU200011    1   85  66  29    0  26.6  0.351   31          0  Negative\n",
              "2    ICU200012    8  183  64   0    0  23.3  0.672   32          1  Positive\n",
              "3    ICU200013    1   89  66  23   94  28.1  0.167   21          1  Negative\n",
              "4    ICU200014    0  137  40  35  168  43.1  2.288   33          1  Positive\n",
              "..         ...  ...  ...  ..  ..  ...   ...    ...  ...        ...       ...\n",
              "594  ICU200604    6  123  72  45  230  33.6  0.733   34          0  Negative\n",
              "595  ICU200605    0  188  82  14  185  32.0  0.682   22          1  Positive\n",
              "596  ICU200606    0   67  76   0    0  45.3  0.194   46          1  Negative\n",
              "597  ICU200607    1   89  24  19   25  27.8  0.559   21          0  Negative\n",
              "598  ICU200608    1  173  74   0    0  36.8  0.088   38          1  Positive\n",
              "\n",
              "[599 rows x 11 columns]"
            ]
          },
          "execution_count": 27,
          "metadata": {},
          "output_type": "execute_result"
        }
      ],
      "source": [
        "train_df"
      ]
    },
    {
      "cell_type": "markdown",
      "id": "eeNAT3dknLcO",
      "metadata": {
        "id": "eeNAT3dknLcO"
      },
      "source": [
        "## Check for null value in the dataframe"
      ]
    },
    {
      "cell_type": "code",
      "execution_count": 28,
      "id": "OEgTF0EBnLIZ",
      "metadata": {
        "colab": {
          "base_uri": "https://localhost:8080/"
        },
        "id": "OEgTF0EBnLIZ",
        "outputId": "620eabbb-35ef-4211-e3e3-b25312b85133"
      },
      "outputs": [
        {
          "name": "stdout",
          "output_type": "stream",
          "text": [
            "ID           0.0\n",
            "PRG          0.0\n",
            "PL           0.0\n",
            "PR           0.0\n",
            "SK           0.0\n",
            "TS           0.0\n",
            "M11          0.0\n",
            "BD2          0.0\n",
            "Age          0.0\n",
            "Insurance    0.0\n",
            "Sepsis       0.0\n",
            "dtype: float64\n"
          ]
        }
      ],
      "source": [
        "def percentMissing(df) :\n",
        "  percent_missing = df.isnull().sum() * 100 / len(df)\n",
        "  print(percent_missing)\n",
        "\n",
        "#As can be seen the dataset is clean and contains no null value which is greate\n",
        "percentMissing(train_df)"
      ]
    },
    {
      "cell_type": "code",
      "execution_count": 29,
      "id": "T0nepyn0naJH",
      "metadata": {
        "colab": {
          "base_uri": "https://localhost:8080/"
        },
        "id": "T0nepyn0naJH",
        "outputId": "eff95eb2-303a-4905-ec1e-530d830a713d"
      },
      "outputs": [
        {
          "name": "stdout",
          "output_type": "stream",
          "text": [
            "ID           0.0\n",
            "PRG          0.0\n",
            "PL           0.0\n",
            "PR           0.0\n",
            "SK           0.0\n",
            "TS           0.0\n",
            "M11          0.0\n",
            "BD2          0.0\n",
            "Age          0.0\n",
            "Insurance    0.0\n",
            "dtype: float64\n"
          ]
        }
      ],
      "source": [
        "percentMissing(test_df)"
      ]
    },
    {
      "cell_type": "markdown",
      "id": "11240003",
      "metadata": {},
      "source": [
        "## Check zero"
      ]
    },
    {
      "cell_type": "markdown",
      "id": "Sd7VWvzUHZy2",
      "metadata": {
        "id": "Sd7VWvzUHZy2"
      },
      "source": [
        "Due to the fact that the biochemical indicator of a patients cannot be zero (src)[], therefore the features that have a 0 as a value are identify as missing value"
      ]
    },
    {
      "cell_type": "code",
      "execution_count": 30,
      "id": "EdaJJTS4Hjhg",
      "metadata": {
        "id": "EdaJJTS4Hjhg"
      },
      "outputs": [],
      "source": [
        "#The number of missing valu fills as 0 is\n",
        "def countZeros(df,name_of_df) :\n",
        "  print(\"---Number of zero value of \" + name_of_df + \"---\")\n",
        "  for column_name in df.columns:\n",
        "      column = df[column_name]\n",
        "      # Get the count of Zeros in column \n",
        "      count = (column == 0).sum()\n",
        "      print(column_name, ': ', count)\n"
      ]
    },
    {
      "cell_type": "code",
      "execution_count": 31,
      "id": "hQP1j9-JHmcs",
      "metadata": {
        "colab": {
          "base_uri": "https://localhost:8080/"
        },
        "id": "hQP1j9-JHmcs",
        "outputId": "67c74d04-6d82-4b0a-e21c-b2b11c926deb"
      },
      "outputs": [
        {
          "name": "stdout",
          "output_type": "stream",
          "text": [
            "---Number of zero value of Train dataset---\n",
            "ID :  0\n",
            "PRG :  18\n",
            "PL :  0\n",
            "PR :  7\n",
            "SK :  52\n",
            "TS :  85\n",
            "M11 :  2\n",
            "BD2 :  0\n",
            "Age :  0\n",
            "Insurance :  46\n"
          ]
        }
      ],
      "source": [
        "#Count of train df\n",
        "countZeros(test_df,\"Train dataset\")"
      ]
    },
    {
      "cell_type": "code",
      "execution_count": 32,
      "id": "H5U7dA66Hs68",
      "metadata": {
        "colab": {
          "base_uri": "https://localhost:8080/"
        },
        "id": "H5U7dA66Hs68",
        "outputId": "c5118c8b-812b-4959-a379-f86e7fb0d7b6"
      },
      "outputs": [
        {
          "name": "stdout",
          "output_type": "stream",
          "text": [
            "---Number of zero value of Test dataset---\n",
            "ID :  0\n",
            "PRG :  18\n",
            "PL :  0\n",
            "PR :  7\n",
            "SK :  52\n",
            "TS :  85\n",
            "M11 :  2\n",
            "BD2 :  0\n",
            "Age :  0\n",
            "Insurance :  46\n"
          ]
        }
      ],
      "source": [
        "countZeros(test_df,\"Test dataset\")"
      ]
    },
    {
      "cell_type": "markdown",
      "id": "b7771d3f",
      "metadata": {},
      "source": [
        "## Handle missing value"
      ]
    },
    {
      "cell_type": "markdown",
      "id": "PvaCOWKoJw21",
      "metadata": {
        "id": "PvaCOWKoJw21"
      },
      "source": [
        "To handle missing value we impute the collumn with mean and median value except for `TS`, `PRG`, `M11` as we could build a linear regression model to handle missing value for these."
      ]
    },
    {
      "cell_type": "code",
      "execution_count": 33,
      "id": "3B8UGC6LSO26",
      "metadata": {
        "colab": {
          "base_uri": "https://localhost:8080/"
        },
        "id": "3B8UGC6LSO26",
        "outputId": "df564598-b63f-4587-8482-6520a553a1eb"
      },
      "outputs": [
        {
          "name": "stdout",
          "output_type": "stream",
          "text": [
            "PL\n",
            "PR\n",
            "SK\n",
            "BD2\n",
            "Age\n",
            "Insurance\n",
            "PL\n",
            "PR\n",
            "SK\n",
            "BD2\n",
            "Age\n",
            "Insurance\n"
          ]
        }
      ],
      "source": [
        "def fill_median(input_df) :\n",
        "  df = input_df.copy() #Create a discreate copy of the dataframe\n",
        "  \n",
        "  avoid_list = ['PRG', 'M11', 'TS']\n",
        "  for column in df.columns:\n",
        "    if(((column in avoid_list) == False) and (df[column].dtype != \"object\")):\n",
        "      print(column)\n",
        "      df[column] = df[column].replace(0,df[column].median())\n",
        "\n",
        "  return df\n",
        "process_train_df = fill_median(train_df)\n",
        "process_test_df = fill_median(test_df)"
      ]
    },
    {
      "cell_type": "code",
      "execution_count": 34,
      "id": "sRljc6NEMpNc",
      "metadata": {
        "colab": {
          "base_uri": "https://localhost:8080/"
        },
        "id": "sRljc6NEMpNc",
        "outputId": "75c56159-44fa-43fc-810d-0c3b477f2b47"
      },
      "outputs": [
        {
          "name": "stdout",
          "output_type": "stream",
          "text": [
            "---Number of zero value of ---\n",
            "ID :  0\n",
            "PRG :  93\n",
            "PL :  0\n",
            "PR :  0\n",
            "SK :  0\n",
            "TS :  289\n",
            "M11 :  9\n",
            "BD2 :  0\n",
            "Age :  0\n",
            "Insurance :  0\n",
            "Sepsis :  0\n"
          ]
        }
      ],
      "source": [
        "countZeros(process_train_df,\"\")"
      ]
    },
    {
      "cell_type": "code",
      "execution_count": 35,
      "id": "oU_yT9L2MpKb",
      "metadata": {
        "colab": {
          "base_uri": "https://localhost:8080/"
        },
        "id": "oU_yT9L2MpKb",
        "outputId": "1b512317-1bae-488e-9bfc-071e3448f603"
      },
      "outputs": [
        {
          "name": "stdout",
          "output_type": "stream",
          "text": [
            "---Number of zero value of ---\n",
            "ID :  0\n",
            "PRG :  18\n",
            "PL :  0\n",
            "PR :  0\n",
            "SK :  0\n",
            "TS :  85\n",
            "M11 :  2\n",
            "BD2 :  0\n",
            "Age :  0\n",
            "Insurance :  0\n"
          ]
        }
      ],
      "source": [
        "countZeros(process_test_df,\"\")"
      ]
    },
    {
      "cell_type": "markdown",
      "id": "CPckDoLeozCd",
      "metadata": {
        "id": "CPckDoLeozCd"
      },
      "source": [
        "Due to the fact that Sepsis column is a object string data type, it might contains mispelling as well as case inconsistancy. Therefore we need to convert all of the case in to lower case as well as checking for any typos "
      ]
    },
    {
      "cell_type": "markdown",
      "id": "aa00715c",
      "metadata": {},
      "source": [
        "## Drop Collumn"
      ]
    },
    {
      "cell_type": "code",
      "execution_count": 36,
      "id": "382d4a28",
      "metadata": {},
      "outputs": [],
      "source": [
        "#Define a util function to drop columns for both data set\n",
        "def dropCols (input_df, dropList) :\n",
        "  input_df.drop(columns = dropList, inplace = True);\n",
        "  return input_df\n",
        "\n",
        "dropList=['ID', 'Insurance']\n",
        "process_train_df = dropCols(process_train_df,dropList)\n",
        "test_df = dropCols(test_df,dropList)"
      ]
    },
    {
      "cell_type": "markdown",
      "id": "bxlAnRyEts7f",
      "metadata": {
        "id": "bxlAnRyEts7f"
      },
      "source": [
        "### Convert value in sepsis column to lowercase"
      ]
    },
    {
      "cell_type": "markdown",
      "id": "ermx2qsiGH-N",
      "metadata": {
        "id": "ermx2qsiGH-N"
      },
      "source": [
        "Count the unique value of Sepsis column"
      ]
    },
    {
      "cell_type": "code",
      "execution_count": 37,
      "id": "pIyOUakBGG5r",
      "metadata": {
        "colab": {
          "base_uri": "https://localhost:8080/"
        },
        "id": "pIyOUakBGG5r",
        "outputId": "7a6f5468-e527-4ef1-cf6d-24cb29fa2d44"
      },
      "outputs": [
        {
          "name": "stdout",
          "output_type": "stream",
          "text": [
            "Number of categorical column in the train datset  Negative    391\n",
            "Positive    208\n",
            "Name: Sepsis, dtype: int64\n"
          ]
        }
      ],
      "source": [
        "print(\"Number of categorical column in the train datset \",process_train_df['Sepsis'].value_counts())"
      ]
    },
    {
      "cell_type": "code",
      "execution_count": 38,
      "id": "eaecfe6c",
      "metadata": {},
      "outputs": [],
      "source": [
        "process_train_df['Sepsis']= process_train_df['Sepsis'].map(lambda s:s.lower() if type(s) == str else s)"
      ]
    },
    {
      "cell_type": "code",
      "execution_count": 39,
      "id": "DIt0sosBJqz4",
      "metadata": {
        "colab": {
          "base_uri": "https://localhost:8080/",
          "height": 363
        },
        "id": "DIt0sosBJqz4",
        "outputId": "5b5aa5ee-d0fc-4b1f-c31c-eb34904d7361"
      },
      "outputs": [
        {
          "data": {
            "text/html": [
              "<div>\n",
              "<style scoped>\n",
              "    .dataframe tbody tr th:only-of-type {\n",
              "        vertical-align: middle;\n",
              "    }\n",
              "\n",
              "    .dataframe tbody tr th {\n",
              "        vertical-align: top;\n",
              "    }\n",
              "\n",
              "    .dataframe thead th {\n",
              "        text-align: right;\n",
              "    }\n",
              "</style>\n",
              "<table border=\"1\" class=\"dataframe\">\n",
              "  <thead>\n",
              "    <tr style=\"text-align: right;\">\n",
              "      <th></th>\n",
              "      <th>PRG</th>\n",
              "      <th>PL</th>\n",
              "      <th>PR</th>\n",
              "      <th>SK</th>\n",
              "      <th>TS</th>\n",
              "      <th>M11</th>\n",
              "      <th>BD2</th>\n",
              "      <th>Age</th>\n",
              "      <th>Sepsis</th>\n",
              "    </tr>\n",
              "  </thead>\n",
              "  <tbody>\n",
              "    <tr>\n",
              "      <th>589</th>\n",
              "      <td>0</td>\n",
              "      <td>73</td>\n",
              "      <td>70</td>\n",
              "      <td>23</td>\n",
              "      <td>0</td>\n",
              "      <td>21.1</td>\n",
              "      <td>0.342</td>\n",
              "      <td>25</td>\n",
              "      <td>negative</td>\n",
              "    </tr>\n",
              "    <tr>\n",
              "      <th>590</th>\n",
              "      <td>11</td>\n",
              "      <td>111</td>\n",
              "      <td>84</td>\n",
              "      <td>40</td>\n",
              "      <td>0</td>\n",
              "      <td>46.8</td>\n",
              "      <td>0.925</td>\n",
              "      <td>45</td>\n",
              "      <td>positive</td>\n",
              "    </tr>\n",
              "    <tr>\n",
              "      <th>591</th>\n",
              "      <td>2</td>\n",
              "      <td>112</td>\n",
              "      <td>78</td>\n",
              "      <td>50</td>\n",
              "      <td>140</td>\n",
              "      <td>39.4</td>\n",
              "      <td>0.175</td>\n",
              "      <td>24</td>\n",
              "      <td>negative</td>\n",
              "    </tr>\n",
              "    <tr>\n",
              "      <th>592</th>\n",
              "      <td>3</td>\n",
              "      <td>132</td>\n",
              "      <td>80</td>\n",
              "      <td>23</td>\n",
              "      <td>0</td>\n",
              "      <td>34.4</td>\n",
              "      <td>0.402</td>\n",
              "      <td>44</td>\n",
              "      <td>positive</td>\n",
              "    </tr>\n",
              "    <tr>\n",
              "      <th>593</th>\n",
              "      <td>2</td>\n",
              "      <td>82</td>\n",
              "      <td>52</td>\n",
              "      <td>22</td>\n",
              "      <td>115</td>\n",
              "      <td>28.5</td>\n",
              "      <td>1.699</td>\n",
              "      <td>25</td>\n",
              "      <td>negative</td>\n",
              "    </tr>\n",
              "    <tr>\n",
              "      <th>594</th>\n",
              "      <td>6</td>\n",
              "      <td>123</td>\n",
              "      <td>72</td>\n",
              "      <td>45</td>\n",
              "      <td>230</td>\n",
              "      <td>33.6</td>\n",
              "      <td>0.733</td>\n",
              "      <td>34</td>\n",
              "      <td>negative</td>\n",
              "    </tr>\n",
              "    <tr>\n",
              "      <th>595</th>\n",
              "      <td>0</td>\n",
              "      <td>188</td>\n",
              "      <td>82</td>\n",
              "      <td>14</td>\n",
              "      <td>185</td>\n",
              "      <td>32.0</td>\n",
              "      <td>0.682</td>\n",
              "      <td>22</td>\n",
              "      <td>positive</td>\n",
              "    </tr>\n",
              "    <tr>\n",
              "      <th>596</th>\n",
              "      <td>0</td>\n",
              "      <td>67</td>\n",
              "      <td>76</td>\n",
              "      <td>23</td>\n",
              "      <td>0</td>\n",
              "      <td>45.3</td>\n",
              "      <td>0.194</td>\n",
              "      <td>46</td>\n",
              "      <td>negative</td>\n",
              "    </tr>\n",
              "    <tr>\n",
              "      <th>597</th>\n",
              "      <td>1</td>\n",
              "      <td>89</td>\n",
              "      <td>24</td>\n",
              "      <td>19</td>\n",
              "      <td>25</td>\n",
              "      <td>27.8</td>\n",
              "      <td>0.559</td>\n",
              "      <td>21</td>\n",
              "      <td>negative</td>\n",
              "    </tr>\n",
              "    <tr>\n",
              "      <th>598</th>\n",
              "      <td>1</td>\n",
              "      <td>173</td>\n",
              "      <td>74</td>\n",
              "      <td>23</td>\n",
              "      <td>0</td>\n",
              "      <td>36.8</td>\n",
              "      <td>0.088</td>\n",
              "      <td>38</td>\n",
              "      <td>positive</td>\n",
              "    </tr>\n",
              "  </tbody>\n",
              "</table>\n",
              "</div>"
            ],
            "text/plain": [
              "     PRG   PL  PR  SK   TS   M11    BD2  Age    Sepsis\n",
              "589    0   73  70  23    0  21.1  0.342   25  negative\n",
              "590   11  111  84  40    0  46.8  0.925   45  positive\n",
              "591    2  112  78  50  140  39.4  0.175   24  negative\n",
              "592    3  132  80  23    0  34.4  0.402   44  positive\n",
              "593    2   82  52  22  115  28.5  1.699   25  negative\n",
              "594    6  123  72  45  230  33.6  0.733   34  negative\n",
              "595    0  188  82  14  185  32.0  0.682   22  positive\n",
              "596    0   67  76  23    0  45.3  0.194   46  negative\n",
              "597    1   89  24  19   25  27.8  0.559   21  negative\n",
              "598    1  173  74  23    0  36.8  0.088   38  positive"
            ]
          },
          "execution_count": 39,
          "metadata": {},
          "output_type": "execute_result"
        }
      ],
      "source": [
        "process_train_df.tail(10)"
      ]
    },
    {
      "cell_type": "markdown",
      "id": "5-hsy9cjt8Db",
      "metadata": {
        "id": "5-hsy9cjt8Db"
      },
      "source": [
        "### Correct typo in `Sepsis` column value"
      ]
    },
    {
      "cell_type": "code",
      "execution_count": 40,
      "id": "s2iMAfoHphh-",
      "metadata": {
        "colab": {
          "base_uri": "https://localhost:8080/"
        },
        "id": "s2iMAfoHphh-",
        "outputId": "38567ca2-773d-4ec9-8d28-d3a23a9072db"
      },
      "outputs": [
        {
          "name": "stdout",
          "output_type": "stream",
          "text": [
            "Requirement already satisfied: autocorrect in /Users/nhatbuiminh/opt/anaconda3/envs/ProjectNew/lib/python3.10/site-packages (2.6.1)\n"
          ]
        }
      ],
      "source": [
        "!pip install autocorrect\n",
        "from autocorrect import spell"
      ]
    },
    {
      "cell_type": "code",
      "execution_count": 41,
      "id": "NPT4huAbqo7F",
      "metadata": {
        "colab": {
          "base_uri": "https://localhost:8080/"
        },
        "id": "NPT4huAbqo7F",
        "outputId": "fca2647f-e0c8-49c1-e87d-440e847194e4"
      },
      "outputs": [
        {
          "name": "stdout",
          "output_type": "stream",
          "text": [
            "autocorrect.spell is deprecated,             use autocorrect.Speller instead\n",
            "autocorrect.spell is deprecated,             use autocorrect.Speller instead\n",
            "autocorrect.spell is deprecated,             use autocorrect.Speller instead\n",
            "autocorrect.spell is deprecated,             use autocorrect.Speller instead\n",
            "autocorrect.spell is deprecated,             use autocorrect.Speller instead\n",
            "autocorrect.spell is deprecated,             use autocorrect.Speller instead\n",
            "autocorrect.spell is deprecated,             use autocorrect.Speller instead\n",
            "autocorrect.spell is deprecated,             use autocorrect.Speller instead\n",
            "autocorrect.spell is deprecated,             use autocorrect.Speller instead\n",
            "autocorrect.spell is deprecated,             use autocorrect.Speller instead\n",
            "autocorrect.spell is deprecated,             use autocorrect.Speller instead\n",
            "autocorrect.spell is deprecated,             use autocorrect.Speller instead\n",
            "autocorrect.spell is deprecated,             use autocorrect.Speller instead\n",
            "autocorrect.spell is deprecated,             use autocorrect.Speller instead\n",
            "autocorrect.spell is deprecated,             use autocorrect.Speller instead\n",
            "autocorrect.spell is deprecated,             use autocorrect.Speller instead\n",
            "autocorrect.spell is deprecated,             use autocorrect.Speller instead\n",
            "autocorrect.spell is deprecated,             use autocorrect.Speller instead\n",
            "autocorrect.spell is deprecated,             use autocorrect.Speller instead\n",
            "autocorrect.spell is deprecated,             use autocorrect.Speller instead\n",
            "autocorrect.spell is deprecated,             use autocorrect.Speller instead\n",
            "autocorrect.spell is deprecated,             use autocorrect.Speller instead\n",
            "autocorrect.spell is deprecated,             use autocorrect.Speller instead\n",
            "autocorrect.spell is deprecated,             use autocorrect.Speller instead\n",
            "autocorrect.spell is deprecated,             use autocorrect.Speller instead\n",
            "autocorrect.spell is deprecated,             use autocorrect.Speller instead\n",
            "autocorrect.spell is deprecated,             use autocorrect.Speller instead\n",
            "autocorrect.spell is deprecated,             use autocorrect.Speller instead\n",
            "autocorrect.spell is deprecated,             use autocorrect.Speller instead\n",
            "autocorrect.spell is deprecated,             use autocorrect.Speller instead\n",
            "autocorrect.spell is deprecated,             use autocorrect.Speller instead\n",
            "autocorrect.spell is deprecated,             use autocorrect.Speller instead\n",
            "autocorrect.spell is deprecated,             use autocorrect.Speller instead\n",
            "autocorrect.spell is deprecated,             use autocorrect.Speller instead\n",
            "autocorrect.spell is deprecated,             use autocorrect.Speller instead\n",
            "autocorrect.spell is deprecated,             use autocorrect.Speller instead\n",
            "autocorrect.spell is deprecated,             use autocorrect.Speller instead\n",
            "autocorrect.spell is deprecated,             use autocorrect.Speller instead\n",
            "autocorrect.spell is deprecated,             use autocorrect.Speller instead\n",
            "autocorrect.spell is deprecated,             use autocorrect.Speller instead\n",
            "autocorrect.spell is deprecated,             use autocorrect.Speller instead\n",
            "autocorrect.spell is deprecated,             use autocorrect.Speller instead\n",
            "autocorrect.spell is deprecated,             use autocorrect.Speller instead\n",
            "autocorrect.spell is deprecated,             use autocorrect.Speller instead\n",
            "autocorrect.spell is deprecated,             use autocorrect.Speller instead\n",
            "autocorrect.spell is deprecated,             use autocorrect.Speller instead\n",
            "autocorrect.spell is deprecated,             use autocorrect.Speller instead\n",
            "autocorrect.spell is deprecated,             use autocorrect.Speller instead\n",
            "autocorrect.spell is deprecated,             use autocorrect.Speller instead\n",
            "autocorrect.spell is deprecated,             use autocorrect.Speller instead\n",
            "autocorrect.spell is deprecated,             use autocorrect.Speller instead\n",
            "autocorrect.spell is deprecated,             use autocorrect.Speller instead\n",
            "autocorrect.spell is deprecated,             use autocorrect.Speller instead\n",
            "autocorrect.spell is deprecated,             use autocorrect.Speller instead\n",
            "autocorrect.spell is deprecated,             use autocorrect.Speller instead\n",
            "autocorrect.spell is deprecated,             use autocorrect.Speller instead\n",
            "autocorrect.spell is deprecated,             use autocorrect.Speller instead\n",
            "autocorrect.spell is deprecated,             use autocorrect.Speller instead\n",
            "autocorrect.spell is deprecated,             use autocorrect.Speller instead\n",
            "autocorrect.spell is deprecated,             use autocorrect.Speller instead\n",
            "autocorrect.spell is deprecated,             use autocorrect.Speller instead\n",
            "autocorrect.spell is deprecated,             use autocorrect.Speller instead\n",
            "autocorrect.spell is deprecated,             use autocorrect.Speller instead\n",
            "autocorrect.spell is deprecated,             use autocorrect.Speller instead\n",
            "autocorrect.spell is deprecated,             use autocorrect.Speller instead\n",
            "autocorrect.spell is deprecated,             use autocorrect.Speller instead\n",
            "autocorrect.spell is deprecated,             use autocorrect.Speller instead\n",
            "autocorrect.spell is deprecated,             use autocorrect.Speller instead\n",
            "autocorrect.spell is deprecated,             use autocorrect.Speller instead\n",
            "autocorrect.spell is deprecated,             use autocorrect.Speller instead\n",
            "autocorrect.spell is deprecated,             use autocorrect.Speller instead\n",
            "autocorrect.spell is deprecated,             use autocorrect.Speller instead\n",
            "autocorrect.spell is deprecated,             use autocorrect.Speller instead\n",
            "autocorrect.spell is deprecated,             use autocorrect.Speller instead\n",
            "autocorrect.spell is deprecated,             use autocorrect.Speller instead\n",
            "autocorrect.spell is deprecated,             use autocorrect.Speller instead\n",
            "autocorrect.spell is deprecated,             use autocorrect.Speller instead\n",
            "autocorrect.spell is deprecated,             use autocorrect.Speller instead\n",
            "autocorrect.spell is deprecated,             use autocorrect.Speller instead\n",
            "autocorrect.spell is deprecated,             use autocorrect.Speller instead\n",
            "autocorrect.spell is deprecated,             use autocorrect.Speller instead\n",
            "autocorrect.spell is deprecated,             use autocorrect.Speller instead\n",
            "autocorrect.spell is deprecated,             use autocorrect.Speller instead\n",
            "autocorrect.spell is deprecated,             use autocorrect.Speller instead\n",
            "autocorrect.spell is deprecated,             use autocorrect.Speller instead\n",
            "autocorrect.spell is deprecated,             use autocorrect.Speller instead\n",
            "autocorrect.spell is deprecated,             use autocorrect.Speller instead\n",
            "autocorrect.spell is deprecated,             use autocorrect.Speller instead\n",
            "autocorrect.spell is deprecated,             use autocorrect.Speller instead\n",
            "autocorrect.spell is deprecated,             use autocorrect.Speller instead\n",
            "autocorrect.spell is deprecated,             use autocorrect.Speller instead\n",
            "autocorrect.spell is deprecated,             use autocorrect.Speller instead\n",
            "autocorrect.spell is deprecated,             use autocorrect.Speller instead\n",
            "autocorrect.spell is deprecated,             use autocorrect.Speller instead\n",
            "autocorrect.spell is deprecated,             use autocorrect.Speller instead\n",
            "autocorrect.spell is deprecated,             use autocorrect.Speller instead\n",
            "autocorrect.spell is deprecated,             use autocorrect.Speller instead\n",
            "autocorrect.spell is deprecated,             use autocorrect.Speller instead\n",
            "autocorrect.spell is deprecated,             use autocorrect.Speller instead\n",
            "autocorrect.spell is deprecated,             use autocorrect.Speller instead\n",
            "autocorrect.spell is deprecated,             use autocorrect.Speller instead\n",
            "autocorrect.spell is deprecated,             use autocorrect.Speller instead\n",
            "autocorrect.spell is deprecated,             use autocorrect.Speller instead\n",
            "autocorrect.spell is deprecated,             use autocorrect.Speller instead\n",
            "autocorrect.spell is deprecated,             use autocorrect.Speller instead\n",
            "autocorrect.spell is deprecated,             use autocorrect.Speller instead\n",
            "autocorrect.spell is deprecated,             use autocorrect.Speller instead\n",
            "autocorrect.spell is deprecated,             use autocorrect.Speller instead\n",
            "autocorrect.spell is deprecated,             use autocorrect.Speller instead\n",
            "autocorrect.spell is deprecated,             use autocorrect.Speller instead\n",
            "autocorrect.spell is deprecated,             use autocorrect.Speller instead\n",
            "autocorrect.spell is deprecated,             use autocorrect.Speller instead\n",
            "autocorrect.spell is deprecated,             use autocorrect.Speller instead\n",
            "autocorrect.spell is deprecated,             use autocorrect.Speller instead\n",
            "autocorrect.spell is deprecated,             use autocorrect.Speller instead\n",
            "autocorrect.spell is deprecated,             use autocorrect.Speller instead\n",
            "autocorrect.spell is deprecated,             use autocorrect.Speller instead\n",
            "autocorrect.spell is deprecated,             use autocorrect.Speller instead\n",
            "autocorrect.spell is deprecated,             use autocorrect.Speller instead\n",
            "autocorrect.spell is deprecated,             use autocorrect.Speller instead\n",
            "autocorrect.spell is deprecated,             use autocorrect.Speller instead\n",
            "autocorrect.spell is deprecated,             use autocorrect.Speller instead\n",
            "autocorrect.spell is deprecated,             use autocorrect.Speller instead\n",
            "autocorrect.spell is deprecated,             use autocorrect.Speller instead\n",
            "autocorrect.spell is deprecated,             use autocorrect.Speller instead\n",
            "autocorrect.spell is deprecated,             use autocorrect.Speller instead\n",
            "autocorrect.spell is deprecated,             use autocorrect.Speller instead\n",
            "autocorrect.spell is deprecated,             use autocorrect.Speller instead\n",
            "autocorrect.spell is deprecated,             use autocorrect.Speller instead\n",
            "autocorrect.spell is deprecated,             use autocorrect.Speller instead\n",
            "autocorrect.spell is deprecated,             use autocorrect.Speller instead\n",
            "autocorrect.spell is deprecated,             use autocorrect.Speller instead\n",
            "autocorrect.spell is deprecated,             use autocorrect.Speller instead\n",
            "autocorrect.spell is deprecated,             use autocorrect.Speller instead\n",
            "autocorrect.spell is deprecated,             use autocorrect.Speller instead\n",
            "autocorrect.spell is deprecated,             use autocorrect.Speller instead\n",
            "autocorrect.spell is deprecated,             use autocorrect.Speller instead\n",
            "autocorrect.spell is deprecated,             use autocorrect.Speller instead\n",
            "autocorrect.spell is deprecated,             use autocorrect.Speller instead\n",
            "autocorrect.spell is deprecated,             use autocorrect.Speller instead\n",
            "autocorrect.spell is deprecated,             use autocorrect.Speller instead\n",
            "autocorrect.spell is deprecated,             use autocorrect.Speller instead\n",
            "autocorrect.spell is deprecated,             use autocorrect.Speller instead\n",
            "autocorrect.spell is deprecated,             use autocorrect.Speller instead\n",
            "autocorrect.spell is deprecated,             use autocorrect.Speller instead\n",
            "autocorrect.spell is deprecated,             use autocorrect.Speller instead\n",
            "autocorrect.spell is deprecated,             use autocorrect.Speller instead\n",
            "autocorrect.spell is deprecated,             use autocorrect.Speller instead\n",
            "autocorrect.spell is deprecated,             use autocorrect.Speller instead\n",
            "autocorrect.spell is deprecated,             use autocorrect.Speller instead\n",
            "autocorrect.spell is deprecated,             use autocorrect.Speller instead\n",
            "autocorrect.spell is deprecated,             use autocorrect.Speller instead\n",
            "autocorrect.spell is deprecated,             use autocorrect.Speller instead\n",
            "autocorrect.spell is deprecated,             use autocorrect.Speller instead\n",
            "autocorrect.spell is deprecated,             use autocorrect.Speller instead\n",
            "autocorrect.spell is deprecated,             use autocorrect.Speller instead\n",
            "autocorrect.spell is deprecated,             use autocorrect.Speller instead\n",
            "autocorrect.spell is deprecated,             use autocorrect.Speller instead\n",
            "autocorrect.spell is deprecated,             use autocorrect.Speller instead\n",
            "autocorrect.spell is deprecated,             use autocorrect.Speller instead\n",
            "autocorrect.spell is deprecated,             use autocorrect.Speller instead\n",
            "autocorrect.spell is deprecated,             use autocorrect.Speller instead\n",
            "autocorrect.spell is deprecated,             use autocorrect.Speller instead\n",
            "autocorrect.spell is deprecated,             use autocorrect.Speller instead\n",
            "autocorrect.spell is deprecated,             use autocorrect.Speller instead\n",
            "autocorrect.spell is deprecated,             use autocorrect.Speller instead\n",
            "autocorrect.spell is deprecated,             use autocorrect.Speller instead\n",
            "autocorrect.spell is deprecated,             use autocorrect.Speller instead\n",
            "autocorrect.spell is deprecated,             use autocorrect.Speller instead\n",
            "autocorrect.spell is deprecated,             use autocorrect.Speller instead\n",
            "autocorrect.spell is deprecated,             use autocorrect.Speller instead\n",
            "autocorrect.spell is deprecated,             use autocorrect.Speller instead\n",
            "autocorrect.spell is deprecated,             use autocorrect.Speller instead\n",
            "autocorrect.spell is deprecated,             use autocorrect.Speller instead\n",
            "autocorrect.spell is deprecated,             use autocorrect.Speller instead\n",
            "autocorrect.spell is deprecated,             use autocorrect.Speller instead\n",
            "autocorrect.spell is deprecated,             use autocorrect.Speller instead\n",
            "autocorrect.spell is deprecated,             use autocorrect.Speller instead\n",
            "autocorrect.spell is deprecated,             use autocorrect.Speller instead\n",
            "autocorrect.spell is deprecated,             use autocorrect.Speller instead\n",
            "autocorrect.spell is deprecated,             use autocorrect.Speller instead\n",
            "autocorrect.spell is deprecated,             use autocorrect.Speller instead\n",
            "autocorrect.spell is deprecated,             use autocorrect.Speller instead\n",
            "autocorrect.spell is deprecated,             use autocorrect.Speller instead\n",
            "autocorrect.spell is deprecated,             use autocorrect.Speller instead\n",
            "autocorrect.spell is deprecated,             use autocorrect.Speller instead\n",
            "autocorrect.spell is deprecated,             use autocorrect.Speller instead\n",
            "autocorrect.spell is deprecated,             use autocorrect.Speller instead\n",
            "autocorrect.spell is deprecated,             use autocorrect.Speller instead\n",
            "autocorrect.spell is deprecated,             use autocorrect.Speller instead\n",
            "autocorrect.spell is deprecated,             use autocorrect.Speller instead\n",
            "autocorrect.spell is deprecated,             use autocorrect.Speller instead\n",
            "autocorrect.spell is deprecated,             use autocorrect.Speller instead\n",
            "autocorrect.spell is deprecated,             use autocorrect.Speller instead\n",
            "autocorrect.spell is deprecated,             use autocorrect.Speller instead\n",
            "autocorrect.spell is deprecated,             use autocorrect.Speller instead\n",
            "autocorrect.spell is deprecated,             use autocorrect.Speller instead\n",
            "autocorrect.spell is deprecated,             use autocorrect.Speller instead\n",
            "autocorrect.spell is deprecated,             use autocorrect.Speller instead\n",
            "autocorrect.spell is deprecated,             use autocorrect.Speller instead\n",
            "autocorrect.spell is deprecated,             use autocorrect.Speller instead\n",
            "autocorrect.spell is deprecated,             use autocorrect.Speller instead\n",
            "autocorrect.spell is deprecated,             use autocorrect.Speller instead\n",
            "autocorrect.spell is deprecated,             use autocorrect.Speller instead\n",
            "autocorrect.spell is deprecated,             use autocorrect.Speller instead\n",
            "autocorrect.spell is deprecated,             use autocorrect.Speller instead\n",
            "autocorrect.spell is deprecated,             use autocorrect.Speller instead\n",
            "autocorrect.spell is deprecated,             use autocorrect.Speller instead\n",
            "autocorrect.spell is deprecated,             use autocorrect.Speller instead\n",
            "autocorrect.spell is deprecated,             use autocorrect.Speller instead\n",
            "autocorrect.spell is deprecated,             use autocorrect.Speller instead\n",
            "autocorrect.spell is deprecated,             use autocorrect.Speller instead\n",
            "autocorrect.spell is deprecated,             use autocorrect.Speller instead\n",
            "autocorrect.spell is deprecated,             use autocorrect.Speller instead\n",
            "autocorrect.spell is deprecated,             use autocorrect.Speller instead\n",
            "autocorrect.spell is deprecated,             use autocorrect.Speller instead\n",
            "autocorrect.spell is deprecated,             use autocorrect.Speller instead\n",
            "autocorrect.spell is deprecated,             use autocorrect.Speller instead\n",
            "autocorrect.spell is deprecated,             use autocorrect.Speller instead\n",
            "autocorrect.spell is deprecated,             use autocorrect.Speller instead\n",
            "autocorrect.spell is deprecated,             use autocorrect.Speller instead\n",
            "autocorrect.spell is deprecated,             use autocorrect.Speller instead\n",
            "autocorrect.spell is deprecated,             use autocorrect.Speller instead\n",
            "autocorrect.spell is deprecated,             use autocorrect.Speller instead\n",
            "autocorrect.spell is deprecated,             use autocorrect.Speller instead\n",
            "autocorrect.spell is deprecated,             use autocorrect.Speller instead\n",
            "autocorrect.spell is deprecated,             use autocorrect.Speller instead\n",
            "autocorrect.spell is deprecated,             use autocorrect.Speller instead\n",
            "autocorrect.spell is deprecated,             use autocorrect.Speller instead\n",
            "autocorrect.spell is deprecated,             use autocorrect.Speller instead\n",
            "autocorrect.spell is deprecated,             use autocorrect.Speller instead\n",
            "autocorrect.spell is deprecated,             use autocorrect.Speller instead\n",
            "autocorrect.spell is deprecated,             use autocorrect.Speller instead\n",
            "autocorrect.spell is deprecated,             use autocorrect.Speller instead\n",
            "autocorrect.spell is deprecated,             use autocorrect.Speller instead\n",
            "autocorrect.spell is deprecated,             use autocorrect.Speller instead\n",
            "autocorrect.spell is deprecated,             use autocorrect.Speller instead\n",
            "autocorrect.spell is deprecated,             use autocorrect.Speller instead\n",
            "autocorrect.spell is deprecated,             use autocorrect.Speller instead\n",
            "autocorrect.spell is deprecated,             use autocorrect.Speller instead\n",
            "autocorrect.spell is deprecated,             use autocorrect.Speller instead\n",
            "autocorrect.spell is deprecated,             use autocorrect.Speller instead\n",
            "autocorrect.spell is deprecated,             use autocorrect.Speller instead\n",
            "autocorrect.spell is deprecated,             use autocorrect.Speller instead\n",
            "autocorrect.spell is deprecated,             use autocorrect.Speller instead\n",
            "autocorrect.spell is deprecated,             use autocorrect.Speller instead\n",
            "autocorrect.spell is deprecated,             use autocorrect.Speller instead\n",
            "autocorrect.spell is deprecated,             use autocorrect.Speller instead\n",
            "autocorrect.spell is deprecated,             use autocorrect.Speller instead\n",
            "autocorrect.spell is deprecated,             use autocorrect.Speller instead\n",
            "autocorrect.spell is deprecated,             use autocorrect.Speller instead\n",
            "autocorrect.spell is deprecated,             use autocorrect.Speller instead\n",
            "autocorrect.spell is deprecated,             use autocorrect.Speller instead\n",
            "autocorrect.spell is deprecated,             use autocorrect.Speller instead\n",
            "autocorrect.spell is deprecated,             use autocorrect.Speller instead\n",
            "autocorrect.spell is deprecated,             use autocorrect.Speller instead\n",
            "autocorrect.spell is deprecated,             use autocorrect.Speller instead\n",
            "autocorrect.spell is deprecated,             use autocorrect.Speller instead\n",
            "autocorrect.spell is deprecated,             use autocorrect.Speller instead\n",
            "autocorrect.spell is deprecated,             use autocorrect.Speller instead\n",
            "autocorrect.spell is deprecated,             use autocorrect.Speller instead\n",
            "autocorrect.spell is deprecated,             use autocorrect.Speller instead\n",
            "autocorrect.spell is deprecated,             use autocorrect.Speller instead\n",
            "autocorrect.spell is deprecated,             use autocorrect.Speller instead\n",
            "autocorrect.spell is deprecated,             use autocorrect.Speller instead\n",
            "autocorrect.spell is deprecated,             use autocorrect.Speller instead\n",
            "autocorrect.spell is deprecated,             use autocorrect.Speller instead\n",
            "autocorrect.spell is deprecated,             use autocorrect.Speller instead\n",
            "autocorrect.spell is deprecated,             use autocorrect.Speller instead\n",
            "autocorrect.spell is deprecated,             use autocorrect.Speller instead\n",
            "autocorrect.spell is deprecated,             use autocorrect.Speller instead\n",
            "autocorrect.spell is deprecated,             use autocorrect.Speller instead\n",
            "autocorrect.spell is deprecated,             use autocorrect.Speller instead\n",
            "autocorrect.spell is deprecated,             use autocorrect.Speller instead\n",
            "autocorrect.spell is deprecated,             use autocorrect.Speller instead\n",
            "autocorrect.spell is deprecated,             use autocorrect.Speller instead\n",
            "autocorrect.spell is deprecated,             use autocorrect.Speller instead\n",
            "autocorrect.spell is deprecated,             use autocorrect.Speller instead\n",
            "autocorrect.spell is deprecated,             use autocorrect.Speller instead\n",
            "autocorrect.spell is deprecated,             use autocorrect.Speller instead\n",
            "autocorrect.spell is deprecated,             use autocorrect.Speller instead\n",
            "autocorrect.spell is deprecated,             use autocorrect.Speller instead\n",
            "autocorrect.spell is deprecated,             use autocorrect.Speller instead\n",
            "autocorrect.spell is deprecated,             use autocorrect.Speller instead\n",
            "autocorrect.spell is deprecated,             use autocorrect.Speller instead\n",
            "autocorrect.spell is deprecated,             use autocorrect.Speller instead\n",
            "autocorrect.spell is deprecated,             use autocorrect.Speller instead\n",
            "autocorrect.spell is deprecated,             use autocorrect.Speller instead\n",
            "autocorrect.spell is deprecated,             use autocorrect.Speller instead\n",
            "autocorrect.spell is deprecated,             use autocorrect.Speller instead\n",
            "autocorrect.spell is deprecated,             use autocorrect.Speller instead\n",
            "autocorrect.spell is deprecated,             use autocorrect.Speller instead\n",
            "autocorrect.spell is deprecated,             use autocorrect.Speller instead\n",
            "autocorrect.spell is deprecated,             use autocorrect.Speller instead\n",
            "autocorrect.spell is deprecated,             use autocorrect.Speller instead\n",
            "autocorrect.spell is deprecated,             use autocorrect.Speller instead\n",
            "autocorrect.spell is deprecated,             use autocorrect.Speller instead\n",
            "autocorrect.spell is deprecated,             use autocorrect.Speller instead\n",
            "autocorrect.spell is deprecated,             use autocorrect.Speller instead\n",
            "autocorrect.spell is deprecated,             use autocorrect.Speller instead\n",
            "autocorrect.spell is deprecated,             use autocorrect.Speller instead\n",
            "autocorrect.spell is deprecated,             use autocorrect.Speller instead\n",
            "autocorrect.spell is deprecated,             use autocorrect.Speller instead\n",
            "autocorrect.spell is deprecated,             use autocorrect.Speller instead\n",
            "autocorrect.spell is deprecated,             use autocorrect.Speller instead\n",
            "autocorrect.spell is deprecated,             use autocorrect.Speller instead\n",
            "autocorrect.spell is deprecated,             use autocorrect.Speller instead\n",
            "autocorrect.spell is deprecated,             use autocorrect.Speller instead\n",
            "autocorrect.spell is deprecated,             use autocorrect.Speller instead\n",
            "autocorrect.spell is deprecated,             use autocorrect.Speller instead\n",
            "autocorrect.spell is deprecated,             use autocorrect.Speller instead\n",
            "autocorrect.spell is deprecated,             use autocorrect.Speller instead\n",
            "autocorrect.spell is deprecated,             use autocorrect.Speller instead\n",
            "autocorrect.spell is deprecated,             use autocorrect.Speller instead\n",
            "autocorrect.spell is deprecated,             use autocorrect.Speller instead\n",
            "autocorrect.spell is deprecated,             use autocorrect.Speller instead\n",
            "autocorrect.spell is deprecated,             use autocorrect.Speller instead\n",
            "autocorrect.spell is deprecated,             use autocorrect.Speller instead\n",
            "autocorrect.spell is deprecated,             use autocorrect.Speller instead\n",
            "autocorrect.spell is deprecated,             use autocorrect.Speller instead\n",
            "autocorrect.spell is deprecated,             use autocorrect.Speller instead\n",
            "autocorrect.spell is deprecated,             use autocorrect.Speller instead\n",
            "autocorrect.spell is deprecated,             use autocorrect.Speller instead\n",
            "autocorrect.spell is deprecated,             use autocorrect.Speller instead\n",
            "autocorrect.spell is deprecated,             use autocorrect.Speller instead\n",
            "autocorrect.spell is deprecated,             use autocorrect.Speller instead\n",
            "autocorrect.spell is deprecated,             use autocorrect.Speller instead\n",
            "autocorrect.spell is deprecated,             use autocorrect.Speller instead\n",
            "autocorrect.spell is deprecated,             use autocorrect.Speller instead\n",
            "autocorrect.spell is deprecated,             use autocorrect.Speller instead\n",
            "autocorrect.spell is deprecated,             use autocorrect.Speller instead\n",
            "autocorrect.spell is deprecated,             use autocorrect.Speller instead\n",
            "autocorrect.spell is deprecated,             use autocorrect.Speller instead\n",
            "autocorrect.spell is deprecated,             use autocorrect.Speller instead\n",
            "autocorrect.spell is deprecated,             use autocorrect.Speller instead\n",
            "autocorrect.spell is deprecated,             use autocorrect.Speller instead\n",
            "autocorrect.spell is deprecated,             use autocorrect.Speller instead\n",
            "autocorrect.spell is deprecated,             use autocorrect.Speller instead\n",
            "autocorrect.spell is deprecated,             use autocorrect.Speller instead\n",
            "autocorrect.spell is deprecated,             use autocorrect.Speller instead\n",
            "autocorrect.spell is deprecated,             use autocorrect.Speller instead\n",
            "autocorrect.spell is deprecated,             use autocorrect.Speller instead\n",
            "autocorrect.spell is deprecated,             use autocorrect.Speller instead\n",
            "autocorrect.spell is deprecated,             use autocorrect.Speller instead\n",
            "autocorrect.spell is deprecated,             use autocorrect.Speller instead\n",
            "autocorrect.spell is deprecated,             use autocorrect.Speller instead\n",
            "autocorrect.spell is deprecated,             use autocorrect.Speller instead\n",
            "autocorrect.spell is deprecated,             use autocorrect.Speller instead\n",
            "autocorrect.spell is deprecated,             use autocorrect.Speller instead\n",
            "autocorrect.spell is deprecated,             use autocorrect.Speller instead\n",
            "autocorrect.spell is deprecated,             use autocorrect.Speller instead\n",
            "autocorrect.spell is deprecated,             use autocorrect.Speller instead\n",
            "autocorrect.spell is deprecated,             use autocorrect.Speller instead\n",
            "autocorrect.spell is deprecated,             use autocorrect.Speller instead\n",
            "autocorrect.spell is deprecated,             use autocorrect.Speller instead\n",
            "autocorrect.spell is deprecated,             use autocorrect.Speller instead\n",
            "autocorrect.spell is deprecated,             use autocorrect.Speller instead\n",
            "autocorrect.spell is deprecated,             use autocorrect.Speller instead\n",
            "autocorrect.spell is deprecated,             use autocorrect.Speller instead\n",
            "autocorrect.spell is deprecated,             use autocorrect.Speller instead\n",
            "autocorrect.spell is deprecated,             use autocorrect.Speller instead\n",
            "autocorrect.spell is deprecated,             use autocorrect.Speller instead\n",
            "autocorrect.spell is deprecated,             use autocorrect.Speller instead\n",
            "autocorrect.spell is deprecated,             use autocorrect.Speller instead\n",
            "autocorrect.spell is deprecated,             use autocorrect.Speller instead\n",
            "autocorrect.spell is deprecated,             use autocorrect.Speller instead\n",
            "autocorrect.spell is deprecated,             use autocorrect.Speller instead\n",
            "autocorrect.spell is deprecated,             use autocorrect.Speller instead\n",
            "autocorrect.spell is deprecated,             use autocorrect.Speller instead\n",
            "autocorrect.spell is deprecated,             use autocorrect.Speller instead\n",
            "autocorrect.spell is deprecated,             use autocorrect.Speller instead\n",
            "autocorrect.spell is deprecated,             use autocorrect.Speller instead\n",
            "autocorrect.spell is deprecated,             use autocorrect.Speller instead\n",
            "autocorrect.spell is deprecated,             use autocorrect.Speller instead\n",
            "autocorrect.spell is deprecated,             use autocorrect.Speller instead\n",
            "autocorrect.spell is deprecated,             use autocorrect.Speller instead\n",
            "autocorrect.spell is deprecated,             use autocorrect.Speller instead\n",
            "autocorrect.spell is deprecated,             use autocorrect.Speller instead\n",
            "autocorrect.spell is deprecated,             use autocorrect.Speller instead\n",
            "autocorrect.spell is deprecated,             use autocorrect.Speller instead\n",
            "autocorrect.spell is deprecated,             use autocorrect.Speller instead\n",
            "autocorrect.spell is deprecated,             use autocorrect.Speller instead\n",
            "autocorrect.spell is deprecated,             use autocorrect.Speller instead\n",
            "autocorrect.spell is deprecated,             use autocorrect.Speller instead\n",
            "autocorrect.spell is deprecated,             use autocorrect.Speller instead\n",
            "autocorrect.spell is deprecated,             use autocorrect.Speller instead\n",
            "autocorrect.spell is deprecated,             use autocorrect.Speller instead\n",
            "autocorrect.spell is deprecated,             use autocorrect.Speller instead\n",
            "autocorrect.spell is deprecated,             use autocorrect.Speller instead\n",
            "autocorrect.spell is deprecated,             use autocorrect.Speller instead\n",
            "autocorrect.spell is deprecated,             use autocorrect.Speller instead\n",
            "autocorrect.spell is deprecated,             use autocorrect.Speller instead\n",
            "autocorrect.spell is deprecated,             use autocorrect.Speller instead\n",
            "autocorrect.spell is deprecated,             use autocorrect.Speller instead\n",
            "autocorrect.spell is deprecated,             use autocorrect.Speller instead\n",
            "autocorrect.spell is deprecated,             use autocorrect.Speller instead\n",
            "autocorrect.spell is deprecated,             use autocorrect.Speller instead\n",
            "autocorrect.spell is deprecated,             use autocorrect.Speller instead\n",
            "autocorrect.spell is deprecated,             use autocorrect.Speller instead\n",
            "autocorrect.spell is deprecated,             use autocorrect.Speller instead\n",
            "autocorrect.spell is deprecated,             use autocorrect.Speller instead\n",
            "autocorrect.spell is deprecated,             use autocorrect.Speller instead\n",
            "autocorrect.spell is deprecated,             use autocorrect.Speller instead\n",
            "autocorrect.spell is deprecated,             use autocorrect.Speller instead\n",
            "autocorrect.spell is deprecated,             use autocorrect.Speller instead\n",
            "autocorrect.spell is deprecated,             use autocorrect.Speller instead\n",
            "autocorrect.spell is deprecated,             use autocorrect.Speller instead\n",
            "autocorrect.spell is deprecated,             use autocorrect.Speller instead\n",
            "autocorrect.spell is deprecated,             use autocorrect.Speller instead\n",
            "autocorrect.spell is deprecated,             use autocorrect.Speller instead\n",
            "autocorrect.spell is deprecated,             use autocorrect.Speller instead\n",
            "autocorrect.spell is deprecated,             use autocorrect.Speller instead\n",
            "autocorrect.spell is deprecated,             use autocorrect.Speller instead\n",
            "autocorrect.spell is deprecated,             use autocorrect.Speller instead\n",
            "autocorrect.spell is deprecated,             use autocorrect.Speller instead\n",
            "autocorrect.spell is deprecated,             use autocorrect.Speller instead\n",
            "autocorrect.spell is deprecated,             use autocorrect.Speller instead\n",
            "autocorrect.spell is deprecated,             use autocorrect.Speller instead\n",
            "autocorrect.spell is deprecated,             use autocorrect.Speller instead\n",
            "autocorrect.spell is deprecated,             use autocorrect.Speller instead\n",
            "autocorrect.spell is deprecated,             use autocorrect.Speller instead\n",
            "autocorrect.spell is deprecated,             use autocorrect.Speller instead\n",
            "autocorrect.spell is deprecated,             use autocorrect.Speller instead\n",
            "autocorrect.spell is deprecated,             use autocorrect.Speller instead\n",
            "autocorrect.spell is deprecated,             use autocorrect.Speller instead\n",
            "autocorrect.spell is deprecated,             use autocorrect.Speller instead\n",
            "autocorrect.spell is deprecated,             use autocorrect.Speller instead\n",
            "autocorrect.spell is deprecated,             use autocorrect.Speller instead\n",
            "autocorrect.spell is deprecated,             use autocorrect.Speller instead\n",
            "autocorrect.spell is deprecated,             use autocorrect.Speller instead\n",
            "autocorrect.spell is deprecated,             use autocorrect.Speller instead\n",
            "autocorrect.spell is deprecated,             use autocorrect.Speller instead\n",
            "autocorrect.spell is deprecated,             use autocorrect.Speller instead\n",
            "autocorrect.spell is deprecated,             use autocorrect.Speller instead\n",
            "autocorrect.spell is deprecated,             use autocorrect.Speller instead\n",
            "autocorrect.spell is deprecated,             use autocorrect.Speller instead\n",
            "autocorrect.spell is deprecated,             use autocorrect.Speller instead\n",
            "autocorrect.spell is deprecated,             use autocorrect.Speller instead\n",
            "autocorrect.spell is deprecated,             use autocorrect.Speller instead\n",
            "autocorrect.spell is deprecated,             use autocorrect.Speller instead\n",
            "autocorrect.spell is deprecated,             use autocorrect.Speller instead\n",
            "autocorrect.spell is deprecated,             use autocorrect.Speller instead\n",
            "autocorrect.spell is deprecated,             use autocorrect.Speller instead\n",
            "autocorrect.spell is deprecated,             use autocorrect.Speller instead\n",
            "autocorrect.spell is deprecated,             use autocorrect.Speller instead\n",
            "autocorrect.spell is deprecated,             use autocorrect.Speller instead\n",
            "autocorrect.spell is deprecated,             use autocorrect.Speller instead\n",
            "autocorrect.spell is deprecated,             use autocorrect.Speller instead\n",
            "autocorrect.spell is deprecated,             use autocorrect.Speller instead\n",
            "autocorrect.spell is deprecated,             use autocorrect.Speller instead\n",
            "autocorrect.spell is deprecated,             use autocorrect.Speller instead\n",
            "autocorrect.spell is deprecated,             use autocorrect.Speller instead\n",
            "autocorrect.spell is deprecated,             use autocorrect.Speller instead\n",
            "autocorrect.spell is deprecated,             use autocorrect.Speller instead\n",
            "autocorrect.spell is deprecated,             use autocorrect.Speller instead\n",
            "autocorrect.spell is deprecated,             use autocorrect.Speller instead\n",
            "autocorrect.spell is deprecated,             use autocorrect.Speller instead\n",
            "autocorrect.spell is deprecated,             use autocorrect.Speller instead\n",
            "autocorrect.spell is deprecated,             use autocorrect.Speller instead\n",
            "autocorrect.spell is deprecated,             use autocorrect.Speller instead\n",
            "autocorrect.spell is deprecated,             use autocorrect.Speller instead\n",
            "autocorrect.spell is deprecated,             use autocorrect.Speller instead\n",
            "autocorrect.spell is deprecated,             use autocorrect.Speller instead\n",
            "autocorrect.spell is deprecated,             use autocorrect.Speller instead\n",
            "autocorrect.spell is deprecated,             use autocorrect.Speller instead\n",
            "autocorrect.spell is deprecated,             use autocorrect.Speller instead\n",
            "autocorrect.spell is deprecated,             use autocorrect.Speller instead\n",
            "autocorrect.spell is deprecated,             use autocorrect.Speller instead\n",
            "autocorrect.spell is deprecated,             use autocorrect.Speller instead\n",
            "autocorrect.spell is deprecated,             use autocorrect.Speller instead\n",
            "autocorrect.spell is deprecated,             use autocorrect.Speller instead\n",
            "autocorrect.spell is deprecated,             use autocorrect.Speller instead\n",
            "autocorrect.spell is deprecated,             use autocorrect.Speller instead\n",
            "autocorrect.spell is deprecated,             use autocorrect.Speller instead\n",
            "autocorrect.spell is deprecated,             use autocorrect.Speller instead\n",
            "autocorrect.spell is deprecated,             use autocorrect.Speller instead\n",
            "autocorrect.spell is deprecated,             use autocorrect.Speller instead\n",
            "autocorrect.spell is deprecated,             use autocorrect.Speller instead\n",
            "autocorrect.spell is deprecated,             use autocorrect.Speller instead\n",
            "autocorrect.spell is deprecated,             use autocorrect.Speller instead\n",
            "autocorrect.spell is deprecated,             use autocorrect.Speller instead\n",
            "autocorrect.spell is deprecated,             use autocorrect.Speller instead\n",
            "autocorrect.spell is deprecated,             use autocorrect.Speller instead\n",
            "autocorrect.spell is deprecated,             use autocorrect.Speller instead\n",
            "autocorrect.spell is deprecated,             use autocorrect.Speller instead\n",
            "autocorrect.spell is deprecated,             use autocorrect.Speller instead\n",
            "autocorrect.spell is deprecated,             use autocorrect.Speller instead\n",
            "autocorrect.spell is deprecated,             use autocorrect.Speller instead\n",
            "autocorrect.spell is deprecated,             use autocorrect.Speller instead\n",
            "autocorrect.spell is deprecated,             use autocorrect.Speller instead\n",
            "autocorrect.spell is deprecated,             use autocorrect.Speller instead\n",
            "autocorrect.spell is deprecated,             use autocorrect.Speller instead\n",
            "autocorrect.spell is deprecated,             use autocorrect.Speller instead\n",
            "autocorrect.spell is deprecated,             use autocorrect.Speller instead\n",
            "autocorrect.spell is deprecated,             use autocorrect.Speller instead\n",
            "autocorrect.spell is deprecated,             use autocorrect.Speller instead\n",
            "autocorrect.spell is deprecated,             use autocorrect.Speller instead\n",
            "autocorrect.spell is deprecated,             use autocorrect.Speller instead\n",
            "autocorrect.spell is deprecated,             use autocorrect.Speller instead\n",
            "autocorrect.spell is deprecated,             use autocorrect.Speller instead\n",
            "autocorrect.spell is deprecated,             use autocorrect.Speller instead\n",
            "autocorrect.spell is deprecated,             use autocorrect.Speller instead\n",
            "autocorrect.spell is deprecated,             use autocorrect.Speller instead\n",
            "autocorrect.spell is deprecated,             use autocorrect.Speller instead\n",
            "autocorrect.spell is deprecated,             use autocorrect.Speller instead\n",
            "autocorrect.spell is deprecated,             use autocorrect.Speller instead\n",
            "autocorrect.spell is deprecated,             use autocorrect.Speller instead\n",
            "autocorrect.spell is deprecated,             use autocorrect.Speller instead\n",
            "autocorrect.spell is deprecated,             use autocorrect.Speller instead\n",
            "autocorrect.spell is deprecated,             use autocorrect.Speller instead\n",
            "autocorrect.spell is deprecated,             use autocorrect.Speller instead\n",
            "autocorrect.spell is deprecated,             use autocorrect.Speller instead\n",
            "autocorrect.spell is deprecated,             use autocorrect.Speller instead\n",
            "autocorrect.spell is deprecated,             use autocorrect.Speller instead\n",
            "autocorrect.spell is deprecated,             use autocorrect.Speller instead\n",
            "autocorrect.spell is deprecated,             use autocorrect.Speller instead\n",
            "autocorrect.spell is deprecated,             use autocorrect.Speller instead\n",
            "autocorrect.spell is deprecated,             use autocorrect.Speller instead\n",
            "autocorrect.spell is deprecated,             use autocorrect.Speller instead\n",
            "autocorrect.spell is deprecated,             use autocorrect.Speller instead\n",
            "autocorrect.spell is deprecated,             use autocorrect.Speller instead\n",
            "autocorrect.spell is deprecated,             use autocorrect.Speller instead\n",
            "autocorrect.spell is deprecated,             use autocorrect.Speller instead\n",
            "autocorrect.spell is deprecated,             use autocorrect.Speller instead\n",
            "autocorrect.spell is deprecated,             use autocorrect.Speller instead\n",
            "autocorrect.spell is deprecated,             use autocorrect.Speller instead\n",
            "autocorrect.spell is deprecated,             use autocorrect.Speller instead\n",
            "autocorrect.spell is deprecated,             use autocorrect.Speller instead\n",
            "autocorrect.spell is deprecated,             use autocorrect.Speller instead\n",
            "autocorrect.spell is deprecated,             use autocorrect.Speller instead\n",
            "autocorrect.spell is deprecated,             use autocorrect.Speller instead\n",
            "autocorrect.spell is deprecated,             use autocorrect.Speller instead\n",
            "autocorrect.spell is deprecated,             use autocorrect.Speller instead\n",
            "autocorrect.spell is deprecated,             use autocorrect.Speller instead\n",
            "autocorrect.spell is deprecated,             use autocorrect.Speller instead\n",
            "autocorrect.spell is deprecated,             use autocorrect.Speller instead\n",
            "autocorrect.spell is deprecated,             use autocorrect.Speller instead\n",
            "autocorrect.spell is deprecated,             use autocorrect.Speller instead\n",
            "autocorrect.spell is deprecated,             use autocorrect.Speller instead\n",
            "autocorrect.spell is deprecated,             use autocorrect.Speller instead\n",
            "autocorrect.spell is deprecated,             use autocorrect.Speller instead\n",
            "autocorrect.spell is deprecated,             use autocorrect.Speller instead\n",
            "autocorrect.spell is deprecated,             use autocorrect.Speller instead\n",
            "autocorrect.spell is deprecated,             use autocorrect.Speller instead\n",
            "autocorrect.spell is deprecated,             use autocorrect.Speller instead\n",
            "autocorrect.spell is deprecated,             use autocorrect.Speller instead\n",
            "autocorrect.spell is deprecated,             use autocorrect.Speller instead\n",
            "autocorrect.spell is deprecated,             use autocorrect.Speller instead\n",
            "autocorrect.spell is deprecated,             use autocorrect.Speller instead\n",
            "autocorrect.spell is deprecated,             use autocorrect.Speller instead\n",
            "autocorrect.spell is deprecated,             use autocorrect.Speller instead\n",
            "autocorrect.spell is deprecated,             use autocorrect.Speller instead\n",
            "autocorrect.spell is deprecated,             use autocorrect.Speller instead\n",
            "autocorrect.spell is deprecated,             use autocorrect.Speller instead\n",
            "autocorrect.spell is deprecated,             use autocorrect.Speller instead\n",
            "autocorrect.spell is deprecated,             use autocorrect.Speller instead\n",
            "autocorrect.spell is deprecated,             use autocorrect.Speller instead\n",
            "autocorrect.spell is deprecated,             use autocorrect.Speller instead\n",
            "autocorrect.spell is deprecated,             use autocorrect.Speller instead\n",
            "autocorrect.spell is deprecated,             use autocorrect.Speller instead\n",
            "autocorrect.spell is deprecated,             use autocorrect.Speller instead\n",
            "autocorrect.spell is deprecated,             use autocorrect.Speller instead\n",
            "autocorrect.spell is deprecated,             use autocorrect.Speller instead\n",
            "autocorrect.spell is deprecated,             use autocorrect.Speller instead\n",
            "autocorrect.spell is deprecated,             use autocorrect.Speller instead\n",
            "autocorrect.spell is deprecated,             use autocorrect.Speller instead\n",
            "autocorrect.spell is deprecated,             use autocorrect.Speller instead\n",
            "autocorrect.spell is deprecated,             use autocorrect.Speller instead\n",
            "autocorrect.spell is deprecated,             use autocorrect.Speller instead\n",
            "autocorrect.spell is deprecated,             use autocorrect.Speller instead\n",
            "autocorrect.spell is deprecated,             use autocorrect.Speller instead\n",
            "autocorrect.spell is deprecated,             use autocorrect.Speller instead\n",
            "autocorrect.spell is deprecated,             use autocorrect.Speller instead\n",
            "autocorrect.spell is deprecated,             use autocorrect.Speller instead\n",
            "autocorrect.spell is deprecated,             use autocorrect.Speller instead\n",
            "autocorrect.spell is deprecated,             use autocorrect.Speller instead\n",
            "autocorrect.spell is deprecated,             use autocorrect.Speller instead\n",
            "autocorrect.spell is deprecated,             use autocorrect.Speller instead\n",
            "autocorrect.spell is deprecated,             use autocorrect.Speller instead\n",
            "autocorrect.spell is deprecated,             use autocorrect.Speller instead\n",
            "autocorrect.spell is deprecated,             use autocorrect.Speller instead\n",
            "autocorrect.spell is deprecated,             use autocorrect.Speller instead\n",
            "autocorrect.spell is deprecated,             use autocorrect.Speller instead\n",
            "autocorrect.spell is deprecated,             use autocorrect.Speller instead\n",
            "autocorrect.spell is deprecated,             use autocorrect.Speller instead\n",
            "autocorrect.spell is deprecated,             use autocorrect.Speller instead\n",
            "autocorrect.spell is deprecated,             use autocorrect.Speller instead\n",
            "autocorrect.spell is deprecated,             use autocorrect.Speller instead\n",
            "autocorrect.spell is deprecated,             use autocorrect.Speller instead\n",
            "autocorrect.spell is deprecated,             use autocorrect.Speller instead\n",
            "autocorrect.spell is deprecated,             use autocorrect.Speller instead\n",
            "autocorrect.spell is deprecated,             use autocorrect.Speller instead\n",
            "autocorrect.spell is deprecated,             use autocorrect.Speller instead\n",
            "autocorrect.spell is deprecated,             use autocorrect.Speller instead\n",
            "autocorrect.spell is deprecated,             use autocorrect.Speller instead\n",
            "autocorrect.spell is deprecated,             use autocorrect.Speller instead\n",
            "autocorrect.spell is deprecated,             use autocorrect.Speller instead\n",
            "autocorrect.spell is deprecated,             use autocorrect.Speller instead\n",
            "autocorrect.spell is deprecated,             use autocorrect.Speller instead\n"
          ]
        }
      ],
      "source": [
        "process_train_df[\"Sepsis\"] = [' '.join([spell(i) for i in x.split()]) for x in train_df['Sepsis']]"
      ]
    },
    {
      "cell_type": "code",
      "execution_count": 42,
      "id": "QezovWdRs-tN",
      "metadata": {
        "colab": {
          "base_uri": "https://localhost:8080/",
          "height": 206
        },
        "id": "QezovWdRs-tN",
        "outputId": "343d30b4-c8ef-4a2e-fed1-636a256bbae4"
      },
      "outputs": [
        {
          "data": {
            "text/html": [
              "<div>\n",
              "<style scoped>\n",
              "    .dataframe tbody tr th:only-of-type {\n",
              "        vertical-align: middle;\n",
              "    }\n",
              "\n",
              "    .dataframe tbody tr th {\n",
              "        vertical-align: top;\n",
              "    }\n",
              "\n",
              "    .dataframe thead th {\n",
              "        text-align: right;\n",
              "    }\n",
              "</style>\n",
              "<table border=\"1\" class=\"dataframe\">\n",
              "  <thead>\n",
              "    <tr style=\"text-align: right;\">\n",
              "      <th></th>\n",
              "      <th>PRG</th>\n",
              "      <th>PL</th>\n",
              "      <th>PR</th>\n",
              "      <th>SK</th>\n",
              "      <th>TS</th>\n",
              "      <th>M11</th>\n",
              "      <th>BD2</th>\n",
              "      <th>Age</th>\n",
              "      <th>Sepsis</th>\n",
              "    </tr>\n",
              "  </thead>\n",
              "  <tbody>\n",
              "    <tr>\n",
              "      <th>0</th>\n",
              "      <td>6</td>\n",
              "      <td>148</td>\n",
              "      <td>72</td>\n",
              "      <td>35</td>\n",
              "      <td>0</td>\n",
              "      <td>33.6</td>\n",
              "      <td>0.627</td>\n",
              "      <td>50</td>\n",
              "      <td>Positive</td>\n",
              "    </tr>\n",
              "    <tr>\n",
              "      <th>1</th>\n",
              "      <td>1</td>\n",
              "      <td>85</td>\n",
              "      <td>66</td>\n",
              "      <td>29</td>\n",
              "      <td>0</td>\n",
              "      <td>26.6</td>\n",
              "      <td>0.351</td>\n",
              "      <td>31</td>\n",
              "      <td>Negative</td>\n",
              "    </tr>\n",
              "    <tr>\n",
              "      <th>2</th>\n",
              "      <td>8</td>\n",
              "      <td>183</td>\n",
              "      <td>64</td>\n",
              "      <td>23</td>\n",
              "      <td>0</td>\n",
              "      <td>23.3</td>\n",
              "      <td>0.672</td>\n",
              "      <td>32</td>\n",
              "      <td>Positive</td>\n",
              "    </tr>\n",
              "    <tr>\n",
              "      <th>3</th>\n",
              "      <td>1</td>\n",
              "      <td>89</td>\n",
              "      <td>66</td>\n",
              "      <td>23</td>\n",
              "      <td>94</td>\n",
              "      <td>28.1</td>\n",
              "      <td>0.167</td>\n",
              "      <td>21</td>\n",
              "      <td>Negative</td>\n",
              "    </tr>\n",
              "    <tr>\n",
              "      <th>4</th>\n",
              "      <td>0</td>\n",
              "      <td>137</td>\n",
              "      <td>40</td>\n",
              "      <td>35</td>\n",
              "      <td>168</td>\n",
              "      <td>43.1</td>\n",
              "      <td>2.288</td>\n",
              "      <td>33</td>\n",
              "      <td>Positive</td>\n",
              "    </tr>\n",
              "  </tbody>\n",
              "</table>\n",
              "</div>"
            ],
            "text/plain": [
              "   PRG   PL  PR  SK   TS   M11    BD2  Age    Sepsis\n",
              "0    6  148  72  35    0  33.6  0.627   50  Positive\n",
              "1    1   85  66  29    0  26.6  0.351   31  Negative\n",
              "2    8  183  64  23    0  23.3  0.672   32  Positive\n",
              "3    1   89  66  23   94  28.1  0.167   21  Negative\n",
              "4    0  137  40  35  168  43.1  2.288   33  Positive"
            ]
          },
          "execution_count": 42,
          "metadata": {},
          "output_type": "execute_result"
        }
      ],
      "source": [
        "#Verifying the traininig data frame\n",
        "process_train_df.head(5)"
      ]
    },
    {
      "cell_type": "markdown",
      "id": "c822e1e0",
      "metadata": {},
      "source": [
        "Verifying the dataset"
      ]
    },
    {
      "cell_type": "code",
      "execution_count": 43,
      "id": "b2fa4789",
      "metadata": {},
      "outputs": [
        {
          "data": {
            "text/html": [
              "<div>\n",
              "<style scoped>\n",
              "    .dataframe tbody tr th:only-of-type {\n",
              "        vertical-align: middle;\n",
              "    }\n",
              "\n",
              "    .dataframe tbody tr th {\n",
              "        vertical-align: top;\n",
              "    }\n",
              "\n",
              "    .dataframe thead th {\n",
              "        text-align: right;\n",
              "    }\n",
              "</style>\n",
              "<table border=\"1\" class=\"dataframe\">\n",
              "  <thead>\n",
              "    <tr style=\"text-align: right;\">\n",
              "      <th></th>\n",
              "      <th>ID</th>\n",
              "      <th>PRG</th>\n",
              "      <th>PL</th>\n",
              "      <th>PR</th>\n",
              "      <th>SK</th>\n",
              "      <th>TS</th>\n",
              "      <th>M11</th>\n",
              "      <th>BD2</th>\n",
              "      <th>Age</th>\n",
              "      <th>Insurance</th>\n",
              "      <th>Sepsis</th>\n",
              "    </tr>\n",
              "  </thead>\n",
              "  <tbody>\n",
              "    <tr>\n",
              "      <th>0</th>\n",
              "      <td>ICU200010</td>\n",
              "      <td>6</td>\n",
              "      <td>148</td>\n",
              "      <td>72</td>\n",
              "      <td>35</td>\n",
              "      <td>0</td>\n",
              "      <td>33.6</td>\n",
              "      <td>0.627</td>\n",
              "      <td>50</td>\n",
              "      <td>0</td>\n",
              "      <td>Positive</td>\n",
              "    </tr>\n",
              "    <tr>\n",
              "      <th>1</th>\n",
              "      <td>ICU200011</td>\n",
              "      <td>1</td>\n",
              "      <td>85</td>\n",
              "      <td>66</td>\n",
              "      <td>29</td>\n",
              "      <td>0</td>\n",
              "      <td>26.6</td>\n",
              "      <td>0.351</td>\n",
              "      <td>31</td>\n",
              "      <td>0</td>\n",
              "      <td>Negative</td>\n",
              "    </tr>\n",
              "    <tr>\n",
              "      <th>2</th>\n",
              "      <td>ICU200012</td>\n",
              "      <td>8</td>\n",
              "      <td>183</td>\n",
              "      <td>64</td>\n",
              "      <td>0</td>\n",
              "      <td>0</td>\n",
              "      <td>23.3</td>\n",
              "      <td>0.672</td>\n",
              "      <td>32</td>\n",
              "      <td>1</td>\n",
              "      <td>Positive</td>\n",
              "    </tr>\n",
              "    <tr>\n",
              "      <th>3</th>\n",
              "      <td>ICU200013</td>\n",
              "      <td>1</td>\n",
              "      <td>89</td>\n",
              "      <td>66</td>\n",
              "      <td>23</td>\n",
              "      <td>94</td>\n",
              "      <td>28.1</td>\n",
              "      <td>0.167</td>\n",
              "      <td>21</td>\n",
              "      <td>1</td>\n",
              "      <td>Negative</td>\n",
              "    </tr>\n",
              "    <tr>\n",
              "      <th>4</th>\n",
              "      <td>ICU200014</td>\n",
              "      <td>0</td>\n",
              "      <td>137</td>\n",
              "      <td>40</td>\n",
              "      <td>35</td>\n",
              "      <td>168</td>\n",
              "      <td>43.1</td>\n",
              "      <td>2.288</td>\n",
              "      <td>33</td>\n",
              "      <td>1</td>\n",
              "      <td>Positive</td>\n",
              "    </tr>\n",
              "    <tr>\n",
              "      <th>...</th>\n",
              "      <td>...</td>\n",
              "      <td>...</td>\n",
              "      <td>...</td>\n",
              "      <td>...</td>\n",
              "      <td>...</td>\n",
              "      <td>...</td>\n",
              "      <td>...</td>\n",
              "      <td>...</td>\n",
              "      <td>...</td>\n",
              "      <td>...</td>\n",
              "      <td>...</td>\n",
              "    </tr>\n",
              "    <tr>\n",
              "      <th>594</th>\n",
              "      <td>ICU200604</td>\n",
              "      <td>6</td>\n",
              "      <td>123</td>\n",
              "      <td>72</td>\n",
              "      <td>45</td>\n",
              "      <td>230</td>\n",
              "      <td>33.6</td>\n",
              "      <td>0.733</td>\n",
              "      <td>34</td>\n",
              "      <td>0</td>\n",
              "      <td>Negative</td>\n",
              "    </tr>\n",
              "    <tr>\n",
              "      <th>595</th>\n",
              "      <td>ICU200605</td>\n",
              "      <td>0</td>\n",
              "      <td>188</td>\n",
              "      <td>82</td>\n",
              "      <td>14</td>\n",
              "      <td>185</td>\n",
              "      <td>32.0</td>\n",
              "      <td>0.682</td>\n",
              "      <td>22</td>\n",
              "      <td>1</td>\n",
              "      <td>Positive</td>\n",
              "    </tr>\n",
              "    <tr>\n",
              "      <th>596</th>\n",
              "      <td>ICU200606</td>\n",
              "      <td>0</td>\n",
              "      <td>67</td>\n",
              "      <td>76</td>\n",
              "      <td>0</td>\n",
              "      <td>0</td>\n",
              "      <td>45.3</td>\n",
              "      <td>0.194</td>\n",
              "      <td>46</td>\n",
              "      <td>1</td>\n",
              "      <td>Negative</td>\n",
              "    </tr>\n",
              "    <tr>\n",
              "      <th>597</th>\n",
              "      <td>ICU200607</td>\n",
              "      <td>1</td>\n",
              "      <td>89</td>\n",
              "      <td>24</td>\n",
              "      <td>19</td>\n",
              "      <td>25</td>\n",
              "      <td>27.8</td>\n",
              "      <td>0.559</td>\n",
              "      <td>21</td>\n",
              "      <td>0</td>\n",
              "      <td>Negative</td>\n",
              "    </tr>\n",
              "    <tr>\n",
              "      <th>598</th>\n",
              "      <td>ICU200608</td>\n",
              "      <td>1</td>\n",
              "      <td>173</td>\n",
              "      <td>74</td>\n",
              "      <td>0</td>\n",
              "      <td>0</td>\n",
              "      <td>36.8</td>\n",
              "      <td>0.088</td>\n",
              "      <td>38</td>\n",
              "      <td>1</td>\n",
              "      <td>Positive</td>\n",
              "    </tr>\n",
              "  </tbody>\n",
              "</table>\n",
              "<p>599 rows × 11 columns</p>\n",
              "</div>"
            ],
            "text/plain": [
              "            ID  PRG   PL  PR  SK   TS   M11    BD2  Age  Insurance    Sepsis\n",
              "0    ICU200010    6  148  72  35    0  33.6  0.627   50          0  Positive\n",
              "1    ICU200011    1   85  66  29    0  26.6  0.351   31          0  Negative\n",
              "2    ICU200012    8  183  64   0    0  23.3  0.672   32          1  Positive\n",
              "3    ICU200013    1   89  66  23   94  28.1  0.167   21          1  Negative\n",
              "4    ICU200014    0  137  40  35  168  43.1  2.288   33          1  Positive\n",
              "..         ...  ...  ...  ..  ..  ...   ...    ...  ...        ...       ...\n",
              "594  ICU200604    6  123  72  45  230  33.6  0.733   34          0  Negative\n",
              "595  ICU200605    0  188  82  14  185  32.0  0.682   22          1  Positive\n",
              "596  ICU200606    0   67  76   0    0  45.3  0.194   46          1  Negative\n",
              "597  ICU200607    1   89  24  19   25  27.8  0.559   21          0  Negative\n",
              "598  ICU200608    1  173  74   0    0  36.8  0.088   38          1  Positive\n",
              "\n",
              "[599 rows x 11 columns]"
            ]
          },
          "execution_count": 43,
          "metadata": {},
          "output_type": "execute_result"
        }
      ],
      "source": [
        "train_df"
      ]
    },
    {
      "cell_type": "code",
      "execution_count": 44,
      "id": "cda17f5e",
      "metadata": {},
      "outputs": [
        {
          "data": {
            "text/html": [
              "<div>\n",
              "<style scoped>\n",
              "    .dataframe tbody tr th:only-of-type {\n",
              "        vertical-align: middle;\n",
              "    }\n",
              "\n",
              "    .dataframe tbody tr th {\n",
              "        vertical-align: top;\n",
              "    }\n",
              "\n",
              "    .dataframe thead th {\n",
              "        text-align: right;\n",
              "    }\n",
              "</style>\n",
              "<table border=\"1\" class=\"dataframe\">\n",
              "  <thead>\n",
              "    <tr style=\"text-align: right;\">\n",
              "      <th></th>\n",
              "      <th>PRG</th>\n",
              "      <th>PL</th>\n",
              "      <th>PR</th>\n",
              "      <th>SK</th>\n",
              "      <th>TS</th>\n",
              "      <th>M11</th>\n",
              "      <th>BD2</th>\n",
              "      <th>Age</th>\n",
              "    </tr>\n",
              "  </thead>\n",
              "  <tbody>\n",
              "    <tr>\n",
              "      <th>0</th>\n",
              "      <td>1</td>\n",
              "      <td>109</td>\n",
              "      <td>38</td>\n",
              "      <td>18</td>\n",
              "      <td>120</td>\n",
              "      <td>23.1</td>\n",
              "      <td>0.407</td>\n",
              "      <td>26</td>\n",
              "    </tr>\n",
              "    <tr>\n",
              "      <th>1</th>\n",
              "      <td>1</td>\n",
              "      <td>108</td>\n",
              "      <td>88</td>\n",
              "      <td>19</td>\n",
              "      <td>0</td>\n",
              "      <td>27.1</td>\n",
              "      <td>0.400</td>\n",
              "      <td>24</td>\n",
              "    </tr>\n",
              "    <tr>\n",
              "      <th>2</th>\n",
              "      <td>6</td>\n",
              "      <td>96</td>\n",
              "      <td>0</td>\n",
              "      <td>0</td>\n",
              "      <td>0</td>\n",
              "      <td>23.7</td>\n",
              "      <td>0.190</td>\n",
              "      <td>28</td>\n",
              "    </tr>\n",
              "    <tr>\n",
              "      <th>3</th>\n",
              "      <td>1</td>\n",
              "      <td>124</td>\n",
              "      <td>74</td>\n",
              "      <td>36</td>\n",
              "      <td>0</td>\n",
              "      <td>27.8</td>\n",
              "      <td>0.100</td>\n",
              "      <td>30</td>\n",
              "    </tr>\n",
              "    <tr>\n",
              "      <th>4</th>\n",
              "      <td>7</td>\n",
              "      <td>150</td>\n",
              "      <td>78</td>\n",
              "      <td>29</td>\n",
              "      <td>126</td>\n",
              "      <td>35.2</td>\n",
              "      <td>0.692</td>\n",
              "      <td>54</td>\n",
              "    </tr>\n",
              "    <tr>\n",
              "      <th>...</th>\n",
              "      <td>...</td>\n",
              "      <td>...</td>\n",
              "      <td>...</td>\n",
              "      <td>...</td>\n",
              "      <td>...</td>\n",
              "      <td>...</td>\n",
              "      <td>...</td>\n",
              "      <td>...</td>\n",
              "    </tr>\n",
              "    <tr>\n",
              "      <th>164</th>\n",
              "      <td>10</td>\n",
              "      <td>101</td>\n",
              "      <td>76</td>\n",
              "      <td>48</td>\n",
              "      <td>180</td>\n",
              "      <td>32.9</td>\n",
              "      <td>0.171</td>\n",
              "      <td>63</td>\n",
              "    </tr>\n",
              "    <tr>\n",
              "      <th>165</th>\n",
              "      <td>2</td>\n",
              "      <td>122</td>\n",
              "      <td>70</td>\n",
              "      <td>27</td>\n",
              "      <td>0</td>\n",
              "      <td>36.8</td>\n",
              "      <td>0.340</td>\n",
              "      <td>27</td>\n",
              "    </tr>\n",
              "    <tr>\n",
              "      <th>166</th>\n",
              "      <td>5</td>\n",
              "      <td>121</td>\n",
              "      <td>72</td>\n",
              "      <td>23</td>\n",
              "      <td>112</td>\n",
              "      <td>26.2</td>\n",
              "      <td>0.245</td>\n",
              "      <td>30</td>\n",
              "    </tr>\n",
              "    <tr>\n",
              "      <th>167</th>\n",
              "      <td>1</td>\n",
              "      <td>126</td>\n",
              "      <td>60</td>\n",
              "      <td>0</td>\n",
              "      <td>0</td>\n",
              "      <td>30.1</td>\n",
              "      <td>0.349</td>\n",
              "      <td>47</td>\n",
              "    </tr>\n",
              "    <tr>\n",
              "      <th>168</th>\n",
              "      <td>1</td>\n",
              "      <td>93</td>\n",
              "      <td>70</td>\n",
              "      <td>31</td>\n",
              "      <td>0</td>\n",
              "      <td>30.4</td>\n",
              "      <td>0.315</td>\n",
              "      <td>23</td>\n",
              "    </tr>\n",
              "  </tbody>\n",
              "</table>\n",
              "<p>169 rows × 8 columns</p>\n",
              "</div>"
            ],
            "text/plain": [
              "     PRG   PL  PR  SK   TS   M11    BD2  Age\n",
              "0      1  109  38  18  120  23.1  0.407   26\n",
              "1      1  108  88  19    0  27.1  0.400   24\n",
              "2      6   96   0   0    0  23.7  0.190   28\n",
              "3      1  124  74  36    0  27.8  0.100   30\n",
              "4      7  150  78  29  126  35.2  0.692   54\n",
              "..   ...  ...  ..  ..  ...   ...    ...  ...\n",
              "164   10  101  76  48  180  32.9  0.171   63\n",
              "165    2  122  70  27    0  36.8  0.340   27\n",
              "166    5  121  72  23  112  26.2  0.245   30\n",
              "167    1  126  60   0    0  30.1  0.349   47\n",
              "168    1   93  70  31    0  30.4  0.315   23\n",
              "\n",
              "[169 rows x 8 columns]"
            ]
          },
          "execution_count": 44,
          "metadata": {},
          "output_type": "execute_result"
        }
      ],
      "source": [
        "test_df"
      ]
    },
    {
      "cell_type": "markdown",
      "id": "c236160d",
      "metadata": {
        "id": "c236160d"
      },
      "source": [
        "<a id=\"2.7.3\"></a>\n",
        "# 2.7.3 Outliers processing:\n",
        "****"
      ]
    },
    {
      "cell_type": "markdown",
      "id": "WsvNZsliNyyT",
      "metadata": {
        "id": "WsvNZsliNyyT"
      },
      "source": [
        "We need to do outlier processing for the train and test dataset"
      ]
    },
    {
      "cell_type": "code",
      "execution_count": 45,
      "id": "RO0hjKppNq6b",
      "metadata": {
        "colab": {
          "base_uri": "https://localhost:8080/",
          "height": 786
        },
        "id": "RO0hjKppNq6b",
        "outputId": "0681ac11-c1eb-4cd4-ff7c-034e5bd94608"
      },
      "outputs": [
        {
          "data": {
            "text/plain": [
              "<AxesSubplot:>"
            ]
          },
          "execution_count": 45,
          "metadata": {},
          "output_type": "execute_result"
        },
        {
          "data": {
            "image/png": "[encoded data removed]",
            "text/plain": [
              "<Figure size 1440x1080 with 1 Axes>"
            ]
          },
          "metadata": {},
          "output_type": "display_data"
        }
      ],
      "source": [
        "process_train_df.plot(kind=\"box\")"
      ]
    },
    {
      "cell_type": "code",
      "execution_count": 46,
      "id": "pqzZ-2spOSBj",
      "metadata": {
        "id": "pqzZ-2spOSBj"
      },
      "outputs": [],
      "source": [
        "def outlier_detection(df,col_name):\n",
        "    q_low = df[col_name].quantile(0.02)\n",
        "    q_high = df[col_name].quantile(0.93)\n",
        "    print(\"----Outlier detection for column: \",col_name,\"----\")\n",
        "    print(\"q_low: \", q_low)\n",
        "    print(\"q_high\", q_high)\n",
        "    upper_outlier = set([])\n",
        "    lower_outlier = set([])\n",
        "    \n",
        "    for i, x in enumerate(df[col_name]):\n",
        "      if(x > q_high) :\n",
        "        upper_outlier.add(x)\n",
        "      if(x < q_low) :\n",
        "        lower_outlier.add(x)\n",
        "        \n",
        "    if len(lower_outlier) > 0: \n",
        "      sorted(lower_outlier)\n",
        "      \n",
        "    print(\"Number of upper outlier: \",len(upper_outlier))\n",
        "    print(\"----- Outlier value for: \", col_name,\"-----\")\n",
        "    print(\"Upper value: \",sorted(upper_outlier))\n",
        "    print(\"Lower value: \", lower_outlier)\n"
      ]
    },
    {
      "cell_type": "markdown",
      "id": "ToNott7oYQSa",
      "metadata": {
        "id": "ToNott7oYQSa"
      },
      "source": [
        "A function to handle outlier"
      ]
    },
    {
      "cell_type": "code",
      "execution_count": 47,
      "id": "-u_G0qO-YW9v",
      "metadata": {
        "colab": {
          "base_uri": "https://localhost:8080/",
          "height": 347
        },
        "id": "-u_G0qO-YW9v",
        "outputId": "9c898031-6f6f-4f1a-ff43-c150cd8c66e6"
      },
      "outputs": [],
      "source": [
        "# A function to handle outlier and replace outliers with 0 value\n",
        "def outlier_handler(df,col_name):\n",
        "  q_low = df[col_name].quantile(0.02)\n",
        "  q_high = df[col_name].quantile(0.93)\n",
        "  df.loc[(df[col_name] > q_high) | (df[col_name] < q_low), col_name] = 0\n",
        "  return df\n"
      ]
    },
    {
      "cell_type": "code",
      "execution_count": 48,
      "id": "c95d2874",
      "metadata": {},
      "outputs": [],
      "source": [
        "def nanConverter(df):\n",
        "    df.replace(0,np.nan, inplace = True)\n",
        "    return df;"
      ]
    },
    {
      "cell_type": "markdown",
      "id": "waTfvsgBYjVS",
      "metadata": {
        "id": "waTfvsgBYjVS"
      },
      "source": [
        "## `PRG` Column"
      ]
    },
    {
      "cell_type": "code",
      "execution_count": 49,
      "id": "l6bBEaw-YixS",
      "metadata": {
        "id": "l6bBEaw-YixS"
      },
      "outputs": [
        {
          "name": "stdout",
          "output_type": "stream",
          "text": [
            "----Outlier detection for column:  PRG ----\n",
            "q_low:  0.0\n",
            "q_high 9.139999999999986\n",
            "Number of upper outlier:  7\n",
            "----- Outlier value for:  PRG -----\n",
            "Upper value:  [10, 11, 12, 13, 14, 15, 17]\n",
            "Lower value:  set()\n"
          ]
        }
      ],
      "source": [
        "outlier_detection(process_train_df,'PRG')"
      ]
    },
    {
      "cell_type": "code",
      "execution_count": 50,
      "id": "924d771e",
      "metadata": {},
      "outputs": [],
      "source": [
        "process_train_df = outlier_handler(process_train_df,'PRG')"
      ]
    },
    {
      "cell_type": "markdown",
      "id": "feedd751",
      "metadata": {
        "id": "feedd751"
      },
      "source": [
        "## `PL` column:"
      ]
    },
    {
      "cell_type": "markdown",
      "id": "f3ffd167",
      "metadata": {},
      "source": [
        "> **Train Dataset**"
      ]
    },
    {
      "cell_type": "code",
      "execution_count": 51,
      "id": "382fe9f7",
      "metadata": {
        "colab": {
          "base_uri": "https://localhost:8080/",
          "height": 413
        },
        "id": "382fe9f7",
        "outputId": "b889dd6d-f350-4369-f6b6-66e51461a616"
      },
      "outputs": [
        {
          "name": "stdout",
          "output_type": "stream",
          "text": [
            "----Outlier detection for column:  PL ----\n",
            "q_low:  72.96000000000001\n",
            "q_high 177.14\n",
            "Number of upper outlier:  18\n",
            "----- Outlier value for:  PL -----\n",
            "Upper value:  [178, 179, 180, 181, 182, 183, 184, 186, 187, 188, 189, 191, 193, 194, 195, 196, 197, 198]\n",
            "Lower value:  {67, 68, 71, 72, 44, 57, 61, 62}\n"
          ]
        }
      ],
      "source": [
        "outlier_detection(process_train_df,'PL')"
      ]
    },
    {
      "cell_type": "code",
      "execution_count": 52,
      "id": "1ef7cf3f",
      "metadata": {},
      "outputs": [],
      "source": [
        "process_train_df = outlier_handler(process_train_df,'PL')"
      ]
    },
    {
      "cell_type": "markdown",
      "id": "ff89ac41",
      "metadata": {},
      "source": [
        "> **Test Dataset**"
      ]
    },
    {
      "cell_type": "code",
      "execution_count": 53,
      "id": "a24b0fcc",
      "metadata": {},
      "outputs": [
        {
          "name": "stdout",
          "output_type": "stream",
          "text": [
            "----Outlier detection for column:  PL ----\n",
            "q_low:  72.32\n",
            "q_high 174.0\n",
            "Number of upper outlier:  8\n",
            "----- Outlier value for:  PL -----\n",
            "Upper value:  [175, 179, 181, 183, 187, 190, 195, 199]\n",
            "Lower value:  {56, 65, 68}\n"
          ]
        }
      ],
      "source": [
        "outlier_detection(test_df,'PL')"
      ]
    },
    {
      "cell_type": "code",
      "execution_count": 54,
      "id": "58cc1c03",
      "metadata": {},
      "outputs": [],
      "source": [
        "process_test_df = outlier_handler(test_df,'PL')"
      ]
    },
    {
      "cell_type": "markdown",
      "id": "b8e33ea3",
      "metadata": {
        "id": "b8e33ea3"
      },
      "source": [
        "## `PR` column:"
      ]
    },
    {
      "cell_type": "markdown",
      "id": "e771c66c",
      "metadata": {
        "id": "e771c66c"
      },
      "source": [
        "> **Train Dataset**"
      ]
    },
    {
      "cell_type": "code",
      "execution_count": 55,
      "id": "700f7479",
      "metadata": {
        "id": "700f7479",
        "outputId": "147a1597-544c-4d53-b34a-eac47b3ffadb"
      },
      "outputs": [
        {
          "name": "stdout",
          "output_type": "stream",
          "text": [
            "----Outlier detection for column:  PR ----\n",
            "q_low:  48.0\n",
            "q_high 90.0\n",
            "Number of upper outlier:  11\n",
            "----- Outlier value for:  PR -----\n",
            "Upper value:  [92, 94, 95, 96, 98, 100, 102, 104, 108, 110, 122]\n",
            "Lower value:  {40, 44, 46, 24, 30}\n"
          ]
        }
      ],
      "source": [
        "outlier_detection(process_train_df,'PR')"
      ]
    },
    {
      "cell_type": "markdown",
      "id": "efa6e4e0",
      "metadata": {},
      "source": [
        "> **Test Dataset**"
      ]
    },
    {
      "cell_type": "code",
      "execution_count": 56,
      "id": "52e3ba18",
      "metadata": {},
      "outputs": [
        {
          "name": "stdout",
          "output_type": "stream",
          "text": [
            "----Outlier detection for column:  PR ----\n",
            "q_low:  0.0\n",
            "q_high 90.0\n",
            "Number of upper outlier:  6\n",
            "----- Outlier value for:  PR -----\n",
            "Upper value:  [92, 94, 96, 100, 106, 114]\n",
            "Lower value:  set()\n"
          ]
        }
      ],
      "source": [
        "outlier_detection(test_df,'PR')"
      ]
    },
    {
      "cell_type": "markdown",
      "id": "1bff5023",
      "metadata": {
        "id": "1bff5023"
      },
      "source": [
        "## `SK` column:"
      ]
    },
    {
      "cell_type": "markdown",
      "id": "2e617624",
      "metadata": {
        "id": "2e617624"
      },
      "source": [
        "> **Train Dataset**"
      ]
    },
    {
      "cell_type": "code",
      "execution_count": 57,
      "id": "432fef87",
      "metadata": {
        "id": "432fef87",
        "outputId": "0ee0331d-ca7b-471a-d016-e7132123547e"
      },
      "outputs": [
        {
          "name": "stdout",
          "output_type": "stream",
          "text": [
            "----Outlier detection for column:  SK ----\n",
            "q_low:  11.0\n",
            "q_high 42.0\n",
            "Number of upper outlier:  15\n",
            "----- Outlier value for:  SK -----\n",
            "Upper value:  [43, 44, 45, 46, 47, 48, 49, 50, 51, 52, 54, 56, 60, 63, 99]\n",
            "Lower value:  {8, 10, 7}\n"
          ]
        }
      ],
      "source": [
        "outlier_detection(process_train_df,'SK')"
      ]
    },
    {
      "cell_type": "code",
      "execution_count": 58,
      "id": "0735ec51",
      "metadata": {
        "id": "0735ec51",
        "outputId": "abb6345a-ee74-4a6d-dd3a-583749d8052c",
        "scrolled": true
      },
      "outputs": [],
      "source": [
        "process_test_df = outlier_handler(test_df,'SK')"
      ]
    },
    {
      "cell_type": "markdown",
      "id": "369ffe45",
      "metadata": {},
      "source": [
        "> **Test Dataset**"
      ]
    },
    {
      "cell_type": "code",
      "execution_count": 59,
      "id": "447a84d8",
      "metadata": {},
      "outputs": [
        {
          "name": "stdout",
          "output_type": "stream",
          "text": [
            "----Outlier detection for column:  SK ----\n",
            "q_low:  0.0\n",
            "q_high 39.0\n",
            "Number of upper outlier:  3\n",
            "----- Outlier value for:  SK -----\n",
            "Upper value:  [40, 41, 42]\n",
            "Lower value:  set()\n"
          ]
        }
      ],
      "source": [
        "outlier_detection(process_test_df,'SK')"
      ]
    },
    {
      "cell_type": "code",
      "execution_count": 60,
      "id": "6d08723d",
      "metadata": {},
      "outputs": [],
      "source": [
        "process_test_df = outlier_handler(process_test_df,'SK')"
      ]
    },
    {
      "cell_type": "markdown",
      "id": "e2e2b749",
      "metadata": {
        "id": "e2e2b749"
      },
      "source": [
        "## `TS` column:"
      ]
    },
    {
      "cell_type": "markdown",
      "id": "b710c8cf",
      "metadata": {},
      "source": [
        "\n",
        "> **Sample train Dataset**"
      ]
    },
    {
      "cell_type": "code",
      "execution_count": 61,
      "id": "fe4558df",
      "metadata": {
        "id": "fe4558df",
        "outputId": "e30cb1d2-66e4-49d4-cae2-547717301a51"
      },
      "outputs": [
        {
          "name": "stdout",
          "output_type": "stream",
          "text": [
            "----Outlier detection for column:  TS ----\n",
            "q_low:  0.0\n",
            "q_high 258.9799999999999\n",
            "Number of upper outlier:  38\n",
            "----- Outlier value for:  TS -----\n",
            "Upper value:  [265, 270, 271, 274, 275, 277, 278, 280, 284, 285, 293, 300, 304, 310, 318, 325, 326, 328, 330, 342, 360, 370, 375, 402, 415, 465, 474, 478, 480, 485, 495, 543, 545, 579, 600, 680, 744, 846]\n",
            "Lower value:  set()\n"
          ]
        }
      ],
      "source": [
        "outlier_detection(process_train_df,'TS')"
      ]
    },
    {
      "cell_type": "markdown",
      "id": "a24f3d2a",
      "metadata": {
        "id": "a24f3d2a"
      },
      "source": [
        "> **Sample test Dataset**"
      ]
    },
    {
      "cell_type": "code",
      "execution_count": 62,
      "id": "011e916f",
      "metadata": {
        "id": "011e916f",
        "outputId": "08881498-bdfd-45d0-af37-d52470a313b8"
      },
      "outputs": [
        {
          "name": "stdout",
          "output_type": "stream",
          "text": [
            "----Outlier detection for column:  TS ----\n",
            "q_low:  0.0\n",
            "q_high 246.00000000000023\n",
            "Number of upper outlier:  12\n",
            "----- Outlier value for:  TS -----\n",
            "Upper value:  [265, 272, 291, 293, 321, 335, 387, 392, 440, 480, 510, 540]\n",
            "Lower value:  set()\n"
          ]
        }
      ],
      "source": [
        "outlier_detection(process_test_df,'TS')"
      ]
    },
    {
      "cell_type": "code",
      "execution_count": 63,
      "id": "bd6e67f0",
      "metadata": {},
      "outputs": [],
      "source": [
        "process_test_df = outlier_handler(process_test_df,'TS')"
      ]
    },
    {
      "cell_type": "markdown",
      "id": "b2ba995b",
      "metadata": {
        "id": "b2ba995b"
      },
      "source": [
        "## `M11` column:"
      ]
    },
    {
      "cell_type": "markdown",
      "id": "28354f08",
      "metadata": {
        "id": "28354f08"
      },
      "source": [
        "> **Sample train Dataset**"
      ]
    },
    {
      "cell_type": "code",
      "execution_count": 64,
      "id": "215e1f5b",
      "metadata": {
        "id": "215e1f5b",
        "outputId": "668f55e6-83e0-4fea-c5b7-2de2f505a173"
      },
      "outputs": [
        {
          "name": "stdout",
          "output_type": "stream",
          "text": [
            "----Outlier detection for column:  M11 ----\n",
            "q_low:  18.392\n",
            "q_high 43.3\n",
            "Number of upper outlier:  30\n",
            "----- Outlier value for:  M11 -----\n",
            "Upper value:  [43.4, 43.5, 43.6, 44.0, 44.1, 44.2, 45.0, 45.2, 45.3, 45.4, 45.5, 45.6, 45.7, 45.8, 46.1, 46.2, 46.5, 46.7, 46.8, 47.9, 48.3, 48.8, 49.7, 50.0, 52.3, 52.9, 53.2, 55.0, 59.4, 67.1]\n",
            "Lower value:  {0.0, 18.2}\n"
          ]
        }
      ],
      "source": [
        "outlier_detection(process_train_df,'M11')"
      ]
    },
    {
      "cell_type": "code",
      "execution_count": 65,
      "id": "b24effb3",
      "metadata": {},
      "outputs": [],
      "source": [
        "process_train_df = outlier_handler(process_train_df,'M11')"
      ]
    },
    {
      "cell_type": "markdown",
      "id": "c606a6ed",
      "metadata": {
        "id": "c606a6ed"
      },
      "source": [
        "> **Sample test Dataset**"
      ]
    },
    {
      "cell_type": "code",
      "execution_count": 66,
      "id": "fa2c1333",
      "metadata": {
        "id": "fa2c1333",
        "outputId": "7c4994ee-0d7f-414d-ce77-a04c5a2497d2"
      },
      "outputs": [
        {
          "name": "stdout",
          "output_type": "stream",
          "text": [
            "----Outlier detection for column:  M11 ----\n",
            "q_low:  19.716\n",
            "q_high 42.444\n",
            "Number of upper outlier:  11\n",
            "----- Outlier value for:  M11 -----\n",
            "Upper value:  [42.9, 43.3, 43.5, 44.0, 44.5, 44.6, 46.1, 46.3, 49.3, 49.6, 57.3]\n",
            "Lower value:  {0.0, 19.5}\n"
          ]
        }
      ],
      "source": [
        "outlier_detection(process_test_df,'M11')"
      ]
    },
    {
      "cell_type": "code",
      "execution_count": 67,
      "id": "7297cddf",
      "metadata": {},
      "outputs": [],
      "source": [
        "process_test_df = outlier_handler(process_test_df,'M11')"
      ]
    },
    {
      "cell_type": "markdown",
      "id": "a10c393b",
      "metadata": {
        "id": "a10c393b"
      },
      "source": [
        "## `BD2` column:"
      ]
    },
    {
      "cell_type": "markdown",
      "id": "c4b251c9",
      "metadata": {
        "id": "c4b251c9"
      },
      "source": [
        "> **Sample train Dataset**"
      ]
    },
    {
      "cell_type": "code",
      "execution_count": 68,
      "id": "2bb396a7",
      "metadata": {
        "id": "2bb396a7",
        "outputId": "0678a029-8d32-419e-a0d8-191c9685feb8"
      },
      "outputs": [
        {
          "name": "stdout",
          "output_type": "stream",
          "text": [
            "----Outlier detection for column:  BD2 ----\n",
            "q_low:  0.10796\n",
            "q_high 0.968\n",
            "Number of upper outlier:  40\n",
            "----- Outlier value for:  BD2 -----\n",
            "Upper value:  [0.997, 1.001, 1.021, 1.022, 1.034, 1.072, 1.076, 1.095, 1.101, 1.114, 1.127, 1.136, 1.138, 1.144, 1.154, 1.159, 1.189, 1.191, 1.213, 1.222, 1.224, 1.251, 1.268, 1.318, 1.321, 1.353, 1.39, 1.391, 1.4, 1.441, 1.476, 1.6, 1.699, 1.731, 1.781, 1.893, 2.137, 2.288, 2.329, 2.42]\n",
            "Lower value:  {0.102, 0.088, 0.085, 0.084, 0.096, 0.101, 0.089, 0.092, 0.078, 0.107}\n"
          ]
        }
      ],
      "source": [
        "outlier_detection(process_train_df,'BD2')"
      ]
    },
    {
      "cell_type": "code",
      "execution_count": 69,
      "id": "4d121371",
      "metadata": {},
      "outputs": [],
      "source": [
        "process_train_df = outlier_handler(process_train_df,'BD2')"
      ]
    },
    {
      "cell_type": "markdown",
      "id": "8088a6c7",
      "metadata": {
        "id": "8088a6c7"
      },
      "source": [
        "> **Sample test Dataset**"
      ]
    },
    {
      "cell_type": "code",
      "execution_count": 70,
      "id": "ffd0b404",
      "metadata": {
        "id": "ffd0b404",
        "outputId": "902b97be-9f5e-4f5e-ce71-da4228fdfcbd"
      },
      "outputs": [
        {
          "name": "stdout",
          "output_type": "stream",
          "text": [
            "----Outlier detection for column:  BD2 ----\n",
            "q_low:  0.12315999999999999\n",
            "q_high 0.9206000000000006\n",
            "Number of upper outlier:  12\n",
            "----- Outlier value for:  BD2 -----\n",
            "Upper value:  [0.97, 1.057, 1.096, 1.162, 1.174, 1.182, 1.258, 1.282, 1.292, 1.394, 1.461, 1.698]\n",
            "Lower value:  {0.1, 0.118, 0.115, 0.121}\n"
          ]
        }
      ],
      "source": [
        "outlier_detection(test_df,'BD2')"
      ]
    },
    {
      "cell_type": "code",
      "execution_count": 71,
      "id": "SVb9vj1shTD3",
      "metadata": {
        "id": "SVb9vj1shTD3"
      },
      "outputs": [],
      "source": [
        "process_test_df = outlier_handler(process_test_df,'BD2')"
      ]
    },
    {
      "cell_type": "markdown",
      "id": "17d9312b",
      "metadata": {},
      "source": [
        "## We could fill the data by interpolation"
      ]
    },
    {
      "cell_type": "code",
      "execution_count": 72,
      "id": "5ea99749",
      "metadata": {},
      "outputs": [
        {
          "name": "stdout",
          "output_type": "stream",
          "text": [
            "PRG       0.0\n",
            "PL        0.0\n",
            "PR        0.0\n",
            "SK        0.0\n",
            "TS        0.0\n",
            "M11       0.0\n",
            "BD2       0.0\n",
            "Age       0.0\n",
            "Sepsis    0.0\n",
            "dtype: float64\n"
          ]
        }
      ],
      "source": [
        "percentMissing(process_train_df)"
      ]
    },
    {
      "cell_type": "code",
      "execution_count": 73,
      "id": "8604fc47",
      "metadata": {},
      "outputs": [
        {
          "name": "stdout",
          "output_type": "stream",
          "text": [
            "---Number of zero value of ---\n",
            "PRG :  135\n",
            "PL :  54\n",
            "PR :  0\n",
            "SK :  0\n",
            "TS :  289\n",
            "M11 :  52\n",
            "BD2 :  53\n",
            "Age :  0\n",
            "Sepsis :  0\n"
          ]
        }
      ],
      "source": [
        "countZeros(process_train_df,\"\")"
      ]
    },
    {
      "cell_type": "code",
      "execution_count": 74,
      "id": "2f23f961",
      "metadata": {},
      "outputs": [],
      "source": [
        "process_train_df = nanConverter(process_train_df)"
      ]
    },
    {
      "cell_type": "code",
      "execution_count": 75,
      "id": "444207f6",
      "metadata": {},
      "outputs": [],
      "source": [
        "process_train_df = process_train_df.interpolate()"
      ]
    },
    {
      "cell_type": "code",
      "execution_count": 76,
      "id": "6eea3db3",
      "metadata": {},
      "outputs": [
        {
          "data": {
            "text/html": [
              "<div>\n",
              "<style scoped>\n",
              "    .dataframe tbody tr th:only-of-type {\n",
              "        vertical-align: middle;\n",
              "    }\n",
              "\n",
              "    .dataframe tbody tr th {\n",
              "        vertical-align: top;\n",
              "    }\n",
              "\n",
              "    .dataframe thead th {\n",
              "        text-align: right;\n",
              "    }\n",
              "</style>\n",
              "<table border=\"1\" class=\"dataframe\">\n",
              "  <thead>\n",
              "    <tr style=\"text-align: right;\">\n",
              "      <th></th>\n",
              "      <th>PRG</th>\n",
              "      <th>PL</th>\n",
              "      <th>PR</th>\n",
              "      <th>SK</th>\n",
              "      <th>TS</th>\n",
              "      <th>M11</th>\n",
              "      <th>BD2</th>\n",
              "      <th>Age</th>\n",
              "      <th>Sepsis</th>\n",
              "    </tr>\n",
              "  </thead>\n",
              "  <tbody>\n",
              "    <tr>\n",
              "      <th>0</th>\n",
              "      <td>6.000000</td>\n",
              "      <td>148.000000</td>\n",
              "      <td>72</td>\n",
              "      <td>35</td>\n",
              "      <td>NaN</td>\n",
              "      <td>33.6</td>\n",
              "      <td>0.627</td>\n",
              "      <td>50</td>\n",
              "      <td>Positive</td>\n",
              "    </tr>\n",
              "    <tr>\n",
              "      <th>1</th>\n",
              "      <td>1.000000</td>\n",
              "      <td>85.000000</td>\n",
              "      <td>66</td>\n",
              "      <td>29</td>\n",
              "      <td>NaN</td>\n",
              "      <td>26.6</td>\n",
              "      <td>0.351</td>\n",
              "      <td>31</td>\n",
              "      <td>Negative</td>\n",
              "    </tr>\n",
              "    <tr>\n",
              "      <th>2</th>\n",
              "      <td>8.000000</td>\n",
              "      <td>87.000000</td>\n",
              "      <td>64</td>\n",
              "      <td>23</td>\n",
              "      <td>NaN</td>\n",
              "      <td>23.3</td>\n",
              "      <td>0.672</td>\n",
              "      <td>32</td>\n",
              "      <td>Positive</td>\n",
              "    </tr>\n",
              "    <tr>\n",
              "      <th>3</th>\n",
              "      <td>1.000000</td>\n",
              "      <td>89.000000</td>\n",
              "      <td>66</td>\n",
              "      <td>23</td>\n",
              "      <td>94.0</td>\n",
              "      <td>28.1</td>\n",
              "      <td>0.167</td>\n",
              "      <td>21</td>\n",
              "      <td>Negative</td>\n",
              "    </tr>\n",
              "    <tr>\n",
              "      <th>4</th>\n",
              "      <td>3.000000</td>\n",
              "      <td>137.000000</td>\n",
              "      <td>40</td>\n",
              "      <td>35</td>\n",
              "      <td>168.0</td>\n",
              "      <td>43.1</td>\n",
              "      <td>0.184</td>\n",
              "      <td>33</td>\n",
              "      <td>Positive</td>\n",
              "    </tr>\n",
              "    <tr>\n",
              "      <th>...</th>\n",
              "      <td>...</td>\n",
              "      <td>...</td>\n",
              "      <td>...</td>\n",
              "      <td>...</td>\n",
              "      <td>...</td>\n",
              "      <td>...</td>\n",
              "      <td>...</td>\n",
              "      <td>...</td>\n",
              "      <td>...</td>\n",
              "    </tr>\n",
              "    <tr>\n",
              "      <th>594</th>\n",
              "      <td>6.000000</td>\n",
              "      <td>123.000000</td>\n",
              "      <td>72</td>\n",
              "      <td>45</td>\n",
              "      <td>230.0</td>\n",
              "      <td>33.6</td>\n",
              "      <td>0.733</td>\n",
              "      <td>34</td>\n",
              "      <td>Negative</td>\n",
              "    </tr>\n",
              "    <tr>\n",
              "      <th>595</th>\n",
              "      <td>4.333333</td>\n",
              "      <td>111.666667</td>\n",
              "      <td>82</td>\n",
              "      <td>14</td>\n",
              "      <td>185.0</td>\n",
              "      <td>32.0</td>\n",
              "      <td>0.682</td>\n",
              "      <td>22</td>\n",
              "      <td>Positive</td>\n",
              "    </tr>\n",
              "    <tr>\n",
              "      <th>596</th>\n",
              "      <td>2.666667</td>\n",
              "      <td>100.333333</td>\n",
              "      <td>76</td>\n",
              "      <td>23</td>\n",
              "      <td>105.0</td>\n",
              "      <td>29.9</td>\n",
              "      <td>0.194</td>\n",
              "      <td>46</td>\n",
              "      <td>Negative</td>\n",
              "    </tr>\n",
              "    <tr>\n",
              "      <th>597</th>\n",
              "      <td>1.000000</td>\n",
              "      <td>89.000000</td>\n",
              "      <td>24</td>\n",
              "      <td>19</td>\n",
              "      <td>25.0</td>\n",
              "      <td>27.8</td>\n",
              "      <td>0.559</td>\n",
              "      <td>21</td>\n",
              "      <td>Negative</td>\n",
              "    </tr>\n",
              "    <tr>\n",
              "      <th>598</th>\n",
              "      <td>1.000000</td>\n",
              "      <td>173.000000</td>\n",
              "      <td>74</td>\n",
              "      <td>23</td>\n",
              "      <td>25.0</td>\n",
              "      <td>36.8</td>\n",
              "      <td>0.559</td>\n",
              "      <td>38</td>\n",
              "      <td>Positive</td>\n",
              "    </tr>\n",
              "  </tbody>\n",
              "</table>\n",
              "<p>599 rows × 9 columns</p>\n",
              "</div>"
            ],
            "text/plain": [
              "          PRG          PL  PR  SK     TS   M11    BD2  Age    Sepsis\n",
              "0    6.000000  148.000000  72  35    NaN  33.6  0.627   50  Positive\n",
              "1    1.000000   85.000000  66  29    NaN  26.6  0.351   31  Negative\n",
              "2    8.000000   87.000000  64  23    NaN  23.3  0.672   32  Positive\n",
              "3    1.000000   89.000000  66  23   94.0  28.1  0.167   21  Negative\n",
              "4    3.000000  137.000000  40  35  168.0  43.1  0.184   33  Positive\n",
              "..        ...         ...  ..  ..    ...   ...    ...  ...       ...\n",
              "594  6.000000  123.000000  72  45  230.0  33.6  0.733   34  Negative\n",
              "595  4.333333  111.666667  82  14  185.0  32.0  0.682   22  Positive\n",
              "596  2.666667  100.333333  76  23  105.0  29.9  0.194   46  Negative\n",
              "597  1.000000   89.000000  24  19   25.0  27.8  0.559   21  Negative\n",
              "598  1.000000  173.000000  74  23   25.0  36.8  0.559   38  Positive\n",
              "\n",
              "[599 rows x 9 columns]"
            ]
          },
          "execution_count": 76,
          "metadata": {},
          "output_type": "execute_result"
        }
      ],
      "source": [
        "process_train_df"
      ]
    },
    {
      "cell_type": "code",
      "execution_count": 77,
      "id": "4f148426",
      "metadata": {},
      "outputs": [
        {
          "data": {
            "text/plain": [
              "<AxesSubplot:>"
            ]
          },
          "execution_count": 77,
          "metadata": {},
          "output_type": "execute_result"
        },
        {
          "data": {
            "image/png": "[encoded data removed]",
            "text/plain": [
              "<Figure size 1440x1080 with 1 Axes>"
            ]
          },
          "metadata": {},
          "output_type": "display_data"
        }
      ],
      "source": [
        "process_train_df.plot(kind='box')"
      ]
    },
    {
      "cell_type": "markdown",
      "id": "caf89370",
      "metadata": {},
      "source": [
        "As can be observe from the box plot, we only need to resolve the outlier for `PR` , `SK`, `TS` and `Age`"
      ]
    },
    {
      "cell_type": "code",
      "execution_count": 83,
      "id": "456cfe6d",
      "metadata": {},
      "outputs": [
        {
          "name": "stdout",
          "output_type": "stream",
          "text": [
            "----Outlier detection for column:  PR ----\n",
            "q_low:  48.0\n",
            "q_high 90.0\n",
            "Number of upper outlier:  11\n",
            "----- Outlier value for:  PR -----\n",
            "Upper value:  [92, 94, 95, 96, 98, 100, 102, 104, 108, 110, 122]\n",
            "Lower value:  {40, 44, 46, 24, 30}\n"
          ]
        }
      ],
      "source": [
        "outlier_detection(process_train_df, 'PR')"
      ]
    },
    {
      "cell_type": "code",
      "execution_count": 84,
      "id": "628d11b2",
      "metadata": {},
      "outputs": [
        {
          "name": "stdout",
          "output_type": "stream",
          "text": [
            "----Outlier detection for column:  SK ----\n",
            "q_low:  11.0\n",
            "q_high 42.0\n",
            "Number of upper outlier:  15\n",
            "----- Outlier value for:  SK -----\n",
            "Upper value:  [43, 44, 45, 46, 47, 48, 49, 50, 51, 52, 54, 56, 60, 63, 99]\n",
            "Lower value:  {8, 10, 7}\n"
          ]
        }
      ],
      "source": [
        "outlier_detection(process_train_df, 'SK')"
      ]
    },
    {
      "cell_type": "markdown",
      "id": "f15d6df7",
      "metadata": {},
      "source": [
        "`TS`"
      ]
    },
    {
      "cell_type": "code",
      "execution_count": 85,
      "metadata": {},
      "outputs": [
        {
          "name": "stdout",
          "output_type": "stream",
          "text": [
            "----Outlier detection for column:  TS ----\n",
            "q_low:  36.9\n",
            "q_high 334.2000000000003\n",
            "Number of upper outlier:  41\n",
            "----- Outlier value for:  TS -----\n",
            "Upper value:  [342.0, 345.75, 354.66666666666663, 356.0, 358.66666666666663, 360.0, 365.0, 370.0, 372.0, 375.0, 377.0, 377.5, 378.0, 382.0, 384.25, 402.0, 415.0, 423.75, 465.0, 474.0, 475.5, 478.0, 480.0, 482.5, 485.0, 489.0, 495.0, 506.6666666666667, 518.0, 541.25, 543.0, 545.0, 579.0, 600.0, 603.6, 664.2, 680.0, 724.8, 744.0, 785.4, 846.0]\n",
            "Lower value:  {32.0, 36.0, 14.0, 18.0, 23.0, 25.0, 29.0}\n"
          ]
        }
      ],
      "source": [
        "outlier_detection(process_train_df, 'TS')"
      ]
    },
    {
      "cell_type": "markdown",
      "id": "e270e498",
      "metadata": {},
      "source": [
        "### `Age`\n",
        "After closer examination, the age value of the dataset is within the limit of normal age, therefore we elave it alone\n"
      ]
    },
    {
      "cell_type": "code",
      "execution_count": 87,
      "id": "ba24b866",
      "metadata": {},
      "outputs": [
        {
          "name": "stdout",
          "output_type": "stream",
          "text": [
            "----Outlier detection for column:  Age ----\n",
            "q_low:  21.0\n",
            "q_high 56.139999999999986\n",
            "Number of upper outlier:  14\n",
            "----- Outlier value for:  Age -----\n",
            "Upper value:  [57, 58, 59, 60, 61, 62, 63, 64, 65, 66, 67, 69, 72, 81]\n",
            "Lower value:  set()\n"
          ]
        }
      ],
      "source": [
        "outlier_detection(process_train_df, 'Age')"
      ]
    },
    {
      "cell_type": "markdown",
      "id": "bddc88b4",
      "metadata": {
        "id": "bddc88b4"
      },
      "source": [
        "<a id=\"2.2.3\"></a>\n",
        "## 2.2.3 Convert `Sepsis` in to binary number\n",
        "***\n",
        "Since `Sepssis` just have the `Positive` and `Negative` values so I want to convert them to 0 for Negative and 1 is for Positive"
      ]
    },
    {
      "cell_type": "code",
      "execution_count": null,
      "id": "674370ee",
      "metadata": {
        "colab": {
          "base_uri": "https://localhost:8080/",
          "height": 423
        },
        "id": "674370ee",
        "outputId": "e6cf7d3a-7eae-453f-d0f6-bdda9b54bc7b"
      },
      "outputs": [
        {
          "data": {
            "text/html": [
              "\n",
              "  <div id=\"df-ca0594b6-4578-428d-825d-60cef08c5f7e\">\n",
              "    <div class=\"colab-df-container\">\n",
              "      <div>\n",
              "<style scoped>\n",
              "    .dataframe tbody tr th:only-of-type {\n",
              "        vertical-align: middle;\n",
              "    }\n",
              "\n",
              "    .dataframe tbody tr th {\n",
              "        vertical-align: top;\n",
              "    }\n",
              "\n",
              "    .dataframe thead th {\n",
              "        text-align: right;\n",
              "    }\n",
              "</style>\n",
              "<table border=\"1\" class=\"dataframe\">\n",
              "  <thead>\n",
              "    <tr style=\"text-align: right;\">\n",
              "      <th></th>\n",
              "      <th>Negative</th>\n",
              "      <th>Positive</th>\n",
              "    </tr>\n",
              "  </thead>\n",
              "  <tbody>\n",
              "    <tr>\n",
              "      <th>0</th>\n",
              "      <td>0</td>\n",
              "      <td>1</td>\n",
              "    </tr>\n",
              "    <tr>\n",
              "      <th>1</th>\n",
              "      <td>1</td>\n",
              "      <td>0</td>\n",
              "    </tr>\n",
              "    <tr>\n",
              "      <th>2</th>\n",
              "      <td>0</td>\n",
              "      <td>1</td>\n",
              "    </tr>\n",
              "    <tr>\n",
              "      <th>3</th>\n",
              "      <td>1</td>\n",
              "      <td>0</td>\n",
              "    </tr>\n",
              "    <tr>\n",
              "      <th>4</th>\n",
              "      <td>0</td>\n",
              "      <td>1</td>\n",
              "    </tr>\n",
              "    <tr>\n",
              "      <th>...</th>\n",
              "      <td>...</td>\n",
              "      <td>...</td>\n",
              "    </tr>\n",
              "    <tr>\n",
              "      <th>594</th>\n",
              "      <td>1</td>\n",
              "      <td>0</td>\n",
              "    </tr>\n",
              "    <tr>\n",
              "      <th>595</th>\n",
              "      <td>0</td>\n",
              "      <td>1</td>\n",
              "    </tr>\n",
              "    <tr>\n",
              "      <th>596</th>\n",
              "      <td>1</td>\n",
              "      <td>0</td>\n",
              "    </tr>\n",
              "    <tr>\n",
              "      <th>597</th>\n",
              "      <td>1</td>\n",
              "      <td>0</td>\n",
              "    </tr>\n",
              "    <tr>\n",
              "      <th>598</th>\n",
              "      <td>0</td>\n",
              "      <td>1</td>\n",
              "    </tr>\n",
              "  </tbody>\n",
              "</table>\n",
              "<p>599 rows × 2 columns</p>\n",
              "</div>\n",
              "      <button class=\"colab-df-convert\" onclick=\"convertToInteractive('df-ca0594b6-4578-428d-825d-60cef08c5f7e')\"\n",
              "              title=\"Convert this dataframe to an interactive table.\"\n",
              "              style=\"display:none;\">\n",
              "        \n",
              "  <svg xmlns=\"http://www.w3.org/2000/svg\" height=\"24px\"viewBox=\"0 0 24 24\"\n",
              "       width=\"24px\">\n",
              "    <path d=\"M0 0h24v24H0V0z\" fill=\"none\"/>\n",
              "    <path d=\"M18.56 5.44l.94 2.06.94-2.06 2.06-.94-2.06-.94-.94-2.06-.94 2.06-2.06.94zm-11 1L8.5 8.5l.94-2.06 2.06-.94-2.06-.94L8.5 2.5l-.94 2.06-2.06.94zm10 10l.94 2.06.94-2.06 2.06-.94-2.06-.94-.94-2.06-.94 2.06-2.06.94z\"/><path d=\"M17.41 7.96l-1.37-1.37c-.4-.4-.92-.59-1.43-.59-.52 0-1.04.2-1.43.59L10.3 9.45l-7.72 7.72c-.78.78-.78 2.05 0 2.83L4 21.41c.39.39.9.59 1.41.59.51 0 1.02-.2 1.41-.59l7.78-7.78 2.81-2.81c.8-.78.8-2.07 0-2.86zM5.41 20L4 18.59l7.72-7.72 1.47 1.35L5.41 20z\"/>\n",
              "  </svg>\n",
              "      </button>\n",
              "      \n",
              "  <style>\n",
              "    .colab-df-container {\n",
              "      display:flex;\n",
              "      flex-wrap:wrap;\n",
              "      gap: 12px;\n",
              "    }\n",
              "\n",
              "    .colab-df-convert {\n",
              "      background-color: #E8F0FE;\n",
              "      border: none;\n",
              "      border-radius: 50%;\n",
              "      cursor: pointer;\n",
              "      display: none;\n",
              "      fill: #1967D2;\n",
              "      height: 32px;\n",
              "      padding: 0 0 0 0;\n",
              "      width: 32px;\n",
              "    }\n",
              "\n",
              "    .colab-df-convert:hover {\n",
              "      background-color: #E2EBFA;\n",
              "      box-shadow: 0px 1px 2px rgba(60, 64, 67, 0.3), 0px 1px 3px 1px rgba(60, 64, 67, 0.15);\n",
              "      fill: #174EA6;\n",
              "    }\n",
              "\n",
              "    [theme=dark] .colab-df-convert {\n",
              "      background-color: #3B4455;\n",
              "      fill: #D2E3FC;\n",
              "    }\n",
              "\n",
              "    [theme=dark] .colab-df-convert:hover {\n",
              "      background-color: #434B5C;\n",
              "      box-shadow: 0px 1px 3px 1px rgba(0, 0, 0, 0.15);\n",
              "      filter: drop-shadow(0px 1px 2px rgba(0, 0, 0, 0.3));\n",
              "      fill: #FFFFFF;\n",
              "    }\n",
              "  </style>\n",
              "\n",
              "      <script>\n",
              "        const buttonEl =\n",
              "          document.querySelector('#df-ca0594b6-4578-428d-825d-60cef08c5f7e button.colab-df-convert');\n",
              "        buttonEl.style.display =\n",
              "          google.colab.kernel.accessAllowed ? 'block' : 'none';\n",
              "\n",
              "        async function convertToInteractive(key) {\n",
              "          const element = document.querySelector('#df-ca0594b6-4578-428d-825d-60cef08c5f7e');\n",
              "          const dataTable =\n",
              "            await google.colab.kernel.invokeFunction('convertToInteractive',\n",
              "                                                     [key], {});\n",
              "          if (!dataTable) return;\n",
              "\n",
              "          const docLinkHtml = 'Like what you see? Visit the ' +\n",
              "            '<a target=\"_blank\" href=https://colab.research.google.com/notebooks/data_table.ipynb>data table notebook</a>'\n",
              "            + ' to learn more about interactive tables.';\n",
              "          element.innerHTML = '';\n",
              "          dataTable['output_type'] = 'display_data';\n",
              "          await google.colab.output.renderOutput(dataTable, element);\n",
              "          const docLink = document.createElement('div');\n",
              "          docLink.innerHTML = docLinkHtml;\n",
              "          element.appendChild(docLink);\n",
              "        }\n",
              "      </script>\n",
              "    </div>\n",
              "  </div>\n",
              "  "
            ],
            "text/plain": [
              "     Negative  Positive\n",
              "0           0         1\n",
              "1           1         0\n",
              "2           0         1\n",
              "3           1         0\n",
              "4           0         1\n",
              "..        ...       ...\n",
              "594         1         0\n",
              "595         0         1\n",
              "596         1         0\n",
              "597         1         0\n",
              "598         0         1\n",
              "\n",
              "[599 rows x 2 columns]"
            ]
          },
          "execution_count": 45,
          "metadata": {},
          "output_type": "execute_result"
        }
      ],
      "source": [
        "binarysepsis_train_df = pd.get_dummies(process_train_df[\"Sepsis\"])\n",
        "binarysepsis_train_df"
      ]
    },
    {
      "cell_type": "markdown",
      "id": "45W1u_2UvolO",
      "metadata": {
        "id": "45W1u_2UvolO"
      },
      "source": [
        "With the function get dummise the categrical colum `sepsis` which contains `positive` or `negative` of its value have been transfer into a binary value of two new column `Negative` and `Positve` of the `binarysepsis_train_df`. Now we need to merget the positive column back into the `train_df` data frame."
      ]
    },
    {
      "cell_type": "code",
      "execution_count": null,
      "id": "f09viyHoubGL",
      "metadata": {
        "id": "f09viyHoubGL"
      },
      "outputs": [],
      "source": [
        "process_train_df = pd.concat((binarysepsis_train_df, process_train_df), axis=1)"
      ]
    },
    {
      "cell_type": "markdown",
      "id": "B0wIMDkaxYoU",
      "metadata": {
        "id": "B0wIMDkaxYoU"
      },
      "source": [
        "After concatination of the two dataset, we conventionalize the result for the `Sepsis` column are as follow :\n",
        "<ul>\n",
        "  <li> 1 : Positive\n",
        "  <li> 0 : Negative\n",
        "</ul>\n",
        "therefore we drop the negative and Sepsis column and rename the Positive column to Sepsis"
      ]
    },
    {
      "cell_type": "code",
      "execution_count": null,
      "id": "1mOYEdTyxXB9",
      "metadata": {
        "colab": {
          "base_uri": "https://localhost:8080/",
          "height": 389
        },
        "id": "1mOYEdTyxXB9",
        "outputId": "7c8f8b89-a246-4a67-bf08-891b492f6a23"
      },
      "outputs": [
        {
          "ename": "KeyError",
          "evalue": "ignored",
          "output_type": "error",
          "traceback": [
            "\u001b[0;31m---------------------------------------------------------------------------\u001b[0m",
            "\u001b[0;31mKeyError\u001b[0m                                  Traceback (most recent call last)",
            "\u001b[0;32m<ipython-input-48-4d09fd712b2d>\u001b[0m in \u001b[0;36m<module>\u001b[0;34m()\u001b[0m\n\u001b[1;32m      1\u001b[0m \u001b[0mdropList\u001b[0m \u001b[0;34m=\u001b[0m \u001b[0;34m[\u001b[0m\u001b[0;34m\"negative\"\u001b[0m\u001b[0;34m,\u001b[0m\u001b[0;34m\"Sepsis\"\u001b[0m\u001b[0;34m]\u001b[0m\u001b[0;34m\u001b[0m\u001b[0;34m\u001b[0m\u001b[0m\n\u001b[1;32m      2\u001b[0m \u001b[0;31m#Drop column\u001b[0m\u001b[0;34m\u001b[0m\u001b[0;34m\u001b[0m\u001b[0;34m\u001b[0m\u001b[0m\n\u001b[0;32m----> 3\u001b[0;31m \u001b[0mprocess_train_df\u001b[0m \u001b[0;34m=\u001b[0m \u001b[0mdropCols\u001b[0m\u001b[0;34m(\u001b[0m\u001b[0mprocess_train_df\u001b[0m\u001b[0;34m,\u001b[0m\u001b[0mdropList\u001b[0m\u001b[0;34m)\u001b[0m\u001b[0;34m\u001b[0m\u001b[0;34m\u001b[0m\u001b[0m\n\u001b[0m\u001b[1;32m      4\u001b[0m \u001b[0;31m#Rename Positive column to Sepsis\u001b[0m\u001b[0;34m\u001b[0m\u001b[0;34m\u001b[0m\u001b[0;34m\u001b[0m\u001b[0m\n\u001b[1;32m      5\u001b[0m \u001b[0mprocess_train_df\u001b[0m \u001b[0;34m=\u001b[0m \u001b[0mprocess_train_df\u001b[0m\u001b[0;34m.\u001b[0m\u001b[0mrename\u001b[0m\u001b[0;34m(\u001b[0m\u001b[0mcolumns\u001b[0m\u001b[0;34m=\u001b[0m\u001b[0;34m{\u001b[0m\u001b[0;34m\"positive\"\u001b[0m\u001b[0;34m:\u001b[0m\u001b[0;34m\"Sepsis\"\u001b[0m\u001b[0;34m}\u001b[0m\u001b[0;34m)\u001b[0m\u001b[0;34m\u001b[0m\u001b[0;34m\u001b[0m\u001b[0m\n",
            "\u001b[0;32m<ipython-input-47-680d8209efa7>\u001b[0m in \u001b[0;36mdropCols\u001b[0;34m(input_df, dropList)\u001b[0m\n\u001b[1;32m      2\u001b[0m \u001b[0;31m#Define a util function to drop columns for both data set\u001b[0m\u001b[0;34m\u001b[0m\u001b[0;34m\u001b[0m\u001b[0;34m\u001b[0m\u001b[0m\n\u001b[1;32m      3\u001b[0m \u001b[0;32mdef\u001b[0m \u001b[0mdropCols\u001b[0m \u001b[0;34m(\u001b[0m\u001b[0minput_df\u001b[0m\u001b[0;34m,\u001b[0m \u001b[0mdropList\u001b[0m\u001b[0;34m)\u001b[0m \u001b[0;34m:\u001b[0m\u001b[0;34m\u001b[0m\u001b[0;34m\u001b[0m\u001b[0m\n\u001b[0;32m----> 4\u001b[0;31m   \u001b[0minput_df\u001b[0m\u001b[0;34m.\u001b[0m\u001b[0mdrop\u001b[0m\u001b[0;34m(\u001b[0m\u001b[0mcolumns\u001b[0m \u001b[0;34m=\u001b[0m \u001b[0mdropList\u001b[0m\u001b[0;34m,\u001b[0m \u001b[0minplace\u001b[0m \u001b[0;34m=\u001b[0m \u001b[0;32mTrue\u001b[0m\u001b[0;34m)\u001b[0m\u001b[0;34m;\u001b[0m\u001b[0;34m\u001b[0m\u001b[0;34m\u001b[0m\u001b[0m\n\u001b[0m\u001b[1;32m      5\u001b[0m   \u001b[0;32mreturn\u001b[0m \u001b[0minput_df\u001b[0m\u001b[0;34m\u001b[0m\u001b[0;34m\u001b[0m\u001b[0m\n\u001b[1;32m      6\u001b[0m \u001b[0;34m\u001b[0m\u001b[0m\n",
            "\u001b[0;32m/usr/local/lib/python3.7/dist-packages/pandas/util/_decorators.py\u001b[0m in \u001b[0;36mwrapper\u001b[0;34m(*args, **kwargs)\u001b[0m\n\u001b[1;32m    309\u001b[0m                     \u001b[0mstacklevel\u001b[0m\u001b[0;34m=\u001b[0m\u001b[0mstacklevel\u001b[0m\u001b[0;34m,\u001b[0m\u001b[0;34m\u001b[0m\u001b[0;34m\u001b[0m\u001b[0m\n\u001b[1;32m    310\u001b[0m                 )\n\u001b[0;32m--> 311\u001b[0;31m             \u001b[0;32mreturn\u001b[0m \u001b[0mfunc\u001b[0m\u001b[0;34m(\u001b[0m\u001b[0;34m*\u001b[0m\u001b[0margs\u001b[0m\u001b[0;34m,\u001b[0m \u001b[0;34m**\u001b[0m\u001b[0mkwargs\u001b[0m\u001b[0;34m)\u001b[0m\u001b[0;34m\u001b[0m\u001b[0;34m\u001b[0m\u001b[0m\n\u001b[0m\u001b[1;32m    312\u001b[0m \u001b[0;34m\u001b[0m\u001b[0m\n\u001b[1;32m    313\u001b[0m         \u001b[0;32mreturn\u001b[0m \u001b[0mwrapper\u001b[0m\u001b[0;34m\u001b[0m\u001b[0;34m\u001b[0m\u001b[0m\n",
            "\u001b[0;32m/usr/local/lib/python3.7/dist-packages/pandas/core/frame.py\u001b[0m in \u001b[0;36mdrop\u001b[0;34m(self, labels, axis, index, columns, level, inplace, errors)\u001b[0m\n\u001b[1;32m   4911\u001b[0m             \u001b[0mlevel\u001b[0m\u001b[0;34m=\u001b[0m\u001b[0mlevel\u001b[0m\u001b[0;34m,\u001b[0m\u001b[0;34m\u001b[0m\u001b[0;34m\u001b[0m\u001b[0m\n\u001b[1;32m   4912\u001b[0m             \u001b[0minplace\u001b[0m\u001b[0;34m=\u001b[0m\u001b[0minplace\u001b[0m\u001b[0;34m,\u001b[0m\u001b[0;34m\u001b[0m\u001b[0;34m\u001b[0m\u001b[0m\n\u001b[0;32m-> 4913\u001b[0;31m             \u001b[0merrors\u001b[0m\u001b[0;34m=\u001b[0m\u001b[0merrors\u001b[0m\u001b[0;34m,\u001b[0m\u001b[0;34m\u001b[0m\u001b[0;34m\u001b[0m\u001b[0m\n\u001b[0m\u001b[1;32m   4914\u001b[0m         )\n\u001b[1;32m   4915\u001b[0m \u001b[0;34m\u001b[0m\u001b[0m\n",
            "\u001b[0;32m/usr/local/lib/python3.7/dist-packages/pandas/core/generic.py\u001b[0m in \u001b[0;36mdrop\u001b[0;34m(self, labels, axis, index, columns, level, inplace, errors)\u001b[0m\n\u001b[1;32m   4148\u001b[0m         \u001b[0;32mfor\u001b[0m \u001b[0maxis\u001b[0m\u001b[0;34m,\u001b[0m \u001b[0mlabels\u001b[0m \u001b[0;32min\u001b[0m \u001b[0maxes\u001b[0m\u001b[0;34m.\u001b[0m\u001b[0mitems\u001b[0m\u001b[0;34m(\u001b[0m\u001b[0;34m)\u001b[0m\u001b[0;34m:\u001b[0m\u001b[0;34m\u001b[0m\u001b[0;34m\u001b[0m\u001b[0m\n\u001b[1;32m   4149\u001b[0m             \u001b[0;32mif\u001b[0m \u001b[0mlabels\u001b[0m \u001b[0;32mis\u001b[0m \u001b[0;32mnot\u001b[0m \u001b[0;32mNone\u001b[0m\u001b[0;34m:\u001b[0m\u001b[0;34m\u001b[0m\u001b[0;34m\u001b[0m\u001b[0m\n\u001b[0;32m-> 4150\u001b[0;31m                 \u001b[0mobj\u001b[0m \u001b[0;34m=\u001b[0m \u001b[0mobj\u001b[0m\u001b[0;34m.\u001b[0m\u001b[0m_drop_axis\u001b[0m\u001b[0;34m(\u001b[0m\u001b[0mlabels\u001b[0m\u001b[0;34m,\u001b[0m \u001b[0maxis\u001b[0m\u001b[0;34m,\u001b[0m \u001b[0mlevel\u001b[0m\u001b[0;34m=\u001b[0m\u001b[0mlevel\u001b[0m\u001b[0;34m,\u001b[0m \u001b[0merrors\u001b[0m\u001b[0;34m=\u001b[0m\u001b[0merrors\u001b[0m\u001b[0;34m)\u001b[0m\u001b[0;34m\u001b[0m\u001b[0;34m\u001b[0m\u001b[0m\n\u001b[0m\u001b[1;32m   4151\u001b[0m \u001b[0;34m\u001b[0m\u001b[0m\n\u001b[1;32m   4152\u001b[0m         \u001b[0;32mif\u001b[0m \u001b[0minplace\u001b[0m\u001b[0;34m:\u001b[0m\u001b[0;34m\u001b[0m\u001b[0;34m\u001b[0m\u001b[0m\n",
            "\u001b[0;32m/usr/local/lib/python3.7/dist-packages/pandas/core/generic.py\u001b[0m in \u001b[0;36m_drop_axis\u001b[0;34m(self, labels, axis, level, errors)\u001b[0m\n\u001b[1;32m   4183\u001b[0m                 \u001b[0mnew_axis\u001b[0m \u001b[0;34m=\u001b[0m \u001b[0maxis\u001b[0m\u001b[0;34m.\u001b[0m\u001b[0mdrop\u001b[0m\u001b[0;34m(\u001b[0m\u001b[0mlabels\u001b[0m\u001b[0;34m,\u001b[0m \u001b[0mlevel\u001b[0m\u001b[0;34m=\u001b[0m\u001b[0mlevel\u001b[0m\u001b[0;34m,\u001b[0m \u001b[0merrors\u001b[0m\u001b[0;34m=\u001b[0m\u001b[0merrors\u001b[0m\u001b[0;34m)\u001b[0m\u001b[0;34m\u001b[0m\u001b[0;34m\u001b[0m\u001b[0m\n\u001b[1;32m   4184\u001b[0m             \u001b[0;32melse\u001b[0m\u001b[0;34m:\u001b[0m\u001b[0;34m\u001b[0m\u001b[0;34m\u001b[0m\u001b[0m\n\u001b[0;32m-> 4185\u001b[0;31m                 \u001b[0mnew_axis\u001b[0m \u001b[0;34m=\u001b[0m \u001b[0maxis\u001b[0m\u001b[0;34m.\u001b[0m\u001b[0mdrop\u001b[0m\u001b[0;34m(\u001b[0m\u001b[0mlabels\u001b[0m\u001b[0;34m,\u001b[0m \u001b[0merrors\u001b[0m\u001b[0;34m=\u001b[0m\u001b[0merrors\u001b[0m\u001b[0;34m)\u001b[0m\u001b[0;34m\u001b[0m\u001b[0;34m\u001b[0m\u001b[0m\n\u001b[0m\u001b[1;32m   4186\u001b[0m             \u001b[0mresult\u001b[0m \u001b[0;34m=\u001b[0m \u001b[0mself\u001b[0m\u001b[0;34m.\u001b[0m\u001b[0mreindex\u001b[0m\u001b[0;34m(\u001b[0m\u001b[0;34m**\u001b[0m\u001b[0;34m{\u001b[0m\u001b[0maxis_name\u001b[0m\u001b[0;34m:\u001b[0m \u001b[0mnew_axis\u001b[0m\u001b[0;34m}\u001b[0m\u001b[0;34m)\u001b[0m\u001b[0;34m\u001b[0m\u001b[0;34m\u001b[0m\u001b[0m\n\u001b[1;32m   4187\u001b[0m \u001b[0;34m\u001b[0m\u001b[0m\n",
            "\u001b[0;32m/usr/local/lib/python3.7/dist-packages/pandas/core/indexes/base.py\u001b[0m in \u001b[0;36mdrop\u001b[0;34m(self, labels, errors)\u001b[0m\n\u001b[1;32m   6015\u001b[0m         \u001b[0;32mif\u001b[0m \u001b[0mmask\u001b[0m\u001b[0;34m.\u001b[0m\u001b[0many\u001b[0m\u001b[0;34m(\u001b[0m\u001b[0;34m)\u001b[0m\u001b[0;34m:\u001b[0m\u001b[0;34m\u001b[0m\u001b[0;34m\u001b[0m\u001b[0m\n\u001b[1;32m   6016\u001b[0m             \u001b[0;32mif\u001b[0m \u001b[0merrors\u001b[0m \u001b[0;34m!=\u001b[0m \u001b[0;34m\"ignore\"\u001b[0m\u001b[0;34m:\u001b[0m\u001b[0;34m\u001b[0m\u001b[0;34m\u001b[0m\u001b[0m\n\u001b[0;32m-> 6017\u001b[0;31m                 \u001b[0;32mraise\u001b[0m \u001b[0mKeyError\u001b[0m\u001b[0;34m(\u001b[0m\u001b[0;34mf\"{labels[mask]} not found in axis\"\u001b[0m\u001b[0;34m)\u001b[0m\u001b[0;34m\u001b[0m\u001b[0;34m\u001b[0m\u001b[0m\n\u001b[0m\u001b[1;32m   6018\u001b[0m             \u001b[0mindexer\u001b[0m \u001b[0;34m=\u001b[0m \u001b[0mindexer\u001b[0m\u001b[0;34m[\u001b[0m\u001b[0;34m~\u001b[0m\u001b[0mmask\u001b[0m\u001b[0;34m]\u001b[0m\u001b[0;34m\u001b[0m\u001b[0;34m\u001b[0m\u001b[0m\n\u001b[1;32m   6019\u001b[0m         \u001b[0;32mreturn\u001b[0m \u001b[0mself\u001b[0m\u001b[0;34m.\u001b[0m\u001b[0mdelete\u001b[0m\u001b[0;34m(\u001b[0m\u001b[0mindexer\u001b[0m\u001b[0;34m)\u001b[0m\u001b[0;34m\u001b[0m\u001b[0;34m\u001b[0m\u001b[0m\n",
            "\u001b[0;31mKeyError\u001b[0m: \"['negative'] not found in axis\""
          ]
        }
      ],
      "source": [
        "dropList = [\"negative\",\"Sepsis\"]\n",
        "#Drop column\n",
        "process_train_df = dropCols(process_train_df,dropList)\n",
        "#Rename Positive column to Sepsis\n",
        "process_train_df = process_train_df.rename(columns={\"positive\":\"Sepsis\"})"
      ]
    },
    {
      "cell_type": "code",
      "execution_count": null,
      "id": "1dcmMKJy0ffj",
      "metadata": {
        "id": "1dcmMKJy0ffj"
      },
      "outputs": [],
      "source": [
        "#Verifying the train_df\n",
        "train_df.head(5)"
      ]
    },
    {
      "cell_type": "code",
      "execution_count": null,
      "id": "mLvdKjhEtTwx",
      "metadata": {
        "id": "mLvdKjhEtTwx"
      },
      "outputs": [],
      "source": [
        "train_df.tail(5)"
      ]
    },
    {
      "cell_type": "markdown",
      "id": "JZDXFbju2gtS",
      "metadata": {
        "id": "JZDXFbju2gtS"
      },
      "source": [
        "As can be seen the sepsis have been convert from the categorical data to a binary integer"
      ]
    },
    {
      "cell_type": "code",
      "execution_count": null,
      "id": "xateMwOe1ZUY",
      "metadata": {
        "id": "xateMwOe1ZUY"
      },
      "outputs": [],
      "source": [
        "process_train_df.dtypes"
      ]
    },
    {
      "cell_type": "code",
      "execution_count": null,
      "id": "f88fcf88",
      "metadata": {
        "id": "f88fcf88"
      },
      "outputs": [],
      "source": []
    },
    {
      "cell_type": "code",
      "execution_count": null,
      "id": "7514b7ed",
      "metadata": {
        "id": "7514b7ed"
      },
      "outputs": [],
      "source": []
    },
    {
      "cell_type": "code",
      "execution_count": null,
      "id": "eab6856c",
      "metadata": {
        "id": "eab6856c"
      },
      "outputs": [],
      "source": []
    },
    {
      "cell_type": "code",
      "execution_count": null,
      "id": "d5de7fd7",
      "metadata": {
        "id": "d5de7fd7"
      },
      "outputs": [],
      "source": []
    },
    {
      "cell_type": "code",
      "execution_count": null,
      "id": "7819a8bd",
      "metadata": {
        "id": "7819a8bd"
      },
      "outputs": [],
      "source": []
    },
    {
      "cell_type": "code",
      "execution_count": null,
      "id": "609b3871",
      "metadata": {
        "id": "609b3871"
      },
      "outputs": [],
      "source": []
    },
    {
      "cell_type": "code",
      "execution_count": null,
      "id": "50a8b1f0",
      "metadata": {
        "id": "50a8b1f0"
      },
      "outputs": [],
      "source": []
    },
    {
      "cell_type": "code",
      "execution_count": null,
      "id": "3a32664a",
      "metadata": {
        "id": "3a32664a"
      },
      "outputs": [],
      "source": []
    },
    {
      "cell_type": "code",
      "execution_count": null,
      "id": "a4f2e4ac",
      "metadata": {
        "id": "a4f2e4ac"
      },
      "outputs": [],
      "source": []
    },
    {
      "cell_type": "code",
      "execution_count": null,
      "id": "800829e3",
      "metadata": {
        "id": "800829e3"
      },
      "outputs": [],
      "source": []
    },
    {
      "cell_type": "code",
      "execution_count": null,
      "id": "d1a63809",
      "metadata": {
        "id": "d1a63809"
      },
      "outputs": [],
      "source": []
    },
    {
      "cell_type": "code",
      "execution_count": null,
      "id": "855c7ddf",
      "metadata": {
        "id": "855c7ddf"
      },
      "outputs": [],
      "source": []
    },
    {
      "cell_type": "code",
      "execution_count": null,
      "id": "9df29a2b",
      "metadata": {
        "id": "9df29a2b"
      },
      "outputs": [],
      "source": []
    },
    {
      "cell_type": "code",
      "execution_count": null,
      "id": "71fd1b61",
      "metadata": {
        "id": "71fd1b61"
      },
      "outputs": [],
      "source": []
    },
    {
      "cell_type": "code",
      "execution_count": null,
      "id": "8e7e9676",
      "metadata": {
        "id": "8e7e9676"
      },
      "outputs": [],
      "source": []
    },
    {
      "cell_type": "code",
      "execution_count": null,
      "id": "b131305b",
      "metadata": {
        "id": "b131305b"
      },
      "outputs": [],
      "source": []
    },
    {
      "cell_type": "code",
      "execution_count": null,
      "id": "80fdc78e",
      "metadata": {
        "id": "80fdc78e"
      },
      "outputs": [],
      "source": []
    },
    {
      "cell_type": "markdown",
      "id": "4386f6d9",
      "metadata": {
        "id": "4386f6d9"
      },
      "source": [
        "<a id=\"7\"></a>\n",
        "<h1 style=\"color:#ffc0cb;font-size:40px;font-family:Georgia;text-align:center;\"><strong>7. References</strong></h1>\n",
        "\n",
        "*****"
      ]
    },
    {
      "cell_type": "markdown",
      "id": "11edb4b9",
      "metadata": {
        "id": "11edb4b9"
      },
      "source": [
        "<a id=\"Link1\"></a>\n",
        "- [1] [What Are Platelets and Why Are They Important?](https://www.hopkinsmedicine.org/health/conditions-and-diseases/what-are-platelets-and-why-are-they-important#:~:text=A%20normal%20platelet%20count%20ranges,complete%20blood%20count%20(CBC).)"
      ]
    },
    {
      "cell_type": "markdown",
      "id": "2b80e2cd",
      "metadata": {
        "id": "2b80e2cd"
      },
      "source": [
        "<a id=\"Link2\"></a>\n",
        "- [2] [What's a normal resting heart rate?](https://www.mayoclinic.org/healthy-lifestyle/fitness/expert-answers/heart-rate/faq-20057979#:~:text=A%20normal%20resting%20heart%20rate%20for%20adults%20ranges%20from%2060,to%2040%20beats%20per%20minute.)"
      ]
    },
    {
      "cell_type": "markdown",
      "id": "4942bb4a",
      "metadata": {
        "id": "4942bb4a"
      },
      "source": [
        "<a id=\"Link3\"></a>\n",
        "- [3] [What Is a Potassium Blood Test?](https://www.webmd.com/a-to-z-guides/potassium-blood-test)"
      ]
    },
    {
      "cell_type": "markdown",
      "id": "4ab7dbd8",
      "metadata": {
        "id": "4ab7dbd8"
      },
      "source": [
        "<a id=\"Link3\"></a>\n",
        "- [3] [What Is a Potassium Blood Test?](https://www.webmd.com/a-to-z-guides/potassium-blood-test)"
      ]
    },
    {
      "cell_type": "markdown",
      "id": "6306b96e",
      "metadata": {
        "id": "6306b96e"
      },
      "source": [
        "<a id=\"Link3\"></a>\n",
        "- [3] [What Is a Potassium Blood Test?](https://www.webmd.com/a-to-z-guides/potassium-blood-test)"
      ]
    },
    {
      "cell_type": "markdown",
      "id": "6da7ec74",
      "metadata": {
        "id": "6da7ec74"
      },
      "source": [
        "<a id=\"Link3\"></a>\n",
        "- [3] [What Is a Potassium Blood Test?](https://www.webmd.com/a-to-z-guides/potassium-blood-test)"
      ]
    },
    {
      "cell_type": "code",
      "execution_count": null,
      "id": "3851c814",
      "metadata": {
        "id": "3851c814"
      },
      "outputs": [],
      "source": []
    },
    {
      "cell_type": "code",
      "execution_count": null,
      "id": "9d90e164",
      "metadata": {
        "id": "9d90e164"
      },
      "outputs": [],
      "source": []
    },
    {
      "cell_type": "code",
      "execution_count": null,
      "id": "d872ab73",
      "metadata": {
        "id": "d872ab73"
      },
      "outputs": [],
      "source": []
    },
    {
      "cell_type": "code",
      "execution_count": null,
      "id": "3b9fca37",
      "metadata": {
        "id": "3b9fca37"
      },
      "outputs": [],
      "source": []
    },
    {
      "cell_type": "code",
      "execution_count": null,
      "id": "02f64cae",
      "metadata": {
        "id": "02f64cae"
      },
      "outputs": [],
      "source": []
    },
    {
      "cell_type": "code",
      "execution_count": null,
      "id": "057d78dd",
      "metadata": {
        "id": "057d78dd"
      },
      "outputs": [],
      "source": []
    },
    {
      "cell_type": "code",
      "execution_count": null,
      "id": "f2859918",
      "metadata": {
        "id": "f2859918"
      },
      "outputs": [],
      "source": []
    },
    {
      "cell_type": "code",
      "execution_count": null,
      "id": "5b1378a2",
      "metadata": {
        "id": "5b1378a2"
      },
      "outputs": [],
      "source": []
    },
    {
      "cell_type": "markdown",
      "id": "8704fd76",
      "metadata": {
        "id": "8704fd76"
      },
      "source": [
        "- [1] [What Are Platelets and Why Are They Important?](https://www.hopkinsmedicine.org/health/conditions-and-diseases/what-are-platelets-and-why-are-they-important#:~:text=A%20normal%20platelet%20count%20ranges,complete%20blood%20count%20(CBC).)\n",
        "\n",
        "\n",
        "- [What's a normal resting heart rate?](https://www.mayoclinic.org/healthy-lifestyle/fitness/expert-answers/heart-rate/faq-20057979#:~:text=A%20normal%20resting%20heart%20rate%20for%20adults%20ranges%20from%2060,to%2040%20beats%20per%20minute.)\n",
        "\n",
        "\n",
        "- [TSH (Thyroid Stimulating Hormone) Test](https://www.healthline.com/health/tsh)"
      ]
    },
    {
      "cell_type": "markdown",
      "id": "5uPj4FJ_hQd_",
      "metadata": {
        "id": "5uPj4FJ_hQd_"
      },
      "source": []
    }
  ],
  "metadata": {
    "colab": {
      "collapsed_sections": [
        "fe963594",
        "bddc88b4",
        "feedd751",
        "f025fc5f",
        "b8e33ea3",
        "038f4c40",
        "1bff5023",
        "fa633ee0",
        "e2e2b749",
        "b2ba995b",
        "a10c393b"
      ],
      "name": "sepsis_prediction.ipynb",
      "provenance": []
    },
    "kernelspec": {
      "display_name": "Python 3 (ipykernel)",
      "language": "python",
      "name": "python3"
    },
    "language_info": {
      "codemirror_mode": {
        "name": "ipython",
        "version": 3
      },
      "file_extension": ".py",
      "mimetype": "text/x-python",
      "name": "python",
      "nbconvert_exporter": "python",
      "pygments_lexer": "ipython3",
      "version": "3.10.4"
    }
  },
  "nbformat": 4,
  "nbformat_minor": 5
}
