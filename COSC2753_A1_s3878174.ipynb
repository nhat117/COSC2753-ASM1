{
 "cells": [
  {
   "cell_type": "markdown",
   "id": "f045b3e3",
   "metadata": {
    "id": "f045b3e3"
   },
   "source": [
    "<h1 style=\"color:#fffff;font-size:70px;font-family:Roboto;text-align:center;\"><strong>Assignment 1 - COSC2753</strong></h1>\n",
    "\n",
    "\n",
    "### <b>Student Name: Bui Minh Nhat</b>\n",
    "### <b>Student ID: s3878174</b>\n",
    "### <b>Course: COSC2753 - Machine Learning</b>\n",
    "### <b>Lecturer: Dr. Nguyen Thien Bao</b>\n",
    "\n"
   ]
  },
  {
   "cell_type": "markdown",
   "id": "44cc16d7",
   "metadata": {
    "id": "44cc16d7"
   },
   "source": [
    "## Table of Content\n",
    "\n",
    "### 1. [Introduction](#1)\n",
    "\n",
    "1.1 [Data Retrieving](#1.1) \n",
    "\n",
    "1.2 [Data information](#1.2)\n",
    "\n",
    "1.3 [About the Dataset](#1.3)\n",
    "\n",
    "1.4 [Datafield information](#1.4)\n",
    "\n",
    "<br>\n",
    "\n",
    "### 2. [Exploratory Data Analysis](#2)\n",
    "\n",
    "2.1 [Statistic of the Dataset](#2.1)\n",
    "\n",
    "2.2 [Domain knowledge](#2.2)\n",
    "\n",
    "2.3 [Number of unique value](#2.3)\n",
    "\n",
    "2.4 [Outlier Exploration](#2.4)\n",
    "\n",
    "2.5 [Correlation](#2.5)\n",
    "\n",
    "2.6 [Data frame properties](#2.6)\n",
    "\n",
    "<br>\n",
    "\n",
    "### 3. [Data Cleaning and Feature Engineering](#3)\n",
    "\n",
    "3.1 [Handle missing value](#3.1)\n",
    "\n",
    "3.2 [Drop Collumn](#3.2)\n",
    "\n",
    "3.3 [Convert value in sepsis column to lowercase](#3.3)\n",
    "\n",
    "3.4 [Corrext typo in sepsis column](#3.4)\n",
    "\n",
    "3.5 [Outliers processing](#3.5)\n",
    "\n",
    "3.6 [Convert Sepsis in to a binary value](#3.6)\n",
    "\n",
    "\n",
    "3.7 [Normalizing and handling skewness of the dataset](#3.7)\n",
    "\n",
    "\n",
    "3.8 [Final dataset](#3.8)\n",
    "\n",
    "<br>\n",
    "\n",
    "### 4. [Building Model](#4)\n",
    "\n",
    "4.1 [Scaling feature](#4.1)\n",
    "\n",
    "4.2 [Simple Logistic Regression Model](#4.2)\n",
    "\n",
    "4.3 [Logistic Regression using Polynorminal ](#4.3)\n",
    "\n",
    "4.4 [Polynorminal Logistic Regression with KFOLD Cross Validation](#4.4)\n",
    "\n",
    "4.5 [ Polynorminal Logistic Regression with Regularization](#4.5)\n",
    "\n",
    "\n",
    "4.6 [Decision Tree](#4.5)\n",
    "\n",
    "4.7 [Decision Tree using grid search cv](#4.5)\n",
    "\n",
    "4.8 [Random Foreset](#4.8)\n",
    "<br>\n",
    "\n",
    "\n",
    "### 5. [Ultimate model judgement](#5)\n",
    "\n",
    "<br>\n",
    "\n",
    "### 6. [References](#6)\n",
    "\n",
    "<br>\n",
    "\n"
   ]
  },
  {
   "cell_type": "markdown",
   "id": "0e54a678",
   "metadata": {
    "id": "0e54a678"
   },
   "source": [
    "<a id=\"1\"></a>\n",
    "<h1 style=\"color:#ffc0cb;font-size:40px;font-family:Georgia;text-align:center;\"><strong>1. Preparing data</strong></h1>"
   ]
  },
  {
   "cell_type": "markdown",
   "id": "878efddc",
   "metadata": {
    "id": "878efddc"
   },
   "source": [
    "<a id=\"1\"></a>\n",
    "# 1. Introduction\n",
    "****\n",
    "Intensive care units (ICUs) are constantly under pressure to watch for indicators of sepsis in their patients (an infection that can accrue while staying in ICU). While this issue has been around for some time, the latest COVID-19 outbreak has brought it to light. An ICU's ability to predict whether a patient in the ICU would develop sepsis is tremendously important. This would help limit ICU resources while also minimizing the risk of health concerns (such as bed availability, etc.)."
   ]
  },
  {
   "cell_type": "markdown",
   "id": "021f2e47",
   "metadata": {
    "id": "021f2e47",
    "tags": []
   },
   "source": [
    "## Importing Necessary Libraries and datasets\n",
    "****"
   ]
  },
  {
   "cell_type": "code",
   "execution_count": 19,
   "id": "a30b9457-361d-436b-960c-1f7b6c979d3f",
   "metadata": {},
   "outputs": [],
   "source": [
    "# import libraries which are pandas and numpy\n",
    "# Uncomment this if you have already install all of the library required in the project readmemd file\n",
    "# !pip install pandas && pip install numpy && pip install seaborn && pip install matplotlib && pip install sklearn"
   ]
  },
  {
   "cell_type": "code",
   "execution_count": 20,
   "id": "2946c95a-6796-4485-bd5c-f945623bdaec",
   "metadata": {},
   "outputs": [],
   "source": [
    "import pandas as pd\n",
    "import numpy as np\n",
    "#For Encoding\n",
    "#for plots\n",
    "import matplotlib.pyplot as plt\n",
    "plt.rcParams[\"figure.figsize\"]= 15,10\n",
    "\n",
    "#Ploting module\n",
    "\n",
    "import seaborn as sns\n",
    "import matplotlib.pyplot as plt\n",
    "import matplotlib.patches as mpatches\n",
    "sns.set_theme(style=\"ticks\", color_codes=True) #\n",
    "# scatter matrix library\n",
    "from pandas.plotting import scatter_matrix\n",
    "\n",
    "#set display \n",
    "pd.set_option('display.max_rows', 100)\n",
    "pd.set_option('display.max_columns', 100)"
   ]
  },
  {
   "cell_type": "code",
   "execution_count": 21,
   "id": "9eb4b39d-1f5f-4b54-b9a9-93dcace22f6d",
   "metadata": {},
   "outputs": [],
   "source": [
    "import sys\n",
    "ipython = get_ipython()\n",
    "\n",
    "def hide_traceback(exc_tuple=None, filename=None, tb_offset=None,\n",
    "                   exception_only=False, running_compiled_code=False):\n",
    "    etype, value, tb = sys.exc_info()\n",
    "    return ipython._showtraceback(etype, value, ipython.InteractiveTB.get_exception_only(etype, value))\n",
    "\n",
    "ipython.showtraceback = hide_traceback"
   ]
  },
  {
   "cell_type": "markdown",
   "id": "686868a7",
   "metadata": {
    "id": "686868a7"
   },
   "source": [
    "<a id=\"1.1\"></a>\n",
    "## 1.1  Data Retrieving\n",
    "First ,a import the dataset using read_csv function. In order to ensure the from the csv file is in good shape, we have to eliminate the extra white space. After that, the data types must be checked to ensure no incorrect data types assigned. After finishing verifying the datatypes, the ingested data is cleaned by the following steps: typos, extra-whitespaces, cases, sanity checks, check for missing values, and identifying categorical data.\n"
   ]
  },
  {
   "cell_type": "markdown",
   "id": "24727d30",
   "metadata": {
    "id": "24727d30"
   },
   "source": [
    "> **train Dataset**"
   ]
  },
  {
   "cell_type": "code",
   "execution_count": 22,
   "id": "532c2ed8",
   "metadata": {
    "colab": {
     "base_uri": "https://localhost:8080/",
     "height": 206
    },
    "id": "532c2ed8",
    "outputId": "4a56fbce-574e-4c05-8646-897b2534e400"
   },
   "outputs": [
    {
     "data": {
      "text/html": [
       "<div>\n",
       "<style scoped>\n",
       "    .dataframe tbody tr th:only-of-type {\n",
       "        vertical-align: middle;\n",
       "    }\n",
       "\n",
       "    .dataframe tbody tr th {\n",
       "        vertical-align: top;\n",
       "    }\n",
       "\n",
       "    .dataframe thead th {\n",
       "        text-align: right;\n",
       "    }\n",
       "</style>\n",
       "<table border=\"1\" class=\"dataframe\">\n",
       "  <thead>\n",
       "    <tr style=\"text-align: right;\">\n",
       "      <th></th>\n",
       "      <th>ID</th>\n",
       "      <th>PRG</th>\n",
       "      <th>PL</th>\n",
       "      <th>PR</th>\n",
       "      <th>SK</th>\n",
       "      <th>TS</th>\n",
       "      <th>M11</th>\n",
       "      <th>BD2</th>\n",
       "      <th>Age</th>\n",
       "      <th>Insurance</th>\n",
       "      <th>Sepssis</th>\n",
       "    </tr>\n",
       "  </thead>\n",
       "  <tbody>\n",
       "    <tr>\n",
       "      <th>0</th>\n",
       "      <td>ICU200010</td>\n",
       "      <td>6</td>\n",
       "      <td>148</td>\n",
       "      <td>72</td>\n",
       "      <td>35</td>\n",
       "      <td>0</td>\n",
       "      <td>33.6</td>\n",
       "      <td>0.627</td>\n",
       "      <td>50</td>\n",
       "      <td>0</td>\n",
       "      <td>Positive</td>\n",
       "    </tr>\n",
       "    <tr>\n",
       "      <th>1</th>\n",
       "      <td>ICU200011</td>\n",
       "      <td>1</td>\n",
       "      <td>85</td>\n",
       "      <td>66</td>\n",
       "      <td>29</td>\n",
       "      <td>0</td>\n",
       "      <td>26.6</td>\n",
       "      <td>0.351</td>\n",
       "      <td>31</td>\n",
       "      <td>0</td>\n",
       "      <td>Negative</td>\n",
       "    </tr>\n",
       "    <tr>\n",
       "      <th>2</th>\n",
       "      <td>ICU200012</td>\n",
       "      <td>8</td>\n",
       "      <td>183</td>\n",
       "      <td>64</td>\n",
       "      <td>0</td>\n",
       "      <td>0</td>\n",
       "      <td>23.3</td>\n",
       "      <td>0.672</td>\n",
       "      <td>32</td>\n",
       "      <td>1</td>\n",
       "      <td>Positive</td>\n",
       "    </tr>\n",
       "    <tr>\n",
       "      <th>3</th>\n",
       "      <td>ICU200013</td>\n",
       "      <td>1</td>\n",
       "      <td>89</td>\n",
       "      <td>66</td>\n",
       "      <td>23</td>\n",
       "      <td>94</td>\n",
       "      <td>28.1</td>\n",
       "      <td>0.167</td>\n",
       "      <td>21</td>\n",
       "      <td>1</td>\n",
       "      <td>Negative</td>\n",
       "    </tr>\n",
       "    <tr>\n",
       "      <th>4</th>\n",
       "      <td>ICU200014</td>\n",
       "      <td>0</td>\n",
       "      <td>137</td>\n",
       "      <td>40</td>\n",
       "      <td>35</td>\n",
       "      <td>168</td>\n",
       "      <td>43.1</td>\n",
       "      <td>2.288</td>\n",
       "      <td>33</td>\n",
       "      <td>1</td>\n",
       "      <td>Positive</td>\n",
       "    </tr>\n",
       "  </tbody>\n",
       "</table>\n",
       "</div>"
      ],
      "text/plain": [
       "          ID  PRG   PL  PR  SK   TS   M11    BD2  Age  Insurance   Sepssis\n",
       "0  ICU200010    6  148  72  35    0  33.6  0.627   50          0  Positive\n",
       "1  ICU200011    1   85  66  29    0  26.6  0.351   31          0  Negative\n",
       "2  ICU200012    8  183  64   0    0  23.3  0.672   32          1  Positive\n",
       "3  ICU200013    1   89  66  23   94  28.1  0.167   21          1  Negative\n",
       "4  ICU200014    0  137  40  35  168  43.1  2.288   33          1  Positive"
      ]
     },
     "execution_count": 22,
     "metadata": {},
     "output_type": "execute_result"
    }
   ],
   "source": [
    "# import data using functions of pandas\n",
    "#Inside pandas.read_csv() method skipinitialspace parameter is use to skip initial space present in the dataframe. \n",
    "#By default, it is False, so skipinitialspace must be True to skip the whitespace.\n",
    "train_df = pd.read_csv(\"./data/Paitients_Files_Train.csv\", delimiter=',', skipinitialspace = True)\n",
    "\n",
    "train_df.columns = train_df.columns.str.replace(' ', '') #strip the extra-whitespaces out\n",
    "\n",
    "#Showing the head of the dataset\n",
    "train_df.head(5)"
   ]
  },
  {
   "cell_type": "code",
   "execution_count": 23,
   "id": "fbQBpXkuvtfB",
   "metadata": {
    "colab": {
     "base_uri": "https://localhost:8080/",
     "height": 206
    },
    "id": "fbQBpXkuvtfB",
    "outputId": "ee9cdffc-d3f2-45ef-d7c9-b3834ad8037b"
   },
   "outputs": [
    {
     "data": {
      "text/html": [
       "<div>\n",
       "<style scoped>\n",
       "    .dataframe tbody tr th:only-of-type {\n",
       "        vertical-align: middle;\n",
       "    }\n",
       "\n",
       "    .dataframe tbody tr th {\n",
       "        vertical-align: top;\n",
       "    }\n",
       "\n",
       "    .dataframe thead th {\n",
       "        text-align: right;\n",
       "    }\n",
       "</style>\n",
       "<table border=\"1\" class=\"dataframe\">\n",
       "  <thead>\n",
       "    <tr style=\"text-align: right;\">\n",
       "      <th></th>\n",
       "      <th>ID</th>\n",
       "      <th>PRG</th>\n",
       "      <th>PL</th>\n",
       "      <th>PR</th>\n",
       "      <th>SK</th>\n",
       "      <th>TS</th>\n",
       "      <th>M11</th>\n",
       "      <th>BD2</th>\n",
       "      <th>Age</th>\n",
       "      <th>Insurance</th>\n",
       "      <th>Sepssis</th>\n",
       "    </tr>\n",
       "  </thead>\n",
       "  <tbody>\n",
       "    <tr>\n",
       "      <th>594</th>\n",
       "      <td>ICU200604</td>\n",
       "      <td>6</td>\n",
       "      <td>123</td>\n",
       "      <td>72</td>\n",
       "      <td>45</td>\n",
       "      <td>230</td>\n",
       "      <td>33.6</td>\n",
       "      <td>0.733</td>\n",
       "      <td>34</td>\n",
       "      <td>0</td>\n",
       "      <td>Negative</td>\n",
       "    </tr>\n",
       "    <tr>\n",
       "      <th>595</th>\n",
       "      <td>ICU200605</td>\n",
       "      <td>0</td>\n",
       "      <td>188</td>\n",
       "      <td>82</td>\n",
       "      <td>14</td>\n",
       "      <td>185</td>\n",
       "      <td>32.0</td>\n",
       "      <td>0.682</td>\n",
       "      <td>22</td>\n",
       "      <td>1</td>\n",
       "      <td>Positive</td>\n",
       "    </tr>\n",
       "    <tr>\n",
       "      <th>596</th>\n",
       "      <td>ICU200606</td>\n",
       "      <td>0</td>\n",
       "      <td>67</td>\n",
       "      <td>76</td>\n",
       "      <td>0</td>\n",
       "      <td>0</td>\n",
       "      <td>45.3</td>\n",
       "      <td>0.194</td>\n",
       "      <td>46</td>\n",
       "      <td>1</td>\n",
       "      <td>Negative</td>\n",
       "    </tr>\n",
       "    <tr>\n",
       "      <th>597</th>\n",
       "      <td>ICU200607</td>\n",
       "      <td>1</td>\n",
       "      <td>89</td>\n",
       "      <td>24</td>\n",
       "      <td>19</td>\n",
       "      <td>25</td>\n",
       "      <td>27.8</td>\n",
       "      <td>0.559</td>\n",
       "      <td>21</td>\n",
       "      <td>0</td>\n",
       "      <td>Negative</td>\n",
       "    </tr>\n",
       "    <tr>\n",
       "      <th>598</th>\n",
       "      <td>ICU200608</td>\n",
       "      <td>1</td>\n",
       "      <td>173</td>\n",
       "      <td>74</td>\n",
       "      <td>0</td>\n",
       "      <td>0</td>\n",
       "      <td>36.8</td>\n",
       "      <td>0.088</td>\n",
       "      <td>38</td>\n",
       "      <td>1</td>\n",
       "      <td>Positive</td>\n",
       "    </tr>\n",
       "  </tbody>\n",
       "</table>\n",
       "</div>"
      ],
      "text/plain": [
       "            ID  PRG   PL  PR  SK   TS   M11    BD2  Age  Insurance   Sepssis\n",
       "594  ICU200604    6  123  72  45  230  33.6  0.733   34          0  Negative\n",
       "595  ICU200605    0  188  82  14  185  32.0  0.682   22          1  Positive\n",
       "596  ICU200606    0   67  76   0    0  45.3  0.194   46          1  Negative\n",
       "597  ICU200607    1   89  24  19   25  27.8  0.559   21          0  Negative\n",
       "598  ICU200608    1  173  74   0    0  36.8  0.088   38          1  Positive"
      ]
     },
     "execution_count": 23,
     "metadata": {},
     "output_type": "execute_result"
    }
   ],
   "source": [
    "#Showing tail of the data set\n",
    "train_df.tail(5)"
   ]
  },
  {
   "cell_type": "markdown",
   "id": "6e68e78b",
   "metadata": {
    "id": "6e68e78b"
   },
   "source": [
    "> **Sample test Dataset**"
   ]
  },
  {
   "cell_type": "code",
   "execution_count": 24,
   "id": "7b67d1f2",
   "metadata": {
    "colab": {
     "base_uri": "https://localhost:8080/",
     "height": 224
    },
    "id": "7b67d1f2",
    "outputId": "9428a0ad-7c33-4a39-daa8-2a40f2d38a74"
   },
   "outputs": [
    {
     "name": "stdout",
     "output_type": "stream",
     "text": [
      "Rows and Collumns of dataset (169, 10)\n"
     ]
    },
    {
     "data": {
      "text/html": [
       "<div>\n",
       "<style scoped>\n",
       "    .dataframe tbody tr th:only-of-type {\n",
       "        vertical-align: middle;\n",
       "    }\n",
       "\n",
       "    .dataframe tbody tr th {\n",
       "        vertical-align: top;\n",
       "    }\n",
       "\n",
       "    .dataframe thead th {\n",
       "        text-align: right;\n",
       "    }\n",
       "</style>\n",
       "<table border=\"1\" class=\"dataframe\">\n",
       "  <thead>\n",
       "    <tr style=\"text-align: right;\">\n",
       "      <th></th>\n",
       "      <th>ID</th>\n",
       "      <th>PRG</th>\n",
       "      <th>PL</th>\n",
       "      <th>PR</th>\n",
       "      <th>SK</th>\n",
       "      <th>TS</th>\n",
       "      <th>M11</th>\n",
       "      <th>BD2</th>\n",
       "      <th>Age</th>\n",
       "      <th>Insurance</th>\n",
       "    </tr>\n",
       "  </thead>\n",
       "  <tbody>\n",
       "    <tr>\n",
       "      <th>0</th>\n",
       "      <td>ICU200609</td>\n",
       "      <td>1</td>\n",
       "      <td>109</td>\n",
       "      <td>38</td>\n",
       "      <td>18</td>\n",
       "      <td>120</td>\n",
       "      <td>23.1</td>\n",
       "      <td>0.407</td>\n",
       "      <td>26</td>\n",
       "      <td>1</td>\n",
       "    </tr>\n",
       "    <tr>\n",
       "      <th>1</th>\n",
       "      <td>ICU200610</td>\n",
       "      <td>1</td>\n",
       "      <td>108</td>\n",
       "      <td>88</td>\n",
       "      <td>19</td>\n",
       "      <td>0</td>\n",
       "      <td>27.1</td>\n",
       "      <td>0.400</td>\n",
       "      <td>24</td>\n",
       "      <td>1</td>\n",
       "    </tr>\n",
       "    <tr>\n",
       "      <th>2</th>\n",
       "      <td>ICU200611</td>\n",
       "      <td>6</td>\n",
       "      <td>96</td>\n",
       "      <td>0</td>\n",
       "      <td>0</td>\n",
       "      <td>0</td>\n",
       "      <td>23.7</td>\n",
       "      <td>0.190</td>\n",
       "      <td>28</td>\n",
       "      <td>1</td>\n",
       "    </tr>\n",
       "    <tr>\n",
       "      <th>3</th>\n",
       "      <td>ICU200612</td>\n",
       "      <td>1</td>\n",
       "      <td>124</td>\n",
       "      <td>74</td>\n",
       "      <td>36</td>\n",
       "      <td>0</td>\n",
       "      <td>27.8</td>\n",
       "      <td>0.100</td>\n",
       "      <td>30</td>\n",
       "      <td>1</td>\n",
       "    </tr>\n",
       "    <tr>\n",
       "      <th>4</th>\n",
       "      <td>ICU200613</td>\n",
       "      <td>7</td>\n",
       "      <td>150</td>\n",
       "      <td>78</td>\n",
       "      <td>29</td>\n",
       "      <td>126</td>\n",
       "      <td>35.2</td>\n",
       "      <td>0.692</td>\n",
       "      <td>54</td>\n",
       "      <td>0</td>\n",
       "    </tr>\n",
       "  </tbody>\n",
       "</table>\n",
       "</div>"
      ],
      "text/plain": [
       "          ID  PRG   PL  PR  SK   TS   M11    BD2  Age  Insurance\n",
       "0  ICU200609    1  109  38  18  120  23.1  0.407   26          1\n",
       "1  ICU200610    1  108  88  19    0  27.1  0.400   24          1\n",
       "2  ICU200611    6   96   0   0    0  23.7  0.190   28          1\n",
       "3  ICU200612    1  124  74  36    0  27.8  0.100   30          1\n",
       "4  ICU200613    7  150  78  29  126  35.2  0.692   54          0"
      ]
     },
     "execution_count": 24,
     "metadata": {},
     "output_type": "execute_result"
    }
   ],
   "source": [
    "test_df = pd.read_csv(\"./Data/Paitients_Files_Test.csv\", delimiter=',', skipinitialspace = True)\n",
    "\n",
    "test_df.columns = test_df.columns.str.replace(' ', '') #strip the extra-whitespaces out\n",
    "\n",
    "print(\"Rows and Collumns of dataset\", str(test_df.shape))\n",
    "\n",
    "test_df.head(5)"
   ]
  },
  {
   "cell_type": "code",
   "execution_count": 25,
   "id": "nxKrg0_qxo9B",
   "metadata": {
    "colab": {
     "base_uri": "https://localhost:8080/",
     "height": 206
    },
    "id": "nxKrg0_qxo9B",
    "outputId": "a5e919b5-b3e5-4855-e650-cf0088fae4b7"
   },
   "outputs": [
    {
     "data": {
      "text/html": [
       "<div>\n",
       "<style scoped>\n",
       "    .dataframe tbody tr th:only-of-type {\n",
       "        vertical-align: middle;\n",
       "    }\n",
       "\n",
       "    .dataframe tbody tr th {\n",
       "        vertical-align: top;\n",
       "    }\n",
       "\n",
       "    .dataframe thead th {\n",
       "        text-align: right;\n",
       "    }\n",
       "</style>\n",
       "<table border=\"1\" class=\"dataframe\">\n",
       "  <thead>\n",
       "    <tr style=\"text-align: right;\">\n",
       "      <th></th>\n",
       "      <th>ID</th>\n",
       "      <th>PRG</th>\n",
       "      <th>PL</th>\n",
       "      <th>PR</th>\n",
       "      <th>SK</th>\n",
       "      <th>TS</th>\n",
       "      <th>M11</th>\n",
       "      <th>BD2</th>\n",
       "      <th>Age</th>\n",
       "      <th>Insurance</th>\n",
       "    </tr>\n",
       "  </thead>\n",
       "  <tbody>\n",
       "    <tr>\n",
       "      <th>164</th>\n",
       "      <td>ICU200773</td>\n",
       "      <td>10</td>\n",
       "      <td>101</td>\n",
       "      <td>76</td>\n",
       "      <td>48</td>\n",
       "      <td>180</td>\n",
       "      <td>32.9</td>\n",
       "      <td>0.171</td>\n",
       "      <td>63</td>\n",
       "      <td>1</td>\n",
       "    </tr>\n",
       "    <tr>\n",
       "      <th>165</th>\n",
       "      <td>ICU200774</td>\n",
       "      <td>2</td>\n",
       "      <td>122</td>\n",
       "      <td>70</td>\n",
       "      <td>27</td>\n",
       "      <td>0</td>\n",
       "      <td>36.8</td>\n",
       "      <td>0.340</td>\n",
       "      <td>27</td>\n",
       "      <td>1</td>\n",
       "    </tr>\n",
       "    <tr>\n",
       "      <th>166</th>\n",
       "      <td>ICU200775</td>\n",
       "      <td>5</td>\n",
       "      <td>121</td>\n",
       "      <td>72</td>\n",
       "      <td>23</td>\n",
       "      <td>112</td>\n",
       "      <td>26.2</td>\n",
       "      <td>0.245</td>\n",
       "      <td>30</td>\n",
       "      <td>1</td>\n",
       "    </tr>\n",
       "    <tr>\n",
       "      <th>167</th>\n",
       "      <td>ICU200776</td>\n",
       "      <td>1</td>\n",
       "      <td>126</td>\n",
       "      <td>60</td>\n",
       "      <td>0</td>\n",
       "      <td>0</td>\n",
       "      <td>30.1</td>\n",
       "      <td>0.349</td>\n",
       "      <td>47</td>\n",
       "      <td>1</td>\n",
       "    </tr>\n",
       "    <tr>\n",
       "      <th>168</th>\n",
       "      <td>ICU200777</td>\n",
       "      <td>1</td>\n",
       "      <td>93</td>\n",
       "      <td>70</td>\n",
       "      <td>31</td>\n",
       "      <td>0</td>\n",
       "      <td>30.4</td>\n",
       "      <td>0.315</td>\n",
       "      <td>23</td>\n",
       "      <td>1</td>\n",
       "    </tr>\n",
       "  </tbody>\n",
       "</table>\n",
       "</div>"
      ],
      "text/plain": [
       "            ID  PRG   PL  PR  SK   TS   M11    BD2  Age  Insurance\n",
       "164  ICU200773   10  101  76  48  180  32.9  0.171   63          1\n",
       "165  ICU200774    2  122  70  27    0  36.8  0.340   27          1\n",
       "166  ICU200775    5  121  72  23  112  26.2  0.245   30          1\n",
       "167  ICU200776    1  126  60   0    0  30.1  0.349   47          1\n",
       "168  ICU200777    1   93  70  31    0  30.4  0.315   23          1"
      ]
     },
     "execution_count": 25,
     "metadata": {},
     "output_type": "execute_result"
    }
   ],
   "source": [
    "#Show the tail of the dataset\n",
    "test_df.tail(5)"
   ]
  },
  {
   "cell_type": "markdown",
   "id": "a135e3ff",
   "metadata": {
    "id": "a135e3ff"
   },
   "source": [
    "<a id=\"1.2\"></a>\n",
    "## 1.2 Data Information"
   ]
  },
  {
   "cell_type": "markdown",
   "id": "fac3e887",
   "metadata": {
    "id": "fac3e887"
   },
   "source": [
    "> **Column name and datatype of train Dataset**"
   ]
  },
  {
   "cell_type": "code",
   "execution_count": 26,
   "id": "d31955b7",
   "metadata": {
    "colab": {
     "base_uri": "https://localhost:8080/"
    },
    "id": "d31955b7",
    "outputId": "7bcba317-b8b3-4f56-ba1b-24bd649005f3"
   },
   "outputs": [
    {
     "name": "stdout",
     "output_type": "stream",
     "text": [
      "<class 'pandas.core.frame.DataFrame'>\n",
      "RangeIndex: 599 entries, 0 to 598\n",
      "Data columns (total 11 columns):\n",
      " #   Column     Non-Null Count  Dtype  \n",
      "---  ------     --------------  -----  \n",
      " 0   ID         599 non-null    object \n",
      " 1   PRG        599 non-null    int64  \n",
      " 2   PL         599 non-null    int64  \n",
      " 3   PR         599 non-null    int64  \n",
      " 4   SK         599 non-null    int64  \n",
      " 5   TS         599 non-null    int64  \n",
      " 6   M11        599 non-null    float64\n",
      " 7   BD2        599 non-null    float64\n",
      " 8   Age        599 non-null    int64  \n",
      " 9   Insurance  599 non-null    int64  \n",
      " 10  Sepssis    599 non-null    object \n",
      "dtypes: float64(2), int64(7), object(2)\n",
      "memory usage: 51.6+ KB\n"
     ]
    }
   ],
   "source": [
    "#Basic information of the dataset\n",
    "train_df.info()"
   ]
  },
  {
   "cell_type": "markdown",
   "id": "ebbeab8b",
   "metadata": {
    "id": "ebbeab8b"
   },
   "source": [
    "> **Column name and datatype of test Dataset**"
   ]
  },
  {
   "cell_type": "code",
   "execution_count": 27,
   "id": "957499d4",
   "metadata": {
    "colab": {
     "base_uri": "https://localhost:8080/"
    },
    "id": "957499d4",
    "outputId": "86f1ab54-591a-406f-c1ce-92078087729b"
   },
   "outputs": [
    {
     "name": "stdout",
     "output_type": "stream",
     "text": [
      "<class 'pandas.core.frame.DataFrame'>\n",
      "RangeIndex: 169 entries, 0 to 168\n",
      "Data columns (total 10 columns):\n",
      " #   Column     Non-Null Count  Dtype  \n",
      "---  ------     --------------  -----  \n",
      " 0   ID         169 non-null    object \n",
      " 1   PRG        169 non-null    int64  \n",
      " 2   PL         169 non-null    int64  \n",
      " 3   PR         169 non-null    int64  \n",
      " 4   SK         169 non-null    int64  \n",
      " 5   TS         169 non-null    int64  \n",
      " 6   M11        169 non-null    float64\n",
      " 7   BD2        169 non-null    float64\n",
      " 8   Age        169 non-null    int64  \n",
      " 9   Insurance  169 non-null    int64  \n",
      "dtypes: float64(2), int64(7), object(1)\n",
      "memory usage: 13.3+ KB\n"
     ]
    }
   ],
   "source": [
    "#Basic information if the test dataset\n",
    "test_df.info()"
   ]
  },
  {
   "cell_type": "markdown",
   "id": "j538x195o3EJ",
   "metadata": {
    "id": "j538x195o3EJ"
   },
   "source": [
    "<a id=\"1.3\"></a>\n",
    "## 1.3 About the datasets\n",
    "For this data set : the train dataset have 11 collumn and 599 rows and the test dataset have 169 row and 10 collumn. \n",
    "<p> There are 2 kind of data group for this dataset</p>\n",
    "<ul><li>Trainning dataset Paitients_Files_Train.csv</li>\n",
    "    <li>Testing dataset: Paitients_Files_Test.csv</li>\n",
    " </ul>\n",
    "<p>As can be observe , the major data type for both training and testing data set are</p>\n",
    "<ul><li>int64 : PRG, PL, PR, SK, TS, AGE, Insurance</li>\n",
    "    <li>float64 : M11 , BD2</li>\n",
    "    <li> object : ID for both dataset and Sepsis for the training data set </li>\n",
    "</ul>\n",
    "<p>The target variable for this assingment is Sepsis (we have typo Seppsis in the train dataset). After viewing the dataset, the Sepsis column have value either Negative or Positive which is a kind of categorical data therefore we can conclude that this is a classification Problems.</p>"
   ]
  },
  {
   "cell_type": "markdown",
   "id": "iwpRuHR4tlhz",
   "metadata": {
    "id": "iwpRuHR4tlhz"
   },
   "source": [
    "<a id=\"1.4\"></a>\n",
    "## 1.4 Datafield definition :\n",
    "According to the `README.MD` [cite]file of the dataset the definition of the table is as follow\n",
    "<ul>\n",
    "<li>ID : Uniue number to represent patient</li>\n",
    "<li>PRG: Plasma glucose </li>\n",
    "<li>PL: Blood Work Result-1 (mu U/ml)</li>\n",
    "<li>PR: Blood Pressure (mm Hg)</li>\n",
    "<li>SK: Blood Work Result-2 (mm) </li>\n",
    "<li>TS: Blood Work Result-3 (mu U/ml)</li>\n",
    "<li>M11: Body mass index (weight in kg/(height in m)^2</li>\n",
    "<li>BD2:  Blood Work Result-4 (mu U/ml)</li>\n",
    "<li>Age:  patients age  (years)</li>\n",
    "<li>Insurance: If a patient holds a valid insurance card</li>\n",
    "<li> Sepsis (target): Positive: if a patient in ICU will \n",
    "develop a sepsis , and Negative: otherwise </li>\n",
    "\n",
    "\n",
    "</ul>"
   ]
  },
  {
   "cell_type": "markdown",
   "id": "rmZWT2IQwA3N",
   "metadata": {
    "id": "rmZWT2IQwA3N"
   },
   "source": [
    "<a id=\"2\"></a>\n",
    "# 2. Exploratory Data Analysis\n",
    "***"
   ]
  },
  {
   "cell_type": "markdown",
   "id": "iq6cNB4JwB8Z",
   "metadata": {
    "id": "iq6cNB4JwB8Z"
   },
   "source": [
    "<a id=\"2.1\"></a>\n",
    "## 2.1 Statistics of the datasets"
   ]
  },
  {
   "cell_type": "code",
   "execution_count": 28,
   "id": "3608f23d",
   "metadata": {},
   "outputs": [
    {
     "data": {
      "text/html": [
       "<div>\n",
       "<style scoped>\n",
       "    .dataframe tbody tr th:only-of-type {\n",
       "        vertical-align: middle;\n",
       "    }\n",
       "\n",
       "    .dataframe tbody tr th {\n",
       "        vertical-align: top;\n",
       "    }\n",
       "\n",
       "    .dataframe thead th {\n",
       "        text-align: right;\n",
       "    }\n",
       "</style>\n",
       "<table border=\"1\" class=\"dataframe\">\n",
       "  <thead>\n",
       "    <tr style=\"text-align: right;\">\n",
       "      <th></th>\n",
       "      <th>ID</th>\n",
       "      <th>PRG</th>\n",
       "      <th>PL</th>\n",
       "      <th>PR</th>\n",
       "      <th>SK</th>\n",
       "      <th>TS</th>\n",
       "      <th>M11</th>\n",
       "      <th>BD2</th>\n",
       "      <th>Age</th>\n",
       "      <th>Insurance</th>\n",
       "      <th>Sepssis</th>\n",
       "    </tr>\n",
       "  </thead>\n",
       "  <tbody>\n",
       "    <tr>\n",
       "      <th>0</th>\n",
       "      <td>ICU200010</td>\n",
       "      <td>6</td>\n",
       "      <td>148</td>\n",
       "      <td>72</td>\n",
       "      <td>35</td>\n",
       "      <td>0</td>\n",
       "      <td>33.6</td>\n",
       "      <td>0.627</td>\n",
       "      <td>50</td>\n",
       "      <td>0</td>\n",
       "      <td>Positive</td>\n",
       "    </tr>\n",
       "    <tr>\n",
       "      <th>1</th>\n",
       "      <td>ICU200011</td>\n",
       "      <td>1</td>\n",
       "      <td>85</td>\n",
       "      <td>66</td>\n",
       "      <td>29</td>\n",
       "      <td>0</td>\n",
       "      <td>26.6</td>\n",
       "      <td>0.351</td>\n",
       "      <td>31</td>\n",
       "      <td>0</td>\n",
       "      <td>Negative</td>\n",
       "    </tr>\n",
       "    <tr>\n",
       "      <th>2</th>\n",
       "      <td>ICU200012</td>\n",
       "      <td>8</td>\n",
       "      <td>183</td>\n",
       "      <td>64</td>\n",
       "      <td>0</td>\n",
       "      <td>0</td>\n",
       "      <td>23.3</td>\n",
       "      <td>0.672</td>\n",
       "      <td>32</td>\n",
       "      <td>1</td>\n",
       "      <td>Positive</td>\n",
       "    </tr>\n",
       "    <tr>\n",
       "      <th>3</th>\n",
       "      <td>ICU200013</td>\n",
       "      <td>1</td>\n",
       "      <td>89</td>\n",
       "      <td>66</td>\n",
       "      <td>23</td>\n",
       "      <td>94</td>\n",
       "      <td>28.1</td>\n",
       "      <td>0.167</td>\n",
       "      <td>21</td>\n",
       "      <td>1</td>\n",
       "      <td>Negative</td>\n",
       "    </tr>\n",
       "    <tr>\n",
       "      <th>4</th>\n",
       "      <td>ICU200014</td>\n",
       "      <td>0</td>\n",
       "      <td>137</td>\n",
       "      <td>40</td>\n",
       "      <td>35</td>\n",
       "      <td>168</td>\n",
       "      <td>43.1</td>\n",
       "      <td>2.288</td>\n",
       "      <td>33</td>\n",
       "      <td>1</td>\n",
       "      <td>Positive</td>\n",
       "    </tr>\n",
       "    <tr>\n",
       "      <th>...</th>\n",
       "      <td>...</td>\n",
       "      <td>...</td>\n",
       "      <td>...</td>\n",
       "      <td>...</td>\n",
       "      <td>...</td>\n",
       "      <td>...</td>\n",
       "      <td>...</td>\n",
       "      <td>...</td>\n",
       "      <td>...</td>\n",
       "      <td>...</td>\n",
       "      <td>...</td>\n",
       "    </tr>\n",
       "    <tr>\n",
       "      <th>594</th>\n",
       "      <td>ICU200604</td>\n",
       "      <td>6</td>\n",
       "      <td>123</td>\n",
       "      <td>72</td>\n",
       "      <td>45</td>\n",
       "      <td>230</td>\n",
       "      <td>33.6</td>\n",
       "      <td>0.733</td>\n",
       "      <td>34</td>\n",
       "      <td>0</td>\n",
       "      <td>Negative</td>\n",
       "    </tr>\n",
       "    <tr>\n",
       "      <th>595</th>\n",
       "      <td>ICU200605</td>\n",
       "      <td>0</td>\n",
       "      <td>188</td>\n",
       "      <td>82</td>\n",
       "      <td>14</td>\n",
       "      <td>185</td>\n",
       "      <td>32.0</td>\n",
       "      <td>0.682</td>\n",
       "      <td>22</td>\n",
       "      <td>1</td>\n",
       "      <td>Positive</td>\n",
       "    </tr>\n",
       "    <tr>\n",
       "      <th>596</th>\n",
       "      <td>ICU200606</td>\n",
       "      <td>0</td>\n",
       "      <td>67</td>\n",
       "      <td>76</td>\n",
       "      <td>0</td>\n",
       "      <td>0</td>\n",
       "      <td>45.3</td>\n",
       "      <td>0.194</td>\n",
       "      <td>46</td>\n",
       "      <td>1</td>\n",
       "      <td>Negative</td>\n",
       "    </tr>\n",
       "    <tr>\n",
       "      <th>597</th>\n",
       "      <td>ICU200607</td>\n",
       "      <td>1</td>\n",
       "      <td>89</td>\n",
       "      <td>24</td>\n",
       "      <td>19</td>\n",
       "      <td>25</td>\n",
       "      <td>27.8</td>\n",
       "      <td>0.559</td>\n",
       "      <td>21</td>\n",
       "      <td>0</td>\n",
       "      <td>Negative</td>\n",
       "    </tr>\n",
       "    <tr>\n",
       "      <th>598</th>\n",
       "      <td>ICU200608</td>\n",
       "      <td>1</td>\n",
       "      <td>173</td>\n",
       "      <td>74</td>\n",
       "      <td>0</td>\n",
       "      <td>0</td>\n",
       "      <td>36.8</td>\n",
       "      <td>0.088</td>\n",
       "      <td>38</td>\n",
       "      <td>1</td>\n",
       "      <td>Positive</td>\n",
       "    </tr>\n",
       "  </tbody>\n",
       "</table>\n",
       "<p>599 rows × 11 columns</p>\n",
       "</div>"
      ],
      "text/plain": [
       "            ID  PRG   PL  PR  SK   TS   M11    BD2  Age  Insurance   Sepssis\n",
       "0    ICU200010    6  148  72  35    0  33.6  0.627   50          0  Positive\n",
       "1    ICU200011    1   85  66  29    0  26.6  0.351   31          0  Negative\n",
       "2    ICU200012    8  183  64   0    0  23.3  0.672   32          1  Positive\n",
       "3    ICU200013    1   89  66  23   94  28.1  0.167   21          1  Negative\n",
       "4    ICU200014    0  137  40  35  168  43.1  2.288   33          1  Positive\n",
       "..         ...  ...  ...  ..  ..  ...   ...    ...  ...        ...       ...\n",
       "594  ICU200604    6  123  72  45  230  33.6  0.733   34          0  Negative\n",
       "595  ICU200605    0  188  82  14  185  32.0  0.682   22          1  Positive\n",
       "596  ICU200606    0   67  76   0    0  45.3  0.194   46          1  Negative\n",
       "597  ICU200607    1   89  24  19   25  27.8  0.559   21          0  Negative\n",
       "598  ICU200608    1  173  74   0    0  36.8  0.088   38          1  Positive\n",
       "\n",
       "[599 rows x 11 columns]"
      ]
     },
     "execution_count": 28,
     "metadata": {},
     "output_type": "execute_result"
    }
   ],
   "source": [
    "train_df"
   ]
  },
  {
   "cell_type": "markdown",
   "id": "08kB9kSOEnHE",
   "metadata": {
    "id": "08kB9kSOEnHE"
   },
   "source": [
    "Due to the fact that the  `Sepssis` contains a typo, the column name is re adjust"
   ]
  },
  {
   "cell_type": "code",
   "execution_count": 29,
   "id": "O1eMRZWqFDmw",
   "metadata": {
    "id": "O1eMRZWqFDmw"
   },
   "outputs": [],
   "source": [
    "train_df.rename(columns={\"Sepssis\": \"Sepsis\"}, inplace=True)"
   ]
  },
  {
   "cell_type": "code",
   "execution_count": 30,
   "id": "2xbMEMYWFGfZ",
   "metadata": {
    "colab": {
     "base_uri": "https://localhost:8080/",
     "height": 423
    },
    "id": "2xbMEMYWFGfZ",
    "outputId": "e145b404-66af-4613-e5fe-8ee8c701fd17"
   },
   "outputs": [
    {
     "data": {
      "text/html": [
       "<div>\n",
       "<style scoped>\n",
       "    .dataframe tbody tr th:only-of-type {\n",
       "        vertical-align: middle;\n",
       "    }\n",
       "\n",
       "    .dataframe tbody tr th {\n",
       "        vertical-align: top;\n",
       "    }\n",
       "\n",
       "    .dataframe thead th {\n",
       "        text-align: right;\n",
       "    }\n",
       "</style>\n",
       "<table border=\"1\" class=\"dataframe\">\n",
       "  <thead>\n",
       "    <tr style=\"text-align: right;\">\n",
       "      <th></th>\n",
       "      <th>ID</th>\n",
       "      <th>PRG</th>\n",
       "      <th>PL</th>\n",
       "      <th>PR</th>\n",
       "      <th>SK</th>\n",
       "      <th>TS</th>\n",
       "      <th>M11</th>\n",
       "      <th>BD2</th>\n",
       "      <th>Age</th>\n",
       "      <th>Insurance</th>\n",
       "      <th>Sepsis</th>\n",
       "    </tr>\n",
       "  </thead>\n",
       "  <tbody>\n",
       "    <tr>\n",
       "      <th>0</th>\n",
       "      <td>ICU200010</td>\n",
       "      <td>6</td>\n",
       "      <td>148</td>\n",
       "      <td>72</td>\n",
       "      <td>35</td>\n",
       "      <td>0</td>\n",
       "      <td>33.6</td>\n",
       "      <td>0.627</td>\n",
       "      <td>50</td>\n",
       "      <td>0</td>\n",
       "      <td>Positive</td>\n",
       "    </tr>\n",
       "    <tr>\n",
       "      <th>1</th>\n",
       "      <td>ICU200011</td>\n",
       "      <td>1</td>\n",
       "      <td>85</td>\n",
       "      <td>66</td>\n",
       "      <td>29</td>\n",
       "      <td>0</td>\n",
       "      <td>26.6</td>\n",
       "      <td>0.351</td>\n",
       "      <td>31</td>\n",
       "      <td>0</td>\n",
       "      <td>Negative</td>\n",
       "    </tr>\n",
       "    <tr>\n",
       "      <th>2</th>\n",
       "      <td>ICU200012</td>\n",
       "      <td>8</td>\n",
       "      <td>183</td>\n",
       "      <td>64</td>\n",
       "      <td>0</td>\n",
       "      <td>0</td>\n",
       "      <td>23.3</td>\n",
       "      <td>0.672</td>\n",
       "      <td>32</td>\n",
       "      <td>1</td>\n",
       "      <td>Positive</td>\n",
       "    </tr>\n",
       "    <tr>\n",
       "      <th>3</th>\n",
       "      <td>ICU200013</td>\n",
       "      <td>1</td>\n",
       "      <td>89</td>\n",
       "      <td>66</td>\n",
       "      <td>23</td>\n",
       "      <td>94</td>\n",
       "      <td>28.1</td>\n",
       "      <td>0.167</td>\n",
       "      <td>21</td>\n",
       "      <td>1</td>\n",
       "      <td>Negative</td>\n",
       "    </tr>\n",
       "    <tr>\n",
       "      <th>4</th>\n",
       "      <td>ICU200014</td>\n",
       "      <td>0</td>\n",
       "      <td>137</td>\n",
       "      <td>40</td>\n",
       "      <td>35</td>\n",
       "      <td>168</td>\n",
       "      <td>43.1</td>\n",
       "      <td>2.288</td>\n",
       "      <td>33</td>\n",
       "      <td>1</td>\n",
       "      <td>Positive</td>\n",
       "    </tr>\n",
       "    <tr>\n",
       "      <th>...</th>\n",
       "      <td>...</td>\n",
       "      <td>...</td>\n",
       "      <td>...</td>\n",
       "      <td>...</td>\n",
       "      <td>...</td>\n",
       "      <td>...</td>\n",
       "      <td>...</td>\n",
       "      <td>...</td>\n",
       "      <td>...</td>\n",
       "      <td>...</td>\n",
       "      <td>...</td>\n",
       "    </tr>\n",
       "    <tr>\n",
       "      <th>594</th>\n",
       "      <td>ICU200604</td>\n",
       "      <td>6</td>\n",
       "      <td>123</td>\n",
       "      <td>72</td>\n",
       "      <td>45</td>\n",
       "      <td>230</td>\n",
       "      <td>33.6</td>\n",
       "      <td>0.733</td>\n",
       "      <td>34</td>\n",
       "      <td>0</td>\n",
       "      <td>Negative</td>\n",
       "    </tr>\n",
       "    <tr>\n",
       "      <th>595</th>\n",
       "      <td>ICU200605</td>\n",
       "      <td>0</td>\n",
       "      <td>188</td>\n",
       "      <td>82</td>\n",
       "      <td>14</td>\n",
       "      <td>185</td>\n",
       "      <td>32.0</td>\n",
       "      <td>0.682</td>\n",
       "      <td>22</td>\n",
       "      <td>1</td>\n",
       "      <td>Positive</td>\n",
       "    </tr>\n",
       "    <tr>\n",
       "      <th>596</th>\n",
       "      <td>ICU200606</td>\n",
       "      <td>0</td>\n",
       "      <td>67</td>\n",
       "      <td>76</td>\n",
       "      <td>0</td>\n",
       "      <td>0</td>\n",
       "      <td>45.3</td>\n",
       "      <td>0.194</td>\n",
       "      <td>46</td>\n",
       "      <td>1</td>\n",
       "      <td>Negative</td>\n",
       "    </tr>\n",
       "    <tr>\n",
       "      <th>597</th>\n",
       "      <td>ICU200607</td>\n",
       "      <td>1</td>\n",
       "      <td>89</td>\n",
       "      <td>24</td>\n",
       "      <td>19</td>\n",
       "      <td>25</td>\n",
       "      <td>27.8</td>\n",
       "      <td>0.559</td>\n",
       "      <td>21</td>\n",
       "      <td>0</td>\n",
       "      <td>Negative</td>\n",
       "    </tr>\n",
       "    <tr>\n",
       "      <th>598</th>\n",
       "      <td>ICU200608</td>\n",
       "      <td>1</td>\n",
       "      <td>173</td>\n",
       "      <td>74</td>\n",
       "      <td>0</td>\n",
       "      <td>0</td>\n",
       "      <td>36.8</td>\n",
       "      <td>0.088</td>\n",
       "      <td>38</td>\n",
       "      <td>1</td>\n",
       "      <td>Positive</td>\n",
       "    </tr>\n",
       "  </tbody>\n",
       "</table>\n",
       "<p>599 rows × 11 columns</p>\n",
       "</div>"
      ],
      "text/plain": [
       "            ID  PRG   PL  PR  SK   TS   M11    BD2  Age  Insurance    Sepsis\n",
       "0    ICU200010    6  148  72  35    0  33.6  0.627   50          0  Positive\n",
       "1    ICU200011    1   85  66  29    0  26.6  0.351   31          0  Negative\n",
       "2    ICU200012    8  183  64   0    0  23.3  0.672   32          1  Positive\n",
       "3    ICU200013    1   89  66  23   94  28.1  0.167   21          1  Negative\n",
       "4    ICU200014    0  137  40  35  168  43.1  2.288   33          1  Positive\n",
       "..         ...  ...  ...  ..  ..  ...   ...    ...  ...        ...       ...\n",
       "594  ICU200604    6  123  72  45  230  33.6  0.733   34          0  Negative\n",
       "595  ICU200605    0  188  82  14  185  32.0  0.682   22          1  Positive\n",
       "596  ICU200606    0   67  76   0    0  45.3  0.194   46          1  Negative\n",
       "597  ICU200607    1   89  24  19   25  27.8  0.559   21          0  Negative\n",
       "598  ICU200608    1  173  74   0    0  36.8  0.088   38          1  Positive\n",
       "\n",
       "[599 rows x 11 columns]"
      ]
     },
     "execution_count": 30,
     "metadata": {},
     "output_type": "execute_result"
    }
   ],
   "source": [
    "train_df"
   ]
  },
  {
   "cell_type": "markdown",
   "id": "bgjMxIwmxN3x",
   "metadata": {
    "id": "bgjMxIwmxN3x"
   },
   "source": []
  },
  {
   "cell_type": "markdown",
   "id": "44023fc9",
   "metadata": {},
   "source": [
    "#### Train dataset\n",
    "\n",
    "*********"
   ]
  },
  {
   "cell_type": "code",
   "execution_count": 31,
   "id": "AxzF6JBvwBJ6",
   "metadata": {
    "colab": {
     "base_uri": "https://localhost:8080/",
     "height": 300
    },
    "id": "AxzF6JBvwBJ6",
    "outputId": "d7c843d3-1033-416e-87ee-61799e3ef3e1"
   },
   "outputs": [
    {
     "data": {
      "text/html": [
       "<div>\n",
       "<style scoped>\n",
       "    .dataframe tbody tr th:only-of-type {\n",
       "        vertical-align: middle;\n",
       "    }\n",
       "\n",
       "    .dataframe tbody tr th {\n",
       "        vertical-align: top;\n",
       "    }\n",
       "\n",
       "    .dataframe thead th {\n",
       "        text-align: right;\n",
       "    }\n",
       "</style>\n",
       "<table border=\"1\" class=\"dataframe\">\n",
       "  <thead>\n",
       "    <tr style=\"text-align: right;\">\n",
       "      <th></th>\n",
       "      <th>PRG</th>\n",
       "      <th>PL</th>\n",
       "      <th>PR</th>\n",
       "      <th>SK</th>\n",
       "      <th>TS</th>\n",
       "      <th>M11</th>\n",
       "      <th>BD2</th>\n",
       "      <th>Age</th>\n",
       "      <th>Insurance</th>\n",
       "    </tr>\n",
       "  </thead>\n",
       "  <tbody>\n",
       "    <tr>\n",
       "      <th>count</th>\n",
       "      <td>599.000000</td>\n",
       "      <td>599.000000</td>\n",
       "      <td>599.000000</td>\n",
       "      <td>599.000000</td>\n",
       "      <td>599.000000</td>\n",
       "      <td>599.000000</td>\n",
       "      <td>599.000000</td>\n",
       "      <td>599.000000</td>\n",
       "      <td>599.000000</td>\n",
       "    </tr>\n",
       "    <tr>\n",
       "      <th>mean</th>\n",
       "      <td>3.824708</td>\n",
       "      <td>120.153589</td>\n",
       "      <td>68.732888</td>\n",
       "      <td>20.562604</td>\n",
       "      <td>79.460768</td>\n",
       "      <td>31.920033</td>\n",
       "      <td>0.481187</td>\n",
       "      <td>33.290484</td>\n",
       "      <td>0.686144</td>\n",
       "    </tr>\n",
       "    <tr>\n",
       "      <th>std</th>\n",
       "      <td>3.362839</td>\n",
       "      <td>32.682364</td>\n",
       "      <td>19.335675</td>\n",
       "      <td>16.017622</td>\n",
       "      <td>116.576176</td>\n",
       "      <td>8.008227</td>\n",
       "      <td>0.337552</td>\n",
       "      <td>11.828446</td>\n",
       "      <td>0.464447</td>\n",
       "    </tr>\n",
       "    <tr>\n",
       "      <th>min</th>\n",
       "      <td>0.000000</td>\n",
       "      <td>0.000000</td>\n",
       "      <td>0.000000</td>\n",
       "      <td>0.000000</td>\n",
       "      <td>0.000000</td>\n",
       "      <td>0.000000</td>\n",
       "      <td>0.078000</td>\n",
       "      <td>21.000000</td>\n",
       "      <td>0.000000</td>\n",
       "    </tr>\n",
       "    <tr>\n",
       "      <th>25%</th>\n",
       "      <td>1.000000</td>\n",
       "      <td>99.000000</td>\n",
       "      <td>64.000000</td>\n",
       "      <td>0.000000</td>\n",
       "      <td>0.000000</td>\n",
       "      <td>27.100000</td>\n",
       "      <td>0.248000</td>\n",
       "      <td>24.000000</td>\n",
       "      <td>0.000000</td>\n",
       "    </tr>\n",
       "    <tr>\n",
       "      <th>50%</th>\n",
       "      <td>3.000000</td>\n",
       "      <td>116.000000</td>\n",
       "      <td>70.000000</td>\n",
       "      <td>23.000000</td>\n",
       "      <td>36.000000</td>\n",
       "      <td>32.000000</td>\n",
       "      <td>0.383000</td>\n",
       "      <td>29.000000</td>\n",
       "      <td>1.000000</td>\n",
       "    </tr>\n",
       "    <tr>\n",
       "      <th>75%</th>\n",
       "      <td>6.000000</td>\n",
       "      <td>140.000000</td>\n",
       "      <td>80.000000</td>\n",
       "      <td>32.000000</td>\n",
       "      <td>123.500000</td>\n",
       "      <td>36.550000</td>\n",
       "      <td>0.647000</td>\n",
       "      <td>40.000000</td>\n",
       "      <td>1.000000</td>\n",
       "    </tr>\n",
       "    <tr>\n",
       "      <th>max</th>\n",
       "      <td>17.000000</td>\n",
       "      <td>198.000000</td>\n",
       "      <td>122.000000</td>\n",
       "      <td>99.000000</td>\n",
       "      <td>846.000000</td>\n",
       "      <td>67.100000</td>\n",
       "      <td>2.420000</td>\n",
       "      <td>81.000000</td>\n",
       "      <td>1.000000</td>\n",
       "    </tr>\n",
       "  </tbody>\n",
       "</table>\n",
       "</div>"
      ],
      "text/plain": [
       "              PRG          PL          PR          SK          TS         M11  \\\n",
       "count  599.000000  599.000000  599.000000  599.000000  599.000000  599.000000   \n",
       "mean     3.824708  120.153589   68.732888   20.562604   79.460768   31.920033   \n",
       "std      3.362839   32.682364   19.335675   16.017622  116.576176    8.008227   \n",
       "min      0.000000    0.000000    0.000000    0.000000    0.000000    0.000000   \n",
       "25%      1.000000   99.000000   64.000000    0.000000    0.000000   27.100000   \n",
       "50%      3.000000  116.000000   70.000000   23.000000   36.000000   32.000000   \n",
       "75%      6.000000  140.000000   80.000000   32.000000  123.500000   36.550000   \n",
       "max     17.000000  198.000000  122.000000   99.000000  846.000000   67.100000   \n",
       "\n",
       "              BD2         Age   Insurance  \n",
       "count  599.000000  599.000000  599.000000  \n",
       "mean     0.481187   33.290484    0.686144  \n",
       "std      0.337552   11.828446    0.464447  \n",
       "min      0.078000   21.000000    0.000000  \n",
       "25%      0.248000   24.000000    0.000000  \n",
       "50%      0.383000   29.000000    1.000000  \n",
       "75%      0.647000   40.000000    1.000000  \n",
       "max      2.420000   81.000000    1.000000  "
      ]
     },
     "execution_count": 31,
     "metadata": {},
     "output_type": "execute_result"
    }
   ],
   "source": [
    "#Showing all of the important statistic of the datasets.\n",
    "train_df.describe()"
   ]
  },
  {
   "cell_type": "markdown",
   "id": "MOtNg2ZVx7ZO",
   "metadata": {
    "id": "MOtNg2ZVx7ZO"
   },
   "source": [
    "From the initial observation, the `count` value of all of the columns in the `train` dataset are all having the same value of 599 (which is equal to the size of the dataset) indicating there are no missing values occurs in all of the column of the dataset."
   ]
  },
  {
   "cell_type": "markdown",
   "id": "KcNilPvGzPUG",
   "metadata": {
    "id": "KcNilPvGzPUG"
   },
   "source": [
    "* With `PRG` column, the median value of the column is equal to 3.824, however the value of the 75 percentile is 6 and the `maximum` value is 17 which is larger than the 75 percentile therefore indicating a negative skew"
   ]
  },
  {
   "cell_type": "markdown",
   "id": "QB2mOLef1W4F",
   "metadata": {
    "id": "QB2mOLef1W4F"
   },
   "source": [
    "* For the `PL` column of the train dataset, we can observe that the mean value of the collumn is equal to 120.153589, the 25% percentile is 99, the 75 % percentile is 140 there for we could say that this column have a normal distribution"
   ]
  },
  {
   "cell_type": "markdown",
   "id": "4c2FbqhV2NFr",
   "metadata": {
    "id": "4c2FbqhV2NFr"
   },
   "source": [
    "* For `PR` column, the mean value of this column from the above mentioned table is 68.732888 (mu U/ml). The 25 % percentile of the column is 64 (mu U/ml), the 75% percenttile for the dataset is 80 (mu U/ml), indicating a normal distribution"
   ]
  },
  {
   "cell_type": "markdown",
   "id": "Bg6FVx_p4a1d",
   "metadata": {
    "id": "Bg6FVx_p4a1d"
   },
   "source": [
    "* For `SK` column, we could observe that the mean value (which is 20.562604), the 25 % percentile of 0, 75 % percentile is 32. However the max value = 99 made this column have a negative skew. However this also indicating a potential for outlier. "
   ]
  },
  {
   "cell_type": "markdown",
   "id": "I041O7l05TNF",
   "metadata": {
    "id": "I041O7l05TNF"
   },
   "source": [
    "* Regarding the `TS` column the mean value 76.460768 However the 25% percentile is 0 and the 75 % percentile quartile is equal to 123.5. However the max value is 846 as well as more than 50% of the patient have the level of TS equal to 36 thus causing a negative skill. Furthermore, the max TS value is 800 which is the outlier of the `TS` column"
   ]
  },
  {
   "cell_type": "markdown",
   "id": "YT4LPJKMBjyT",
   "metadata": {
    "id": "YT4LPJKMBjyT"
   },
   "source": [
    "* `M1ll` As can observe, the mean value is equal to 31.920033\t(kg/m^2). There are also 25% of patient whoe have the BMI of 36.550000 (kg/m^2). The max value of the BMI is 67.1 (kg/m^2)\n",
    "\n"
   ]
  },
  {
   "cell_type": "markdown",
   "id": "yqyben-_BvWm",
   "metadata": {
    "id": "yqyben-_BvWm"
   },
   "source": [
    "* From the `BD2` we can be observe the mean value of the BD2 column is 0.481187 (mu U/ml). The 25% percentile is 0.248 and the 75% percentile is equal to 0.647000 (mu U/ml) however the max value is 2.420000 (mu U/ml) which resulting in a negative skew"
   ]
  },
  {
   "cell_type": "markdown",
   "id": "_UkVjN3nBzlZ",
   "metadata": {
    "id": "_UkVjN3nBzlZ"
   },
   "source": [
    "* With `Age` column , we can observe that the mean age of is equal to 33.290484. There are 75 % of patient who are 24 year old as well as 25 % patients who are 40 year old. The max age is 80 year old. Therefore resulting in a negative skew"
   ]
  },
  {
   "cell_type": "markdown",
   "id": "rk2nIxmuCBxQ",
   "metadata": {
    "id": "rk2nIxmuCBxQ"
   },
   "source": [
    "The initial observation is verified using the histogram and boxplot"
   ]
  },
  {
   "cell_type": "markdown",
   "id": "SOuk96dBB6KP",
   "metadata": {
    "id": "SOuk96dBB6KP"
   },
   "source": [
    "`Insurance`"
   ]
  },
  {
   "cell_type": "code",
   "execution_count": 32,
   "id": "ccj71SRPyDen",
   "metadata": {
    "colab": {
     "base_uri": "https://localhost:8080/",
     "height": 796
    },
    "id": "ccj71SRPyDen",
    "outputId": "f7550980-d0f2-4b86-f556-6fb114b6c81c"
   },
   "outputs": [
    {
     "data": {
      "text/plain": [
       "<module 'matplotlib.pyplot' from '/Users/nhatbuiminh/opt/anaconda3/envs/ProjectNew/lib/python3.10/site-packages/matplotlib/pyplot.py'>"
      ]
     },
     "execution_count": 32,
     "metadata": {},
     "output_type": "execute_result"
    },
    {
     "data": {
      "image/png": "[encoded data removed]",
      "text/plain": [
       "<Figure size 1440x1080 with 9 Axes>"
      ]
     },
     "metadata": {},
     "output_type": "display_data"
    }
   ],
   "source": [
    "plt.rcParams['figure.figsize'] = [20, 15]\n",
    "train_df.hist()\n",
    "plt"
   ]
  },
  {
   "cell_type": "markdown",
   "id": "fbtMLjxdHbnw",
   "metadata": {
    "id": "fbtMLjxdHbnw"
   },
   "source": [
    "From the observation, we can classified the skewness of each column are :\n",
    " <ul>\n",
    " <li>Left skew :  `PRG`, `SK`, `Age` and `BD2` </li>\n",
    " <li>Normal distribution value are `PL` , `PR`, `Mll`</li>\n",
    " </ul>"
   ]
  },
  {
   "cell_type": "markdown",
   "id": "lhynujhjIf5F",
   "metadata": {
    "id": "lhynujhjIf5F"
   },
   "source": [
    "#### Test dataset\n",
    "\n",
    "********"
   ]
  },
  {
   "cell_type": "code",
   "execution_count": 33,
   "id": "COo2nMyWE6h5",
   "metadata": {
    "colab": {
     "base_uri": "https://localhost:8080/",
     "height": 300
    },
    "id": "COo2nMyWE6h5",
    "outputId": "0e0512cd-ed09-455c-e9ed-a73d01476b35"
   },
   "outputs": [
    {
     "ename": "NameError",
     "evalue": "name 'plot_group_by_column' is not defined",
     "output_type": "error",
     "traceback": [
      "\u001b[0;31mNameError\u001b[0m\u001b[0;31m:\u001b[0m name 'plot_group_by_column' is not defined\n"
     ]
    }
   ],
   "source": [
    "test_df.describe()\n",
    "plot_group_by_column(test_df, \"Sepsis\")"
   ]
  },
  {
   "cell_type": "code",
   "execution_count": null,
   "id": "2516070c",
   "metadata": {},
   "outputs": [],
   "source": [
    "test_df.median()"
   ]
  },
  {
   "cell_type": "markdown",
   "id": "5QGo0ECAK8Yv",
   "metadata": {
    "id": "5QGo0ECAK8Yv"
   },
   "source": [
    "The test dataset consist of 9 column, each column have the value count of 169 which is consistance through out all of the column of the dataset which indicate there is no missing value.\n",
    "\n",
    "* `PRG` : As can be be observe, the min value of the `PRG` Column have the `mean` value of 3.917160, the `min` value of 0 and the `max` value of 13. Regarding to the `quartile` of the dataset, `25 % ` percentile of patient have the `PRG` level = 1 1, `50%` percentile of patient have the `PRG` level equal to 3 which slightly less than the `mean` value and `75 %` percentile patient have the `PRG` level of 6. This indicate a left skew. \n"
   ]
  },
  {
   "cell_type": "markdown",
   "id": "N7uOKaeSI58G",
   "metadata": {
    "id": "N7uOKaeSI58G"
   },
   "source": [
    "* `PL`: For the abovemention `PL` column the `mean` value is 123.520710 (mu U/ml), the `min` value is 56 (mu U/ml) and the `max` value is 199 (mu U/ml). For the `25 % percentile`, the `PL` level is 102 (mu U/ml), the `50 % percentile` is 120(mu U/ml) and the `75 % percentile` is 80 (mu U/ml). This indicate a normal distribution.\n",
    "<br>\n"
   ]
  },
  {
   "cell_type": "markdown",
   "id": "Wz87YihZI8dr",
   "metadata": {
    "id": "Wz87YihZI8dr"
   },
   "source": [
    "* `PR`: The mean value for `PR` column is 70.426036 (mmHg), the min value is 0 (mmHg) which potentially outliers, the max value is 114 (mmHg). Regarding the quartile of this column, 75 %  of patient have the blood pressure of 62 (mmHg), 50% percent of patient have the blood pressure of 74 (mmHg) and 25 % of patient have the blood pressure of 80 (mmHg). This indicating a skew right.\n"
   ]
  },
  {
   "cell_type": "markdown",
   "id": "F0su7kTSI_5t",
   "metadata": {
    "id": "F0su7kTSI_5t"
   },
   "source": [
    "* `SK` For the `SK` column, the mean value is  20.443787 (mm), the max value is 49 (mm) and min value of 0 (mm). Furthermore 25% percentile of patient have the Blood Work Result-2 of 0 (mm), 50% percentile of patient have the value of 23 (mm) and 75% percentitle of patient have the `SK` value of 32 (mm). This indicating a slightly skew right.\n"
   ]
  },
  {
   "cell_type": "markdown",
   "id": "5ytdPk4vJCbL",
   "metadata": {
    "id": "5ytdPk4vJCbL"
   },
   "source": [
    "* `TS` For the Blood Work Result-3, we have `mean` value of 81 (mu U/ml), the `max` value of 540 (mu U/ml). Regarding the quartile, 75% of patient have the Blood Work Result-3 equal 0, 50% of the patient have the quartile is 0 and the 25% of patient have the level of 135(mu U/ml). This indicating a left skew\n"
   ]
  },
  {
   "cell_type": "markdown",
   "id": "JoIAoE8fJFHk",
   "metadata": {
    "id": "JoIAoE8fJFHk"
   },
   "source": [
    "* `Mll`: For the `Mll` column, the `mean` value of 32.249704 (kg/m^2) `max` value of 57.3 (kg/m^2) and the `min` value is 0. Regarding the quartile the distribution `25% percentile` of patient have the BMI value of 27.6 (kg/m^2), `50% percentile` of patient is 32.4 (kg/m^2) and `75% percentile` patient is 36.6 (kg/m^2). This indicating a normal distribution\n"
   ]
  },
  {
   "cell_type": "markdown",
   "id": "oPxT6chmJJyi",
   "metadata": {
    "id": "oPxT6chmJJyi"
   },
   "source": [
    "* `BD2`: The blood work result have the mean value of 0.438876 (mu U/ml), the max value of 1.698 (mu U/ml) and the min value of 0.1 (mu U/ml). Regarding the value of the quartile of the column, 75 % of the patient have the `BD2` index of 0.223, 50% of the patient have the `BD2` value of 0.343 (mu U/ml) and 25 % of patient take the value of 0.587 (mu U/ml)\n"
   ]
  },
  {
   "cell_type": "markdown",
   "id": "Xge3QlLMJtAQ",
   "metadata": {
    "id": "Xge3QlLMJtAQ"
   },
   "source": [
    "* `Age`: Regarding the age of the patient, the mean value is 33.065089, the maximum age is 70 and the minimum age of 21. The 25 % percentile is 24 years old, the 50% percentile is 28 year old and the 75 % percentile is 42 year old which indcating a left skew.\n"
   ]
  },
  {
   "cell_type": "markdown",
   "id": "e9BgIMx2MWGN",
   "metadata": {
    "id": "e9BgIMx2MWGN"
   },
   "source": [
    "* Insurance is a categorical column which take the value of either 0 or 1 "
   ]
  },
  {
   "cell_type": "code",
   "execution_count": null,
   "id": "YiNCKCjpIrDI",
   "metadata": {
    "colab": {
     "base_uri": "https://localhost:8080/",
     "height": 782
    },
    "id": "YiNCKCjpIrDI",
    "outputId": "45100fbb-8364-4cbb-afc0-64eb9122bc30"
   },
   "outputs": [],
   "source": [
    "plt.rcParams['figure.figsize'] = [20, 15]\n",
    "test_df.hist()\n",
    "plt.show()"
   ]
  },
  {
   "cell_type": "markdown",
   "id": "5hg-ionCNajn",
   "metadata": {
    "id": "5hg-ionCNajn"
   },
   "source": [
    "From the observation, we can classified the skewness of each column are :\n",
    " <ul>\n",
    " <li>Left skew :  `PRG`,`PL`, `Age` and `BD2` </li>\n",
    " <li>Normal distribution value: `SK`, `Mll`</li>\n",
    " <li>Right skew: `PR`</li>\n",
    " </ul>\n"
   ]
  },
  {
   "cell_type": "markdown",
   "id": "twftaWtWOVQ2",
   "metadata": {
    "id": "twftaWtWOVQ2"
   },
   "source": [
    "<a id=\"2.2\"></a>\n",
    "## 2.2  Domain knowledge"
   ]
  },
  {
   "cell_type": "markdown",
   "id": "44dnjfhDmRNV",
   "metadata": {
    "id": "44dnjfhDmRNV"
   },
   "source": [
    "In order to process to the next step, the domain knowledge must be acquired :\n",
    "\n",
    "* `PRG`: \"under 100 mg/dL or 10 mg/L during fasting and less than 140 mg/dL or 14mg/L 2-hours postprandial\". (Source : [1])\n"
   ]
  },
  {
   "cell_type": "markdown",
   "id": "_nOgM3EVnEnq",
   "metadata": {
    "id": "_nOgM3EVnEnq"
   },
   "source": [
    "* PL: Blood Work Result-1 (mu U/ml): According to [2] the normal platelet count ranges from 150 (mu U/ml) to 450 (mu U/ml)"
   ]
  },
  {
   "cell_type": "markdown",
   "id": "ITytjLjAnH_w",
   "metadata": {
    "id": "ITytjLjAnH_w"
   },
   "source": [
    "* PR: Blood Pressure (mm Hg) According to [3] The systolic blood pressure are classified into the following category:        <ul>\n",
    "<li>Normal blood pressure : less than 120 (mmHg) </li>\n",
    "<li>At risk of Prehypertension : from 120(mmHg) to 139(mmHg)</li>\n",
    "<li>High blood pressure or Hypertension 140 (mmHg) or higher</li>\n",
    "</ul>\n"
   ]
  },
  {
   "cell_type": "markdown",
   "id": "8zmJYdk5nKFo",
   "metadata": {
    "id": "8zmJYdk5nKFo"
   },
   "source": [
    "* SK: Serum Potassium level: According to [4], normal range for Serum Potassium is between (3.5 to 5.5 mmol/L\n",
    "\n"
   ]
  },
  {
   "cell_type": "markdown",
   "id": "gYBQU6mJnMAs",
   "metadata": {
    "id": "gYBQU6mJnMAs"
   },
   "source": [
    "* TS: Transferrin Saturation \n"
   ]
  },
  {
   "cell_type": "markdown",
   "id": "1lUoqdvDnNkk",
   "metadata": {
    "id": "1lUoqdvDnNkk"
   },
   "source": [
    "* M11: Body mass index (kg/m^2)\n",
    "After [4]\n",
    "<ul>\n",
    "<li>Underweight: Body mass index is less than 18.5 kg/m^2</li>\n",
    "<li> Normal: 18.5 to 24.9 kg/m^2</li>\n",
    "<li> Overweight: 25.0 to 29.9 kg/m^2</li>\n",
    "<li> Obese: 30.0 kg/m^2 or higher</li>\n",
    "</ul>"
   ]
  },
  {
   "cell_type": "markdown",
   "id": "TzZEbO9xnPvn",
   "metadata": {
    "id": "TzZEbO9xnPvn"
   },
   "source": [
    "* BD2: Blood Work Result-4 (mu U/ml)"
   ]
  },
  {
   "cell_type": "markdown",
   "id": "YplFGFyATsNT",
   "metadata": {
    "id": "YplFGFyATsNT"
   },
   "source": [
    "<a id = \"2.3\"></a>  \n",
    "## 2.3 Number of unique value"
   ]
  },
  {
   "cell_type": "markdown",
   "id": "v3wLjNnYTzFc",
   "metadata": {
    "id": "v3wLjNnYTzFc"
   },
   "source": [
    "We can checkthe ID of patients to see if it's duplicate or not"
   ]
  },
  {
   "cell_type": "markdown",
   "id": "LxA-O9CiT7rC",
   "metadata": {
    "id": "LxA-O9CiT7rC"
   },
   "source": [
    "> ### Train dataset"
   ]
  },
  {
   "cell_type": "code",
   "execution_count": null,
   "id": "ogUe-MWcTvLz",
   "metadata": {
    "colab": {
     "base_uri": "https://localhost:8080/"
    },
    "id": "ogUe-MWcTvLz",
    "outputId": "6b728717-eff5-4860-96ca-abe67f719356",
    "pycharm": {
     "is_executing": true
    }
   },
   "outputs": [],
   "source": [
    "#Count the number of duplicate ID of train dataset\n",
    "print(train_df['ID'].duplicated().sum())"
   ]
  },
  {
   "cell_type": "markdown",
   "id": "D5iidbB5UAlq",
   "metadata": {
    "id": "D5iidbB5UAlq"
   },
   "source": [
    "> ### Test dataset"
   ]
  },
  {
   "cell_type": "code",
   "execution_count": null,
   "id": "tXVIsZiJVYOS",
   "metadata": {
    "colab": {
     "base_uri": "https://localhost:8080/"
    },
    "id": "tXVIsZiJVYOS",
    "outputId": "ee3f637f-3929-4931-887d-3b30368c33ed"
   },
   "outputs": [],
   "source": [
    "#Count the number of duplicate ID of test Dataset\n",
    "print(test_df['ID'].duplicated().sum())"
   ]
  },
  {
   "cell_type": "markdown",
   "id": "W1vbP6L_MI5D",
   "metadata": {
    "id": "W1vbP6L_MI5D"
   },
   "source": [
    "<a id=\"2.4\"></a>\n",
    "## 2.4 Outlier Exploration"
   ]
  },
  {
   "cell_type": "markdown",
   "id": "vXtr9uYvODsq",
   "metadata": {
    "id": "vXtr9uYvODsq"
   },
   "source": [
    "> #### Train datset"
   ]
  },
  {
   "cell_type": "code",
   "execution_count": null,
   "id": "473ccd4e",
   "metadata": {},
   "outputs": [],
   "source": [
    "\n",
    "def plot_box (df, name =''):\n",
    "    cols = df.columns\n",
    " \n",
    "    for i in range(1, cols.size -1):\n",
    "        if(df[cols[i]].dtype == 'object'):\n",
    "            continue\n",
    "        plt.subplot(6, 2, i)\n",
    "        df[cols[i]].plot(kind='box')\n",
    "        plt.title(name +\" \" +  cols[i], fontsize = 20)\n",
    "    plt.tight_layout()\n",
    "    plt.show()\n",
    "plot_box(train_df)"
   ]
  },
  {
   "cell_type": "markdown",
   "id": "7bl_6hJtPjen",
   "metadata": {
    "id": "7bl_6hJtPjen"
   },
   "source": [
    "As can be observe from the box plot, except for the `Insurance`, `ID` ans `SEPSIS` collumn, according to the above mentioend box plot, the column that contains outliers are as follow:\n",
    "* `PRG`\n",
    "* `PL`\n",
    "* `PR`\n",
    "* `SK`\n",
    "* `TS`\n",
    "* `Mll`\n",
    "* `BD2`\n",
    "* `AGE`"
   ]
  },
  {
   "cell_type": "markdown",
   "id": "sSU0btmlOIZO",
   "metadata": {
    "id": "sSU0btmlOIZO"
   },
   "source": [
    "> #### Test Data frame "
   ]
  },
  {
   "cell_type": "code",
   "execution_count": null,
   "id": "g7-FQCpcORaO",
   "metadata": {
    "colab": {
     "base_uri": "https://localhost:8080/",
     "height": 786
    },
    "id": "g7-FQCpcORaO",
    "outputId": "dfc2e413-323a-4a1f-88dd-bc52fb0df7b8"
   },
   "outputs": [],
   "source": [
    "plot_box(test_df)"
   ]
  },
  {
   "cell_type": "markdown",
   "id": "82dd14c5",
   "metadata": {},
   "source": [
    "* As can be observe with the test dataset, the following variable cotumns outliers : \n",
    "`PR`,`TS `, `BD2`, `M11`, `Age` \n",
    "contains outliers.\n",
    "* Further more `TS` `SK`, `M11` have the value = 0"
   ]
  },
  {
   "cell_type": "markdown",
   "id": "EXd43-lPPeKn",
   "metadata": {
    "id": "EXd43-lPPeKn"
   },
   "source": [
    "<a id=\"2.5\"></a>\n",
    "## 2.5 Correlation "
   ]
  },
  {
   "cell_type": "markdown",
   "id": "c8363e11",
   "metadata": {},
   "source": [
    "> ####  Train dataset"
   ]
  },
  {
   "cell_type": "code",
   "execution_count": null,
   "id": "DwpQVTmnOxD6",
   "metadata": {
    "colab": {
     "base_uri": "https://localhost:8080/",
     "height": 900
    },
    "id": "DwpQVTmnOxD6",
    "outputId": "168dd632-5af9-4902-f075-39ee33059ee4"
   },
   "outputs": [],
   "source": [
    "corr = train_df.corr(method = 'pearson')\n",
    "sns.heatmap(data=corr, cmap='magma', annot = True)\n",
    "plt.title(\"Correlations Among Features\", y = 1.03, fontsize=20,pad=40)\n",
    "plt.show()"
   ]
  },
  {
   "cell_type": "markdown",
   "id": "l5r8cO8rb2Gp",
   "metadata": {
    "id": "l5r8cO8rb2Gp"
   },
   "source": [
    "The correlation is calculated using Pearson correlation methodology. Pearson Correlation range from +1 to -1. With +! is positive correlation and -1 is negative correlation. \n",
    "As can be observe from the heatmap, we can see that the correlated are: \n",
    "* To examine the correlation the Pearson correlation methode have been use. From the observation from the heat map, `Age` Feature is slightly correlated in a positive direction with the `PRG` feature.\n",
    "+ `M11` Feature slightly positive correlate with `SK` value\n",
    "+ `TS` feature is having a slight positve correlation with `SK`"
   ]
  },
  {
   "cell_type": "code",
   "execution_count": null,
   "id": "98a447b3",
   "metadata": {},
   "outputs": [],
   "source": [
    "### Count number of category\n",
    "plt.figure(figsize=(20,10))\n",
    "sns.countplot(x='Sepsis', data= train_df)\n",
    "plt.title(\"Sepsis Count\", y = 1.03, fontsize=20,pad=40)\n",
    "plt.legend(labels = ['Positive','Negative'])\n"
   ]
  },
  {
   "cell_type": "markdown",
   "id": "e8e5fdcc",
   "metadata": {},
   "source": [
    "As can be observe from the bar chart, around over 200 Patient listed in the 1 `train` dataset are Positive with `Sepsis`.\n"
   ]
  },
  {
   "cell_type": "markdown",
   "id": "3b60dcb1",
   "metadata": {},
   "source": [
    "#### Age group of train dataset"
   ]
  },
  {
   "cell_type": "code",
   "execution_count": null,
   "id": "ebb715ef",
   "metadata": {},
   "outputs": [],
   "source": [
    "plt.figure(figsize=(20,10))\n",
    "sns.countplot(data = train_df, x= 'Age')\n",
    "plt.title(\"Age Count Train\", y = 1.03, fontsize=20,pad=40)"
   ]
  },
  {
   "cell_type": "markdown",
   "id": "083bbd9f",
   "metadata": {},
   "source": [
    "* As can be observe the majority of patient are in theire early twenty, most of the patient range from 30 to 50 year olds and only a minority of people are over 60"
   ]
  },
  {
   "cell_type": "code",
   "execution_count": null,
   "id": "9744b8cd",
   "metadata": {},
   "outputs": [],
   "source": [
    "sns.catplot(x='Sepsis', y = 'Age', data = train_df)"
   ]
  },
  {
   "cell_type": "markdown",
   "id": "1f89dc3e",
   "metadata": {},
   "source": [
    "* The higher the patient age the higher the chance that they are positive with `Sepsis`."
   ]
  },
  {
   "cell_type": "markdown",
   "id": "f79ac000",
   "metadata": {},
   "source": [
    "In order to undestand the cause of sepsis, we look for relational result between all of the collumn and the 'Sepsis' column"
   ]
  },
  {
   "cell_type": "code",
   "execution_count": null,
   "id": "984a49e5",
   "metadata": {},
   "outputs": [],
   "source": [
    "def plot_group_by (group_by_df, cols, name, color_input= ['#ef8a62','#67a9cf']):\n",
    "    print(\"--Data Table -----\")\n",
    "    print(group_by_df)\n",
    "    for i in range(1, 9):\n",
    "        plt.subplot(4, 2, i)\n",
    "        group_by_df[cols[i]].plot(kind='bar', color=color_input)\n",
    "        plt.ylabel(cols[i])\n",
    "        plt.title(name +\" \"+ cols[i] + \" and  Sepsis\", fontsize = 20)\n",
    "        # train_df[train_df['Age'] < 30].groupby('Sepsis').mean().plot(kind = \"bar\",legend = True)\n",
    "    plt.tight_layout()\n",
    "    plt.show()\n",
    "    "
   ]
  },
  {
   "cell_type": "code",
   "execution_count": null,
   "id": "3cd5b3d8",
   "metadata": {},
   "outputs": [],
   "source": [
    "plt.figure(figsize=(20,10))\n",
    "cols = train_df.columns\n",
    "plot_group_by(train_df.groupby('Sepsis').mean(),cols,\"Mean of\")"
   ]
  },
  {
   "cell_type": "code",
   "execution_count": null,
   "id": "3130711e",
   "metadata": {},
   "outputs": [],
   "source": [
    "cols = train_df.columns\n",
    "plot_group_by(train_df.groupby('Sepsis').median(),cols,\"Median of\", color_input=['#af8dc3','#7fbf7b'])"
   ]
  },
  {
   "cell_type": "markdown",
   "id": "3a650d1d",
   "metadata": {},
   "source": [
    "* As can observe from the barchart, the mean and median of the blood indicator `PRG`,`PL`,`SK`,  and `BD2` is higher in patients who are positive with `Sepsis`. \n",
    "* Therefore, a if a patience who have a higher `PRG`, `PL`,`SK` or `BD2` than the mean or the meadian value, they should be test for Sepsis."
   ]
  },
  {
   "cell_type": "markdown",
   "id": "aaae606f",
   "metadata": {},
   "source": [
    "* Also, the mean, and median age of the patient who are diagnose `Positive` with Sepsis is higher than those who are `negative` with `Sepsis`"
   ]
  },
  {
   "cell_type": "markdown",
   "id": "T6c0MM21heir",
   "metadata": {
    "id": "T6c0MM21heir"
   },
   "source": [
    "## Correlation of test data\n"
   ]
  },
  {
   "cell_type": "code",
   "execution_count": null,
   "id": "ntDn9jXwhipX",
   "metadata": {
    "colab": {
     "base_uri": "https://localhost:8080/",
     "height": 900
    },
    "id": "ntDn9jXwhipX",
    "outputId": "b0871d28-2e64-457e-cc02-b7bee29cda5f"
   },
   "outputs": [],
   "source": [
    "corr = test_df.corr(method = 'pearson')\n",
    "sns.heatmap(data=corr, cmap='magma', annot = True)\n",
    "plt.title(\"Correlations Among Features\", y = 1.03, fontsize=20,pad=40)\n",
    "plt.show()"
   ]
  },
  {
   "cell_type": "markdown",
   "id": "5c31ea94",
   "metadata": {},
   "source": [
    "As can be observe from the correlation matrix, the following collumns of variable are correlated:\n",
    " \n",
    "* `Age` are correlated in the possitive direction with `PRG`\n",
    "*  `TS` and `M11` are positively correlated with `Sk`    "
   ]
  },
  {
   "cell_type": "code",
   "execution_count": null,
   "id": "14e0f874",
   "metadata": {},
   "outputs": [],
   "source": [
    "plt.figure(figsize=(20,10))\n",
    "sns.countplot(data = test_df, x= 'Age')\n",
    "plt.title(\"Age Count Train\", y = 1.03, fontsize=20,pad=40)\n",
    " "
   ]
  },
  {
   "cell_type": "markdown",
   "id": "ca0afefa",
   "metadata": {},
   "source": [
    "Also, we can observe that the majority of the patient admitted in the ICU are in their early twenty."
   ]
  },
  {
   "cell_type": "markdown",
   "id": "fe963594",
   "metadata": {
    "id": "fe963594"
   },
   "source": [
    "<a id=\"2.6\"></a>\n",
    "## 2.6 Data frame properties"
   ]
  },
  {
   "cell_type": "code",
   "execution_count": null,
   "id": "61XKOVXAkJJ_",
   "metadata": {
    "colab": {
     "base_uri": "https://localhost:8080/"
    },
    "id": "61XKOVXAkJJ_",
    "outputId": "0b4a21c6-b2df-46c8-d5ac-02579f827c99"
   },
   "outputs": [],
   "source": [
    "train_df.info()"
   ]
  },
  {
   "cell_type": "markdown",
   "id": "ubX6tHqokTms",
   "metadata": {
    "id": "ubX6tHqokTms"
   },
   "source": [
    "Remove inconsistent white space"
   ]
  },
  {
   "cell_type": "code",
   "execution_count": null,
   "id": "KIpDYYZnkSVN",
   "metadata": {
    "id": "KIpDYYZnkSVN"
   },
   "outputs": [],
   "source": [
    "def strip_whitespace(df):\n",
    "  #Iterate throught the column field to find white space\n",
    "  for features in df.columns:\n",
    "    #The data type for this dataset is only object\n",
    "    if (df[features].dtype == 'object'):\n",
    "      df[features] = df[features].apply(lambda s:s.strip() )\n",
    "  return df;\n",
    "train_df = strip_whitespace(train_df)\n",
    "test_df = strip_whitespace(test_df)"
   ]
  },
  {
   "cell_type": "markdown",
   "id": "8Aky8uCPEY3m",
   "metadata": {
    "id": "8Aky8uCPEY3m"
   },
   "source": [
    "Check for duplication after remove whitespace"
   ]
  },
  {
   "cell_type": "code",
   "execution_count": null,
   "id": "C5fm6bwyFhiH",
   "metadata": {
    "colab": {
     "base_uri": "https://localhost:8080/"
    },
    "id": "C5fm6bwyFhiH",
    "outputId": "a29b345c-096d-41d1-d14e-1ca65c5a7288"
   },
   "outputs": [],
   "source": [
    "#Count the number of duplicate ID of train dataset\n",
    "print(\"Number of duplicate patient of train dataset: \",train_df['ID'].duplicated().sum())"
   ]
  },
  {
   "cell_type": "code",
   "execution_count": null,
   "id": "LsNbFFTDF0Ie",
   "metadata": {
    "colab": {
     "base_uri": "https://localhost:8080/"
    },
    "id": "LsNbFFTDF0Ie",
    "outputId": "b631158b-4839-4442-9d2b-c620a2907aed"
   },
   "outputs": [],
   "source": [
    "#Count the number of duplicate ID of train dataset\n",
    "print(\"Number of duplicate patient of test dataset : \", test_df['ID'].duplicated().sum())"
   ]
  },
  {
   "cell_type": "markdown",
   "id": "hIeu2I0MJikx",
   "metadata": {
    "id": "hIeu2I0MJikx"
   },
   "source": [
    "To makesure, drop dupplicate patients base on ID feature as each patients can only have one unique id"
   ]
  },
  {
   "cell_type": "code",
   "execution_count": null,
   "id": "ifAE06zFmLtv",
   "metadata": {
    "id": "ifAE06zFmLtv"
   },
   "outputs": [],
   "source": [
    "#De duplicate base on ID\n",
    "train_df.drop_duplicates(subset=['ID'], inplace = True)\n",
    "train_df.drop_duplicates(subset=['ID'], inplace = True)"
   ]
  },
  {
   "cell_type": "markdown",
   "id": "33ZVAJStF_bq",
   "metadata": {
    "id": "33ZVAJStF_bq"
   },
   "source": [
    "Verify after deduplicate"
   ]
  },
  {
   "cell_type": "code",
   "execution_count": null,
   "id": "rmeApfg9F9_e",
   "metadata": {
    "colab": {
     "base_uri": "https://localhost:8080/"
    },
    "id": "rmeApfg9F9_e",
    "outputId": "7da5d2df-ca2e-42cf-fb58-07b2137bc7da"
   },
   "outputs": [],
   "source": [
    "#Count the number of duplicate ID of train dataset\n",
    "print(\"Number of duplicate patient of train dataset\",train_df['ID'].duplicated().sum())"
   ]
  },
  {
   "cell_type": "code",
   "execution_count": null,
   "id": "xJZVOOrbF-pq",
   "metadata": {
    "colab": {
     "base_uri": "https://localhost:8080/"
    },
    "id": "xJZVOOrbF-pq",
    "outputId": "dc4c4e3d-252e-4483-b8be-8479c05805b9"
   },
   "outputs": [],
   "source": [
    "#Count the number of duplicate ID of train dataset\n",
    "print(\"Number of duplicate patient of test dataset\",test_df['ID'].duplicated().sum())"
   ]
  },
  {
   "cell_type": "markdown",
   "id": "eeNAT3dknLcO",
   "metadata": {
    "id": "eeNAT3dknLcO"
   },
   "source": [
    "\n",
    "### Check for null value in the dataframe"
   ]
  },
  {
   "cell_type": "code",
   "execution_count": null,
   "id": "OEgTF0EBnLIZ",
   "metadata": {
    "colab": {
     "base_uri": "https://localhost:8080/"
    },
    "id": "OEgTF0EBnLIZ",
    "outputId": "620eabbb-35ef-4211-e3e3-b25312b85133"
   },
   "outputs": [],
   "source": [
    "def percentMissing(df) :\n",
    "  percent_missing = df.isnull().sum() * 100 / len(df)\n",
    "  print(percent_missing)\n",
    "\n",
    "#As can be seen the dataset is clean and contains no null value which is greate\n",
    "percentMissing(train_df)"
   ]
  },
  {
   "cell_type": "code",
   "execution_count": null,
   "id": "T0nepyn0naJH",
   "metadata": {
    "colab": {
     "base_uri": "https://localhost:8080/"
    },
    "id": "T0nepyn0naJH",
    "outputId": "eff95eb2-303a-4905-ec1e-530d830a713d"
   },
   "outputs": [],
   "source": [
    "percentMissing(test_df)"
   ]
  },
  {
   "cell_type": "markdown",
   "id": "11240003",
   "metadata": {},
   "source": [
    "\n",
    "## Check zero"
   ]
  },
  {
   "cell_type": "markdown",
   "id": "Sd7VWvzUHZy2",
   "metadata": {
    "id": "Sd7VWvzUHZy2"
   },
   "source": [
    "Due to the fact that the dataframe have some zero value, we can check the values of the following values : "
   ]
  },
  {
   "cell_type": "code",
   "execution_count": null,
   "id": "EdaJJTS4Hjhg",
   "metadata": {
    "id": "EdaJJTS4Hjhg"
   },
   "outputs": [],
   "source": [
    "def countZeros(df,name_of_df) :\n",
    "  print(\"---Number of zero value of \" + name_of_df + \"---\")\n",
    "  for column_name in df.columns:\n",
    "      column = df[column_name]\n",
    "      # Get the count of Zeros in column \n",
    "      count = (column == 0).sum()\n",
    "      print(column_name, ': ', count)\n"
   ]
  },
  {
   "cell_type": "code",
   "execution_count": null,
   "id": "hQP1j9-JHmcs",
   "metadata": {
    "colab": {
     "base_uri": "https://localhost:8080/"
    },
    "id": "hQP1j9-JHmcs",
    "outputId": "67c74d04-6d82-4b0a-e21c-b2b11c926deb"
   },
   "outputs": [],
   "source": [
    "#Count of train df\n",
    "countZeros(test_df,\"Train dataset\")"
   ]
  },
  {
   "cell_type": "code",
   "execution_count": null,
   "id": "H5U7dA66Hs68",
   "metadata": {
    "colab": {
     "base_uri": "https://localhost:8080/"
    },
    "id": "H5U7dA66Hs68",
    "outputId": "c5118c8b-812b-4959-a379-f86e7fb0d7b6"
   },
   "outputs": [],
   "source": [
    "countZeros(test_df,\"Test dataset\")"
   ]
  },
  {
   "cell_type": "markdown",
   "id": "96aa4f81-9d9d-4970-97b1-66ae08104f86",
   "metadata": {
    "tags": []
   },
   "source": [
    "<a id =\"3\"></a>\n",
    "# 3. Data Cleaning and Feature Engineering"
   ]
  },
  {
   "cell_type": "markdown",
   "id": "b7771d3f",
   "metadata": {},
   "source": [
    "<a id=\"3.1\"></a>\n",
    "## 3.1 Handle missing value"
   ]
  },
  {
   "cell_type": "markdown",
   "id": "PvaCOWKoJw21",
   "metadata": {
    "id": "PvaCOWKoJw21"
   },
   "source": [
    "As we can observe, a some of the field have 0 value. According to the README MD file [ ] it have some missing value. Therefore we assuming that missing value are fill under zero.\n",
    "\n",
    "To handle missing value we impute the collumn with mean and median value except for `TS`, `PRG`, `M11` as we could build a linear regression model to handle missing value for these."
   ]
  },
  {
   "cell_type": "code",
   "execution_count": null,
   "id": "3B8UGC6LSO26",
   "metadata": {
    "colab": {
     "base_uri": "https://localhost:8080/"
    },
    "id": "3B8UGC6LSO26",
    "outputId": "df564598-b63f-4587-8482-6520a553a1eb"
   },
   "outputs": [],
   "source": [
    "avoid_list = ['PRG', 'M11', 'TS']\n",
    "def fill_zero_median(input_df,avoid_list) :\n",
    "  df = input_df.copy() #Create a discreate copy of the dataframe\n",
    "  for column in df.columns:\n",
    "    if(((column in avoid_list) == False) and (df[column].dtype != \"object\")):\n",
    "      print(column)\n",
    "      df[column] = df[column].replace(0,df[column].median())\n",
    "\n",
    "  return df\n",
    "process_train_df = fill_zero_median(train_df,avoid_list)\n",
    "process_test_df = fill_zero_median(test_df,avoid_list)"
   ]
  },
  {
   "cell_type": "code",
   "execution_count": null,
   "id": "sRljc6NEMpNc",
   "metadata": {
    "colab": {
     "base_uri": "https://localhost:8080/"
    },
    "id": "sRljc6NEMpNc",
    "outputId": "75c56159-44fa-43fc-810d-0c3b477f2b47"
   },
   "outputs": [],
   "source": [
    "countZeros(process_train_df,\"\")"
   ]
  },
  {
   "cell_type": "code",
   "execution_count": null,
   "id": "oU_yT9L2MpKb",
   "metadata": {
    "colab": {
     "base_uri": "https://localhost:8080/"
    },
    "id": "oU_yT9L2MpKb",
    "outputId": "1b512317-1bae-488e-9bfc-071e3448f603"
   },
   "outputs": [],
   "source": [
    "countZeros(process_test_df,\"\")"
   ]
  },
  {
   "cell_type": "markdown",
   "id": "CPckDoLeozCd",
   "metadata": {
    "id": "CPckDoLeozCd"
   },
   "source": [
    "Due to the fact that Sepsis column is a object string data type, it might contains mispelling as well as case inconsistancy. Therefore we need to convert all of the case in to lower case as well as checking for any typos "
   ]
  },
  {
   "cell_type": "markdown",
   "id": "c306fb02-ceb9-403f-8264-01c19fadfc82",
   "metadata": {},
   "source": [
    "<a id=\"3.2\"></a>\n",
    "### 3.2 Drop Collumn"
   ]
  },
  {
   "cell_type": "code",
   "execution_count": null,
   "id": "382d4a28",
   "metadata": {},
   "outputs": [],
   "source": [
    "#Define a util function to drop columns for both data set\n",
    "def dropCols (input_df, dropList) :\n",
    "  input_df.drop(columns = dropList, inplace = True);\n",
    "  return input_df\n",
    "\n",
    "dropList=['ID', 'Insurance']\n",
    "process_train_df = dropCols(process_train_df,dropList)\n",
    "test_df = dropCols(test_df,dropList)"
   ]
  },
  {
   "cell_type": "markdown",
   "id": "bxlAnRyEts7f",
   "metadata": {
    "id": "bxlAnRyEts7f"
   },
   "source": [
    "### 3.3 Convert value in sepsis column to lowercase"
   ]
  },
  {
   "cell_type": "markdown",
   "id": "ermx2qsiGH-N",
   "metadata": {
    "id": "ermx2qsiGH-N"
   },
   "source": [
    "Count the unique value of Sepsis column"
   ]
  },
  {
   "cell_type": "code",
   "execution_count": null,
   "id": "pIyOUakBGG5r",
   "metadata": {
    "colab": {
     "base_uri": "https://localhost:8080/"
    },
    "id": "pIyOUakBGG5r",
    "outputId": "7a6f5468-e527-4ef1-cf6d-24cb29fa2d44"
   },
   "outputs": [],
   "source": [
    "print(\"Number of categorical column in the train datset \",process_train_df['Sepsis'].value_counts())"
   ]
  },
  {
   "cell_type": "code",
   "execution_count": null,
   "id": "eaecfe6c",
   "metadata": {},
   "outputs": [],
   "source": [
    "process_train_df['Sepsis']= process_train_df['Sepsis'].map(lambda s:s.lower() if type(s) == str else s)"
   ]
  },
  {
   "cell_type": "code",
   "execution_count": null,
   "id": "DIt0sosBJqz4",
   "metadata": {
    "colab": {
     "base_uri": "https://localhost:8080/",
     "height": 363
    },
    "id": "DIt0sosBJqz4",
    "outputId": "5b5aa5ee-d0fc-4b1f-c31c-eb34904d7361"
   },
   "outputs": [],
   "source": [
    "process_train_df.tail(10)"
   ]
  },
  {
   "cell_type": "markdown",
   "id": "5-hsy9cjt8Db",
   "metadata": {
    "id": "5-hsy9cjt8Db"
   },
   "source": [
    "<a id =\"3.4\"></a>\n",
    "### 3.4 Correct typo in `Sepsis` column value"
   ]
  },
  {
   "cell_type": "code",
   "execution_count": null,
   "id": "s2iMAfoHphh-",
   "metadata": {
    "colab": {
     "base_uri": "https://localhost:8080/"
    },
    "id": "s2iMAfoHphh-",
    "outputId": "38567ca2-773d-4ec9-8d28-d3a23a9072db"
   },
   "outputs": [],
   "source": [
    "!pip install autocorrect\n",
    "from autocorrect import spell"
   ]
  },
  {
   "cell_type": "code",
   "execution_count": null,
   "id": "NPT4huAbqo7F",
   "metadata": {
    "colab": {
     "base_uri": "https://localhost:8080/"
    },
    "id": "NPT4huAbqo7F",
    "outputId": "fca2647f-e0c8-49c1-e87d-440e847194e4"
   },
   "outputs": [],
   "source": [
    "process_train_df[\"Sepsis\"] = [' '.join([spell(i) for i in x.split()]) for x in train_df['Sepsis']]"
   ]
  },
  {
   "cell_type": "code",
   "execution_count": null,
   "id": "QezovWdRs-tN",
   "metadata": {
    "colab": {
     "base_uri": "https://localhost:8080/",
     "height": 206
    },
    "id": "QezovWdRs-tN",
    "outputId": "343d30b4-c8ef-4a2e-fed1-636a256bbae4"
   },
   "outputs": [],
   "source": [
    "#Verifying the traininig data frame\n",
    "process_train_df.head(5)"
   ]
  },
  {
   "cell_type": "markdown",
   "id": "c822e1e0",
   "metadata": {},
   "source": [
    "Verifying the dataset"
   ]
  },
  {
   "cell_type": "code",
   "execution_count": null,
   "id": "b2fa4789",
   "metadata": {},
   "outputs": [],
   "source": [
    "#Train dataframe\n",
    "train_df"
   ]
  },
  {
   "cell_type": "code",
   "execution_count": null,
   "id": "cda17f5e",
   "metadata": {},
   "outputs": [],
   "source": [
    "#Test dataframe\n",
    "test_df"
   ]
  },
  {
   "cell_type": "markdown",
   "id": "c236160d",
   "metadata": {
    "id": "c236160d"
   },
   "source": [
    "<a id =\"3.5\"></a>\n",
    "##  3.5 Outliers processing:"
   ]
  },
  {
   "cell_type": "markdown",
   "id": "WsvNZsliNyyT",
   "metadata": {
    "id": "WsvNZsliNyyT"
   },
   "source": [
    "We need to do outlier processing for the train and test dataset"
   ]
  },
  {
   "cell_type": "code",
   "execution_count": null,
   "id": "RO0hjKppNq6b",
   "metadata": {
    "colab": {
     "base_uri": "https://localhost:8080/",
     "height": 786
    },
    "id": "RO0hjKppNq6b",
    "outputId": "0681ac11-c1eb-4cd4-ff7c-034e5bd94608"
   },
   "outputs": [],
   "source": [
    "process_train_df.dtypes"
   ]
  },
  {
   "cell_type": "code",
   "execution_count": null,
   "id": "pqzZ-2spOSBj",
   "metadata": {
    "id": "pqzZ-2spOSBj"
   },
   "outputs": [],
   "source": [
    "def outlier_detection(df,col_name):\n",
    "    q_low = df[col_name].quantile(0.02)\n",
    "    q_high = df[col_name].quantile(0.93)\n",
    "    print(\"----Outlier detection for column: \",col_name,\"----\")\n",
    "    print(\"q_low: \", q_low)\n",
    "    print(\"q_high\", q_high)\n",
    "    upper_outlier = set([])\n",
    "    lower_outlier = set([])\n",
    "    \n",
    "    for i, x in enumerate(df[col_name]):\n",
    "      if(x > q_high) :\n",
    "        upper_outlier.add(x)\n",
    "      if(x < q_low) :\n",
    "        lower_outlier.add(x)\n",
    "        \n",
    "    if len(lower_outlier) > 0: \n",
    "      sorted(lower_outlier)\n",
    "      \n",
    "    print(\"Number of upper outlier: \",len(upper_outlier))\n",
    "    print(\"----- Outlier value for: \", col_name,\"-----\")\n",
    "    print(\"Upper value: \",sorted(upper_outlier))\n",
    "    print(\"Lower value: \", lower_outlier)\n"
   ]
  },
  {
   "cell_type": "markdown",
   "id": "ToNott7oYQSa",
   "metadata": {
    "id": "ToNott7oYQSa"
   },
   "source": [
    "A function to handle outlier"
   ]
  },
  {
   "cell_type": "code",
   "execution_count": null,
   "id": "-u_G0qO-YW9v",
   "metadata": {
    "colab": {
     "base_uri": "https://localhost:8080/",
     "height": 347
    },
    "id": "-u_G0qO-YW9v",
    "outputId": "9c898031-6f6f-4f1a-ff43-c150cd8c66e6"
   },
   "outputs": [],
   "source": [
    "# A function to handle outlier and replace outliers with 0 value\n",
    "def outlier_handler(df,col_name):\n",
    "  q_low = df[col_name].quantile(0.02)\n",
    "  q_high = df[col_name].quantile(0.93)\n",
    "  df.loc[(df[col_name] > q_high) | (df[col_name] < q_low), col_name] = 0\n",
    "  return df\n"
   ]
  },
  {
   "cell_type": "code",
   "execution_count": null,
   "id": "c95d2874",
   "metadata": {},
   "outputs": [],
   "source": [
    "def nanConverter(df):\n",
    "    df.replace(0,np.nan, inplace = True)\n",
    "    return df;"
   ]
  },
  {
   "cell_type": "markdown",
   "id": "waTfvsgBYjVS",
   "metadata": {
    "id": "waTfvsgBYjVS"
   },
   "source": [
    "## `PRG` Column"
   ]
  },
  {
   "cell_type": "code",
   "execution_count": null,
   "id": "l6bBEaw-YixS",
   "metadata": {
    "id": "l6bBEaw-YixS"
   },
   "outputs": [],
   "source": [
    "outlier_detection(process_train_df,'PRG')"
   ]
  },
  {
   "cell_type": "code",
   "execution_count": null,
   "id": "924d771e",
   "metadata": {},
   "outputs": [],
   "source": [
    "process_train_df = outlier_handler(process_train_df,'PRG')"
   ]
  },
  {
   "cell_type": "markdown",
   "id": "feedd751",
   "metadata": {
    "id": "feedd751"
   },
   "source": [
    "## `PL` column:"
   ]
  },
  {
   "cell_type": "markdown",
   "id": "f3ffd167",
   "metadata": {},
   "source": [
    "> **Train Dataset**"
   ]
  },
  {
   "cell_type": "code",
   "execution_count": null,
   "id": "382fe9f7",
   "metadata": {
    "colab": {
     "base_uri": "https://localhost:8080/",
     "height": 413
    },
    "id": "382fe9f7",
    "outputId": "b889dd6d-f350-4369-f6b6-66e51461a616"
   },
   "outputs": [],
   "source": [
    "outlier_detection(process_train_df,'PL')"
   ]
  },
  {
   "cell_type": "code",
   "execution_count": null,
   "id": "1ef7cf3f",
   "metadata": {},
   "outputs": [],
   "source": [
    "process_train_df = outlier_handler(process_train_df,'PL')"
   ]
  },
  {
   "cell_type": "markdown",
   "id": "ff89ac41",
   "metadata": {},
   "source": [
    "> **Test Dataset**"
   ]
  },
  {
   "cell_type": "code",
   "execution_count": null,
   "id": "a24b0fcc",
   "metadata": {},
   "outputs": [],
   "source": [
    "outlier_detection(test_df,'PL')"
   ]
  },
  {
   "cell_type": "code",
   "execution_count": null,
   "id": "58cc1c03",
   "metadata": {},
   "outputs": [],
   "source": [
    "process_test_df = outlier_handler(test_df,'PL')"
   ]
  },
  {
   "cell_type": "markdown",
   "id": "b8e33ea3",
   "metadata": {
    "id": "b8e33ea3"
   },
   "source": [
    "## `PR` column:"
   ]
  },
  {
   "cell_type": "markdown",
   "id": "e771c66c",
   "metadata": {
    "id": "e771c66c"
   },
   "source": [
    "> **Train Dataset**"
   ]
  },
  {
   "cell_type": "code",
   "execution_count": null,
   "id": "700f7479",
   "metadata": {
    "id": "700f7479",
    "outputId": "147a1597-544c-4d53-b34a-eac47b3ffadb"
   },
   "outputs": [],
   "source": [
    "outlier_detection(process_train_df,'PR')"
   ]
  },
  {
   "cell_type": "markdown",
   "id": "efa6e4e0",
   "metadata": {},
   "source": [
    "> **Test Dataset**"
   ]
  },
  {
   "cell_type": "code",
   "execution_count": null,
   "id": "52e3ba18",
   "metadata": {},
   "outputs": [],
   "source": [
    "outlier_detection(test_df,'PR')"
   ]
  },
  {
   "cell_type": "markdown",
   "id": "1bff5023",
   "metadata": {
    "id": "1bff5023"
   },
   "source": [
    "## `SK` column:"
   ]
  },
  {
   "cell_type": "markdown",
   "id": "2e617624",
   "metadata": {
    "id": "2e617624"
   },
   "source": [
    "> **Train Dataset**"
   ]
  },
  {
   "cell_type": "code",
   "execution_count": null,
   "id": "432fef87",
   "metadata": {
    "id": "432fef87",
    "outputId": "0ee0331d-ca7b-471a-d016-e7132123547e"
   },
   "outputs": [],
   "source": [
    "outlier_detection(process_train_df,'SK')"
   ]
  },
  {
   "cell_type": "code",
   "execution_count": null,
   "id": "0735ec51",
   "metadata": {
    "id": "0735ec51",
    "outputId": "abb6345a-ee74-4a6d-dd3a-583749d8052c",
    "scrolled": true
   },
   "outputs": [],
   "source": [
    "process_test_df = outlier_handler(test_df,'SK')"
   ]
  },
  {
   "cell_type": "markdown",
   "id": "369ffe45",
   "metadata": {},
   "source": [
    "> **Test Dataset**"
   ]
  },
  {
   "cell_type": "code",
   "execution_count": null,
   "id": "447a84d8",
   "metadata": {},
   "outputs": [],
   "source": [
    "outlier_detection(process_test_df,'SK')"
   ]
  },
  {
   "cell_type": "code",
   "execution_count": null,
   "id": "6d08723d",
   "metadata": {},
   "outputs": [],
   "source": [
    "process_test_df = outlier_handler(process_test_df,'SK')"
   ]
  },
  {
   "cell_type": "markdown",
   "id": "e2e2b749",
   "metadata": {
    "id": "e2e2b749"
   },
   "source": [
    "## `TS` column:"
   ]
  },
  {
   "cell_type": "markdown",
   "id": "b710c8cf",
   "metadata": {},
   "source": [
    "\n",
    "> **Sample train Dataset**"
   ]
  },
  {
   "cell_type": "code",
   "execution_count": null,
   "id": "fe4558df",
   "metadata": {
    "id": "fe4558df",
    "outputId": "e30cb1d2-66e4-49d4-cae2-547717301a51"
   },
   "outputs": [],
   "source": [
    "outlier_detection(process_train_df,'TS')"
   ]
  },
  {
   "cell_type": "markdown",
   "id": "a24f3d2a",
   "metadata": {
    "id": "a24f3d2a"
   },
   "source": [
    "> **Sample test Dataset**"
   ]
  },
  {
   "cell_type": "code",
   "execution_count": null,
   "id": "011e916f",
   "metadata": {
    "id": "011e916f",
    "outputId": "08881498-bdfd-45d0-af37-d52470a313b8"
   },
   "outputs": [],
   "source": [
    "outlier_detection(process_test_df,'TS')"
   ]
  },
  {
   "cell_type": "code",
   "execution_count": null,
   "id": "bd6e67f0",
   "metadata": {},
   "outputs": [],
   "source": [
    "process_test_df = outlier_handler(process_test_df,'TS')"
   ]
  },
  {
   "cell_type": "markdown",
   "id": "b2ba995b",
   "metadata": {
    "id": "b2ba995b"
   },
   "source": [
    "## `M11` column:"
   ]
  },
  {
   "cell_type": "markdown",
   "id": "28354f08",
   "metadata": {
    "id": "28354f08"
   },
   "source": [
    "> **Sample train Dataset**"
   ]
  },
  {
   "cell_type": "code",
   "execution_count": null,
   "id": "215e1f5b",
   "metadata": {
    "id": "215e1f5b",
    "outputId": "668f55e6-83e0-4fea-c5b7-2de2f505a173"
   },
   "outputs": [],
   "source": [
    "outlier_detection(process_train_df,'M11')"
   ]
  },
  {
   "cell_type": "code",
   "execution_count": null,
   "id": "b24effb3",
   "metadata": {},
   "outputs": [],
   "source": [
    "process_train_df = outlier_handler(process_train_df,'M11')"
   ]
  },
  {
   "cell_type": "markdown",
   "id": "c606a6ed",
   "metadata": {
    "id": "c606a6ed"
   },
   "source": [
    "> **Sample test Dataset**"
   ]
  },
  {
   "cell_type": "code",
   "execution_count": null,
   "id": "fa2c1333",
   "metadata": {
    "id": "fa2c1333",
    "outputId": "7c4994ee-0d7f-414d-ce77-a04c5a2497d2"
   },
   "outputs": [],
   "source": [
    "outlier_detection(process_test_df,'M11')"
   ]
  },
  {
   "cell_type": "code",
   "execution_count": null,
   "id": "7297cddf",
   "metadata": {},
   "outputs": [],
   "source": [
    "process_test_df = outlier_handler(process_test_df,'M11')"
   ]
  },
  {
   "cell_type": "markdown",
   "id": "a10c393b",
   "metadata": {
    "id": "a10c393b"
   },
   "source": [
    "## `BD2` column:"
   ]
  },
  {
   "cell_type": "markdown",
   "id": "c4b251c9",
   "metadata": {
    "id": "c4b251c9"
   },
   "source": [
    "> **Sample train Dataset**"
   ]
  },
  {
   "cell_type": "code",
   "execution_count": null,
   "id": "2bb396a7",
   "metadata": {
    "id": "2bb396a7",
    "outputId": "0678a029-8d32-419e-a0d8-191c9685feb8"
   },
   "outputs": [],
   "source": [
    "outlier_detection(process_train_df,'BD2')"
   ]
  },
  {
   "cell_type": "code",
   "execution_count": null,
   "id": "4d121371",
   "metadata": {},
   "outputs": [],
   "source": [
    "process_train_df = outlier_handler(process_train_df,'BD2')"
   ]
  },
  {
   "cell_type": "markdown",
   "id": "8088a6c7",
   "metadata": {
    "id": "8088a6c7"
   },
   "source": [
    "> **Sample test Dataset**"
   ]
  },
  {
   "cell_type": "code",
   "execution_count": null,
   "id": "ffd0b404",
   "metadata": {
    "id": "ffd0b404",
    "outputId": "902b97be-9f5e-4f5e-ce71-da4228fdfcbd"
   },
   "outputs": [],
   "source": [
    "outlier_detection(test_df,'BD2')"
   ]
  },
  {
   "cell_type": "code",
   "execution_count": null,
   "id": "SVb9vj1shTD3",
   "metadata": {
    "id": "SVb9vj1shTD3"
   },
   "outputs": [],
   "source": [
    "process_test_df = outlier_handler(process_test_df,'BD2')"
   ]
  },
  {
   "cell_type": "markdown",
   "id": "17d9312b",
   "metadata": {},
   "source": [
    "\n",
    "### Use interpolation to handle outlier value"
   ]
  },
  {
   "cell_type": "markdown",
   "id": "bb0ff19f",
   "metadata": {},
   "source": [
    "### > **Train Dataset**"
   ]
  },
  {
   "cell_type": "code",
   "execution_count": null,
   "id": "5ea99749",
   "metadata": {},
   "outputs": [],
   "source": [
    "percentMissing(process_train_df)"
   ]
  },
  {
   "cell_type": "code",
   "execution_count": null,
   "id": "8604fc47",
   "metadata": {},
   "outputs": [],
   "source": [
    "countZeros(process_train_df,\"\")"
   ]
  },
  {
   "cell_type": "code",
   "execution_count": null,
   "id": "2f23f961",
   "metadata": {},
   "outputs": [],
   "source": [
    "process_train_df = nanConverter(process_train_df)"
   ]
  },
  {
   "cell_type": "code",
   "execution_count": null,
   "id": "444207f6",
   "metadata": {},
   "outputs": [],
   "source": [
    "process_train_df = process_train_df.interpolate()"
   ]
  },
  {
   "cell_type": "code",
   "execution_count": null,
   "id": "6eea3db3",
   "metadata": {},
   "outputs": [],
   "source": [
    "process_train_df"
   ]
  },
  {
   "cell_type": "code",
   "execution_count": null,
   "id": "a0831deb",
   "metadata": {},
   "outputs": [],
   "source": [
    "plot_box(train_df)"
   ]
  },
  {
   "cell_type": "markdown",
   "id": "2f1aa416",
   "metadata": {},
   "source": [
    "However after doing some interpolation we still have some Nan value."
   ]
  },
  {
   "cell_type": "code",
   "execution_count": null,
   "id": "c429fe8e",
   "metadata": {},
   "outputs": [],
   "source": [
    "countZeros(process_train_df,\"Train dataset\")"
   ]
  },
  {
   "cell_type": "code",
   "execution_count": null,
   "id": "825e427d",
   "metadata": {},
   "outputs": [],
   "source": [
    "percentMissing(process_train_df)"
   ]
  },
  {
   "cell_type": "code",
   "execution_count": null,
   "id": "76343b3c",
   "metadata": {},
   "outputs": [],
   "source": [
    "process_train_df = process_train_df.dropna()"
   ]
  },
  {
   "cell_type": "code",
   "execution_count": null,
   "id": "54a9ad47",
   "metadata": {},
   "outputs": [],
   "source": [
    "percentMissing(process_train_df)"
   ]
  },
  {
   "cell_type": "markdown",
   "id": "bb7b2b4f",
   "metadata": {},
   "source": [
    "Compare original train DF to the process_train df"
   ]
  },
  {
   "cell_type": "code",
   "execution_count": null,
   "id": "4f148426",
   "metadata": {},
   "outputs": [],
   "source": [
    "plot_box(train_df)"
   ]
  },
  {
   "cell_type": "markdown",
   "id": "caf89370",
   "metadata": {},
   "source": [
    "As can be observe from the box plot, we only need to resolve the outlier for `PR` , `SK`, `TS` and `Age`"
   ]
  },
  {
   "cell_type": "markdown",
   "id": "cafe6f3d",
   "metadata": {},
   "source": [
    "We could resolve the outlier by filling it with median value"
   ]
  },
  {
   "cell_type": "code",
   "execution_count": null,
   "id": "c1f2a466",
   "metadata": {},
   "outputs": [],
   "source": [
    "#Fill outlier with median value\n",
    "def fill_median(input_df,fill_list):\n",
    "  df = input_df.copy()\n",
    "  for col_name in fill_list:\n",
    "    q1 = df[col_name].quantile(0.25)\n",
    "    q3 = df[col_name].quantile(0.75)\n",
    "    iqr = q3-q1 #Interquartile range\n",
    "    fence_low  = q1-1.5*iqr\n",
    "    fence_high = q3+1.5*iqr\n",
    "    df[col_name]= df[col_name].loc[(df[col_name] > fence_low) & (df[col_name] < fence_high)]\n",
    "  return df"
   ]
  },
  {
   "cell_type": "markdown",
   "id": "fa5cae3a",
   "metadata": {},
   "source": [
    "`PR`"
   ]
  },
  {
   "cell_type": "code",
   "execution_count": null,
   "id": "456cfe6d",
   "metadata": {},
   "outputs": [],
   "source": [
    "outlier_detection(process_train_df, 'PR')"
   ]
  },
  {
   "cell_type": "markdown",
   "id": "cd978502",
   "metadata": {},
   "source": [
    "`SK`"
   ]
  },
  {
   "cell_type": "code",
   "execution_count": null,
   "id": "628d11b2",
   "metadata": {},
   "outputs": [],
   "source": [
    "outlier_detection(process_train_df, 'SK')"
   ]
  },
  {
   "cell_type": "markdown",
   "id": "f15d6df7",
   "metadata": {},
   "source": [
    "## `TS`"
   ]
  },
  {
   "cell_type": "code",
   "execution_count": null,
   "id": "78b07393",
   "metadata": {},
   "outputs": [],
   "source": [
    "outlier_detection(process_train_df, 'TS')"
   ]
  },
  {
   "cell_type": "markdown",
   "id": "e270e498",
   "metadata": {},
   "source": [
    "### `Age`\n",
    "After closer examination, the age value of the dataset is within the limit of normal age, therefore we elave it alone\n"
   ]
  },
  {
   "cell_type": "code",
   "execution_count": null,
   "id": "ba24b866",
   "metadata": {},
   "outputs": [],
   "source": [
    "outlier_detection(process_train_df, 'Age')"
   ]
  },
  {
   "cell_type": "markdown",
   "id": "1884036a",
   "metadata": {},
   "source": [
    "Filling outlier with median value"
   ]
  },
  {
   "cell_type": "code",
   "execution_count": null,
   "id": "00e55ef3",
   "metadata": {},
   "outputs": [],
   "source": [
    "processed_train_df = fill_median(process_train_df,['PR','SK','TS'])"
   ]
  },
  {
   "cell_type": "code",
   "execution_count": null,
   "id": "171adffe",
   "metadata": {},
   "outputs": [],
   "source": [
    "# processed_train_df.plot(kind='box')\n",
    "plot_box(process_train_df)"
   ]
  },
  {
   "cell_type": "markdown",
   "id": "4e607769",
   "metadata": {},
   "source": [
    "After filling the outlier with median value, we still have PR and TS collumn are outlier"
   ]
  },
  {
   "cell_type": "markdown",
   "id": "9a43faf1",
   "metadata": {},
   "source": [
    "`PR`"
   ]
  },
  {
   "cell_type": "code",
   "execution_count": null,
   "id": "bb9ffd5d",
   "metadata": {},
   "outputs": [],
   "source": [
    "outlier_detection(processed_train_df,'PR')"
   ]
  },
  {
   "cell_type": "markdown",
   "id": "2191dc66",
   "metadata": {},
   "source": [
    "As can observe, the outlier are fall in normal case of our domain knowledge therefore we decide to keep it as is"
   ]
  },
  {
   "cell_type": "markdown",
   "id": "b932d9de",
   "metadata": {},
   "source": [
    "`TS`"
   ]
  },
  {
   "cell_type": "code",
   "execution_count": null,
   "id": "e80dd887",
   "metadata": {},
   "outputs": [],
   "source": [
    "outlier_detection(processed_train_df,'TS')"
   ]
  },
  {
   "cell_type": "markdown",
   "id": "d9a287a3",
   "metadata": {},
   "source": [
    "We need to drop outliers of `TS` collumn"
   ]
  },
  {
   "cell_type": "code",
   "execution_count": null,
   "id": "7a3c7913",
   "metadata": {},
   "outputs": [],
   "source": [
    "\n",
    "def drop_numerical_outliers(df, z_thresh=3, cols=None):\n",
    "    Q1 = df[cols].quantile(0.25)\n",
    "    Q3 = df[cols].quantile(0.75)\n",
    "    IQR = Q3 - Q1\n",
    "    df = df[~((df[cols] < (Q1 - 1.5 * IQR)) |\n",
    "              (df[cols] > (Q3 + 1.5 * IQR))).any(axis=1)]\n",
    "    df = df.dropna()\n",
    "    return df\n",
    "\n",
    "for i in range(3):\n",
    "    processed_train_df = drop_numerical_outliers(\n",
    "    processed_train_df, cols=['TS','SK','PR'])\n"
   ]
  },
  {
   "cell_type": "code",
   "execution_count": null,
   "id": "5cdd60c5",
   "metadata": {},
   "outputs": [],
   "source": [
    "#Box plot for processed_train_df\n",
    "plot_box(process_train_df)"
   ]
  },
  {
   "cell_type": "markdown",
   "id": "970b5993",
   "metadata": {},
   "source": [
    "We still have outlier `Age` colunn"
   ]
  },
  {
   "cell_type": "markdown",
   "id": "c60ac47e",
   "metadata": {},
   "source": [
    "`Age`"
   ]
  },
  {
   "cell_type": "code",
   "execution_count": null,
   "id": "be3403bd",
   "metadata": {},
   "outputs": [],
   "source": [
    "outlier_detection(process_train_df,'Age')"
   ]
  },
  {
   "cell_type": "markdown",
   "id": "39ac489c",
   "metadata": {},
   "source": [
    "As can be obeserve, the age is within normal age range, therefore wwe"
   ]
  },
  {
   "cell_type": "markdown",
   "id": "bddc88b4",
   "metadata": {
    "id": "bddc88b4"
   },
   "source": [
    "<a id =\"3.6\"></a>\n",
    "## 3.6 Convert `Sepsis` in to binary number\n",
    "***\n",
    "Since `Sepsis` just have the `Positive` and `Negative` values so I want to convert them to 0 for Negative and 1 is for Positive"
   ]
  },
  {
   "cell_type": "code",
   "execution_count": null,
   "id": "674370ee",
   "metadata": {
    "colab": {
     "base_uri": "https://localhost:8080/",
     "height": 423
    },
    "id": "674370ee",
    "outputId": "e6cf7d3a-7eae-453f-d0f6-bdda9b54bc7b"
   },
   "outputs": [],
   "source": [
    "binarysepsis_train_df = pd.get_dummies(process_train_df[\"Sepsis\"])\n",
    "binarysepsis_train_df"
   ]
  },
  {
   "cell_type": "markdown",
   "id": "45W1u_2UvolO",
   "metadata": {
    "id": "45W1u_2UvolO"
   },
   "source": [
    "With the function get dummise the categrical colum `sepsis` which contains `positive` or `negative` of its value have been transfer into a binary value of two new column `Negative` and `Positve` of the `binarysepsis_train_df`. Now we need to merget the positive column back into the `train_df` data frame."
   ]
  },
  {
   "cell_type": "code",
   "execution_count": null,
   "id": "f09viyHoubGL",
   "metadata": {
    "id": "f09viyHoubGL"
   },
   "outputs": [],
   "source": [
    "process_train_df = pd.concat((binarysepsis_train_df, process_train_df), axis=1)"
   ]
  },
  {
   "cell_type": "code",
   "execution_count": null,
   "id": "47770204",
   "metadata": {},
   "outputs": [],
   "source": [
    "process_train_df"
   ]
  },
  {
   "cell_type": "markdown",
   "id": "B0wIMDkaxYoU",
   "metadata": {
    "id": "B0wIMDkaxYoU"
   },
   "source": [
    "After concatination of the two dataset, we conventionalize the result for the `Sepsis` column are as follow :\n",
    "<ul>\n",
    "  <li> 1 : Positive\n",
    "  <li> 0 : Negative\n",
    "</ul>\n",
    "therefore we drop the negative and Sepsis column and rename the Positive column to Sepsis"
   ]
  },
  {
   "cell_type": "code",
   "execution_count": null,
   "id": "1mOYEdTyxXB9",
   "metadata": {
    "colab": {
     "base_uri": "https://localhost:8080/",
     "height": 389
    },
    "id": "1mOYEdTyxXB9",
    "outputId": "7c8f8b89-a246-4a67-bf08-891b492f6a23"
   },
   "outputs": [],
   "source": [
    "dropList = [\"Negative\",\"Sepsis\"]\n",
    "#Drop column\n",
    "process_train_df = dropCols(process_train_df,dropList)\n",
    "#Rename Positive column to Sepsis\n",
    "process_train_df = process_train_df.rename(columns={\"Positive\":\"Sepsis\"})"
   ]
  },
  {
   "cell_type": "code",
   "execution_count": null,
   "id": "1dcmMKJy0ffj",
   "metadata": {
    "id": "1dcmMKJy0ffj"
   },
   "outputs": [],
   "source": [
    "#Verifying the train_df\n",
    "processed_train_df.head(5)"
   ]
  },
  {
   "cell_type": "code",
   "execution_count": null,
   "id": "mLvdKjhEtTwx",
   "metadata": {
    "id": "mLvdKjhEtTwx"
   },
   "outputs": [],
   "source": [
    "processed_train_df.tail(5)"
   ]
  },
  {
   "cell_type": "markdown",
   "id": "JZDXFbju2gtS",
   "metadata": {
    "id": "JZDXFbju2gtS"
   },
   "source": [
    "As can be seen the sepsis have been convert from the categorical data to a binary integer"
   ]
  },
  {
   "cell_type": "code",
   "execution_count": null,
   "id": "xateMwOe1ZUY",
   "metadata": {
    "id": "xateMwOe1ZUY"
   },
   "outputs": [],
   "source": [
    "processed_train_df.dtypes"
   ]
  },
  {
   "cell_type": "markdown",
   "id": "65cda7ec",
   "metadata": {},
   "source": [
    "## For test dataset"
   ]
  },
  {
   "cell_type": "code",
   "execution_count": null,
   "id": "841ad741",
   "metadata": {},
   "outputs": [],
   "source": [
    "percentMissing(process_test_df)"
   ]
  },
  {
   "cell_type": "code",
   "execution_count": null,
   "id": "58da0166",
   "metadata": {},
   "outputs": [],
   "source": [
    "countZeros(process_test_df,\"Test dataset\")"
   ]
  },
  {
   "cell_type": "code",
   "execution_count": null,
   "id": "a44b45b0",
   "metadata": {},
   "outputs": [],
   "source": [
    "test_df"
   ]
  },
  {
   "cell_type": "code",
   "execution_count": null,
   "id": "80e01bce",
   "metadata": {},
   "outputs": [],
   "source": [
    "process_test_df = nanConverter(process_test_df)"
   ]
  },
  {
   "cell_type": "code",
   "execution_count": null,
   "id": "80d06342",
   "metadata": {},
   "outputs": [],
   "source": [
    "process_test_df = process_test_df.interpolate()"
   ]
  },
  {
   "cell_type": "code",
   "execution_count": null,
   "id": "60b38638",
   "metadata": {},
   "outputs": [],
   "source": [
    "#Plox bot Applcation\n",
    "plot_box(process_test_df)"
   ]
  },
  {
   "cell_type": "markdown",
   "id": "390518c0",
   "metadata": {},
   "source": [
    "However after done interpolation we have some missing value"
   ]
  },
  {
   "cell_type": "code",
   "execution_count": null,
   "id": "7b57c4a6",
   "metadata": {},
   "outputs": [],
   "source": [
    "countZeros(process_test_df,\"Test dataset\")"
   ]
  },
  {
   "cell_type": "code",
   "execution_count": null,
   "id": "b84891c4",
   "metadata": {},
   "outputs": [],
   "source": [
    "percentMissing(process_test_df)"
   ]
  },
  {
   "cell_type": "code",
   "execution_count": null,
   "id": "1c012525",
   "metadata": {},
   "outputs": [],
   "source": [
    "process_test_df.fillna(process_test_df.median)"
   ]
  },
  {
   "cell_type": "markdown",
   "id": "50928a07",
   "metadata": {},
   "source": [
    "Verify once more"
   ]
  },
  {
   "cell_type": "code",
   "execution_count": null,
   "id": "41353ce1",
   "metadata": {},
   "outputs": [],
   "source": [
    "process_test_df.dropna(inplace = True)"
   ]
  },
  {
   "cell_type": "code",
   "execution_count": null,
   "id": "4902e2ce",
   "metadata": {},
   "outputs": [],
   "source": [
    "percentMissing(process_test_df)"
   ]
  },
  {
   "cell_type": "code",
   "execution_count": null,
   "id": "02c44bc1",
   "metadata": {},
   "outputs": [],
   "source": [
    "process_test_df = fill_median(process_test_df,['PRG','PR'])"
   ]
  },
  {
   "cell_type": "code",
   "execution_count": null,
   "id": "9536606a",
   "metadata": {},
   "outputs": [],
   "source": [
    "# process_test_df.plot(kind = 'box')\n",
    "plot_box(process_test_df)"
   ]
  },
  {
   "cell_type": "markdown",
   "id": "d5ab24d5",
   "metadata": {},
   "source": [
    "`Train dataset`"
   ]
  },
  {
   "cell_type": "code",
   "execution_count": null,
   "id": "687b789e",
   "metadata": {},
   "outputs": [],
   "source": [
    "process_train_df"
   ]
  },
  {
   "cell_type": "code",
   "execution_count": null,
   "id": "91c737f4",
   "metadata": {},
   "outputs": [],
   "source": [
    "process_train_df.hist()\n",
    "plt.show()"
   ]
  },
  {
   "cell_type": "markdown",
   "id": "30e95dd7",
   "metadata": {},
   "source": [
    "<a id=\"3.7\"></a>\n",
    "### 3.7 Handling skewness and normalize of the dataframe"
   ]
  },
  {
   "cell_type": "code",
   "execution_count": null,
   "id": "63ed5124",
   "metadata": {},
   "outputs": [],
   "source": [
    "countZeros(process_train_df,\"\")"
   ]
  },
  {
   "cell_type": "code",
   "execution_count": null,
   "id": "3fc46e00",
   "metadata": {},
   "outputs": [],
   "source": [
    "percentMissing(process_train_df)"
   ]
  },
  {
   "cell_type": "code",
   "execution_count": null,
   "id": "1f971ee5",
   "metadata": {},
   "outputs": [],
   "source": [
    "process_train_df.columns"
   ]
  },
  {
   "cell_type": "code",
   "execution_count": null,
   "id": "eed73769",
   "metadata": {},
   "outputs": [],
   "source": [
    "def handling_skew(df, train = True):\n",
    "    for column in df.columns:\n",
    "        if(train==True):\n",
    "            if(column != 'Sepsis'):\n",
    "                df[column]=df[column].map(lambda x: np.sqrt(x))\n",
    "        else:\n",
    "             df[column]=df[column].map(lambda x: np.sqrt(x))\n",
    "    return df\n",
    "process_train_df = handling_skew(process_train_df)\n",
    "    "
   ]
  },
  {
   "cell_type": "markdown",
   "id": "a4b4a6c7",
   "metadata": {},
   "source": [
    "## Normalize the dataframe"
   ]
  },
  {
   "cell_type": "code",
   "execution_count": null,
   "id": "b41d397c",
   "metadata": {},
   "outputs": [],
   "source": [
    "def normalize(df, train=True):\n",
    "    for column in df.columns:\n",
    "        if(train==True):\n",
    "            if(column != 'Sepsis'):\n",
    "                df[column] = df[column] / df[column].abs().max()\n",
    "        else:\n",
    "            df[column] = df[column] / df[column].abs().max()\n",
    "    return df\n",
    "\n",
    "# view normalized data\n"
   ]
  },
  {
   "cell_type": "code",
   "execution_count": null,
   "id": "01454f4e",
   "metadata": {},
   "outputs": [],
   "source": [
    "process_train_df = normalize(process_train_df)"
   ]
  },
  {
   "cell_type": "code",
   "execution_count": null,
   "id": "381a718d",
   "metadata": {},
   "outputs": [],
   "source": [
    "process_train_df.hist()\n",
    "plt.show()"
   ]
  },
  {
   "cell_type": "markdown",
   "id": "5f0e627b",
   "metadata": {},
   "source": [
    "`Test Dataset`"
   ]
  },
  {
   "cell_type": "code",
   "execution_count": null,
   "id": "9c099ad8",
   "metadata": {},
   "outputs": [],
   "source": [
    "process_test_df"
   ]
  },
  {
   "cell_type": "code",
   "execution_count": null,
   "id": "ca4460f0",
   "metadata": {},
   "outputs": [],
   "source": [
    "process_test_df.hist()"
   ]
  },
  {
   "cell_type": "markdown",
   "id": "5780efec",
   "metadata": {},
   "source": [
    "### Handling skewness"
   ]
  },
  {
   "cell_type": "code",
   "execution_count": null,
   "id": "352a38db",
   "metadata": {},
   "outputs": [],
   "source": [
    "process_test_df = handling_skew(process_test_df, train=False)"
   ]
  },
  {
   "cell_type": "markdown",
   "id": "b2604193",
   "metadata": {},
   "source": [
    "Repeat the same process for the test dataset"
   ]
  },
  {
   "cell_type": "code",
   "execution_count": null,
   "id": "880c9aa2",
   "metadata": {},
   "outputs": [],
   "source": [
    "process_test_df = normalize(process_test_df, train=False)"
   ]
  },
  {
   "cell_type": "code",
   "execution_count": null,
   "id": "1634b683",
   "metadata": {},
   "outputs": [],
   "source": [
    "process_test_df.hist()\n",
    "plt.show()"
   ]
  },
  {
   "cell_type": "code",
   "execution_count": null,
   "id": "b3abe014",
   "metadata": {},
   "outputs": [],
   "source": [
    "#Final verification\n",
    "percentMissing(process_test_df)\n",
    "process_test_df.fillna(process_test_df.median(), inplace= True)\n",
    "percentMissing(process_test_df)"
   ]
  },
  {
   "cell_type": "markdown",
   "id": "d09c703c-cfec-4726-9637-7340e05718c8",
   "metadata": {},
   "source": [
    "<a id =\"3.8\"></a>\n",
    "## 3.8 Final dataset"
   ]
  },
  {
   "cell_type": "code",
   "execution_count": null,
   "id": "b75f564a-010b-49d0-927d-752c32a6d84f",
   "metadata": {},
   "outputs": [],
   "source": [
    "process_train_df.head(15)"
   ]
  },
  {
   "cell_type": "code",
   "execution_count": null,
   "id": "56890db2-0335-4d41-b000-34d0bde7814b",
   "metadata": {},
   "outputs": [],
   "source": [
    "process_train_df.tail(15)"
   ]
  },
  {
   "cell_type": "code",
   "execution_count": null,
   "id": "4dc8a953-4456-4953-a8b7-ca6f2cdf8ccd",
   "metadata": {},
   "outputs": [],
   "source": [
    "#Test dataset\n",
    "process_test_df.head(15)"
   ]
  },
  {
   "cell_type": "code",
   "execution_count": null,
   "id": "6687beb6-22aa-4b0a-ba7b-d7e488d444b5",
   "metadata": {},
   "outputs": [],
   "source": [
    "process_test_df.tail(15)"
   ]
  },
  {
   "cell_type": "markdown",
   "id": "3fd677e1",
   "metadata": {},
   "source": [
    "<a id =\"4\"></a>\n",
    "# 4 Building model"
   ]
  },
  {
   "cell_type": "markdown",
   "id": "778e4b98",
   "metadata": {},
   "source": [
    "This is a classification problem therefore the algorithm of choice are follow: \n",
    "*  Logistic Regression\n",
    "*  Logistic Regression with normalization\n",
    "*  Decisiontree\n",
    "*  Random Forest"
   ]
  },
  {
   "cell_type": "code",
   "execution_count": null,
   "id": "b4a3605f",
   "metadata": {},
   "outputs": [],
   "source": [
    "#Feature selection\n",
    "x = process_train_df.drop(['Sepsis'], axis=1)\n",
    "# Label\n",
    "y = process_train_df['Sepsis']"
   ]
  },
  {
   "cell_type": "code",
   "execution_count": null,
   "id": "3b7e1dbb",
   "metadata": {},
   "outputs": [],
   "source": [
    "# !conda install scikit-learn\n",
    "from sklearn.model_selection import train_test_split\n",
    "from sklearn.model_selection import KFold\n",
    "\n",
    "x_train, x_test, y_train, y_test = train_test_split(x,y,test_size = 0.2, random_state = 40)"
   ]
  },
  {
   "cell_type": "code",
   "execution_count": null,
   "id": "51e9df41",
   "metadata": {},
   "outputs": [],
   "source": [
    "print(x_train.shape)\n",
    "print(y_train.shape)\n",
    "print(x_test.shape)\n",
    "print(y_test.shape)"
   ]
  },
  {
   "cell_type": "markdown",
   "id": "ef706253",
   "metadata": {},
   "source": [
    "Generate a validation set"
   ]
  },
  {
   "cell_type": "code",
   "execution_count": null,
   "id": "dd5bc3cd",
   "metadata": {},
   "outputs": [],
   "source": [
    "x_train, x_val, y_train, y_val = train_test_split(x_train,y_train, test_size=0.25, random_state=40)"
   ]
  },
  {
   "cell_type": "code",
   "execution_count": null,
   "id": "203a381b",
   "metadata": {},
   "outputs": [],
   "source": [
    "print(x_train.shape)\n",
    "print(y_train.shape)\n",
    "print(x_val.shape)\n",
    "print(y_val.shape)"
   ]
  },
  {
   "cell_type": "markdown",
   "id": "e9e90a15",
   "metadata": {},
   "source": [
    "<a id =\"4.1\"></a>\n",
    "## 4.1 Scaling feature"
   ]
  },
  {
   "cell_type": "code",
   "execution_count": null,
   "id": "ae7138c3",
   "metadata": {},
   "outputs": [],
   "source": [
    "from sklearn.preprocessing import MinMaxScaler\n",
    "scaler = MinMaxScaler()\n",
    "\n",
    "x_train = scaler.fit_transform(x_train)\n",
    "x_test = scaler.fit_transform(x_test)\n",
    "x_val = scaler.fit_transform(x_val)\n"
   ]
  },
  {
   "cell_type": "markdown",
   "id": "c8d02406",
   "metadata": {},
   "source": [
    "> *Create an empty array to contains model performance"
   ]
  },
  {
   "cell_type": "code",
   "execution_count": null,
   "id": "8cdffd2d",
   "metadata": {},
   "outputs": [],
   "source": [
    "res_arr = []"
   ]
  },
  {
   "cell_type": "code",
   "execution_count": null,
   "id": "ed9ad15f",
   "metadata": {},
   "outputs": [],
   "source": [
    "class model_perf :\n",
    "    def __init__(self, classification_report, confusion_matrix,auc_roc,model, name, f1_score_inp = 0, accuracy = 0, precision = 0):\n",
    "        self.classification_report = classification_report\n",
    "        self.confusion_matrix = confusion_matrix\n",
    "        self.auc_roc = auc_roc\n",
    "        self.model = model\n",
    "        self.name = name\n",
    "        self.f1 = f1_score_inp\n",
    "        self.accu = accuracy\n",
    "        self.precision = precision\n",
    "    "
   ]
  },
  {
   "cell_type": "markdown",
   "id": "6dc9043d",
   "metadata": {},
   "source": [
    "### Ultilties Function"
   ]
  },
  {
   "cell_type": "code",
   "execution_count": null,
   "id": "466abc77",
   "metadata": {},
   "outputs": [],
   "source": [
    "# This is a ultilities function fror plotting confusion matrix\n",
    "def plot_confusion(test, input_pred):\n",
    "    df_cm = pd.DataFrame(confusion_matrix(\n",
    "        test, input_pred), range(2), range(2))\n",
    "    # plt.figure(figsize=(10,7))\n",
    "    sns.set(font_scale=1.4)  # for label size\n",
    "    sns.heatmap(df_cm, annot=True, cmap='PuRd')  # font size\n",
    "    plt.title('Confusion Matrix')\n",
    "    plt.xlabel(\"Predicted label\")\n",
    "    plt.ylabel(\"True label\")\n",
    "    plt.show()\n",
    "    return df_cm"
   ]
  },
  {
   "cell_type": "markdown",
   "id": "1914300f",
   "metadata": {},
   "source": [
    "<a id =\"4.2\"></a>\n",
    "## 4.2 Simple Logistic Regression Model"
   ]
  },
  {
   "cell_type": "code",
   "execution_count": null,
   "id": "42de4513",
   "metadata": {},
   "outputs": [],
   "source": [
    "from sklearn.linear_model import LogisticRegression\n",
    "log_model_1 = LogisticRegression()\n"
   ]
  },
  {
   "cell_type": "code",
   "execution_count": null,
   "id": "e118e6a3",
   "metadata": {},
   "outputs": [],
   "source": [
    "log_model_1.fit(x_train, y_train)"
   ]
  },
  {
   "cell_type": "code",
   "execution_count": null,
   "id": "9730ce8a",
   "metadata": {},
   "outputs": [],
   "source": [
    "pred_log_model_1 = log_model_1.predict(x_val)"
   ]
  },
  {
   "cell_type": "code",
   "execution_count": null,
   "id": "d558aff6",
   "metadata": {},
   "outputs": [],
   "source": [
    "from sklearn.metrics import classification_report\n",
    "print(classification_report(y_val, pred_log_model_1))"
   ]
  },
  {
   "cell_type": "code",
   "execution_count": null,
   "id": "b556c3d3",
   "metadata": {},
   "outputs": [],
   "source": [
    "from sklearn.metrics import confusion_matrix\n",
    "df_cm_model_1 = plot_confusion(y_val, pred_log_model_1)"
   ]
  },
  {
   "cell_type": "code",
   "execution_count": null,
   "id": "216b5f2b",
   "metadata": {},
   "outputs": [],
   "source": [
    "# Put information to the storage result array\n",
    "from sklearn.metrics import roc_auc_score,f1_score,accuracy_score,precision_score\n",
    "accu = accuracy_score(y_val,pred_log_model_1)\n",
    "precis = precision_score(y_val,pred_log_model_1)\n",
    "f1 = f1_score(y_val, pred_log_model_1)\n",
    "res_arr.append(model_perf(classification_report(y_val, pred_log_model_1), df_cm_model_1, roc_auc_score(y_val,log_model_1.predict_proba(x_val)[:,1]),log_model_1, \"Logistic Regression\",f1_score_inp = f1, accuracy= accu, precision=precis))\n"
   ]
  },
  {
   "cell_type": "markdown",
   "id": "0a72b9ca",
   "metadata": {},
   "source": [
    "<a id =\"4.3\"></a>\n",
    "## 4.3 Logistic Regression using Polynorminal "
   ]
  },
  {
   "cell_type": "markdown",
   "id": "0101cc60",
   "metadata": {},
   "source": [
    "### Evaluate model"
   ]
  },
  {
   "cell_type": "code",
   "execution_count": null,
   "id": "0ce4432f",
   "metadata": {},
   "outputs": [],
   "source": [
    "from sklearn.preprocessing import PolynomialFeatures\n",
    "\n",
    "poly = PolynomialFeatures(3)\n",
    "\n",
    "x_train_poly = poly.fit_transform(x_train)\n",
    "x_test_poly = poly.fit_transform(x_test)\n",
    "x_val_poly = poly.fit_transform(x_val)\n"
   ]
  },
  {
   "cell_type": "code",
   "execution_count": null,
   "id": "c44e1b0f",
   "metadata": {},
   "outputs": [],
   "source": [
    "from sklearn.linear_model import LogisticRegression\n",
    "log_model_2 = LogisticRegression(random_state=0, penalty='none', solver='saga', \n",
    "                         max_iter=1000, \n",
    "                         class_weight='balanced')"
   ]
  },
  {
   "cell_type": "code",
   "execution_count": null,
   "id": "f8aa39e4",
   "metadata": {},
   "outputs": [],
   "source": [
    "log_model_2.fit(x_train_poly, y_train.ravel())"
   ]
  },
  {
   "cell_type": "markdown",
   "id": "d1fb9e42",
   "metadata": {},
   "source": [
    "#### Verify the model with test dataset"
   ]
  },
  {
   "cell_type": "code",
   "execution_count": null,
   "id": "094cc80b",
   "metadata": {},
   "outputs": [],
   "source": [
    "poly_norm_log_pred = log_model_2.predict(x_test_poly)    "
   ]
  },
  {
   "cell_type": "code",
   "execution_count": null,
   "id": "dab4b8c1",
   "metadata": {},
   "outputs": [],
   "source": [
    "# pylint: disable=missing-final-newline\n",
    "print(classification_report(y_test,poly_norm_log_pred))"
   ]
  },
  {
   "cell_type": "code",
   "execution_count": null,
   "id": "cab16480",
   "metadata": {},
   "outputs": [],
   "source": [
    "\n",
    "df_cm_model_2 = plot_confusion(y_test, poly_norm_log_pred)\n"
   ]
  },
  {
   "cell_type": "markdown",
   "id": "81ae4f11",
   "metadata": {},
   "source": [
    "#### Verify the model with validation dataset"
   ]
  },
  {
   "cell_type": "code",
   "execution_count": null,
   "id": "924d32df",
   "metadata": {},
   "outputs": [],
   "source": [
    "poly_norm_log_pred = log_model_2.predict(x_val_poly)"
   ]
  },
  {
   "cell_type": "code",
   "execution_count": null,
   "id": "e1d7be6b",
   "metadata": {},
   "outputs": [],
   "source": [
    "model_2_report = classification_report(y_val,poly_norm_log_pred)\n",
    "print(model_2_report)"
   ]
  },
  {
   "cell_type": "code",
   "execution_count": null,
   "id": "667358b3",
   "metadata": {},
   "outputs": [],
   "source": [
    "\n",
    "df_cm_model_2 = plot_confusion(y_val, poly_norm_log_pred)\n"
   ]
  },
  {
   "cell_type": "code",
   "execution_count": null,
   "id": "b9c86688",
   "metadata": {},
   "outputs": [],
   "source": [
    "from sklearn.metrics import precision_score\n",
    "from sklearn.metrics import accuracy_score\n",
    "f1_model_2 = f1_score(y_val, poly_norm_log_pred)\n",
    "precis = precision_score(y_val , poly_norm_log_pred)\n",
    "accu = accuracy_score(y_val, poly_norm_log_pred)\n",
    "res_arr.append(model_perf(model_2_report, df_cm_model_2, roc_auc_score(y_val,log_model_2.predict_proba(x_val_poly)[:,1]),log_model_2, \" Polynorminal Logistic Regression without regularization\",f1_score_inp=f1_model_2, precision = precis, accuracy=accu ))\n",
    "\n"
   ]
  },
  {
   "cell_type": "markdown",
   "id": "45700a97",
   "metadata": {},
   "source": [
    "<a id =\"4.4\"></a>\n",
    "## 4.4 Polynorminal Logistic Regression with KFOLD Cross Validation"
   ]
  },
  {
   "cell_type": "code",
   "execution_count": null,
   "id": "ac6f7e18",
   "metadata": {},
   "outputs": [],
   "source": [
    "from sklearn.model_selection import KFold\n",
    "\n",
    "kf = KFold(n_splits=10)\n",
    "tmp = x.to_numpy()\n",
    "tmp_y = y.to_numpy()\n",
    "report = []\n",
    "fold_no = 1 #For counting number of fold\n",
    "# We does npt penalty the model\n",
    "log_model_3 = LogisticRegression(random_state=0, penalty='none', solver='saga', max_iter=1000, class_weight='balanced')\n",
    "for train_index, test_index in kf.split(x):\n",
    "    # print(\"TRAIN:\", train_index, \"TEST:\", test_index)\n",
    "    print(\"Fold number :  \" ,fold_no)\n",
    "    fold_no +=1\n",
    "    x_k_train, x_k_test = tmp[train_index], tmp[test_index]\n",
    "    y_k_train, y_k_test = tmp_y[train_index], tmp_y[test_index]\n",
    "    log_model_3.fit(x_k_train, y_k_train)\n",
    "    pred_log_model3 = log_model_3.predict(x_k_test)\n",
    "    res = classification_report(y_k_test, pred_log_model3)\n",
    "    report.append(res)\n",
    "    print(res)"
   ]
  },
  {
   "cell_type": "markdown",
   "id": "10d23743",
   "metadata": {},
   "source": [
    "As can observe from the aboved mentioned table , for logistic regression, non regularization, the f1 score for k-split with split = 2 yeild the high f1 score with:\n",
    " ```\n",
    "       precision  recall  f1-score   support\n",
    " 0       0.92      0.81      0.86        43\n",
    " 1       0.64      0.82      0.72        17\n",
    " ```"
   ]
  },
  {
   "cell_type": "code",
   "execution_count": null,
   "id": "27d60447",
   "metadata": {},
   "outputs": [],
   "source": [
    "\n",
    "kf = KFold(n_splits=2)\n",
    "tmp = x.to_numpy()\n",
    "tmp_y = y.to_numpy()\n",
    "report = []\n",
    "fold_no = 1\n",
    "log_model_4 = LogisticRegression(random_state=0, penalty='none', solver='saga', max_iter=1000, class_weight='balanced')\n",
    "for train_index, test_index in kf.split(x):\n",
    "    # print(\"TRAIN:\", train_index, \"TEST:\", test_index)\n",
    "    print(\"Fold number :  \" ,fold_no)\n",
    "    fold_no +=1\n",
    "    x_k_train, x_k_test = tmp[train_index], tmp[test_index]\n",
    "    y_k_train, y_k_test = tmp_y[train_index], tmp_y[test_index]\n",
    "    log_model_4.fit(x_k_train, y_k_train)\n",
    "    pred = log_model_4.predict(x_k_test)\n",
    "    res = classification_report(y_k_test, pred)\n",
    "    report.append(res)\n",
    "    print(res)\n",
    "pred_log_model_4 = log_model_4.predict(x_val)\n",
    "res = classification_report(y_val, pred_log_model_4)\n",
    "# print(res)\n",
    "\n"
   ]
  },
  {
   "cell_type": "code",
   "execution_count": null,
   "id": "e462171e",
   "metadata": {},
   "outputs": [],
   "source": [
    "df_cm_model_4 = plot_confusion(y_val, pred_log_model_4)"
   ]
  },
  {
   "cell_type": "code",
   "execution_count": null,
   "id": "ae9ccfba",
   "metadata": {},
   "outputs": [],
   "source": [
    "f1_model_4 = f1_score(y_val, pred_log_model_4)\n",
    "accu = accuracy_score(y_val, pred_log_model_4)\n",
    "precis = precision_score(y_val, pred_log_model_4)\n",
    "res_arr.append(model_perf(classification_report(y_val, pred_log_model_4), df_cm_model_4, roc_auc_score(y_val,log_model_4.predict_proba(x_val)[:,1]),log_model_4, \"Logistic Regression with Kfold cross validation\", f1_score_inp=f1_model_4, accuracy=accu, precision = precis))"
   ]
  },
  {
   "cell_type": "markdown",
   "id": "a2025c19",
   "metadata": {},
   "source": [
    "<a id =\"4.5\"></a>\n",
    "## 4.5 Logistic Regression with Regularization"
   ]
  },
  {
   "cell_type": "markdown",
   "id": "7030c824",
   "metadata": {},
   "source": [
    "#### Apply Regularization"
   ]
  },
  {
   "cell_type": "code",
   "execution_count": null,
   "id": "7833703d",
   "metadata": {},
   "outputs": [],
   "source": [
    "from sklearn.model_selection import GridSearchCV\n",
    "\n",
    "# define model\n",
    "model = LogisticRegression()\n",
    "# define evaluation\n",
    "#We have learn that for 2 fold yield the best result\n",
    "cv = KFold(n_splits= 2)\n",
    "# define parameter grid\n",
    "parameters_list= {\n",
    "    'penalty' : ['none','l2'], \n",
    "    'C'       : np.logspace(-3,3,100),\n",
    "    'solver'  : ['newton-cg', 'lbfgs'],\n",
    "}\n",
    "\n",
    "# define search\n",
    "search =GridSearchCV(model, parameters_list, scoring = 'f1', verbose = True, n_jobs=-1, cv=cv)\n",
    "# execute search\n",
    "result = search.fit(x_train, y_train)\n",
    "# summarize result\n",
    "pred = search.predict(x_val)\n",
    "print(classification_report(y_val, pred))\n",
    "print('Best Score: %s' % result.best_score_)\n",
    "print('Best Hyperparameters: %s' % result.best_params_)\n",
    "\n"
   ]
  },
  {
   "cell_type": "code",
   "execution_count": null,
   "id": "4b33d383",
   "metadata": {},
   "outputs": [],
   "source": [
    "log_model_5 = search.best_estimator_"
   ]
  },
  {
   "cell_type": "code",
   "execution_count": null,
   "id": "9d537efa",
   "metadata": {},
   "outputs": [],
   "source": [
    "pred_log_model_5 = log_model_5.predict(x_val)\n"
   ]
  },
  {
   "cell_type": "code",
   "execution_count": null,
   "id": "8bd87187",
   "metadata": {},
   "outputs": [],
   "source": [
    "print(classification_report(y_val, pred_log_model_5))"
   ]
  },
  {
   "cell_type": "code",
   "execution_count": null,
   "id": "9e0851c7",
   "metadata": {},
   "outputs": [],
   "source": [
    "f1_model_5 = f1_score(y_val, pred_log_model_5)\n",
    "accu = accuracy_score(y_val, pred_log_model_5)\n",
    "precis = precision_score(y_val, pred_log_model_5)\n",
    "res_arr.append(model_perf(classification_report(y_val, pred_log_model_4), df_cm_model_4, roc_auc_score(y_val,log_model_4.predict_proba(x_val)[:,1]),log_model_4, \"Logistic Regression with Kfold cross validation and Regularization\",f1_score_inp = f1_model_5, accuracy = accu, precision=precis))"
   ]
  },
  {
   "cell_type": "markdown",
   "id": "fb6e506d",
   "metadata": {},
   "source": [
    "<a id =\"4.6\"></a>\n",
    "## 4.6 Decision Tree "
   ]
  },
  {
   "cell_type": "code",
   "execution_count": null,
   "id": "b8f3c904",
   "metadata": {},
   "outputs": [],
   "source": [
    "from sklearn.tree import DecisionTreeClassifier\n",
    "from sklearn import tree\n",
    "### Prunning\n",
    "dtree = tree.DecisionTreeClassifier(class_weight='balanced')\n",
    "path_dtree = dtree.cost_complexity_pruning_path(x_train, y_train)\n",
    "ccp_alphas, impurities = path_dtree.ccp_alphas, path_dtree.impurities"
   ]
  },
  {
   "cell_type": "code",
   "execution_count": null,
   "id": "322e0829",
   "metadata": {},
   "outputs": [],
   "source": [
    "models = []\n",
    "for ccp_alpha in ccp_alphas:\n",
    "    print(ccp_alpha)\n",
    "    dtree = tree.DecisionTreeClassifier(random_state=0, ccp_alpha=ccp_alpha, class_weight='balanced')\n",
    "    dtree.fit(x_train, y_train)\n",
    "    models.append(dtree)"
   ]
  },
  {
   "cell_type": "code",
   "execution_count": null,
   "id": "014b4c17",
   "metadata": {},
   "outputs": [],
   "source": [
    "from sklearn.metrics import f1_score\n",
    "def plot_score_tree(models, ccp_alphas, title='Score'):\n",
    "        train_scores = [f1_score(y_train, model.predict(x_train), average='macro') for model in models]\n",
    "        val_scores = [f1_score(y_val, model.predict(x_val), average='macro') for model in models]\n",
    "        fig, ax = plt.subplots(figsize=(10,10))\n",
    "        ax.set_xlabel(\"alpha\")\n",
    "        ax.set_ylabel(\"f1_score\")\n",
    "        ax.set_title(\"Accuracy vs alpha for training and testing sets\")\n",
    "        ax.plot(ccp_alphas, train_scores, marker='o', label=\"train\",\n",
    "                drawstyle=\"steps-post\")\n",
    "        ax.plot(ccp_alphas, val_scores, marker='o', label=\"test\",\n",
    "                drawstyle=\"steps-post\")\n",
    "        ax.legend()\n",
    "        plt.show()\n",
    "plot_score_tree(models, ccp_alphas)"
   ]
  },
  {
   "cell_type": "markdown",
   "id": "2ca7f8f0",
   "metadata": {},
   "source": [
    "We can choose alpha = 0.02"
   ]
  },
  {
   "cell_type": "code",
   "execution_count": null,
   "id": "8d79c20c",
   "metadata": {},
   "outputs": [],
   "source": [
    "dtree = tree.DecisionTreeClassifier(class_weight='balanced', ccp_alpha=0.02 , random_state=0 )\n",
    "dtree.fit(x_train, y_train)"
   ]
  },
  {
   "cell_type": "code",
   "execution_count": null,
   "id": "ae18df56",
   "metadata": {},
   "outputs": [],
   "source": [
    "pred = dtree.predict(x_test)"
   ]
  },
  {
   "cell_type": "code",
   "execution_count": null,
   "id": "0697f4d7",
   "metadata": {},
   "outputs": [],
   "source": [
    "print(classification_report(y_test,pred))"
   ]
  },
  {
   "cell_type": "code",
   "execution_count": null,
   "id": "372ed311",
   "metadata": {},
   "outputs": [],
   "source": [
    "plot_confusion(y_test,pred)"
   ]
  },
  {
   "cell_type": "markdown",
   "id": "469b1a0f",
   "metadata": {},
   "source": [
    "#### Verify the model with validation dataset"
   ]
  },
  {
   "cell_type": "code",
   "execution_count": null,
   "id": "fd2b50cb-82ae-4e63-9f8e-5569a268c841",
   "metadata": {},
   "outputs": [],
   "source": [
    "pred_dtree = dtree.predict(x_val)"
   ]
  },
  {
   "cell_type": "code",
   "execution_count": null,
   "id": "5265c7cb-b8f0-49c7-bc9f-e2e549ad5328",
   "metadata": {},
   "outputs": [],
   "source": [
    "pred_a = dtree.predict(process_test_df)\n",
    "pred_a"
   ]
  },
  {
   "cell_type": "code",
   "execution_count": null,
   "id": "2a553265",
   "metadata": {},
   "outputs": [],
   "source": [
    "print(classification_report(y_val,pred_dtree))"
   ]
  },
  {
   "cell_type": "code",
   "execution_count": null,
   "id": "10579e63",
   "metadata": {},
   "outputs": [],
   "source": [
    "df_cm_dtree_1 = plot_confusion(y_val,pred_dtree)"
   ]
  },
  {
   "cell_type": "code",
   "execution_count": null,
   "id": "09025d2e",
   "metadata": {},
   "outputs": [],
   "source": [
    "# Add to result array\n",
    "accu = accuracy_score(y_val,pred_dtree)\n",
    "precis = accuracy_score(y_val, pred_dtree)\n",
    "f1_score_tree_1 = f1_score(y_val, pred_dtree)\n",
    "res_arr.append(model_perf(classification_report(y_val, pred_dtree), df_cm_dtree_1, roc_auc_score(y_val,dtree.predict_proba(x_val)[:,1]),dtree, \"Decision Tree\",f1_score_inp=f1_score_tree_1, accuracy=accu, precision=precis))"
   ]
  },
  {
   "cell_type": "markdown",
   "id": "0f05902a",
   "metadata": {},
   "source": [
    "##Todo: Implement for validation dataaset"
   ]
  },
  {
   "cell_type": "markdown",
   "id": "c7b3e30a",
   "metadata": {},
   "source": [
    "<a id =\"4.7\"></a>\n",
    "## 4.7 Decision tree with grid search cv"
   ]
  },
  {
   "cell_type": "code",
   "execution_count": null,
   "id": "3366cc60",
   "metadata": {},
   "outputs": [],
   "source": [
    "# Create the parameter grid \n",
    "params_distribution= {\n",
    "    'max_depth': [2, 3, 5, 10, 20,30,50,100],\n",
    "    'min_samples_leaf': [5, 10, 20,30, 50, 100],\n",
    "    'criterion': [\"gini\", \"entropy\"],\n",
    "    'ccp_alpha': [0.01, 0.05, 0.1, 0.2, 0.3, 0.4, 0.5, 0.6, 0.7, 0.8, 0.9, 1.0]\n",
    "}"
   ]
  },
  {
   "cell_type": "code",
   "execution_count": null,
   "id": "d129c183",
   "metadata": {},
   "outputs": [],
   "source": [
    "dt = DecisionTreeClassifier(random_state=42)\n",
    "# Instantiate the grid search model\n",
    "grid_search = GridSearchCV(estimator=dt, \n",
    "                           param_grid = params_distribution, \n",
    "                           cv=cv, n_jobs=-1, verbose=True, scoring = \"f1\",refit = \"f1\")\n",
    "\n",
    "#Execute search\n",
    "grid_search.fit(x_train, y_train)\n",
    "print(grid_search.best_params_)\n",
    "print(grid_search.best_score_)"
   ]
  },
  {
   "cell_type": "markdown",
   "id": "f4e3c4d9",
   "metadata": {},
   "source": [
    "Score of after finetuning different Parmeters"
   ]
  },
  {
   "cell_type": "code",
   "execution_count": null,
   "id": "e2427e98",
   "metadata": {},
   "outputs": [],
   "source": [
    "df_score = pd.DataFrame(grid_search.cv_results_)\n",
    "df_score.head()"
   ]
  },
  {
   "cell_type": "code",
   "execution_count": null,
   "id": "196c65b6",
   "metadata": {},
   "outputs": [],
   "source": [
    "best_dtree = grid_search.best_estimator_"
   ]
  },
  {
   "cell_type": "code",
   "execution_count": null,
   "id": "0eb77b43",
   "metadata": {},
   "outputs": [],
   "source": [
    "print(classification_report(y_val, best_dtree.predict(x_val)))"
   ]
  },
  {
   "cell_type": "code",
   "execution_count": null,
   "id": "93c72964",
   "metadata": {},
   "outputs": [],
   "source": [
    "df_cm_bestdtree = plot_confusion(y_val, best_dtree.predict(x_val))"
   ]
  },
  {
   "cell_type": "code",
   "execution_count": null,
   "id": "725e2bb9",
   "metadata": {},
   "outputs": [],
   "source": [
    "accu = accuracy_score(y_val,best_dtree.predict(x_val))\n",
    "precis = precision_score(y_val,best_dtree.predict(x_val))\n",
    "f1_score_tree_2 = f1_score(y_val, best_dtree.predict(x_val))\n",
    "res_arr.append(model_perf(classification_report(y_val, best_dtree.predict(x_val)), df_cm_bestdtree, roc_auc_score(y_val,best_dtree.predict_proba(x_val)[:,1]),best_dtree, \"Decision Tree with GridSearchCV as parameter tunning\",f1_score_inp=f1_score_tree_2, accuracy= accu, precision= precis))"
   ]
  },
  {
   "cell_type": "markdown",
   "id": "bc8b7e4d",
   "metadata": {},
   "source": [
    "<a id =\"4.8\"></a>\n",
    "## 4.8 Random Forest"
   ]
  },
  {
   "cell_type": "code",
   "execution_count": null,
   "id": "d4521622",
   "metadata": {},
   "outputs": [],
   "source": [
    "from sklearn.ensemble import RandomForestClassifier\n",
    "rfc = RandomForestClassifier(max_features  =\"a\") \n",
    "# rfc._parameter"
   ]
  },
  {
   "cell_type": "code",
   "execution_count": null,
   "id": "64dd13fd",
   "metadata": {},
   "outputs": [],
   "source": [
    "##Parameter for grid tunning\n",
    "\n",
    "# Create the param list\n",
    "param_list = {'n_estimators': [int(x) for x in np.linspace(start = 10, stop = 80, num = 10)],\n",
    "               'max_features': ['auto', 'sqrt'],\n",
    "               'max_depth': [2,4,5,6],\n",
    "               'min_samples_split': [2,5,6,7],\n",
    "               'min_samples_leaf': [1, 2,3],\n",
    "               'bootstrap': [True, False]}\n",
    "print(param_list)\n"
   ]
  },
  {
   "cell_type": "code",
   "execution_count": null,
   "id": "bdbb816f",
   "metadata": {},
   "outputs": [],
   "source": [
    "rf_Grid = GridSearchCV(estimator = rfc, param_grid\n",
    "                       = param_list, scoring='f1',cv = cv, verbose=2, n_jobs = 4)"
   ]
  },
  {
   "cell_type": "code",
   "execution_count": null,
   "id": "b9d5fe6a",
   "metadata": {
    "tags": []
   },
   "outputs": [],
   "source": [
    "%time\n",
    "rf_Grid.fit(x_train, y_train)"
   ]
  },
  {
   "cell_type": "code",
   "execution_count": null,
   "id": "1e8cc9a9",
   "metadata": {},
   "outputs": [],
   "source": [
    "# Determine the best parameters\n",
    "print(rf_Grid.best_params_)\n",
    "print(rf_Grid.best_score_)"
   ]
  },
  {
   "cell_type": "code",
   "execution_count": null,
   "id": "f37a6920",
   "metadata": {},
   "outputs": [],
   "source": [
    "best_rfc = rf_Grid.best_estimator_"
   ]
  },
  {
   "cell_type": "markdown",
   "id": "f0476787",
   "metadata": {},
   "source": [
    "### Model Evaluation"
   ]
  },
  {
   "cell_type": "markdown",
   "id": "bba6ed54",
   "metadata": {},
   "source": [
    "### Validate with test dataset "
   ]
  },
  {
   "cell_type": "code",
   "execution_count": null,
   "id": "7dd7cd12",
   "metadata": {},
   "outputs": [],
   "source": [
    "best_rfc_pred = best_rfc.predict(x_test)"
   ]
  },
  {
   "cell_type": "code",
   "execution_count": null,
   "id": "24a4b1b2",
   "metadata": {},
   "outputs": [],
   "source": [
    "print(classification_report(y_test,best_rfc_pred))"
   ]
  },
  {
   "cell_type": "code",
   "execution_count": null,
   "id": "8a69ebd4",
   "metadata": {},
   "outputs": [],
   "source": [
    "df_cm_best_rfc = plot_confusion(y_test, best_rfc_pred)"
   ]
  },
  {
   "cell_type": "markdown",
   "id": "bfae5ee2",
   "metadata": {},
   "source": [
    "### Validate with validation dataset "
   ]
  },
  {
   "cell_type": "code",
   "execution_count": null,
   "id": "9f3e9f42",
   "metadata": {},
   "outputs": [],
   "source": [
    "best_rfc_pred = best_rfc.predict(x_val)"
   ]
  },
  {
   "cell_type": "code",
   "execution_count": null,
   "id": "a29a5419",
   "metadata": {},
   "outputs": [],
   "source": [
    "print(classification_report(y_val,best_rfc_pred))"
   ]
  },
  {
   "cell_type": "code",
   "execution_count": null,
   "id": "64cc5c4c",
   "metadata": {},
   "outputs": [],
   "source": [
    "df_cm_best_rfc = plot_confusion(y_val, best_rfc_pred)"
   ]
  },
  {
   "cell_type": "code",
   "execution_count": null,
   "id": "7f6cafd4",
   "metadata": {},
   "outputs": [],
   "source": [
    "# Add the final result to the array list\n",
    "accu = accuracy_score(y_val,best_rfc_pred)\n",
    "precis = precision_score(y_val, best_rfc_pred)\n",
    "f1_score_best_rfc = f1_score(y_val, best_rfc_pred)\n",
    "res_arr.append(model_perf(classification_report(y_val, best_rfc.predict(x_val)), df_cm_best_rfc, roc_auc_score(y_val,best_rfc.predict_proba(x_val)[:,1]),best_rfc, \"Random Forest with GridSearchCV\",f1_score_inp=f1_score_best_rfc, accuracy=accu, precision=precis))"
   ]
  },
  {
   "cell_type": "markdown",
   "id": "43ad51ef",
   "metadata": {},
   "source": [
    "<a id = \"5\"></a>\n",
    "## 5. Ultimate Model Judegment"
   ]
  },
  {
   "cell_type": "markdown",
   "id": "846436f8",
   "metadata": {},
   "source": [
    "Compare AUC of different Model"
   ]
  },
  {
   "cell_type": "code",
   "execution_count": null,
   "id": "0dfc4baa",
   "metadata": {},
   "outputs": [],
   "source": [
    "#Ultilities Function y\n",
    "def plot_score(inp_x, inp_y) : \n",
    "    sns.barplot(x=inp_x, y = inp_y)\n",
    "    plt.title(\"AUC ROC etween different Models\")\n",
    "    plt.xlabel('Model Name')\n",
    "    plt.ylabel('AUC ROC')\n",
    "    plt.tight_layout()\n",
    "    plt.show()"
   ]
  },
  {
   "cell_type": "code",
   "execution_count": null,
   "id": "8b3c92d7-e4ba-453b-8f9f-a4195db28749",
   "metadata": {},
   "outputs": [],
   "source": [
    "auc_arr = []\n",
    "name = []\n",
    "f1_score_arr = []\n",
    "precision = []\n",
    "accuracy = []\n",
    "for item in res_arr:\n",
    "    # plt.bar(pos,data = item.auc_roc,height=1)\n",
    "    auc_arr.append(item.auc_roc)\n",
    "    name.append(item.name)\n",
    "    f1_score_arr.append(item.f1)\n",
    "    accuracy.append(item.accu)\n",
    "    precision.append(item.precision)\n",
    "\n",
    "    "
   ]
  },
  {
   "cell_type": "code",
   "execution_count": null,
   "id": "f43af56f-1aab-45eb-a925-413852f8a623",
   "metadata": {},
   "outputs": [],
   "source": [
    "ax = sns.barplot(x=name, y = auc_arr)\n",
    "plt.title(\"AUC  Between different Models\")\n",
    "plt.xlabel('Model Name')\n",
    "plt.ylabel('AUC')\n",
    "ax.set_xticklabels(ax.get_xticklabels(), rotation=90, ha=\"right\")\n",
    "plt.tight_layout()\n",
    "plt.show()"
   ]
  },
  {
   "cell_type": "markdown",
   "id": "6e452c24",
   "metadata": {},
   "source": [
    "Compare f1 score between different Model"
   ]
  },
  {
   "cell_type": "code",
   "execution_count": null,
   "id": "5c3f9f9b",
   "metadata": {},
   "outputs": [],
   "source": [
    "ax = sns.barplot(x=name, y = f1_score_arr)\n",
    "plt.title(\"F1 Between different Models\")\n",
    "plt.xlabel('Model Name')\n",
    "plt.ylabel('F1_Score')\n",
    "ax.set_xticklabels(ax.get_xticklabels(), rotation=90, ha=\"right\")\n",
    "plt.tight_layout()\n",
    "plt.show()"
   ]
  },
  {
   "cell_type": "code",
   "execution_count": null,
   "id": "aaefa4f7",
   "metadata": {},
   "outputs": [],
   "source": [
    "ax = sns.barplot(x=name, y = accuracy)\n",
    "plt.title(\"Accuracy Between different Models\")\n",
    "plt.xlabel('Model Name')\n",
    "plt.ylabel('Accuracy')\n",
    "ax.set_xticklabels(ax.get_xticklabels(), rotation=90, ha=\"right\")\n",
    "plt.tight_layout()\n",
    "plt.show()"
   ]
  },
  {
   "cell_type": "code",
   "execution_count": null,
   "id": "520021ef",
   "metadata": {},
   "outputs": [],
   "source": [
    "ax = sns.barplot(x=name, y =  precision)\n",
    "plt.title(\"Precision Between different Models\")\n",
    "plt.xlabel('Model Name')\n",
    "plt.ylabel('Precision')\n",
    "ax.set_xticklabels(ax.get_xticklabels(), rotation=90, ha=\"right\")\n",
    "plt.tight_layout()\n",
    "plt.show()"
   ]
  },
  {
   "cell_type": "code",
   "execution_count": null,
   "id": "9f90669a",
   "metadata": {},
   "outputs": [],
   "source": [
    "#Load Result csv\n",
    "res_pd = pd.read_csv('./Data/S3878174_predictions.csv')"
   ]
  },
  {
   "cell_type": "markdown",
   "id": "843c7ce7-c1a5-4a86-b178-8e648fa79033",
   "metadata": {},
   "source": [
    "First we need to verify the shape of the result csv file"
   ]
  },
  {
   "cell_type": "markdown",
   "id": "f19d5dce-6da9-43cb-95ed-29d4360834f5",
   "metadata": {},
   "source": [
    "As can be observe from `F1` graph, we can observe that the top three model are : \n",
    "* Polynomial Logistic Regression with KFold and Regularization\n",
    "* Decision Tree\n",
    "* Logistic Regression"
   ]
  },
  {
   "cell_type": "markdown",
   "id": "ab2bd3ee-6595-4a1b-91b8-bcf46096aa2c",
   "metadata": {},
   "source": [
    "For `Accuracy` graph, we can observe that the top three model are : \n",
    "* Logistic Regression\n",
    "* Polynomial Logistic Regression without Regularization\n",
    "* Decission Tree and  Polynomial Logistic Regression with KFold and Regularization"
   ]
  },
  {
   "cell_type": "markdown",
   "id": "ffdcc4c7-cd6b-4e07-a2e7-0a7b056304e4",
   "metadata": {},
   "source": [
    "For `Precision` graph, we can observe that the top three model are : \n",
    "* Logistic with KFold Cross Validation\n",
    "* Logistic Regression\n",
    "* Decission Tree"
   ]
  },
  {
   "cell_type": "markdown",
   "id": "a1ce0aab-3106-4e98-8648-573b877ac8ba",
   "metadata": {},
   "source": [
    "For `AUC` graph, we can observe that the top three model are : \n",
    "* Logistic with KFold Cross Validation\n",
    "* Logistic Regression\n",
    "* Polynomial Logistic Regression with KFold and Regularization"
   ]
  },
  {
   "cell_type": "markdown",
   "id": "4f7b33dd-88bd-4be6-829f-f9dd49fba45d",
   "metadata": {},
   "source": [
    "Our final model that have optimal `Accuracy`, `Precision`, `AUC` and `F1`\n",
    "The candidate for this optimal model is `Logistic Regression with Kfold cross validation and Regularization` due to the fact that it yield second highest accuracy (arround 0.75), Precision of over 0.7, and f1 score of 0.53\n",
    "Furthermore this model have the AUC score of 0.8"
   ]
  },
  {
   "cell_type": "markdown",
   "id": "bcebddc3-4652-41d7-8f7c-3ec4da9ded6a",
   "metadata": {},
   "source": [
    "#### Be mindful that this model is not the optimal model as the following reason as it have some weakness:\n",
    "* This model is only applicable for discreate varable as it for classification problem\n",
    "* Furthermore this model have the F1 of only 0.57 due to the fact the higher Accuracy of higher than the Precision"
   ]
  },
  {
   "cell_type": "markdown",
   "id": "0cf53710-bba8-42cb-bdcb-fdb9af6dec29",
   "metadata": {},
   "source": [
    "## Output dataset"
   ]
  },
  {
   "cell_type": "code",
   "execution_count": null,
   "id": "18526ddf",
   "metadata": {},
   "outputs": [],
   "source": [
    "res_pd.shape\n",
    "res_pd.describe\n",
    "#Drop na collumn\n",
    "res_pd.dropna(axis=1, how=\"any\", thresh=None, subset=None, inplace=True)"
   ]
  },
  {
   "cell_type": "markdown",
   "id": "b0640363",
   "metadata": {},
   "source": [
    "Compare to our test dataset"
   ]
  },
  {
   "cell_type": "code",
   "execution_count": null,
   "id": "7ff5287e-712e-4ef7-980d-2e176685f846",
   "metadata": {},
   "outputs": [],
   "source": [
    "res_pd.shape"
   ]
  },
  {
   "cell_type": "code",
   "execution_count": null,
   "id": "7490848e-fa15-491e-9dbe-7dab729e34f3",
   "metadata": {},
   "outputs": [],
   "source": [
    "process_test_df.shape"
   ]
  },
  {
   "cell_type": "code",
   "execution_count": null,
   "id": "b75818a3",
   "metadata": {},
   "outputs": [],
   "source": [
    "len(res_arr)"
   ]
  },
  {
   "cell_type": "code",
   "execution_count": null,
   "id": "cf325acb",
   "metadata": {},
   "outputs": [],
   "source": [
    "# final model name\n",
    "print(res_arr[3].name)"
   ]
  },
  {
   "cell_type": "markdown",
   "id": "cd4d5b63",
   "metadata": {},
   "source": [
    "Perform prediction on the test dataset"
   ]
  },
  {
   "cell_type": "code",
   "execution_count": null,
   "id": "d04745bb",
   "metadata": {},
   "outputs": [],
   "source": [
    "final_model = res_arr[3].model\n",
    "# You can use this model here\n",
    "pred = final_model.predict(process_test_df)"
   ]
  },
  {
   "cell_type": "code",
   "execution_count": null,
   "id": "f33c1ae5",
   "metadata": {},
   "outputs": [],
   "source": [
    "#Convert to dataframe\n",
    "pred = pd.DataFrame(pred)\n",
    "pred"
   ]
  },
  {
   "cell_type": "code",
   "execution_count": null,
   "id": "04cc3176",
   "metadata": {},
   "outputs": [],
   "source": [
    "pred = pred.assign(Sepsis = pred.iloc[:,0])"
   ]
  },
  {
   "cell_type": "code",
   "execution_count": null,
   "id": "afbd7c03",
   "metadata": {},
   "outputs": [],
   "source": [
    "pred"
   ]
  },
  {
   "cell_type": "markdown",
   "id": "c7bc5cc6",
   "metadata": {},
   "source": [
    "As mentioned early, the convention for sepsis is 1 for positive and 0 for negative. We need to perform transformation"
   ]
  },
  {
   "cell_type": "code",
   "execution_count": null,
   "id": "76f836dc-bce5-4514-a010-309fabec3baf",
   "metadata": {},
   "outputs": [],
   "source": [
    "#Convert from binary from to Humman Friendly category\n",
    "pred['Sepsis'].mask(pred.iloc[:,0] == 1, 'Positive', inplace=True)\n",
    "pred['Sepsis'].mask(pred.iloc[:,0] == 0, 'Negative', inplace=True)\n",
    "pred"
   ]
  },
  {
   "cell_type": "code",
   "execution_count": null,
   "id": "7e68ad45-67b9-41ea-b826-3a4942dc2ac8",
   "metadata": {},
   "outputs": [],
   "source": [
    "#Merge two dataframe together\n",
    "final = pd.concat([res_pd,pred['Sepsis']],axis=1)\n",
    "final"
   ]
  },
  {
   "cell_type": "markdown",
   "id": "4048790c",
   "metadata": {},
   "source": [
    "The following indicate the prediction Sepsis count amongs the test dataset"
   ]
  },
  {
   "cell_type": "code",
   "execution_count": null,
   "id": "2b7df0ad-f23c-4117-bfb8-9e68ddaabf3b",
   "metadata": {},
   "outputs": [],
   "source": [
    "sns.countplot(x='Sepsis', data=final)\n",
    "plt.title('Sepsis count group by categories Amongs patients')\n",
    "plt.show()\n"
   ]
  },
  {
   "cell_type": "code",
   "execution_count": null,
   "id": "df571592-4fca-4859-b0e3-d8db6538b838",
   "metadata": {},
   "outputs": [],
   "source": [
    "#Output to csv file\n",
    "final.to_csv(r'COSC2753_A1_s3878174_predictions.csv', encoding='utf-8', index=False)"
   ]
  },
  {
   "cell_type": "markdown",
   "id": "227dfe58",
   "metadata": {},
   "source": []
  },
  {
   "cell_type": "markdown",
   "id": "4386f6d9",
   "metadata": {
    "id": "4386f6d9"
   },
   "source": [
    "<a id=\"6\"></a>\n",
    "## 6. References\n",
    "\n",
    "*****"
   ]
  },
  {
   "cell_type": "markdown",
   "id": "11edb4b9",
   "metadata": {
    "id": "11edb4b9"
   },
   "source": [
    "[1]P. Gurung and I. Jialal, \"Plasma Glucose\", 2022. [Online]. Available: https://www.google.com/url?sa=t&rct=j&q=&esrc=s&source=web&cd=&cad=rja&uact=8&ved=2ahUKEwiL-YKX4ez2AhWWR2wGHbG9BWcQFnoECAsQAw&url=https%3A%2F%2Fwww.ncbi.nlm.nih.gov%2Fbooks%2FNBK541081%2F&usg=AOvVaw2sI5rNvznVcGMCoIK1hT8d. [Accessed: 09- Apr- 2022]."
   ]
  },
  {
   "cell_type": "markdown",
   "id": "2b80e2cd",
   "metadata": {
    "id": "2b80e2cd"
   },
   "source": [
    "[2]\"What is Platelete and why are they important\", Hopkins Medicine, 2022. [Online]. Available: https://www.hopkinsmedicine.org/health/conditions-and-diseases/what-are-platelets-and-why-are-they-important%5D. [Accessed: 01- Apr- 2022]."
   ]
  },
  {
   "cell_type": "markdown",
   "id": "4942bb4a",
   "metadata": {
    "id": "4942bb4a"
   },
   "source": [
    "[3]\"Center for Disease Control and Prevention\", CDC, 2022. [Online]. Available: https://www.cdc.gov/bloodpressure/about.htm. [Accessed: 03- Apr- 2022]."
   ]
  },
  {
   "cell_type": "markdown",
   "id": "4ab7dbd8",
   "metadata": {
    "id": "4ab7dbd8"
   },
   "source": [
    "[4]A. Rastegar, Clinical Methods: The History, Physical, and Laboratory Examinations., 3rd ed. Boston: Butterworths;, 2022, p. Chapter 195."
   ]
  },
  {
   "cell_type": "markdown",
   "id": "6306b96e",
   "metadata": {
    "id": "6306b96e"
   },
   "source": [
    "[5]\"Assessing Your Weight\", CDC, 2022. [Online]. Available: https://www.cdc.gov/healthyweight/assessing/index.html. [Accessed: 05- Apr- 2022]."
   ]
  },
  {
   "cell_type": "markdown",
   "id": "c7994e93-8a9a-4a4d-9991-fc2df82d4194",
   "metadata": {
    "id": "6da7ec74"
   },
   "source": [
    "[6]N. Bao, \"README.MD\", Rmit.instructure.com, 2022. [Online]. Available: https://rmit.instructure.com/courses/101178/files/23658421?wrap=1. [Accessed: 04- Apr- 2022]."
   ]
  },
  {
   "cell_type": "markdown",
   "id": "da353818-b38a-4bdc-bd51-84db24bcea79",
   "metadata": {
    "id": "6da7ec74"
   },
   "source": [
    "[7]B. Nguyen, \"Machine Learning COSC 2753_2022A_Assignment 1.pdf\", Rmit.instructure.com, 2022. [Online]. Available: https://rmit.instructure.com/courses/101178/files/23658370?wrap=1. [Accessed: 02- Apr- 2022]."
   ]
  },
  {
   "cell_type": "markdown",
   "id": "9d34f850-5aff-415f-b807-4e7ae8e8373c",
   "metadata": {
    "id": "6da7ec74"
   },
   "source": [
    "[8]B. Nguyen, \"Lecture 3\", Rmit.instructure.com, 2022. [Online]. Available: https://rmit.instructure.com/courses/101178/files/23617253?wrap=1. [Accessed: 09- Apr- 2022]."
   ]
  },
  {
   "cell_type": "markdown",
   "id": "7e24c88b-c92e-425f-b48b-f6b39b7679c3",
   "metadata": {
    "id": "6da7ec74"
   },
   "source": [
    "[9]\"An Effective Approach To Hyper-Parameter Tuning - A Beginners Guide\", Analytics Vidhya, 2022. [Online]. Available: https://www.analyticsvidhya.com/blog/2021/10/an-effective-approach-to-hyper-parameter-tuning-a-beginners-guide/. [Accessed: 09- Apr- 2022]."
   ]
  }
 ],
 "metadata": {
  "colab": {
   "collapsed_sections": [
    "fe963594",
    "bddc88b4",
    "feedd751",
    "f025fc5f",
    "b8e33ea3",
    "038f4c40",
    "1bff5023",
    "fa633ee0",
    "e2e2b749",
    "b2ba995b",
    "a10c393b"
   ],
   "name": "sepsis_prediction.ipynb",
   "provenance": []
  },
  "kernelspec": {
   "display_name": "Python 3 (ipykernel)",
   "language": "python",
   "name": "python3"
  },
  "language_info": {
   "codemirror_mode": {
    "name": "ipython",
    "version": 3
   },
   "file_extension": ".py",
   "mimetype": "text/x-python",
   "name": "python",
   "nbconvert_exporter": "python",
   "pygments_lexer": "ipython3",
   "version": "3.10.4"
  }
 },
 "nbformat": 4,
 "nbformat_minor": 5
}
